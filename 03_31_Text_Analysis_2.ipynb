{
  "nbformat": 4,
  "nbformat_minor": 0,
  "metadata": {
    "colab": {
      "provenance": []
    },
    "kernelspec": {
      "name": "python3",
      "display_name": "Python 3"
    },
    "language_info": {
      "name": "python"
    }
  },
  "cells": [
    {
      "cell_type": "markdown",
      "source": [
        "<파이썬 머신러닝 완벽 가이드 개정 2판> 8장 pg. 509 ~ 534\n",
        "\n",
        "# CHAPTER 08. 텍스트 분류\n",
        "---\n",
        "## 08-04. 실습 - 20 뉴스그룹 분류\n",
        "- ### 텍스트 정규화\n",
        "- ### 피처 벡터화 변경과 머신러닝 모델 학습/예측/평가\n",
        "- ### 사이킷런 파이프라인(Pipeline) 사용 및 GridSearchCV와의 결합\n",
        "   \n",
        "## 08-05. 감성 분석\n",
        "- ### 감성 분석 소개\n",
        "- ### 지도학습 기반 감성 분석 실습 - IMDB 영화평\n",
        "- ### 비지도학습 기반 감성 분석 소개\n",
        "- ### VADER를 이용한 감성 분석\n",
        "\n",
        "---\n",
        "\n"
      ],
      "metadata": {
        "id": "nDZi-uwA5VBA"
      }
    },
    {
      "cell_type": "markdown",
      "source": [
        "## 08-04. 실습 - 20 뉴스그룹 분류\n"
      ],
      "metadata": {
        "id": "NDrugNxGqjsc"
      }
    },
    {
      "cell_type": "markdown",
      "source": [
        "### 텍스트 정규화\n",
        "- remove=('headers', 'footers', 'quotes')로 내용을 제외하고 제목 등의 다른 정보는 제거\n",
        "- subset='train'으로 학습용 데이터 추출. subset='test'으로 테스트용 데이터 추출.\n",
        "\n"
      ],
      "metadata": {
        "id": "W5w56657qnWV"
      }
    },
    {
      "cell_type": "code",
      "execution_count": 2,
      "metadata": {
        "id": "OToB498R5Qlq"
      },
      "outputs": [],
      "source": [
        "from sklearn.datasets import fetch_20newsgroups\n",
        "\n",
        "# fetch_20newsgroups( )는 사이킷런의 다른 데이터 세트 예제와 같이 파이썬 딕셔너리와 유사한 Bunch 객체를 반환\n",
        "news_data = fetch_20newsgroups(subset='all', random_state=156)"
      ]
    },
    {
      "cell_type": "code",
      "source": [
        "# 어떠한 key 값을 가지고 있는지 확인\n",
        "print(news_data.keys())"
      ],
      "metadata": {
        "colab": {
          "base_uri": "https://localhost:8080/"
        },
        "id": "g2P_REsFxapy",
        "outputId": "5eca33ea-0f27-4225-809a-e2e4bee609f7"
      },
      "execution_count": 3,
      "outputs": [
        {
          "output_type": "stream",
          "name": "stdout",
          "text": [
            "dict_keys(['data', 'filenames', 'target_names', 'target', 'DESCR'])\n"
          ]
        }
      ]
    },
    {
      "cell_type": "code",
      "source": [
        "# Target 클래스가 어떻게 구성돼 있는지 확인\n",
        "import pandas as pd\n",
        "\n",
        "print('target 클래스의 값과 분포도 \\n', pd.Series(news_data.target).value_counts().sort_index())\n",
        "print('target 클래스의 이름들 \\n', news_data.target_names)"
      ],
      "metadata": {
        "colab": {
          "base_uri": "https://localhost:8080/"
        },
        "id": "iDuNb6RFxar8",
        "outputId": "60ebca61-383d-4aed-b87f-cf0ebbf40aae"
      },
      "execution_count": 4,
      "outputs": [
        {
          "output_type": "stream",
          "name": "stdout",
          "text": [
            "target 클래스의 값과 분포도 \n",
            " 0     799\n",
            "1     973\n",
            "2     985\n",
            "3     982\n",
            "4     963\n",
            "5     988\n",
            "6     975\n",
            "7     990\n",
            "8     996\n",
            "9     994\n",
            "10    999\n",
            "11    991\n",
            "12    984\n",
            "13    990\n",
            "14    987\n",
            "15    997\n",
            "16    910\n",
            "17    940\n",
            "18    775\n",
            "19    628\n",
            "Name: count, dtype: int64\n",
            "target 클래스의 이름들 \n",
            " ['alt.atheism', 'comp.graphics', 'comp.os.ms-windows.misc', 'comp.sys.ibm.pc.hardware', 'comp.sys.mac.hardware', 'comp.windows.x', 'misc.forsale', 'rec.autos', 'rec.motorcycles', 'rec.sport.baseball', 'rec.sport.hockey', 'sci.crypt', 'sci.electronics', 'sci.med', 'sci.space', 'soc.religion.christian', 'talk.politics.guns', 'talk.politics.mideast', 'talk.politics.misc', 'talk.religion.misc']\n"
          ]
        }
      ]
    },
    {
      "cell_type": "code",
      "source": [
        "# 개별 데이터가 텍스트로 어떻게 구성돼 있는지 데이터를 한 개만 추출해 값을 확인\n",
        "print(news_data.data[0])"
      ],
      "metadata": {
        "colab": {
          "base_uri": "https://localhost:8080/"
        },
        "id": "a-ctQ0qZxlLi",
        "outputId": "c6dec450-7e81-4867-96c9-2d823bf6093e"
      },
      "execution_count": 5,
      "outputs": [
        {
          "output_type": "stream",
          "name": "stdout",
          "text": [
            "From: egreen@east.sun.com (Ed Green - Pixel Cruncher)\n",
            "Subject: Re: Observation re: helmets\n",
            "Organization: Sun Microsystems, RTP, NC\n",
            "Lines: 21\n",
            "Distribution: world\n",
            "Reply-To: egreen@east.sun.com\n",
            "NNTP-Posting-Host: laser.east.sun.com\n",
            "\n",
            "In article 211353@mavenry.altcit.eskimo.com, maven@mavenry.altcit.eskimo.com (Norman Hamer) writes:\n",
            "> \n",
            "> The question for the day is re: passenger helmets, if you don't know for \n",
            ">certain who's gonna ride with you (like say you meet them at a .... church \n",
            ">meeting, yeah, that's the ticket)... What are some guidelines? Should I just \n",
            ">pick up another shoei in my size to have a backup helmet (XL), or should I \n",
            ">maybe get an inexpensive one of a smaller size to accomodate my likely \n",
            ">passenger? \n",
            "\n",
            "If your primary concern is protecting the passenger in the event of a\n",
            "crash, have him or her fitted for a helmet that is their size.  If your\n",
            "primary concern is complying with stupid helmet laws, carry a real big\n",
            "spare (you can put a big or small head in a big helmet, but not in a\n",
            "small one).\n",
            "\n",
            "---\n",
            "Ed Green, former Ninjaite |I was drinking last night with a biker,\n",
            "  Ed.Green@East.Sun.COM   |and I showed him a picture of you.  I said,\n",
            "DoD #0111  (919)460-8302  |\"Go on, get to know her, you'll like her!\"\n",
            " (The Grateful Dead) -->  |It seemed like the least I could do...\n",
            "\n",
            "\n"
          ]
        }
      ]
    },
    {
      "cell_type": "code",
      "source": [
        "# 내용을 제외하고 제목 등의 다른 정보는 제거\n",
        "from sklearn.datasets import fetch_20newsgroups\n",
        "\n",
        "# subset='train'으로 학습용 데이터만 추출. remove=('headers', 'footers', 'quotes')로 내용만 추출\n",
        "train_news = fetch_20newsgroups(subset='train', remove=('headers', 'footers', 'quotes'), random_state=156)\n",
        "X_train = train_news.data\n",
        "y_train = train_news.target\n",
        "\n",
        "# subset='test'으로 테스트 데이터만 추출. remove=('headers', 'footers', 'quotes')로 내용만 추출\n",
        "test_news = fetch_20newsgroups(subset='test', remove=('headers', 'footers', 'quotes'), random_state=156)\n",
        "X_test = test_news.data\n",
        "y_test = test_news.target\n",
        "\n",
        "print('학습 데이터 크기 {0}, 테스트 데이터 크기 {1}'.format(len(train_news.data), len(test_news.data)))"
      ],
      "metadata": {
        "colab": {
          "base_uri": "https://localhost:8080/"
        },
        "id": "3ju49L1oxlO7",
        "outputId": "db299680-381f-4de4-f740-6dd581b55fd1"
      },
      "execution_count": 6,
      "outputs": [
        {
          "output_type": "stream",
          "name": "stdout",
          "text": [
            "학습 데이터 크기 11314, 테스트 데이터 크기 7532\n"
          ]
        }
      ]
    },
    {
      "cell_type": "markdown",
      "source": [
        "### 피처 벡터화 변경과 머신러닝 모델 학습/예측/평가\n",
        "\n",
        "[뼈대]\n",
        "\n",
        "피처 벡터화\n",
        "- 카운트 기반\n",
        "- TF-IDF 기반\n",
        "\n",
        "모델\n",
        "- 로지스틱 회귀\n",
        "\n",
        "[유의점]\n",
        "- 테스트 데이터에서 CountVectorizer를 적용할 때는 반드시 학습 데이터를 이용해 fit()이\n",
        "수행된 CountVectorizer 객체를 이용해 테스트 데이터를 변환(transform)해야만 학습 시 설정된 CountVectorizer의 피처 개수와 테스트 데이터를 CountVectorizer로 변환할\n",
        "피처 개수가 같아짐.\n",
        "- 즉, CountVectorizer.fit_transform(테스트 데이터)을 하면 학습 시 사용된 피처 개수와 예측 시\n",
        "사용할 피처 개수가 달라짐.\n",
        "- 텍스트 정규화나 Count/TF-IDF 기반 피처 벡\n",
        "터화를 어떻게 효과적으로 적용했는지가 텍스트 기반의 머신러닝 성능에 큰 영향을 미침.\n",
        "\n"
      ],
      "metadata": {
        "id": "nRD25HyVquSQ"
      }
    },
    {
      "cell_type": "markdown",
      "source": [
        "**카운트 기반 피처 벡터화**"
      ],
      "metadata": {
        "id": "I-m0xRYU1_or"
      }
    },
    {
      "cell_type": "code",
      "source": [
        "from sklearn.feature_extraction.text import CountVectorizer\n",
        "\n",
        "# Count Vectorization으로 피처 벡터화 변환 수행\n",
        "cnt_vect = CountVectorizer()\n",
        "cnt_vect.fit(X_train)\n",
        "X_train_cnt_vect = cnt_vect.transform(X_train)\n",
        "\n",
        "# 학습 데이터로 fit()된 CountVectorizer을 이용해 테스트 데이터를 피처 벡터화 변환 수행\n",
        "## 11314개의 문서에서 피처, 즉 단어가 101631개로 만들어짐.\n",
        "X_test_cnt_vect = cnt_vect.transform(X_test)\n",
        "\n",
        "print('학습 데이터 텍스트의 CountVectorizer Shape:', X_train_cnt_vect.shape)"
      ],
      "metadata": {
        "colab": {
          "base_uri": "https://localhost:8080/"
        },
        "id": "Ty-beNKAxZwA",
        "outputId": "7e7c6aaa-e976-493e-c850-394ae4254e6e"
      },
      "execution_count": 7,
      "outputs": [
        {
          "output_type": "stream",
          "name": "stdout",
          "text": [
            "학습 데이터 텍스트의 CountVectorizer Shape: (11314, 101631)\n"
          ]
        }
      ]
    },
    {
      "cell_type": "code",
      "source": [
        "from sklearn.linear_model import LogisticRegression\n",
        "from sklearn.metrics import accuracy_score\n",
        "import warnings\n",
        "warnings.filterwarnings('ignore')\n",
        "\n",
        "# LogisticRegression을 이용하여 학습/예측/평가 수행\n",
        "## Count 기반 피처 벡터화가 적용된 데이터 세트에 대한 로지스틱 회귀의 예측 정확도는 약 0.617.\n",
        "lr_clf = LogisticRegression(solver='liblinear')\n",
        "lr_clf.fit(X_train_cnt_vect, y_train)\n",
        "pred = lr_clf.predict(X_test_cnt_vect)\n",
        "print('CountVectorized Logistic Regression의 예측 정확도는 {0:.3f}'.format(accuracy_score(y_test, pred)))"
      ],
      "metadata": {
        "colab": {
          "base_uri": "https://localhost:8080/"
        },
        "id": "dAXyR3w-0NDz",
        "outputId": "1c89d27f-62f9-4436-e570-dfe39036f76d"
      },
      "execution_count": 8,
      "outputs": [
        {
          "output_type": "stream",
          "name": "stdout",
          "text": [
            "CountVectorized Logistic Regression의 예측 정확도는 0.617\n"
          ]
        }
      ]
    },
    {
      "cell_type": "markdown",
      "source": [
        "**TF-IDF 기반 기반 피처 벡터화**"
      ],
      "metadata": {
        "id": "p_hrl-EL2Dh7"
      }
    },
    {
      "cell_type": "code",
      "source": [
        "from sklearn.feature_extraction.text import TfidfVectorizer\n",
        "\n",
        "# TF-IDF 벡터화를 적용해 학습 데이터 세트와 테스트 데이터 세트 변환\n",
        "tfidf_vect = TfidfVectorizer()\n",
        "tfidf_vect.fit(X_train)\n",
        "X_train_tfidf_vect = tfidf_vect.transform(X_train)\n",
        "X_test_tfidf_vect = tfidf_vect.transform(X_test)\n",
        "\n",
        "# LogisticRegression을 이용해 학습/예측/평가 수행\n",
        "## TF-IDF 벡터화가 적용된 데이터 세트에 대한 로지스틱 회귀의 예측 정확도는 단순 카운트 기반보다 훨씬 높음.\n",
        "lr_clf = LogisticRegression(solver='liblinear')\n",
        "lr_clf.fit(X_train_tfidf_vect, y_train)\n",
        "pred = lr_clf.predict(X_test_tfidf_vect)\n",
        "print('TF-IDF Logistic Regression의 예측 정확도는 {0:.3f}'.format(accuracy_score(y_test, pred)))"
      ],
      "metadata": {
        "colab": {
          "base_uri": "https://localhost:8080/"
        },
        "id": "bbhAeM6p0NGS",
        "outputId": "6c7c3db1-0b6b-4529-adec-cf006bdb66f1"
      },
      "execution_count": 10,
      "outputs": [
        {
          "output_type": "stream",
          "name": "stdout",
          "text": [
            "TF-IDF Logistic Regression의 예측 정확도는 0.678\n"
          ]
        }
      ]
    },
    {
      "cell_type": "code",
      "source": [
        "# stop words 필터링을 추가하고 ngram을 기본 (1, 1)에서 (1, 2)로 변경해 피처 벡터화 적용\n",
        "tfidf_vect = TfidfVectorizer(stop_words='english', ngram_range=(1,2), max_df=300)\n",
        "tfidf_vect.fit(X_train)\n",
        "X_train_tfidf_vect = tfidf_vect.transform(X_train)\n",
        "X_test_tfidf_vect = tfidf_vect.transform(X_test)\n",
        "\n",
        "lr_clf = LogisticRegression(solver='liblinear')\n",
        "lr_clf.fit(X_train_tfidf_vect, y_train)\n",
        "pred = lr_clf.predict(X_test_tfidf_vect)\n",
        "print('TF-IDF Vectorized Logistic Regression의 예측 정확도는 {0:.3f}'.format(accuracy_score(y_test, pred)))"
      ],
      "metadata": {
        "colab": {
          "base_uri": "https://localhost:8080/"
        },
        "id": "CicU7da0xZya",
        "outputId": "4cc39f56-2ba1-415a-8215-9fab59c0ef57"
      },
      "execution_count": 12,
      "outputs": [
        {
          "output_type": "stream",
          "name": "stdout",
          "text": [
            "TF-IDF Vectorized Logistic Regression의 예측 정확도는 0.690\n"
          ]
        }
      ]
    },
    {
      "cell_type": "code",
      "source": [
        "from sklearn.model_selection import GridSearchCV\n",
        "\n",
        "# 최적 C 값 도출 튜닝 수행. CV는 3 폴드 세트로 설정.\n",
        "params = {'C': [0.01, 0.1, 1, 5, 10]}\n",
        "grid_cv_lr = GridSearchCV(lr_clf, param_grid=params, cv=3, scoring='accuracy', verbose=1)\n",
        "grid_cv_lr.fit(X_train_tfidf_vect, y_train)\n",
        "print('Logistic Regression best C parameter :', grid_cv_lr.best_params_)\n",
        "\n",
        "# 최적 C 값으로 학습된 grid_cv로 예측 및 정확도 평가.\n",
        "pred = grid_cv_lr.predict(X_test_tfidf_vect)\n",
        "print('TF-IDF Vectorized Logistic Regression의 예측 정확도는 {0: 3f}'.format(accuracy_score(y_test, pred)))"
      ],
      "metadata": {
        "colab": {
          "base_uri": "https://localhost:8080/"
        },
        "id": "Rm3pAQI23W80",
        "outputId": "101ac76e-3197-4c26-967f-9d0967b9fa79"
      },
      "execution_count": 13,
      "outputs": [
        {
          "output_type": "stream",
          "name": "stdout",
          "text": [
            "Fitting 3 folds for each of 5 candidates, totalling 15 fits\n",
            "Logistic Regression best C parameter : {'C': 10}\n",
            "TF-IDF Vectorized Logistic Regression의 예측 정확도는  0.703930\n"
          ]
        }
      ]
    },
    {
      "cell_type": "markdown",
      "source": [
        "### 사이킷런 파이프라인(Pipeline) 사용 및 GridSearchCV와의 결합\n",
        "\n",
        "피처 벡터화 파라미터와 GridSearchCV 기반의 하이퍼 파라미터 튜닝을 한꺼번에 수행\n",
        "\n",
        "[정의]\n",
        "- 사이킷런의 Pipeline 클래스\n",
        "   - 데이터의 전처리와 머신러닝 학습 과정을 통일된 API 기반에서 처리할 수 있어 더 직관적인 ML 모델 코드를 생성 가능\n",
        "   - 대용량 데이터의 피처 벡터화 결과를 별도 데이터로 저장하지 않고 스트림 기반에서 바로 머신러닝 알고리즘의 데이터로 입력할 수 있기 때문에 수행 시간을 절약 가능\n",
        "   - 모든 데이터 전처리 작업과 스케일링 또는 벡터 정규화, PCA 등의 변환작업과분류, 회귀 등의 Estimator 결합 가능\n",
        "\n",
        "[유의점]\n",
        "- Pipeline + GridSearchCV를 함께 적용하면 피처 벡터화에 사용되는 파라미터와 GridSearchCV 하이퍼 파라미터를 합치면 최적화를 위한 너무 많은 경우의 수가 발생하여 너무 많은 튜닝 시간이 소모됨.\n",
        "\n",
        "\n"
      ],
      "metadata": {
        "id": "aLWlTnpGquud"
      }
    },
    {
      "cell_type": "code",
      "source": [
        "# pipeline = Pipeline([('tfidf_vect', TfidfVectorizer(stop_words='english')),\n",
        "#                     ('lr_clf', LogisticRegression(random_state=156))])"
      ],
      "metadata": {
        "id": "d_Q16Qt25xsE"
      },
      "execution_count": null,
      "outputs": []
    },
    {
      "cell_type": "code",
      "source": [
        "from sklearn.pipeline import Pipeline\n",
        "\n",
        "# TfidfVectorizer 객체를 tfidf_vect로, LogisticRegression 객체를 lr_clf로 생성하는 Pipeline 생성\n",
        "pipeline = Pipeline([\n",
        "    ('tfidf_vect', TfidfVectorizer(stop_words='english', ngram_range=(1,2), max_df=300)),\n",
        "    ('lr_clf', LogisticRegression(solver='liblinear', C=10))\n",
        "])"
      ],
      "metadata": {
        "id": "ZlsJ-Ynl6w4V"
      },
      "execution_count": 15,
      "outputs": []
    },
    {
      "cell_type": "code",
      "source": [
        "# 별도의 TfidfVectorizer 객체의 fit(), transform()과 LogisticRegression의 fit(), predict()가 필요없음.\n",
        "# pipeline의 fit()과 predict()만으로 한꺼번에 피처 벡터화와 ML 학습/예측이 가능\n",
        "pipeline.fit(X_train, y_train)\n",
        "pred = pipeline.predict(X_test)\n",
        "print('Pipeline을 통한 Logistic Regression의 예측 정확도는 {0:.3f}'.format(accuracy_score(y_test, pred)))"
      ],
      "metadata": {
        "colab": {
          "base_uri": "https://localhost:8080/"
        },
        "id": "blNFSMms6w6t",
        "outputId": "3e15a630-e5c4-4a45-a7b2-0bcdf97ab53f"
      },
      "execution_count": 16,
      "outputs": [
        {
          "output_type": "stream",
          "name": "stdout",
          "text": [
            "Pipeline을 통한 Logistic Regression의 예측 정확도는 0.704\n"
          ]
        }
      ]
    },
    {
      "cell_type": "code",
      "source": [
        "# from sklearn.pipeline import Pipeline\n",
        "\n",
        "# pipeline = Pipeline([\n",
        "#     ('tfidf_vect', TfidfVectorizer(stop_words='english')),\n",
        "#     ('lr_clf', LogisticRegression())\n",
        "# ])\n",
        "\n",
        "# # Pipeline에 기술된 각각의 객체 변수에 언더바(_)를 2개 연달아 붙여 GridSearchCV에 사용될 파라미터/하이퍼 파라미터 이름곽 값을 설정\n",
        "# params = {'tfidf_vect__ngram_range': [(1,1), (1,2), (1,3)],\n",
        "#           'tfidf_vect__max_df':[100, 300, 700],\n",
        "#           'lr_clf__C':[1, 5, 10]}\n",
        "\n",
        "# # GridSearchCV의 생성자에 Estimator가 아닌 Pipeline 객체 입력\n",
        "# grid_cv_pipe = GridSearchCV(pipeline, param_grid=params, cv=3, scoring='accuracy', verbose=1)\n",
        "# grid_cv_pipe.fit(X_train, y_train)\n",
        "# print(grid_cv_pipe.best_params_, grid_cv_pipe.best_score_)\n",
        "\n",
        "# pred = grid_cv_pipe.predict(X_test)\n",
        "# print('Pipeline을 통한 Logistic Regression의 예측 정확도는 {0:.3f}'.format(accuracy_score(y_test, pred)))"
      ],
      "metadata": {
        "id": "81cRexHb_IvX"
      },
      "execution_count": 19,
      "outputs": []
    },
    {
      "cell_type": "markdown",
      "source": [
        "## 08-05. 감성 분석\n"
      ],
      "metadata": {
        "id": "zXNsmQjcqu9t"
      }
    },
    {
      "cell_type": "markdown",
      "source": [
        "### 감성 분석 소개\n",
        "[정의]\n",
        "- 감성 분석(Sentiment Analysis): 문서 내 텍스트가 나타내는 여러 가지 주관적인 단어와 문맥을 기반으로 감성(Sentiment) 수치를 계산하는 방법\n",
        "   - 지도학습: 일반적인 텍스트 기반의 분류와 거의 동일\n",
        "   - 비지도학습: 감성 분석 다양한 정보를 가지고 있는 ‘Lexicon’이라는 감성 어휘 사전을 이용. 문서의 긍정적, 부정적 감성 여부를 판단."
      ],
      "metadata": {
        "id": "PpZLeGPYqvL5"
      }
    },
    {
      "cell_type": "markdown",
      "source": [
        "### 지도학습 기반 감성 분석 실습 - IMDB 영화평\n",
        "\n"
      ],
      "metadata": {
        "id": "tw6BrzwBq6kl"
      }
    },
    {
      "cell_type": "code",
      "source": [
        "import pandas as pd\n",
        "\n",
        "review_df = pd.read_csv('/content/labeledTrainData[1].tsv', header=0, sep='\\t', quoting=3)\n",
        "review_df.head(3)"
      ],
      "metadata": {
        "colab": {
          "base_uri": "https://localhost:8080/",
          "height": 143
        },
        "id": "xhiXV4zWqvSV",
        "outputId": "043ac560-c6a2-4218-8ead-15d9818dd8b5"
      },
      "execution_count": 20,
      "outputs": [
        {
          "output_type": "execute_result",
          "data": {
            "text/plain": [
              "         id  sentiment                                             review\n",
              "0  \"5814_8\"          1  \"With all this stuff going down at the moment ...\n",
              "1  \"2381_9\"          1  \"\\\"The Classic War of the Worlds\\\" by Timothy ...\n",
              "2  \"7759_3\"          0  \"The film starts with a manager (Nicholas Bell..."
            ],
            "text/html": [
              "\n",
              "  <div id=\"df-42146c58-037b-44b4-a56b-39f95b91b29a\" class=\"colab-df-container\">\n",
              "    <div>\n",
              "<style scoped>\n",
              "    .dataframe tbody tr th:only-of-type {\n",
              "        vertical-align: middle;\n",
              "    }\n",
              "\n",
              "    .dataframe tbody tr th {\n",
              "        vertical-align: top;\n",
              "    }\n",
              "\n",
              "    .dataframe thead th {\n",
              "        text-align: right;\n",
              "    }\n",
              "</style>\n",
              "<table border=\"1\" class=\"dataframe\">\n",
              "  <thead>\n",
              "    <tr style=\"text-align: right;\">\n",
              "      <th></th>\n",
              "      <th>id</th>\n",
              "      <th>sentiment</th>\n",
              "      <th>review</th>\n",
              "    </tr>\n",
              "  </thead>\n",
              "  <tbody>\n",
              "    <tr>\n",
              "      <th>0</th>\n",
              "      <td>\"5814_8\"</td>\n",
              "      <td>1</td>\n",
              "      <td>\"With all this stuff going down at the moment ...</td>\n",
              "    </tr>\n",
              "    <tr>\n",
              "      <th>1</th>\n",
              "      <td>\"2381_9\"</td>\n",
              "      <td>1</td>\n",
              "      <td>\"\\\"The Classic War of the Worlds\\\" by Timothy ...</td>\n",
              "    </tr>\n",
              "    <tr>\n",
              "      <th>2</th>\n",
              "      <td>\"7759_3\"</td>\n",
              "      <td>0</td>\n",
              "      <td>\"The film starts with a manager (Nicholas Bell...</td>\n",
              "    </tr>\n",
              "  </tbody>\n",
              "</table>\n",
              "</div>\n",
              "    <div class=\"colab-df-buttons\">\n",
              "\n",
              "  <div class=\"colab-df-container\">\n",
              "    <button class=\"colab-df-convert\" onclick=\"convertToInteractive('df-42146c58-037b-44b4-a56b-39f95b91b29a')\"\n",
              "            title=\"Convert this dataframe to an interactive table.\"\n",
              "            style=\"display:none;\">\n",
              "\n",
              "  <svg xmlns=\"http://www.w3.org/2000/svg\" height=\"24px\" viewBox=\"0 -960 960 960\">\n",
              "    <path d=\"M120-120v-720h720v720H120Zm60-500h600v-160H180v160Zm220 220h160v-160H400v160Zm0 220h160v-160H400v160ZM180-400h160v-160H180v160Zm440 0h160v-160H620v160ZM180-180h160v-160H180v160Zm440 0h160v-160H620v160Z\"/>\n",
              "  </svg>\n",
              "    </button>\n",
              "\n",
              "  <style>\n",
              "    .colab-df-container {\n",
              "      display:flex;\n",
              "      gap: 12px;\n",
              "    }\n",
              "\n",
              "    .colab-df-convert {\n",
              "      background-color: #E8F0FE;\n",
              "      border: none;\n",
              "      border-radius: 50%;\n",
              "      cursor: pointer;\n",
              "      display: none;\n",
              "      fill: #1967D2;\n",
              "      height: 32px;\n",
              "      padding: 0 0 0 0;\n",
              "      width: 32px;\n",
              "    }\n",
              "\n",
              "    .colab-df-convert:hover {\n",
              "      background-color: #E2EBFA;\n",
              "      box-shadow: 0px 1px 2px rgba(60, 64, 67, 0.3), 0px 1px 3px 1px rgba(60, 64, 67, 0.15);\n",
              "      fill: #174EA6;\n",
              "    }\n",
              "\n",
              "    .colab-df-buttons div {\n",
              "      margin-bottom: 4px;\n",
              "    }\n",
              "\n",
              "    [theme=dark] .colab-df-convert {\n",
              "      background-color: #3B4455;\n",
              "      fill: #D2E3FC;\n",
              "    }\n",
              "\n",
              "    [theme=dark] .colab-df-convert:hover {\n",
              "      background-color: #434B5C;\n",
              "      box-shadow: 0px 1px 3px 1px rgba(0, 0, 0, 0.15);\n",
              "      filter: drop-shadow(0px 1px 2px rgba(0, 0, 0, 0.3));\n",
              "      fill: #FFFFFF;\n",
              "    }\n",
              "  </style>\n",
              "\n",
              "    <script>\n",
              "      const buttonEl =\n",
              "        document.querySelector('#df-42146c58-037b-44b4-a56b-39f95b91b29a button.colab-df-convert');\n",
              "      buttonEl.style.display =\n",
              "        google.colab.kernel.accessAllowed ? 'block' : 'none';\n",
              "\n",
              "      async function convertToInteractive(key) {\n",
              "        const element = document.querySelector('#df-42146c58-037b-44b4-a56b-39f95b91b29a');\n",
              "        const dataTable =\n",
              "          await google.colab.kernel.invokeFunction('convertToInteractive',\n",
              "                                                    [key], {});\n",
              "        if (!dataTable) return;\n",
              "\n",
              "        const docLinkHtml = 'Like what you see? Visit the ' +\n",
              "          '<a target=\"_blank\" href=https://colab.research.google.com/notebooks/data_table.ipynb>data table notebook</a>'\n",
              "          + ' to learn more about interactive tables.';\n",
              "        element.innerHTML = '';\n",
              "        dataTable['output_type'] = 'display_data';\n",
              "        await google.colab.output.renderOutput(dataTable, element);\n",
              "        const docLink = document.createElement('div');\n",
              "        docLink.innerHTML = docLinkHtml;\n",
              "        element.appendChild(docLink);\n",
              "      }\n",
              "    </script>\n",
              "  </div>\n",
              "\n",
              "\n",
              "<div id=\"df-f1dcfa85-811d-456a-9809-123d9ed1c798\">\n",
              "  <button class=\"colab-df-quickchart\" onclick=\"quickchart('df-f1dcfa85-811d-456a-9809-123d9ed1c798')\"\n",
              "            title=\"Suggest charts\"\n",
              "            style=\"display:none;\">\n",
              "\n",
              "<svg xmlns=\"http://www.w3.org/2000/svg\" height=\"24px\"viewBox=\"0 0 24 24\"\n",
              "     width=\"24px\">\n",
              "    <g>\n",
              "        <path d=\"M19 3H5c-1.1 0-2 .9-2 2v14c0 1.1.9 2 2 2h14c1.1 0 2-.9 2-2V5c0-1.1-.9-2-2-2zM9 17H7v-7h2v7zm4 0h-2V7h2v10zm4 0h-2v-4h2v4z\"/>\n",
              "    </g>\n",
              "</svg>\n",
              "  </button>\n",
              "\n",
              "<style>\n",
              "  .colab-df-quickchart {\n",
              "      --bg-color: #E8F0FE;\n",
              "      --fill-color: #1967D2;\n",
              "      --hover-bg-color: #E2EBFA;\n",
              "      --hover-fill-color: #174EA6;\n",
              "      --disabled-fill-color: #AAA;\n",
              "      --disabled-bg-color: #DDD;\n",
              "  }\n",
              "\n",
              "  [theme=dark] .colab-df-quickchart {\n",
              "      --bg-color: #3B4455;\n",
              "      --fill-color: #D2E3FC;\n",
              "      --hover-bg-color: #434B5C;\n",
              "      --hover-fill-color: #FFFFFF;\n",
              "      --disabled-bg-color: #3B4455;\n",
              "      --disabled-fill-color: #666;\n",
              "  }\n",
              "\n",
              "  .colab-df-quickchart {\n",
              "    background-color: var(--bg-color);\n",
              "    border: none;\n",
              "    border-radius: 50%;\n",
              "    cursor: pointer;\n",
              "    display: none;\n",
              "    fill: var(--fill-color);\n",
              "    height: 32px;\n",
              "    padding: 0;\n",
              "    width: 32px;\n",
              "  }\n",
              "\n",
              "  .colab-df-quickchart:hover {\n",
              "    background-color: var(--hover-bg-color);\n",
              "    box-shadow: 0 1px 2px rgba(60, 64, 67, 0.3), 0 1px 3px 1px rgba(60, 64, 67, 0.15);\n",
              "    fill: var(--button-hover-fill-color);\n",
              "  }\n",
              "\n",
              "  .colab-df-quickchart-complete:disabled,\n",
              "  .colab-df-quickchart-complete:disabled:hover {\n",
              "    background-color: var(--disabled-bg-color);\n",
              "    fill: var(--disabled-fill-color);\n",
              "    box-shadow: none;\n",
              "  }\n",
              "\n",
              "  .colab-df-spinner {\n",
              "    border: 2px solid var(--fill-color);\n",
              "    border-color: transparent;\n",
              "    border-bottom-color: var(--fill-color);\n",
              "    animation:\n",
              "      spin 1s steps(1) infinite;\n",
              "  }\n",
              "\n",
              "  @keyframes spin {\n",
              "    0% {\n",
              "      border-color: transparent;\n",
              "      border-bottom-color: var(--fill-color);\n",
              "      border-left-color: var(--fill-color);\n",
              "    }\n",
              "    20% {\n",
              "      border-color: transparent;\n",
              "      border-left-color: var(--fill-color);\n",
              "      border-top-color: var(--fill-color);\n",
              "    }\n",
              "    30% {\n",
              "      border-color: transparent;\n",
              "      border-left-color: var(--fill-color);\n",
              "      border-top-color: var(--fill-color);\n",
              "      border-right-color: var(--fill-color);\n",
              "    }\n",
              "    40% {\n",
              "      border-color: transparent;\n",
              "      border-right-color: var(--fill-color);\n",
              "      border-top-color: var(--fill-color);\n",
              "    }\n",
              "    60% {\n",
              "      border-color: transparent;\n",
              "      border-right-color: var(--fill-color);\n",
              "    }\n",
              "    80% {\n",
              "      border-color: transparent;\n",
              "      border-right-color: var(--fill-color);\n",
              "      border-bottom-color: var(--fill-color);\n",
              "    }\n",
              "    90% {\n",
              "      border-color: transparent;\n",
              "      border-bottom-color: var(--fill-color);\n",
              "    }\n",
              "  }\n",
              "</style>\n",
              "\n",
              "  <script>\n",
              "    async function quickchart(key) {\n",
              "      const quickchartButtonEl =\n",
              "        document.querySelector('#' + key + ' button');\n",
              "      quickchartButtonEl.disabled = true;  // To prevent multiple clicks.\n",
              "      quickchartButtonEl.classList.add('colab-df-spinner');\n",
              "      try {\n",
              "        const charts = await google.colab.kernel.invokeFunction(\n",
              "            'suggestCharts', [key], {});\n",
              "      } catch (error) {\n",
              "        console.error('Error during call to suggestCharts:', error);\n",
              "      }\n",
              "      quickchartButtonEl.classList.remove('colab-df-spinner');\n",
              "      quickchartButtonEl.classList.add('colab-df-quickchart-complete');\n",
              "    }\n",
              "    (() => {\n",
              "      let quickchartButtonEl =\n",
              "        document.querySelector('#df-f1dcfa85-811d-456a-9809-123d9ed1c798 button');\n",
              "      quickchartButtonEl.style.display =\n",
              "        google.colab.kernel.accessAllowed ? 'block' : 'none';\n",
              "    })();\n",
              "  </script>\n",
              "</div>\n",
              "\n",
              "    </div>\n",
              "  </div>\n"
            ],
            "application/vnd.google.colaboratory.intrinsic+json": {
              "type": "dataframe",
              "variable_name": "review_df",
              "summary": "{\n  \"name\": \"review_df\",\n  \"rows\": 25000,\n  \"fields\": [\n    {\n      \"column\": \"id\",\n      \"properties\": {\n        \"dtype\": \"string\",\n        \"num_unique_values\": 25000,\n        \"samples\": [\n          \"\\\"2570_3\\\"\",\n          \"\\\"4897_8\\\"\",\n          \"\\\"8485_3\\\"\"\n        ],\n        \"semantic_type\": \"\",\n        \"description\": \"\"\n      }\n    },\n    {\n      \"column\": \"sentiment\",\n      \"properties\": {\n        \"dtype\": \"number\",\n        \"std\": 0,\n        \"min\": 0,\n        \"max\": 1,\n        \"num_unique_values\": 2,\n        \"samples\": [\n          0,\n          1\n        ],\n        \"semantic_type\": \"\",\n        \"description\": \"\"\n      }\n    },\n    {\n      \"column\": \"review\",\n      \"properties\": {\n        \"dtype\": \"string\",\n        \"num_unique_values\": 24904,\n        \"samples\": [\n          \"\\\"This is not my favorite WIP (\\\\\\\"Women in Prison\\\\\\\"), but it is one of the most famous films in the sub-genre. It is was produced by Roger Corman, who at this point had already produced a few WIPs. It is obvious that the film tries to play with the established formula. The movie takes place in an USA prison, not in a \\\\\\\"banana republic\\\\\\\" like most WIP films. I'm not sure if that was a wise move, but it is an acceptable change of pace. Writer-director Demme really gets into his job, always digging for new ways to present a familiar scenario. In fact, he is a little too ambitious for his own good. The filmmaker creates a few surreal dream sequences that are borderline pretentious but it is fun to see how hard he tries to put this film above your average chicks-in-chains flick. But do not worry, Demme still operates within the parameters of the sub-genre. There is plenty of nudity and violence, something that will satisfy hardcore fans. The film is a little slow, but it is very entertaining. The cast is good. Roberta Collins is a WIP veteran, so she does not need an introduction, and Barbara Steel is a hoot as the wheelchair-bound crazy warden. Pam Grier is sorely missed, though.\\\"\",\n          \"\\\"In 1972, after his wife left to go her own way, Elvis Presley began dating Linda Thompson. Miss Thompson, a good-humored, long haired, lovely, statuesque beauty queen, is charted to fill a void in Elvis' life. When Elvis' divorce became final, Linda was already in place as the legendary performer's live-in girlfriend and travel companion until 1976.<br /><br />This is a gaudy look at their love affair and companionship. Linda whole-heartedly tending to her lover's needs and desires. And even putting up with his swallowing medications by the handful and introducing her to her own love affair with valium. At times this movie is harsh and dark of heart; a very unattractive look at the 'King' and his queen.<br /><br />Don Johnson is absolutely awful as Elvis. Over acting to the hilt is not attractive. Stephanie Zimbalist lacks the classiness of Linda, but does the job pretty well. Supporting cast includes: John Crawford, Ruta Lee, and Rick Lenz. Watching this twice is more than enough for me, but don't let this review stop you from checking it out. For most Elvis fans that I have conferred with, this is not a favored presentation.\\\"\"\n        ],\n        \"semantic_type\": \"\",\n        \"description\": \"\"\n      }\n    }\n  ]\n}"
            }
          },
          "metadata": {},
          "execution_count": 20
        }
      ]
    },
    {
      "cell_type": "code",
      "source": [
        "print(review_df['review'][0])"
      ],
      "metadata": {
        "colab": {
          "base_uri": "https://localhost:8080/"
        },
        "id": "mDGshSJA_2WS",
        "outputId": "7db394f7-25e9-4fd1-aaa5-5020cfa857b8"
      },
      "execution_count": 21,
      "outputs": [
        {
          "output_type": "stream",
          "name": "stdout",
          "text": [
            "\"With all this stuff going down at the moment with MJ i've started listening to his music, watching the odd documentary here and there, watched The Wiz and watched Moonwalker again. Maybe i just want to get a certain insight into this guy who i thought was really cool in the eighties just to maybe make up my mind whether he is guilty or innocent. Moonwalker is part biography, part feature film which i remember going to see at the cinema when it was originally released. Some of it has subtle messages about MJ's feeling towards the press and also the obvious message of drugs are bad m'kay.<br /><br />Visually impressive but of course this is all about Michael Jackson so unless you remotely like MJ in anyway then you are going to hate this and find it boring. Some may call MJ an egotist for consenting to the making of this movie BUT MJ and most of his fans would say that he made it for the fans which if true is really nice of him.<br /><br />The actual feature film bit when it finally starts is only on for 20 minutes or so excluding the Smooth Criminal sequence and Joe Pesci is convincing as a psychopathic all powerful drug lord. Why he wants MJ dead so bad is beyond me. Because MJ overheard his plans? Nah, Joe Pesci's character ranted that he wanted people to know it is he who is supplying drugs etc so i dunno, maybe he just hates MJ's music.<br /><br />Lots of cool things in this like MJ turning into a car and a robot and the whole Speed Demon sequence. Also, the director must have had the patience of a saint when it came to filming the kiddy Bad sequence as usually directors hate working with one kid let alone a whole bunch of them performing a complex dance scene.<br /><br />Bottom line, this movie is for people who like MJ on one level or another (which i think is most people). If not, then stay away. It does try and give off a wholesome message and ironically MJ's bestest buddy in this movie is a girl! Michael Jackson is truly one of the most talented people ever to grace this planet but is he guilty? Well, with all the attention i've gave this subject....hmmm well i don't know because people can be different behind closed doors, i know this for a fact. He is either an extremely nice but stupid guy or one of the most sickest liars. I hope he is not the latter.\"\n"
          ]
        }
      ]
    },
    {
      "cell_type": "code",
      "source": [
        "import re\n",
        "\n",
        "# <br> html 태그는 replace 함수로 공백으로 변환\n",
        "review_df['review'] = review_df['review'].str.replace('<br />', ' ')\n",
        "\n",
        "# 파이썬의 정규 표현식 모듈인 re를 이용해 영어 문자열이 아닌 문자는 모두 공백으로 변환\n",
        "review_df['review'] = review_df['review'].apply(lambda x: re.sub(\"[^a-zA-Z]\", \" \", x))"
      ],
      "metadata": {
        "id": "g9FRhEMC_2Ze"
      },
      "execution_count": 24,
      "outputs": []
    },
    {
      "cell_type": "code",
      "source": [
        "from sklearn.model_selection import train_test_split\n",
        "\n",
        "class_df = review_df['sentiment']\n",
        "feature_df = review_df.drop(['id', 'sentiment'], axis=1, inplace=False)\n",
        "\n",
        "X_train, X_test, y_train, y_test = train_test_split(feature_df, class_df, test_size=0.3, random_state=156)\n",
        "X_train.shape, X_test.shape"
      ],
      "metadata": {
        "colab": {
          "base_uri": "https://localhost:8080/"
        },
        "id": "s4mtWd6U_2b9",
        "outputId": "f11b0089-c098-444f-ae0f-0ad1ff011f7f"
      },
      "execution_count": 25,
      "outputs": [
        {
          "output_type": "execute_result",
          "data": {
            "text/plain": [
              "((17500, 1), (7500, 1))"
            ]
          },
          "metadata": {},
          "execution_count": 25
        }
      ]
    },
    {
      "cell_type": "code",
      "source": [
        "from sklearn.feature_extraction.text import CountVectorizer\n",
        "from sklearn.pipeline import make_pipeline\n",
        "from sklearn.linear_model import LogisticRegression\n",
        "from sklearn.metrics import accuracy_score, roc_auc_score\n",
        "\n",
        "# 스톱 워드 English, ngram은 (1, 2)로 설정해 CountVectorization 수행.\n",
        "# LogisticRegression의 C는 10d으로 설정.\n",
        "pipeline = Pipeline([\n",
        "    ('cnt_vect', CountVectorizer(stop_words='english', ngram_range=(1, 2))),\n",
        "    ('lr_clf', LogisticRegression(solver='liblinear', C=10))])\n",
        "\n",
        "# Pipeline 객체를 이용해 fit(), predict()로 학습/예측 수행. predict_proba()는 roc_auc 때문에 수행.\n",
        "pipeline.fit(X_train['review'], y_train)\n",
        "pred = pipeline.predict(X_test['review'])\n",
        "pred_probs = pipeline.predict_proba(X_test['review'])[:, 1]\n",
        "\n",
        "print('예측 정확도는 {0:.4f}, ROC-AUC는 {1:.4f}'.format(accuracy_score(y_test, pred), roc_auc_score(y_test, pred_probs)))"
      ],
      "metadata": {
        "colab": {
          "base_uri": "https://localhost:8080/"
        },
        "id": "9AmvvQFSA4vX",
        "outputId": "c2bec3ca-e2f7-4b10-eeba-48d7410433f6"
      },
      "execution_count": 26,
      "outputs": [
        {
          "output_type": "stream",
          "name": "stdout",
          "text": [
            "예측 정확도는 0.8861, ROC-AUC는 0.9503\n"
          ]
        }
      ]
    },
    {
      "cell_type": "code",
      "source": [
        "# 스톱 워드는 english, filtering, ngram은 (1, 2)로 설정해 TF-IDF 벡터화 수행.\n",
        "# LogisticRegression의 C는 10으로 설정.\n",
        "pipeline = Pipeline([\n",
        "    ('tfidf_vect', TfidfVectorizer(stop_words='english', ngram_range=(1, 2))),\n",
        "    ('lr_clf', LogisticRegression(solver='liblinear', C=10))])\n",
        "\n",
        "pipeline.fit(X_train['review'], y_train)\n",
        "pred = pipeline.predict(X_test['review'])\n",
        "pred_probs = pipeline.predict_proba(X_test['review'])[:, 1]\n",
        "\n",
        "print('예측 정확도는 {0:.4f}, ROC-AUC는 {1:.4f}'.format(accuracy_score(y_test, pred), roc_auc_score(y_test, pred_probs)))"
      ],
      "metadata": {
        "colab": {
          "base_uri": "https://localhost:8080/"
        },
        "id": "e9Xk-otQA4x9",
        "outputId": "005c4ef4-a76f-4b30-8306-ec6070648ca9"
      },
      "execution_count": 27,
      "outputs": [
        {
          "output_type": "stream",
          "name": "stdout",
          "text": [
            "예측 정확도는 0.8936, ROC-AUC는 0.9598\n"
          ]
        }
      ]
    },
    {
      "cell_type": "markdown",
      "source": [
        "### 비지도학습 기반 감성 분석 소개\n",
        "- Synset은 단순한 하나의 단어가 아니라 그 단어가 가지\n",
        "는문맥, 시맨틱 정보를 제공하는 WordNet의 핵심 개념\n",
        "- NLTK를 포함한 대표적인 감성 사전\n",
        "   - SentiWordNet: WordNet의 Synset별로 3가지 감성 점수(sentiment score : 긍정 감성 지수, 부정 감성 지수, 객관성 지수)를 할당\n",
        "   - VADER: 뛰어난 감성 분석 결과를 제공\n",
        "   - Pattern"
      ],
      "metadata": {
        "id": "uJO7Y2iiqvZ_"
      }
    },
    {
      "cell_type": "markdown",
      "source": [
        "**WordNet Synset와 SentiWordNet SentiSynet 클래스의 이해**"
      ],
      "metadata": {
        "id": "Z8GZTyF9DjL5"
      }
    },
    {
      "cell_type": "code",
      "source": [
        "# NLTK의 모든 데이터 세트와 패키지를 다운로드\n",
        "import nltk\n",
        "nltk.download('all')"
      ],
      "metadata": {
        "colab": {
          "base_uri": "https://localhost:8080/"
        },
        "id": "w3CkR_Oc_140",
        "outputId": "25ec1fef-782e-4177-af0b-1a7b0c30a777"
      },
      "execution_count": 28,
      "outputs": [
        {
          "output_type": "stream",
          "name": "stderr",
          "text": [
            "[nltk_data] Downloading collection 'all'\n",
            "[nltk_data]    | \n",
            "[nltk_data]    | Downloading package abc to /root/nltk_data...\n",
            "[nltk_data]    |   Unzipping corpora/abc.zip.\n",
            "[nltk_data]    | Downloading package alpino to /root/nltk_data...\n",
            "[nltk_data]    |   Unzipping corpora/alpino.zip.\n",
            "[nltk_data]    | Downloading package averaged_perceptron_tagger to\n",
            "[nltk_data]    |     /root/nltk_data...\n",
            "[nltk_data]    |   Unzipping taggers/averaged_perceptron_tagger.zip.\n",
            "[nltk_data]    | Downloading package averaged_perceptron_tagger_eng to\n",
            "[nltk_data]    |     /root/nltk_data...\n",
            "[nltk_data]    |   Unzipping\n",
            "[nltk_data]    |       taggers/averaged_perceptron_tagger_eng.zip.\n",
            "[nltk_data]    | Downloading package averaged_perceptron_tagger_ru to\n",
            "[nltk_data]    |     /root/nltk_data...\n",
            "[nltk_data]    |   Unzipping\n",
            "[nltk_data]    |       taggers/averaged_perceptron_tagger_ru.zip.\n",
            "[nltk_data]    | Downloading package averaged_perceptron_tagger_rus to\n",
            "[nltk_data]    |     /root/nltk_data...\n",
            "[nltk_data]    |   Unzipping\n",
            "[nltk_data]    |       taggers/averaged_perceptron_tagger_rus.zip.\n",
            "[nltk_data]    | Downloading package basque_grammars to\n",
            "[nltk_data]    |     /root/nltk_data...\n",
            "[nltk_data]    |   Unzipping grammars/basque_grammars.zip.\n",
            "[nltk_data]    | Downloading package bcp47 to /root/nltk_data...\n",
            "[nltk_data]    | Downloading package biocreative_ppi to\n",
            "[nltk_data]    |     /root/nltk_data...\n",
            "[nltk_data]    |   Unzipping corpora/biocreative_ppi.zip.\n",
            "[nltk_data]    | Downloading package bllip_wsj_no_aux to\n",
            "[nltk_data]    |     /root/nltk_data...\n",
            "[nltk_data]    |   Unzipping models/bllip_wsj_no_aux.zip.\n",
            "[nltk_data]    | Downloading package book_grammars to\n",
            "[nltk_data]    |     /root/nltk_data...\n",
            "[nltk_data]    |   Unzipping grammars/book_grammars.zip.\n",
            "[nltk_data]    | Downloading package brown to /root/nltk_data...\n",
            "[nltk_data]    |   Unzipping corpora/brown.zip.\n",
            "[nltk_data]    | Downloading package brown_tei to /root/nltk_data...\n",
            "[nltk_data]    |   Unzipping corpora/brown_tei.zip.\n",
            "[nltk_data]    | Downloading package cess_cat to /root/nltk_data...\n",
            "[nltk_data]    |   Unzipping corpora/cess_cat.zip.\n",
            "[nltk_data]    | Downloading package cess_esp to /root/nltk_data...\n",
            "[nltk_data]    |   Unzipping corpora/cess_esp.zip.\n",
            "[nltk_data]    | Downloading package chat80 to /root/nltk_data...\n",
            "[nltk_data]    |   Unzipping corpora/chat80.zip.\n",
            "[nltk_data]    | Downloading package city_database to\n",
            "[nltk_data]    |     /root/nltk_data...\n",
            "[nltk_data]    |   Unzipping corpora/city_database.zip.\n",
            "[nltk_data]    | Downloading package cmudict to /root/nltk_data...\n",
            "[nltk_data]    |   Unzipping corpora/cmudict.zip.\n",
            "[nltk_data]    | Downloading package comparative_sentences to\n",
            "[nltk_data]    |     /root/nltk_data...\n",
            "[nltk_data]    |   Unzipping corpora/comparative_sentences.zip.\n",
            "[nltk_data]    | Downloading package comtrans to /root/nltk_data...\n",
            "[nltk_data]    | Downloading package conll2000 to /root/nltk_data...\n",
            "[nltk_data]    |   Unzipping corpora/conll2000.zip.\n",
            "[nltk_data]    | Downloading package conll2002 to /root/nltk_data...\n",
            "[nltk_data]    |   Unzipping corpora/conll2002.zip.\n",
            "[nltk_data]    | Downloading package conll2007 to /root/nltk_data...\n",
            "[nltk_data]    | Downloading package crubadan to /root/nltk_data...\n",
            "[nltk_data]    |   Unzipping corpora/crubadan.zip.\n",
            "[nltk_data]    | Downloading package dependency_treebank to\n",
            "[nltk_data]    |     /root/nltk_data...\n",
            "[nltk_data]    |   Unzipping corpora/dependency_treebank.zip.\n",
            "[nltk_data]    | Downloading package dolch to /root/nltk_data...\n",
            "[nltk_data]    |   Unzipping corpora/dolch.zip.\n",
            "[nltk_data]    | Downloading package english_wordnet to\n",
            "[nltk_data]    |     /root/nltk_data...\n",
            "[nltk_data]    |   Unzipping corpora/english_wordnet.zip.\n",
            "[nltk_data]    | Downloading package europarl_raw to\n",
            "[nltk_data]    |     /root/nltk_data...\n",
            "[nltk_data]    |   Unzipping corpora/europarl_raw.zip.\n",
            "[nltk_data]    | Downloading package extended_omw to\n",
            "[nltk_data]    |     /root/nltk_data...\n",
            "[nltk_data]    | Downloading package floresta to /root/nltk_data...\n",
            "[nltk_data]    |   Unzipping corpora/floresta.zip.\n",
            "[nltk_data]    | Downloading package framenet_v15 to\n",
            "[nltk_data]    |     /root/nltk_data...\n",
            "[nltk_data]    |   Unzipping corpora/framenet_v15.zip.\n",
            "[nltk_data]    | Downloading package framenet_v17 to\n",
            "[nltk_data]    |     /root/nltk_data...\n",
            "[nltk_data]    |   Unzipping corpora/framenet_v17.zip.\n",
            "[nltk_data]    | Downloading package gazetteers to /root/nltk_data...\n",
            "[nltk_data]    |   Unzipping corpora/gazetteers.zip.\n",
            "[nltk_data]    | Downloading package genesis to /root/nltk_data...\n",
            "[nltk_data]    |   Unzipping corpora/genesis.zip.\n",
            "[nltk_data]    | Downloading package gutenberg to /root/nltk_data...\n",
            "[nltk_data]    |   Unzipping corpora/gutenberg.zip.\n",
            "[nltk_data]    | Downloading package ieer to /root/nltk_data...\n",
            "[nltk_data]    |   Unzipping corpora/ieer.zip.\n",
            "[nltk_data]    | Downloading package inaugural to /root/nltk_data...\n",
            "[nltk_data]    |   Unzipping corpora/inaugural.zip.\n",
            "[nltk_data]    | Downloading package indian to /root/nltk_data...\n",
            "[nltk_data]    |   Unzipping corpora/indian.zip.\n",
            "[nltk_data]    | Downloading package jeita to /root/nltk_data...\n",
            "[nltk_data]    | Downloading package kimmo to /root/nltk_data...\n",
            "[nltk_data]    |   Unzipping corpora/kimmo.zip.\n",
            "[nltk_data]    | Downloading package knbc to /root/nltk_data...\n",
            "[nltk_data]    | Downloading package large_grammars to\n",
            "[nltk_data]    |     /root/nltk_data...\n",
            "[nltk_data]    |   Unzipping grammars/large_grammars.zip.\n",
            "[nltk_data]    | Downloading package lin_thesaurus to\n",
            "[nltk_data]    |     /root/nltk_data...\n",
            "[nltk_data]    |   Unzipping corpora/lin_thesaurus.zip.\n",
            "[nltk_data]    | Downloading package mac_morpho to /root/nltk_data...\n",
            "[nltk_data]    |   Unzipping corpora/mac_morpho.zip.\n",
            "[nltk_data]    | Downloading package machado to /root/nltk_data...\n",
            "[nltk_data]    | Downloading package masc_tagged to /root/nltk_data...\n",
            "[nltk_data]    | Downloading package maxent_ne_chunker to\n",
            "[nltk_data]    |     /root/nltk_data...\n",
            "[nltk_data]    |   Unzipping chunkers/maxent_ne_chunker.zip.\n",
            "[nltk_data]    | Downloading package maxent_ne_chunker_tab to\n",
            "[nltk_data]    |     /root/nltk_data...\n",
            "[nltk_data]    |   Unzipping chunkers/maxent_ne_chunker_tab.zip.\n",
            "[nltk_data]    | Downloading package maxent_treebank_pos_tagger to\n",
            "[nltk_data]    |     /root/nltk_data...\n",
            "[nltk_data]    |   Unzipping taggers/maxent_treebank_pos_tagger.zip.\n",
            "[nltk_data]    | Downloading package maxent_treebank_pos_tagger_tab to\n",
            "[nltk_data]    |     /root/nltk_data...\n",
            "[nltk_data]    |   Unzipping\n",
            "[nltk_data]    |       taggers/maxent_treebank_pos_tagger_tab.zip.\n",
            "[nltk_data]    | Downloading package moses_sample to\n",
            "[nltk_data]    |     /root/nltk_data...\n",
            "[nltk_data]    |   Unzipping models/moses_sample.zip.\n",
            "[nltk_data]    | Downloading package movie_reviews to\n",
            "[nltk_data]    |     /root/nltk_data...\n",
            "[nltk_data]    |   Unzipping corpora/movie_reviews.zip.\n",
            "[nltk_data]    | Downloading package mte_teip5 to /root/nltk_data...\n",
            "[nltk_data]    |   Unzipping corpora/mte_teip5.zip.\n",
            "[nltk_data]    | Downloading package mwa_ppdb to /root/nltk_data...\n",
            "[nltk_data]    |   Unzipping misc/mwa_ppdb.zip.\n",
            "[nltk_data]    | Downloading package names to /root/nltk_data...\n",
            "[nltk_data]    |   Unzipping corpora/names.zip.\n",
            "[nltk_data]    | Downloading package nombank.1.0 to /root/nltk_data...\n",
            "[nltk_data]    | Downloading package nonbreaking_prefixes to\n",
            "[nltk_data]    |     /root/nltk_data...\n",
            "[nltk_data]    |   Unzipping corpora/nonbreaking_prefixes.zip.\n",
            "[nltk_data]    | Downloading package nps_chat to /root/nltk_data...\n",
            "[nltk_data]    |   Unzipping corpora/nps_chat.zip.\n",
            "[nltk_data]    | Downloading package omw to /root/nltk_data...\n",
            "[nltk_data]    | Downloading package omw-1.4 to /root/nltk_data...\n",
            "[nltk_data]    | Downloading package opinion_lexicon to\n",
            "[nltk_data]    |     /root/nltk_data...\n",
            "[nltk_data]    |   Unzipping corpora/opinion_lexicon.zip.\n",
            "[nltk_data]    | Downloading package panlex_swadesh to\n",
            "[nltk_data]    |     /root/nltk_data...\n",
            "[nltk_data]    | Downloading package paradigms to /root/nltk_data...\n",
            "[nltk_data]    |   Unzipping corpora/paradigms.zip.\n",
            "[nltk_data]    | Downloading package pe08 to /root/nltk_data...\n",
            "[nltk_data]    |   Unzipping corpora/pe08.zip.\n",
            "[nltk_data]    | Downloading package perluniprops to\n",
            "[nltk_data]    |     /root/nltk_data...\n",
            "[nltk_data]    |   Unzipping misc/perluniprops.zip.\n",
            "[nltk_data]    | Downloading package pil to /root/nltk_data...\n",
            "[nltk_data]    |   Unzipping corpora/pil.zip.\n",
            "[nltk_data]    | Downloading package pl196x to /root/nltk_data...\n",
            "[nltk_data]    |   Unzipping corpora/pl196x.zip.\n",
            "[nltk_data]    | Downloading package porter_test to /root/nltk_data...\n",
            "[nltk_data]    |   Unzipping stemmers/porter_test.zip.\n",
            "[nltk_data]    | Downloading package ppattach to /root/nltk_data...\n",
            "[nltk_data]    |   Unzipping corpora/ppattach.zip.\n",
            "[nltk_data]    | Downloading package problem_reports to\n",
            "[nltk_data]    |     /root/nltk_data...\n",
            "[nltk_data]    |   Unzipping corpora/problem_reports.zip.\n",
            "[nltk_data]    | Downloading package product_reviews_1 to\n",
            "[nltk_data]    |     /root/nltk_data...\n",
            "[nltk_data]    |   Unzipping corpora/product_reviews_1.zip.\n",
            "[nltk_data]    | Downloading package product_reviews_2 to\n",
            "[nltk_data]    |     /root/nltk_data...\n",
            "[nltk_data]    |   Unzipping corpora/product_reviews_2.zip.\n",
            "[nltk_data]    | Downloading package propbank to /root/nltk_data...\n",
            "[nltk_data]    | Downloading package pros_cons to /root/nltk_data...\n",
            "[nltk_data]    |   Unzipping corpora/pros_cons.zip.\n",
            "[nltk_data]    | Downloading package ptb to /root/nltk_data...\n",
            "[nltk_data]    |   Unzipping corpora/ptb.zip.\n",
            "[nltk_data]    | Downloading package punkt to /root/nltk_data...\n",
            "[nltk_data]    |   Unzipping tokenizers/punkt.zip.\n",
            "[nltk_data]    | Downloading package punkt_tab to /root/nltk_data...\n",
            "[nltk_data]    |   Unzipping tokenizers/punkt_tab.zip.\n",
            "[nltk_data]    | Downloading package qc to /root/nltk_data...\n",
            "[nltk_data]    |   Unzipping corpora/qc.zip.\n",
            "[nltk_data]    | Downloading package reuters to /root/nltk_data...\n",
            "[nltk_data]    | Downloading package rslp to /root/nltk_data...\n",
            "[nltk_data]    |   Unzipping stemmers/rslp.zip.\n",
            "[nltk_data]    | Downloading package rte to /root/nltk_data...\n",
            "[nltk_data]    |   Unzipping corpora/rte.zip.\n",
            "[nltk_data]    | Downloading package sample_grammars to\n",
            "[nltk_data]    |     /root/nltk_data...\n",
            "[nltk_data]    |   Unzipping grammars/sample_grammars.zip.\n",
            "[nltk_data]    | Downloading package semcor to /root/nltk_data...\n",
            "[nltk_data]    | Downloading package senseval to /root/nltk_data...\n",
            "[nltk_data]    |   Unzipping corpora/senseval.zip.\n",
            "[nltk_data]    | Downloading package sentence_polarity to\n",
            "[nltk_data]    |     /root/nltk_data...\n",
            "[nltk_data]    |   Unzipping corpora/sentence_polarity.zip.\n",
            "[nltk_data]    | Downloading package sentiwordnet to\n",
            "[nltk_data]    |     /root/nltk_data...\n",
            "[nltk_data]    |   Unzipping corpora/sentiwordnet.zip.\n",
            "[nltk_data]    | Downloading package shakespeare to /root/nltk_data...\n",
            "[nltk_data]    |   Unzipping corpora/shakespeare.zip.\n",
            "[nltk_data]    | Downloading package sinica_treebank to\n",
            "[nltk_data]    |     /root/nltk_data...\n",
            "[nltk_data]    |   Unzipping corpora/sinica_treebank.zip.\n",
            "[nltk_data]    | Downloading package smultron to /root/nltk_data...\n",
            "[nltk_data]    |   Unzipping corpora/smultron.zip.\n",
            "[nltk_data]    | Downloading package snowball_data to\n",
            "[nltk_data]    |     /root/nltk_data...\n",
            "[nltk_data]    | Downloading package spanish_grammars to\n",
            "[nltk_data]    |     /root/nltk_data...\n",
            "[nltk_data]    |   Unzipping grammars/spanish_grammars.zip.\n",
            "[nltk_data]    | Downloading package state_union to /root/nltk_data...\n",
            "[nltk_data]    |   Unzipping corpora/state_union.zip.\n",
            "[nltk_data]    | Downloading package stopwords to /root/nltk_data...\n",
            "[nltk_data]    |   Unzipping corpora/stopwords.zip.\n",
            "[nltk_data]    | Downloading package subjectivity to\n",
            "[nltk_data]    |     /root/nltk_data...\n",
            "[nltk_data]    |   Unzipping corpora/subjectivity.zip.\n",
            "[nltk_data]    | Downloading package swadesh to /root/nltk_data...\n",
            "[nltk_data]    |   Unzipping corpora/swadesh.zip.\n",
            "[nltk_data]    | Downloading package switchboard to /root/nltk_data...\n",
            "[nltk_data]    |   Unzipping corpora/switchboard.zip.\n",
            "[nltk_data]    | Downloading package tagsets to /root/nltk_data...\n",
            "[nltk_data]    |   Unzipping help/tagsets.zip.\n",
            "[nltk_data]    | Downloading package tagsets_json to\n",
            "[nltk_data]    |     /root/nltk_data...\n",
            "[nltk_data]    |   Unzipping help/tagsets_json.zip.\n",
            "[nltk_data]    | Downloading package timit to /root/nltk_data...\n",
            "[nltk_data]    |   Unzipping corpora/timit.zip.\n",
            "[nltk_data]    | Downloading package toolbox to /root/nltk_data...\n",
            "[nltk_data]    |   Unzipping corpora/toolbox.zip.\n",
            "[nltk_data]    | Downloading package treebank to /root/nltk_data...\n",
            "[nltk_data]    |   Unzipping corpora/treebank.zip.\n",
            "[nltk_data]    | Downloading package twitter_samples to\n",
            "[nltk_data]    |     /root/nltk_data...\n",
            "[nltk_data]    |   Unzipping corpora/twitter_samples.zip.\n",
            "[nltk_data]    | Downloading package udhr to /root/nltk_data...\n",
            "[nltk_data]    |   Unzipping corpora/udhr.zip.\n",
            "[nltk_data]    | Downloading package udhr2 to /root/nltk_data...\n",
            "[nltk_data]    |   Unzipping corpora/udhr2.zip.\n",
            "[nltk_data]    | Downloading package unicode_samples to\n",
            "[nltk_data]    |     /root/nltk_data...\n",
            "[nltk_data]    |   Unzipping corpora/unicode_samples.zip.\n",
            "[nltk_data]    | Downloading package universal_tagset to\n",
            "[nltk_data]    |     /root/nltk_data...\n",
            "[nltk_data]    |   Unzipping taggers/universal_tagset.zip.\n",
            "[nltk_data]    | Downloading package universal_treebanks_v20 to\n",
            "[nltk_data]    |     /root/nltk_data...\n",
            "[nltk_data]    | Downloading package vader_lexicon to\n",
            "[nltk_data]    |     /root/nltk_data...\n",
            "[nltk_data]    | Downloading package verbnet to /root/nltk_data...\n",
            "[nltk_data]    |   Unzipping corpora/verbnet.zip.\n",
            "[nltk_data]    | Downloading package verbnet3 to /root/nltk_data...\n",
            "[nltk_data]    |   Unzipping corpora/verbnet3.zip.\n",
            "[nltk_data]    | Downloading package webtext to /root/nltk_data...\n",
            "[nltk_data]    |   Unzipping corpora/webtext.zip.\n",
            "[nltk_data]    | Downloading package wmt15_eval to /root/nltk_data...\n",
            "[nltk_data]    |   Unzipping models/wmt15_eval.zip.\n",
            "[nltk_data]    | Downloading package word2vec_sample to\n",
            "[nltk_data]    |     /root/nltk_data...\n",
            "[nltk_data]    |   Unzipping models/word2vec_sample.zip.\n",
            "[nltk_data]    | Downloading package wordnet to /root/nltk_data...\n",
            "[nltk_data]    | Downloading package wordnet2021 to /root/nltk_data...\n",
            "[nltk_data]    | Downloading package wordnet2022 to /root/nltk_data...\n",
            "[nltk_data]    |   Unzipping corpora/wordnet2022.zip.\n",
            "[nltk_data]    | Downloading package wordnet31 to /root/nltk_data...\n",
            "[nltk_data]    | Downloading package wordnet_ic to /root/nltk_data...\n",
            "[nltk_data]    |   Unzipping corpora/wordnet_ic.zip.\n",
            "[nltk_data]    | Downloading package words to /root/nltk_data...\n",
            "[nltk_data]    |   Unzipping corpora/words.zip.\n",
            "[nltk_data]    | Downloading package ycoe to /root/nltk_data...\n",
            "[nltk_data]    |   Unzipping corpora/ycoe.zip.\n",
            "[nltk_data]    | \n",
            "[nltk_data]  Done downloading collection all\n"
          ]
        },
        {
          "output_type": "execute_result",
          "data": {
            "text/plain": [
              "True"
            ]
          },
          "metadata": {},
          "execution_count": 28
        }
      ]
    },
    {
      "cell_type": "code",
      "source": [
        "from nltk.corpus import wordnet as wn\n",
        "\n",
        "term = 'present'\n",
        "\n",
        "# 'present'라는 단어로 wordnet의 synsets 생성.\n",
        "synsets = wn.synsets(term)\n",
        "print('synsets() 반환 type :', type(synsets))\n",
        "print('synsets() 반환 값 갯수:', len(synsets))\n",
        "print('synsets() 반환 값 :', synsets)"
      ],
      "metadata": {
        "colab": {
          "base_uri": "https://localhost:8080/"
        },
        "id": "MukGool3_17G",
        "outputId": "739ec45d-11d2-4efa-95b6-cd32297dcf37"
      },
      "execution_count": 29,
      "outputs": [
        {
          "output_type": "stream",
          "name": "stdout",
          "text": [
            "synsets() 반환 type : <class 'list'>\n",
            "synsets() 반환 값 갯수: 18\n",
            "synsets() 반환 값 : [Synset('present.n.01'), Synset('present.n.02'), Synset('present.n.03'), Synset('show.v.01'), Synset('present.v.02'), Synset('stage.v.01'), Synset('present.v.04'), Synset('present.v.05'), Synset('award.v.01'), Synset('give.v.08'), Synset('deliver.v.01'), Synset('introduce.v.01'), Synset('portray.v.04'), Synset('confront.v.03'), Synset('present.v.12'), Synset('salute.v.06'), Synset('present.a.01'), Synset('present.a.02')]\n"
          ]
        }
      ]
    },
    {
      "cell_type": "code",
      "source": [
        "# synset 객체가 가지는 여러 가지 속성\n",
        "for synset in synsets:\n",
        "  print('##### Synset name : ', synset.name(), '#####')\n",
        "  print('POS :', synset.lexname())\n",
        "  print('Definition :', synset.definition())\n",
        "  print('Lemmas :', synset.lemma_names())"
      ],
      "metadata": {
        "colab": {
          "base_uri": "https://localhost:8080/"
        },
        "id": "DDwObJON_19V",
        "outputId": "f18d9eaa-4f53-4157-ad2c-d41e7b83d160"
      },
      "execution_count": 30,
      "outputs": [
        {
          "output_type": "stream",
          "name": "stdout",
          "text": [
            "##### Synset name :  present.n.01 #####\n",
            "POS : noun.time\n",
            "Definition : the period of time that is happening now; any continuous stretch of time including the moment of speech\n",
            "Lemmas : ['present', 'nowadays']\n",
            "##### Synset name :  present.n.02 #####\n",
            "POS : noun.possession\n",
            "Definition : something presented as a gift\n",
            "Lemmas : ['present']\n",
            "##### Synset name :  present.n.03 #####\n",
            "POS : noun.communication\n",
            "Definition : a verb tense that expresses actions or states at the time of speaking\n",
            "Lemmas : ['present', 'present_tense']\n",
            "##### Synset name :  show.v.01 #####\n",
            "POS : verb.perception\n",
            "Definition : give an exhibition of to an interested audience\n",
            "Lemmas : ['show', 'demo', 'exhibit', 'present', 'demonstrate']\n",
            "##### Synset name :  present.v.02 #####\n",
            "POS : verb.communication\n",
            "Definition : bring forward and present to the mind\n",
            "Lemmas : ['present', 'represent', 'lay_out']\n",
            "##### Synset name :  stage.v.01 #####\n",
            "POS : verb.creation\n",
            "Definition : perform (a play), especially on a stage\n",
            "Lemmas : ['stage', 'present', 'represent']\n",
            "##### Synset name :  present.v.04 #####\n",
            "POS : verb.possession\n",
            "Definition : hand over formally\n",
            "Lemmas : ['present', 'submit']\n",
            "##### Synset name :  present.v.05 #####\n",
            "POS : verb.stative\n",
            "Definition : introduce\n",
            "Lemmas : ['present', 'pose']\n",
            "##### Synset name :  award.v.01 #####\n",
            "POS : verb.possession\n",
            "Definition : give, especially as an honor or reward\n",
            "Lemmas : ['award', 'present']\n",
            "##### Synset name :  give.v.08 #####\n",
            "POS : verb.possession\n",
            "Definition : give as a present; make a gift of\n",
            "Lemmas : ['give', 'gift', 'present']\n",
            "##### Synset name :  deliver.v.01 #####\n",
            "POS : verb.communication\n",
            "Definition : deliver (a speech, oration, or idea)\n",
            "Lemmas : ['deliver', 'present']\n",
            "##### Synset name :  introduce.v.01 #####\n",
            "POS : verb.communication\n",
            "Definition : cause to come to know personally\n",
            "Lemmas : ['introduce', 'present', 'acquaint']\n",
            "##### Synset name :  portray.v.04 #####\n",
            "POS : verb.creation\n",
            "Definition : represent abstractly, for example in a painting, drawing, or sculpture\n",
            "Lemmas : ['portray', 'present']\n",
            "##### Synset name :  confront.v.03 #####\n",
            "POS : verb.communication\n",
            "Definition : present somebody with something, usually to accuse or criticize\n",
            "Lemmas : ['confront', 'face', 'present']\n",
            "##### Synset name :  present.v.12 #####\n",
            "POS : verb.communication\n",
            "Definition : formally present a debutante, a representative of a country, etc.\n",
            "Lemmas : ['present']\n",
            "##### Synset name :  salute.v.06 #####\n",
            "POS : verb.communication\n",
            "Definition : recognize with a gesture prescribed by a military regulation; assume a prescribed position\n",
            "Lemmas : ['salute', 'present']\n",
            "##### Synset name :  present.a.01 #####\n",
            "POS : adj.all\n",
            "Definition : temporal sense; intermediate between past and future; now existing or happening or in consideration\n",
            "Lemmas : ['present']\n",
            "##### Synset name :  present.a.02 #####\n",
            "POS : adj.all\n",
            "Definition : being or existing in a specified place\n",
            "Lemmas : ['present']\n"
          ]
        }
      ]
    },
    {
      "cell_type": "code",
      "source": [
        "# synset 객체를 단어별로 생성합니다.\n",
        "tree = wn.synset('tree.n.01')\n",
        "lion = wn.synset('lion.n.01')\n",
        "tiger = wn.synset('tiger.n.02')\n",
        "cat = wn.synset('cat.n.01')\n",
        "dog = wn.synset('dog.n.01')\n",
        "\n",
        "entities = [tree, lion, tiger, cat, dog]\n",
        "similarities = []\n",
        "entity_names = [entity.name().split('.')[0] for entity in entities]\n",
        "\n",
        "# 단어별 synset을 반복하면서 다른 단어의 synset과 유사도를 측정한다.\n",
        "for entity in entities:\n",
        "  similarity = [round(entity.path_similarity(compared_entity), 2) for compared_entity in entities]\n",
        "  similarities.append(similarity)\n",
        "\n",
        "# 개별 단어별 synset과 다른 단어의 synset과의 유사도를 DataFrame 형태로 저장한다.\n",
        "similarity_df = pd.DataFrame(similarities, columns=entity_names, index=entity_names)\n",
        "similarity_df"
      ],
      "metadata": {
        "colab": {
          "base_uri": "https://localhost:8080/",
          "height": 206
        },
        "id": "HL9HmAVQqviS",
        "outputId": "8722de4e-9044-4eab-d783-a6723f3deb38"
      },
      "execution_count": 31,
      "outputs": [
        {
          "output_type": "execute_result",
          "data": {
            "text/plain": [
              "       tree  lion  tiger   cat   dog\n",
              "tree   1.00  0.07   0.07  0.08  0.12\n",
              "lion   0.07  1.00   0.33  0.25  0.17\n",
              "tiger  0.07  0.33   1.00  0.25  0.17\n",
              "cat    0.08  0.25   0.25  1.00  0.20\n",
              "dog    0.12  0.17   0.17  0.20  1.00"
            ],
            "text/html": [
              "\n",
              "  <div id=\"df-8401862f-68dd-4de8-bc17-98ec8457d281\" class=\"colab-df-container\">\n",
              "    <div>\n",
              "<style scoped>\n",
              "    .dataframe tbody tr th:only-of-type {\n",
              "        vertical-align: middle;\n",
              "    }\n",
              "\n",
              "    .dataframe tbody tr th {\n",
              "        vertical-align: top;\n",
              "    }\n",
              "\n",
              "    .dataframe thead th {\n",
              "        text-align: right;\n",
              "    }\n",
              "</style>\n",
              "<table border=\"1\" class=\"dataframe\">\n",
              "  <thead>\n",
              "    <tr style=\"text-align: right;\">\n",
              "      <th></th>\n",
              "      <th>tree</th>\n",
              "      <th>lion</th>\n",
              "      <th>tiger</th>\n",
              "      <th>cat</th>\n",
              "      <th>dog</th>\n",
              "    </tr>\n",
              "  </thead>\n",
              "  <tbody>\n",
              "    <tr>\n",
              "      <th>tree</th>\n",
              "      <td>1.00</td>\n",
              "      <td>0.07</td>\n",
              "      <td>0.07</td>\n",
              "      <td>0.08</td>\n",
              "      <td>0.12</td>\n",
              "    </tr>\n",
              "    <tr>\n",
              "      <th>lion</th>\n",
              "      <td>0.07</td>\n",
              "      <td>1.00</td>\n",
              "      <td>0.33</td>\n",
              "      <td>0.25</td>\n",
              "      <td>0.17</td>\n",
              "    </tr>\n",
              "    <tr>\n",
              "      <th>tiger</th>\n",
              "      <td>0.07</td>\n",
              "      <td>0.33</td>\n",
              "      <td>1.00</td>\n",
              "      <td>0.25</td>\n",
              "      <td>0.17</td>\n",
              "    </tr>\n",
              "    <tr>\n",
              "      <th>cat</th>\n",
              "      <td>0.08</td>\n",
              "      <td>0.25</td>\n",
              "      <td>0.25</td>\n",
              "      <td>1.00</td>\n",
              "      <td>0.20</td>\n",
              "    </tr>\n",
              "    <tr>\n",
              "      <th>dog</th>\n",
              "      <td>0.12</td>\n",
              "      <td>0.17</td>\n",
              "      <td>0.17</td>\n",
              "      <td>0.20</td>\n",
              "      <td>1.00</td>\n",
              "    </tr>\n",
              "  </tbody>\n",
              "</table>\n",
              "</div>\n",
              "    <div class=\"colab-df-buttons\">\n",
              "\n",
              "  <div class=\"colab-df-container\">\n",
              "    <button class=\"colab-df-convert\" onclick=\"convertToInteractive('df-8401862f-68dd-4de8-bc17-98ec8457d281')\"\n",
              "            title=\"Convert this dataframe to an interactive table.\"\n",
              "            style=\"display:none;\">\n",
              "\n",
              "  <svg xmlns=\"http://www.w3.org/2000/svg\" height=\"24px\" viewBox=\"0 -960 960 960\">\n",
              "    <path d=\"M120-120v-720h720v720H120Zm60-500h600v-160H180v160Zm220 220h160v-160H400v160Zm0 220h160v-160H400v160ZM180-400h160v-160H180v160Zm440 0h160v-160H620v160ZM180-180h160v-160H180v160Zm440 0h160v-160H620v160Z\"/>\n",
              "  </svg>\n",
              "    </button>\n",
              "\n",
              "  <style>\n",
              "    .colab-df-container {\n",
              "      display:flex;\n",
              "      gap: 12px;\n",
              "    }\n",
              "\n",
              "    .colab-df-convert {\n",
              "      background-color: #E8F0FE;\n",
              "      border: none;\n",
              "      border-radius: 50%;\n",
              "      cursor: pointer;\n",
              "      display: none;\n",
              "      fill: #1967D2;\n",
              "      height: 32px;\n",
              "      padding: 0 0 0 0;\n",
              "      width: 32px;\n",
              "    }\n",
              "\n",
              "    .colab-df-convert:hover {\n",
              "      background-color: #E2EBFA;\n",
              "      box-shadow: 0px 1px 2px rgba(60, 64, 67, 0.3), 0px 1px 3px 1px rgba(60, 64, 67, 0.15);\n",
              "      fill: #174EA6;\n",
              "    }\n",
              "\n",
              "    .colab-df-buttons div {\n",
              "      margin-bottom: 4px;\n",
              "    }\n",
              "\n",
              "    [theme=dark] .colab-df-convert {\n",
              "      background-color: #3B4455;\n",
              "      fill: #D2E3FC;\n",
              "    }\n",
              "\n",
              "    [theme=dark] .colab-df-convert:hover {\n",
              "      background-color: #434B5C;\n",
              "      box-shadow: 0px 1px 3px 1px rgba(0, 0, 0, 0.15);\n",
              "      filter: drop-shadow(0px 1px 2px rgba(0, 0, 0, 0.3));\n",
              "      fill: #FFFFFF;\n",
              "    }\n",
              "  </style>\n",
              "\n",
              "    <script>\n",
              "      const buttonEl =\n",
              "        document.querySelector('#df-8401862f-68dd-4de8-bc17-98ec8457d281 button.colab-df-convert');\n",
              "      buttonEl.style.display =\n",
              "        google.colab.kernel.accessAllowed ? 'block' : 'none';\n",
              "\n",
              "      async function convertToInteractive(key) {\n",
              "        const element = document.querySelector('#df-8401862f-68dd-4de8-bc17-98ec8457d281');\n",
              "        const dataTable =\n",
              "          await google.colab.kernel.invokeFunction('convertToInteractive',\n",
              "                                                    [key], {});\n",
              "        if (!dataTable) return;\n",
              "\n",
              "        const docLinkHtml = 'Like what you see? Visit the ' +\n",
              "          '<a target=\"_blank\" href=https://colab.research.google.com/notebooks/data_table.ipynb>data table notebook</a>'\n",
              "          + ' to learn more about interactive tables.';\n",
              "        element.innerHTML = '';\n",
              "        dataTable['output_type'] = 'display_data';\n",
              "        await google.colab.output.renderOutput(dataTable, element);\n",
              "        const docLink = document.createElement('div');\n",
              "        docLink.innerHTML = docLinkHtml;\n",
              "        element.appendChild(docLink);\n",
              "      }\n",
              "    </script>\n",
              "  </div>\n",
              "\n",
              "\n",
              "<div id=\"df-df11c9e0-8f5f-49a1-a4fd-1f571656c856\">\n",
              "  <button class=\"colab-df-quickchart\" onclick=\"quickchart('df-df11c9e0-8f5f-49a1-a4fd-1f571656c856')\"\n",
              "            title=\"Suggest charts\"\n",
              "            style=\"display:none;\">\n",
              "\n",
              "<svg xmlns=\"http://www.w3.org/2000/svg\" height=\"24px\"viewBox=\"0 0 24 24\"\n",
              "     width=\"24px\">\n",
              "    <g>\n",
              "        <path d=\"M19 3H5c-1.1 0-2 .9-2 2v14c0 1.1.9 2 2 2h14c1.1 0 2-.9 2-2V5c0-1.1-.9-2-2-2zM9 17H7v-7h2v7zm4 0h-2V7h2v10zm4 0h-2v-4h2v4z\"/>\n",
              "    </g>\n",
              "</svg>\n",
              "  </button>\n",
              "\n",
              "<style>\n",
              "  .colab-df-quickchart {\n",
              "      --bg-color: #E8F0FE;\n",
              "      --fill-color: #1967D2;\n",
              "      --hover-bg-color: #E2EBFA;\n",
              "      --hover-fill-color: #174EA6;\n",
              "      --disabled-fill-color: #AAA;\n",
              "      --disabled-bg-color: #DDD;\n",
              "  }\n",
              "\n",
              "  [theme=dark] .colab-df-quickchart {\n",
              "      --bg-color: #3B4455;\n",
              "      --fill-color: #D2E3FC;\n",
              "      --hover-bg-color: #434B5C;\n",
              "      --hover-fill-color: #FFFFFF;\n",
              "      --disabled-bg-color: #3B4455;\n",
              "      --disabled-fill-color: #666;\n",
              "  }\n",
              "\n",
              "  .colab-df-quickchart {\n",
              "    background-color: var(--bg-color);\n",
              "    border: none;\n",
              "    border-radius: 50%;\n",
              "    cursor: pointer;\n",
              "    display: none;\n",
              "    fill: var(--fill-color);\n",
              "    height: 32px;\n",
              "    padding: 0;\n",
              "    width: 32px;\n",
              "  }\n",
              "\n",
              "  .colab-df-quickchart:hover {\n",
              "    background-color: var(--hover-bg-color);\n",
              "    box-shadow: 0 1px 2px rgba(60, 64, 67, 0.3), 0 1px 3px 1px rgba(60, 64, 67, 0.15);\n",
              "    fill: var(--button-hover-fill-color);\n",
              "  }\n",
              "\n",
              "  .colab-df-quickchart-complete:disabled,\n",
              "  .colab-df-quickchart-complete:disabled:hover {\n",
              "    background-color: var(--disabled-bg-color);\n",
              "    fill: var(--disabled-fill-color);\n",
              "    box-shadow: none;\n",
              "  }\n",
              "\n",
              "  .colab-df-spinner {\n",
              "    border: 2px solid var(--fill-color);\n",
              "    border-color: transparent;\n",
              "    border-bottom-color: var(--fill-color);\n",
              "    animation:\n",
              "      spin 1s steps(1) infinite;\n",
              "  }\n",
              "\n",
              "  @keyframes spin {\n",
              "    0% {\n",
              "      border-color: transparent;\n",
              "      border-bottom-color: var(--fill-color);\n",
              "      border-left-color: var(--fill-color);\n",
              "    }\n",
              "    20% {\n",
              "      border-color: transparent;\n",
              "      border-left-color: var(--fill-color);\n",
              "      border-top-color: var(--fill-color);\n",
              "    }\n",
              "    30% {\n",
              "      border-color: transparent;\n",
              "      border-left-color: var(--fill-color);\n",
              "      border-top-color: var(--fill-color);\n",
              "      border-right-color: var(--fill-color);\n",
              "    }\n",
              "    40% {\n",
              "      border-color: transparent;\n",
              "      border-right-color: var(--fill-color);\n",
              "      border-top-color: var(--fill-color);\n",
              "    }\n",
              "    60% {\n",
              "      border-color: transparent;\n",
              "      border-right-color: var(--fill-color);\n",
              "    }\n",
              "    80% {\n",
              "      border-color: transparent;\n",
              "      border-right-color: var(--fill-color);\n",
              "      border-bottom-color: var(--fill-color);\n",
              "    }\n",
              "    90% {\n",
              "      border-color: transparent;\n",
              "      border-bottom-color: var(--fill-color);\n",
              "    }\n",
              "  }\n",
              "</style>\n",
              "\n",
              "  <script>\n",
              "    async function quickchart(key) {\n",
              "      const quickchartButtonEl =\n",
              "        document.querySelector('#' + key + ' button');\n",
              "      quickchartButtonEl.disabled = true;  // To prevent multiple clicks.\n",
              "      quickchartButtonEl.classList.add('colab-df-spinner');\n",
              "      try {\n",
              "        const charts = await google.colab.kernel.invokeFunction(\n",
              "            'suggestCharts', [key], {});\n",
              "      } catch (error) {\n",
              "        console.error('Error during call to suggestCharts:', error);\n",
              "      }\n",
              "      quickchartButtonEl.classList.remove('colab-df-spinner');\n",
              "      quickchartButtonEl.classList.add('colab-df-quickchart-complete');\n",
              "    }\n",
              "    (() => {\n",
              "      let quickchartButtonEl =\n",
              "        document.querySelector('#df-df11c9e0-8f5f-49a1-a4fd-1f571656c856 button');\n",
              "      quickchartButtonEl.style.display =\n",
              "        google.colab.kernel.accessAllowed ? 'block' : 'none';\n",
              "    })();\n",
              "  </script>\n",
              "</div>\n",
              "\n",
              "  <div id=\"id_7db2463a-3d1c-4f18-a111-7274e6abd4ec\">\n",
              "    <style>\n",
              "      .colab-df-generate {\n",
              "        background-color: #E8F0FE;\n",
              "        border: none;\n",
              "        border-radius: 50%;\n",
              "        cursor: pointer;\n",
              "        display: none;\n",
              "        fill: #1967D2;\n",
              "        height: 32px;\n",
              "        padding: 0 0 0 0;\n",
              "        width: 32px;\n",
              "      }\n",
              "\n",
              "      .colab-df-generate:hover {\n",
              "        background-color: #E2EBFA;\n",
              "        box-shadow: 0px 1px 2px rgba(60, 64, 67, 0.3), 0px 1px 3px 1px rgba(60, 64, 67, 0.15);\n",
              "        fill: #174EA6;\n",
              "      }\n",
              "\n",
              "      [theme=dark] .colab-df-generate {\n",
              "        background-color: #3B4455;\n",
              "        fill: #D2E3FC;\n",
              "      }\n",
              "\n",
              "      [theme=dark] .colab-df-generate:hover {\n",
              "        background-color: #434B5C;\n",
              "        box-shadow: 0px 1px 3px 1px rgba(0, 0, 0, 0.15);\n",
              "        filter: drop-shadow(0px 1px 2px rgba(0, 0, 0, 0.3));\n",
              "        fill: #FFFFFF;\n",
              "      }\n",
              "    </style>\n",
              "    <button class=\"colab-df-generate\" onclick=\"generateWithVariable('similarity_df')\"\n",
              "            title=\"Generate code using this dataframe.\"\n",
              "            style=\"display:none;\">\n",
              "\n",
              "  <svg xmlns=\"http://www.w3.org/2000/svg\" height=\"24px\"viewBox=\"0 0 24 24\"\n",
              "       width=\"24px\">\n",
              "    <path d=\"M7,19H8.4L18.45,9,17,7.55,7,17.6ZM5,21V16.75L18.45,3.32a2,2,0,0,1,2.83,0l1.4,1.43a1.91,1.91,0,0,1,.58,1.4,1.91,1.91,0,0,1-.58,1.4L9.25,21ZM18.45,9,17,7.55Zm-12,3A5.31,5.31,0,0,0,4.9,8.1,5.31,5.31,0,0,0,1,6.5,5.31,5.31,0,0,0,4.9,4.9,5.31,5.31,0,0,0,6.5,1,5.31,5.31,0,0,0,8.1,4.9,5.31,5.31,0,0,0,12,6.5,5.46,5.46,0,0,0,6.5,12Z\"/>\n",
              "  </svg>\n",
              "    </button>\n",
              "    <script>\n",
              "      (() => {\n",
              "      const buttonEl =\n",
              "        document.querySelector('#id_7db2463a-3d1c-4f18-a111-7274e6abd4ec button.colab-df-generate');\n",
              "      buttonEl.style.display =\n",
              "        google.colab.kernel.accessAllowed ? 'block' : 'none';\n",
              "\n",
              "      buttonEl.onclick = () => {\n",
              "        google.colab.notebook.generateWithVariable('similarity_df');\n",
              "      }\n",
              "      })();\n",
              "    </script>\n",
              "  </div>\n",
              "\n",
              "    </div>\n",
              "  </div>\n"
            ],
            "application/vnd.google.colaboratory.intrinsic+json": {
              "type": "dataframe",
              "variable_name": "similarity_df",
              "summary": "{\n  \"name\": \"similarity_df\",\n  \"rows\": 5,\n  \"fields\": [\n    {\n      \"column\": \"tree\",\n      \"properties\": {\n        \"dtype\": \"number\",\n        \"std\": 0.40971941618624813,\n        \"min\": 0.07,\n        \"max\": 1.0,\n        \"num_unique_values\": 4,\n        \"samples\": [\n          0.07,\n          0.12,\n          1.0\n        ],\n        \"semantic_type\": \"\",\n        \"description\": \"\"\n      }\n    },\n    {\n      \"column\": \"lion\",\n      \"properties\": {\n        \"dtype\": \"number\",\n        \"std\": 0.3683476618630828,\n        \"min\": 0.07,\n        \"max\": 1.0,\n        \"num_unique_values\": 5,\n        \"samples\": [\n          1.0,\n          0.17,\n          0.33\n        ],\n        \"semantic_type\": \"\",\n        \"description\": \"\"\n      }\n    },\n    {\n      \"column\": \"tiger\",\n      \"properties\": {\n        \"dtype\": \"number\",\n        \"std\": 0.3683476618630828,\n        \"min\": 0.07,\n        \"max\": 1.0,\n        \"num_unique_values\": 5,\n        \"samples\": [\n          0.33,\n          0.17,\n          1.0\n        ],\n        \"semantic_type\": \"\",\n        \"description\": \"\"\n      }\n    },\n    {\n      \"column\": \"cat\",\n      \"properties\": {\n        \"dtype\": \"number\",\n        \"std\": 0.36664696916789047,\n        \"min\": 0.08,\n        \"max\": 1.0,\n        \"num_unique_values\": 4,\n        \"samples\": [\n          0.25,\n          0.2,\n          0.08\n        ],\n        \"semantic_type\": \"\",\n        \"description\": \"\"\n      }\n    },\n    {\n      \"column\": \"dog\",\n      \"properties\": {\n        \"dtype\": \"number\",\n        \"std\": 0.3745263675630862,\n        \"min\": 0.12,\n        \"max\": 1.0,\n        \"num_unique_values\": 4,\n        \"samples\": [\n          0.17,\n          1.0,\n          0.12\n        ],\n        \"semantic_type\": \"\",\n        \"description\": \"\"\n      }\n    }\n  ]\n}"
            }
          },
          "metadata": {},
          "execution_count": 31
        }
      ]
    },
    {
      "cell_type": "code",
      "source": [
        "import nltk\n",
        "from nltk.corpus import sentiwordnet as swn\n",
        "\n",
        "senti_synsets = list(swn.senti_synsets('slow'))\n",
        "print('senti_synsets() 반환 type :', type(senti_synsets))\n",
        "print('senti_synsets() 반환 값 갯수:', len(senti_synsets))\n",
        "print('senti_synsets() 반환 값 :', senti_synsets)"
      ],
      "metadata": {
        "colab": {
          "base_uri": "https://localhost:8080/"
        },
        "id": "ZryfQYjBBI0W",
        "outputId": "4af0b725-086d-4843-db1e-a97d1853bc8a"
      },
      "execution_count": 32,
      "outputs": [
        {
          "output_type": "stream",
          "name": "stdout",
          "text": [
            "senti_synsets() 반환 type : <class 'list'>\n",
            "senti_synsets() 반환 값 갯수: 11\n",
            "senti_synsets() 반환 값 : [SentiSynset('decelerate.v.01'), SentiSynset('slow.v.02'), SentiSynset('slow.v.03'), SentiSynset('slow.a.01'), SentiSynset('slow.a.02'), SentiSynset('dense.s.04'), SentiSynset('slow.a.04'), SentiSynset('boring.s.01'), SentiSynset('dull.s.08'), SentiSynset('slowly.r.01'), SentiSynset('behind.r.03')]\n"
          ]
        }
      ]
    },
    {
      "cell_type": "code",
      "source": [
        "# father(아버지)라는 단어와 fabulous(아주 멋진)라는 두 개 단어의 감성 지수와 객관성 지수\n",
        "import nltk\n",
        "from nltk.corpus import sentiwordnet as swn\n",
        "\n",
        "father = swn.senti_synset('father.n.01')\n",
        "print('father 긍정감성 지수: ', father.pos_score())\n",
        "print('father 부정감성 지수: ', father.neg_score())\n",
        "print('father 객관성 지수: ', father.obj_score())\n",
        "print('\\n')\n",
        "fabulous = swn.senti_synset('fabulous.a.01')\n",
        "print('fabulous 긍정감성 지수: ', fabulous.pos_score())\n",
        "print('fabulous 부정감성 지수: ', fabulous.neg_score())"
      ],
      "metadata": {
        "colab": {
          "base_uri": "https://localhost:8080/"
        },
        "id": "3C_E5az8BI2u",
        "outputId": "789b28ed-5151-4891-d952-7e3aca292b10"
      },
      "execution_count": 33,
      "outputs": [
        {
          "output_type": "stream",
          "name": "stdout",
          "text": [
            "father 긍정감성 지수:  0.0\n",
            "father 부정감성 지수:  0.0\n",
            "father 객관성 지수:  1.0\n",
            "\n",
            "\n",
            "fabulous 긍정감성 지수:  0.875\n",
            "fabulous 부정감성 지수:  0.125\n"
          ]
        }
      ]
    },
    {
      "cell_type": "markdown",
      "source": [
        "**SentiWordNet을 이용한 영화 감상평 감성 분석**\n",
        "1.  문서(Document)를 문장(Sentence) 단위로 분해\n",
        "2.  다시 문장을 단어(Word) 단위로 토큰화하고 품사 태깅\n",
        "3. 품사 태깅된 단어 기반으로 synset 객체와 senti_synset 객체를 생성\n",
        "4. senti_synset 객체에서 긍정 감성/부정 감성 지수를 구하고 이를 모두 합산해 특정 임계치 값 이상일 때 긍정 감성으로, 그렇지 않을 때는 부정 감성으로 결정\n"
      ],
      "metadata": {
        "id": "WTBdIRmdC1PW"
      }
    },
    {
      "cell_type": "code",
      "source": [
        "from nltk.corpus import wordnet as wn\n",
        "\n",
        "# 간단한 NLTK PennTreebank Tag를 기반으로 WordNet 기반의 품사 Tag로 변환\n",
        "def penn_to_wn(tag):\n",
        "  if tag.startswith('J'):\n",
        "    return wn.ADJ\n",
        "  elif tag.startswith('N'):\n",
        "    return wn.NOUN\n",
        "  elif tag.startswith('R'):\n",
        "    return wn.ADV\n",
        "  elif tag.startswith('V'):\n",
        "    return wn.VERB"
      ],
      "metadata": {
        "id": "s31ns599BI7G"
      },
      "execution_count": 34,
      "outputs": []
    },
    {
      "cell_type": "code",
      "source": [
        "from nltk.stem import WordNetLemmatizer\n",
        "from nltk.corpus import sentiwordnet as swn\n",
        "from nltk import sent_tokenize, word_tokenize, pos_tag\n",
        "\n",
        "def swn_polarity(text):\n",
        "  # 감성 지수 초기화\n",
        "  sentiment = 0.0\n",
        "  tokens_count = 0\n",
        "\n",
        "  lemmatizer = WordNetLemmatizer()\n",
        "  raw_sentences = sent_tokenize(text)\n",
        "  # 분해된 문장별로 단어 토큰 -> 품사 태깅 후에 SentiSynset 생성 -> 감성 지수 합산\n",
        "  for raw_sentence in raw_sentences:\n",
        "    # NTLK 기반의 품사 태깅 문장 추출\n",
        "    tagged_sentence = pos_tag(word_tokenize(raw_sentence))\n",
        "    for word, tag in tagged_sentence:\n",
        "\n",
        "      # WordNet 기반 품사 태깅과 어근 추출\n",
        "      wn_tag = penn_to_wn(tag)\n",
        "      if wn_tag not in (wn.NOUN, wn.ADJ, wn.ADV):\n",
        "        continue\n",
        "      lemma = lemmatizer.lemmatize(word, pos=wn_tag)\n",
        "      if not lemma:\n",
        "        continue\n",
        "      # 어근을 추출한 단어의 WordNet 기반 품사 태깅을 입력해 Synset 객체를 생성.\n",
        "      synsets = wn.synsets(lemma, pos=wn_tag)\n",
        "      if not synsets:\n",
        "        continue\n",
        "      # sentiwordnet의 감성 단어 분석으로 감성 synset 추출\n",
        "      # 모든 단어에 대해 긍정 감성 지수는 +로 부정 감성 지수는 -로 합산해 감성 지수 계산.\n",
        "      synset = synsets[0]\n",
        "      swn_synset = swn.senti_synset(synset.name())\n",
        "      sentiment += (swn_synset.pos_score() - swn_synset.neg_score())\n",
        "      tokens_count += 1\n",
        "\n",
        "  if not tokens_count:\n",
        "    return 0\n",
        "\n",
        "  # 총 score가 0 이상일 경우 긍정(Positive) 1, 그렇지 않을 경우 부정(Negative) 0 반환\n",
        "  if sentiment >= 0:\n",
        "    return 1\n",
        "\n",
        "  return 0"
      ],
      "metadata": {
        "id": "4PsEtpWsBMwh"
      },
      "execution_count": 35,
      "outputs": []
    },
    {
      "cell_type": "code",
      "source": [
        "# swn_polarity(text) 함수를 IMDB 감상평의 개별 문서에 적용해 긍정 및 부정 감성을 예측\n",
        "review_df['preds'] = review_df['review'].apply(lambda x: swn_polarity(x))\n",
        "y_target = review_df['sentiment'].values\n",
        "preds = review_df['preds'].values"
      ],
      "metadata": {
        "id": "EM1G3OPnBMy0"
      },
      "execution_count": 36,
      "outputs": []
    },
    {
      "cell_type": "code",
      "source": [
        "# SentiWordNet의 감성 분석 예측 성능\n",
        "from sklearn.metrics import accuracy_score, confusion_matrix, precision_score\n",
        "from sklearn.metrics import recall_score, f1_score, roc_auc_score\n",
        "import numpy as np\n",
        "\n",
        "print(confusion_matrix(y_target, preds))\n",
        "print(\"정확도 : \", np.round(accuracy_score(y_target, preds), 4))\n",
        "print(\"정밀도: \", np.round(precision_score(y_target, preds), 4))\n",
        "print(\"재현율: \", np.round(recall_score(y_target, preds), 4))"
      ],
      "metadata": {
        "colab": {
          "base_uri": "https://localhost:8080/"
        },
        "id": "cJccdikxBR6t",
        "outputId": "b224b018-4a41-4ea3-b8bb-9cfbe6b122fe"
      },
      "execution_count": 37,
      "outputs": [
        {
          "output_type": "stream",
          "name": "stdout",
          "text": [
            "[[7669 4831]\n",
            " [3635 8865]]\n",
            "정확도 :  0.6614\n",
            "정밀도:  0.6473\n",
            "재현율:  0.7092\n"
          ]
        }
      ]
    },
    {
      "cell_type": "markdown",
      "source": [
        "### VADER를 이용한 감성 분석\n"
      ],
      "metadata": {
        "id": "xbaz9hxJqvpq"
      }
    },
    {
      "cell_type": "code",
      "source": [
        "# NLTK 서브 모듈로 SentimentlntensityAnalyzer를 임포트하고 간략하게 IMDB의 감상평 한 개만 감성 분석을 수행\n",
        "from nltk.sentiment.vader import SentimentIntensityAnalyzer\n",
        "\n",
        "senti_analyzer = SentimentIntensityAnalyzer()\n",
        "senti_scores = senti_analyzer.polarity_scores(review_df['review'][0])\n",
        "print(senti_scores)"
      ],
      "metadata": {
        "colab": {
          "base_uri": "https://localhost:8080/"
        },
        "id": "aHHDrYX6qvxn",
        "outputId": "664424fc-1343-43e0-8990-a0d15c28b036"
      },
      "execution_count": 38,
      "outputs": [
        {
          "output_type": "stream",
          "name": "stdout",
          "text": [
            "{'neg': 0.13, 'neu': 0.743, 'pos': 0.127, 'compound': -0.7943}\n"
          ]
        }
      ]
    },
    {
      "cell_type": "code",
      "source": [
        "# VADER를 이용해 IMDB의 감성 분석을 수행\n",
        "def vader_polarity(review, threshold=0.1):\n",
        "  analyzer = SentimentIntensityAnalyzer()\n",
        "  scores = analyzer.polarity_scores(review)\n",
        "\n",
        "  # compound 값에 기반해 threshold 입력값보다 크면 1, 그렇지 않으면 0을 반환\n",
        "  agg_score = scores['compound']\n",
        "  final_sentiment = 1 if agg_score >= threshold else 0\n",
        "  return final_sentiment\n",
        "\n",
        "# apply lambda 식을 이용해 레코드별로 vader_polarity()를 수행하고 결과를 'vader_preds'에 저장\n",
        "review_df['vader_preds'] = review_df['review'].apply(lambda x: vader_polarity(x, 0.1))\n",
        "y_target = review_df['sentiment'].values\n",
        "vader_preds = review_df['vader_preds'].values\n",
        "\n",
        "print(confusion_matrix(y_target, vader_preds))\n",
        "print(\"정확도:\", np.round(accuracy_score(y_target, vader_preds), 4))\n",
        "print(\"정밀도:\", np.round(precision_score(y_target, vader_preds), 4))\n",
        "print(\"재현율:\", np.round(recall_score(y_target, vader_preds), 4))"
      ],
      "metadata": {
        "colab": {
          "base_uri": "https://localhost:8080/"
        },
        "id": "lXFtmkhRBV01",
        "outputId": "40d4c063-eb27-42c4-8896-16481e82a8cd"
      },
      "execution_count": 39,
      "outputs": [
        {
          "output_type": "stream",
          "name": "stdout",
          "text": [
            "[[ 6747  5753]\n",
            " [ 1858 10642]]\n",
            "정확도: 0.6956\n",
            "정밀도: 0.6491\n",
            "재현율: 0.8514\n"
          ]
        }
      ]
    },
    {
      "cell_type": "markdown",
      "source": [
        "![image.png](data:image/png;base64,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)"
      ],
      "metadata": {
        "id": "yNRSBAMODYQj"
      }
    }
  ]
}