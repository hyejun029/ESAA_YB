{
  "nbformat": 4,
  "nbformat_minor": 0,
  "metadata": {
    "colab": {
      "provenance": []
    },
    "kernelspec": {
      "name": "python3",
      "display_name": "Python 3"
    },
    "language_info": {
      "name": "python"
    }
  },
  "cells": [
    {
      "cell_type": "markdown",
      "source": [
        " 파이썬 <머신러닝 완벽 가이드 개정 2판> 8장 p.534 - 538, p.550 - 565\n",
        "\n",
        " # CHAPTER 08. 텍스트 분류\n",
        "---\n",
        "## 08-06. 토픽 모델링(Topic Modeling) - 20 뉴스 그룹\n",
        "\n",
        "   \n",
        "## 08-08. 문서 유사도\n",
        "- 문서 유사도 측정 방법 - 코사인 유사도\n",
        "- 두 벡터 사잇각\n",
        "- Opinion Review 데이터 세트를 이용한 문서 유사도 측정\n",
        "- VADER를 이용한 감성 분석\n",
        "\n",
        "## 08-09. 한글 텍스트 처리 - 네이버 영화 평점 감정 분석\n",
        "- 한글 NLP 처리의 어려움\n",
        "- KoNLPy 소개\n",
        "- 데이터 로딩\n",
        "\n",
        "---"
      ],
      "metadata": {
        "id": "hEjMK8UlWV_n"
      }
    },
    {
      "cell_type": "markdown",
      "source": [
        "## 08-06. 토픽 모델링(Topic Modeling) - 20 뉴스 그룹\n",
        "\n",
        "[정의]\n",
        "- 토픽 모델링(Topic Modeling): 문서 집합에 숨어있는 주제를 찾아내는 것\n",
        "\n",
        "[특징]\n",
        "- 머신러닝 기반의 토픽 모델은 숨겨진 주제를 효과적으로 표현할 수 있는 중심 단어를 함축적으로 추출\n",
        "- 머신러닝 기반의 토픽 모델링에 자주 사용되는 기법\n",
        "   - LSA(Latent Semantic Analysis)\n",
        "   - LDA(Latent Dirichlet Allocation)"
      ],
      "metadata": {
        "id": "IEj0qitwWX8m"
      }
    },
    {
      "cell_type": "code",
      "source": [
        "from sklearn.datasets import fetch_20newsgroups\n",
        "from sklearn.feature_extraction.text import CountVectorizer\n",
        "from sklearn.decomposition import LatentDirichletAllocation\n",
        "\n",
        "# 모터사이클, 야구, 그래픽스, 윈도우즈, 중동, 기독교, 전자공학, 의학 8개의 주제를 추출\n",
        "cats = ['rec.motorcycles', 'rec.sport.baseball', 'comp.graphics', 'comp.windows.x',\n",
        "        'talk.politics.mideast', 'soc.religion.christian', 'sci.electronics', 'sci.med']\n",
        "\n",
        "# 위에서 cats 변수로 기재된 카테고리만 추출. fetch_20newsgroups()의 categories에 cats 입력\n",
        "news_df = fetch_20newsgroups(subset='all', remove=('headers', 'footers', 'quotes'),\n",
        "                             categories=cats, random_state=0)\n",
        "\n",
        "# LDA는 Count 기반의 벡터화만 적용합니다.\n",
        "count_vect = CountVectorizer(max_df=0.95, max_features=1000, min_df=2, stop_words='english',\n",
        "                             ngram_range=(1,2))\n",
        "feat_vect = count_vect.fit_transform(news_df.data)\n",
        "print('CountVectorizer Shape:', feat_vect.shape)"
      ],
      "metadata": {
        "colab": {
          "base_uri": "https://localhost:8080/"
        },
        "id": "F8CVDwcbg2ts",
        "outputId": "e221014e-f846-490f-a151-65ffeaa63063"
      },
      "execution_count": 3,
      "outputs": [
        {
          "output_type": "stream",
          "name": "stdout",
          "text": [
            "CountVectorizer Shape: (7862, 1000)\n"
          ]
        }
      ]
    },
    {
      "cell_type": "markdown",
      "source": [
        "CountVectorizer 객체 변수인 feat_vect 모두 7862개의 문서가 1000개의 피처로 구성된 행렬 데이터\n"
      ],
      "metadata": {
        "id": "sahnMoljJ7io"
      }
    },
    {
      "cell_type": "code",
      "source": [
        "lda = LatentDirichletAllocation(n_components=8, random_state=0)\n",
        "lda.fit(feat_vect)"
      ],
      "metadata": {
        "colab": {
          "base_uri": "https://localhost:8080/",
          "height": 80
        },
        "id": "N1-nw-ahiR67",
        "outputId": "0a762aad-86a5-48f1-9656-53f50343bc1d"
      },
      "execution_count": 4,
      "outputs": [
        {
          "output_type": "execute_result",
          "data": {
            "text/plain": [
              "LatentDirichletAllocation(n_components=8, random_state=0)"
            ],
            "text/html": [
              "<style>#sk-container-id-1 {\n",
              "  /* Definition of color scheme common for light and dark mode */\n",
              "  --sklearn-color-text: #000;\n",
              "  --sklearn-color-text-muted: #666;\n",
              "  --sklearn-color-line: gray;\n",
              "  /* Definition of color scheme for unfitted estimators */\n",
              "  --sklearn-color-unfitted-level-0: #fff5e6;\n",
              "  --sklearn-color-unfitted-level-1: #f6e4d2;\n",
              "  --sklearn-color-unfitted-level-2: #ffe0b3;\n",
              "  --sklearn-color-unfitted-level-3: chocolate;\n",
              "  /* Definition of color scheme for fitted estimators */\n",
              "  --sklearn-color-fitted-level-0: #f0f8ff;\n",
              "  --sklearn-color-fitted-level-1: #d4ebff;\n",
              "  --sklearn-color-fitted-level-2: #b3dbfd;\n",
              "  --sklearn-color-fitted-level-3: cornflowerblue;\n",
              "\n",
              "  /* Specific color for light theme */\n",
              "  --sklearn-color-text-on-default-background: var(--sg-text-color, var(--theme-code-foreground, var(--jp-content-font-color1, black)));\n",
              "  --sklearn-color-background: var(--sg-background-color, var(--theme-background, var(--jp-layout-color0, white)));\n",
              "  --sklearn-color-border-box: var(--sg-text-color, var(--theme-code-foreground, var(--jp-content-font-color1, black)));\n",
              "  --sklearn-color-icon: #696969;\n",
              "\n",
              "  @media (prefers-color-scheme: dark) {\n",
              "    /* Redefinition of color scheme for dark theme */\n",
              "    --sklearn-color-text-on-default-background: var(--sg-text-color, var(--theme-code-foreground, var(--jp-content-font-color1, white)));\n",
              "    --sklearn-color-background: var(--sg-background-color, var(--theme-background, var(--jp-layout-color0, #111)));\n",
              "    --sklearn-color-border-box: var(--sg-text-color, var(--theme-code-foreground, var(--jp-content-font-color1, white)));\n",
              "    --sklearn-color-icon: #878787;\n",
              "  }\n",
              "}\n",
              "\n",
              "#sk-container-id-1 {\n",
              "  color: var(--sklearn-color-text);\n",
              "}\n",
              "\n",
              "#sk-container-id-1 pre {\n",
              "  padding: 0;\n",
              "}\n",
              "\n",
              "#sk-container-id-1 input.sk-hidden--visually {\n",
              "  border: 0;\n",
              "  clip: rect(1px 1px 1px 1px);\n",
              "  clip: rect(1px, 1px, 1px, 1px);\n",
              "  height: 1px;\n",
              "  margin: -1px;\n",
              "  overflow: hidden;\n",
              "  padding: 0;\n",
              "  position: absolute;\n",
              "  width: 1px;\n",
              "}\n",
              "\n",
              "#sk-container-id-1 div.sk-dashed-wrapped {\n",
              "  border: 1px dashed var(--sklearn-color-line);\n",
              "  margin: 0 0.4em 0.5em 0.4em;\n",
              "  box-sizing: border-box;\n",
              "  padding-bottom: 0.4em;\n",
              "  background-color: var(--sklearn-color-background);\n",
              "}\n",
              "\n",
              "#sk-container-id-1 div.sk-container {\n",
              "  /* jupyter's `normalize.less` sets `[hidden] { display: none; }`\n",
              "     but bootstrap.min.css set `[hidden] { display: none !important; }`\n",
              "     so we also need the `!important` here to be able to override the\n",
              "     default hidden behavior on the sphinx rendered scikit-learn.org.\n",
              "     See: https://github.com/scikit-learn/scikit-learn/issues/21755 */\n",
              "  display: inline-block !important;\n",
              "  position: relative;\n",
              "}\n",
              "\n",
              "#sk-container-id-1 div.sk-text-repr-fallback {\n",
              "  display: none;\n",
              "}\n",
              "\n",
              "div.sk-parallel-item,\n",
              "div.sk-serial,\n",
              "div.sk-item {\n",
              "  /* draw centered vertical line to link estimators */\n",
              "  background-image: linear-gradient(var(--sklearn-color-text-on-default-background), var(--sklearn-color-text-on-default-background));\n",
              "  background-size: 2px 100%;\n",
              "  background-repeat: no-repeat;\n",
              "  background-position: center center;\n",
              "}\n",
              "\n",
              "/* Parallel-specific style estimator block */\n",
              "\n",
              "#sk-container-id-1 div.sk-parallel-item::after {\n",
              "  content: \"\";\n",
              "  width: 100%;\n",
              "  border-bottom: 2px solid var(--sklearn-color-text-on-default-background);\n",
              "  flex-grow: 1;\n",
              "}\n",
              "\n",
              "#sk-container-id-1 div.sk-parallel {\n",
              "  display: flex;\n",
              "  align-items: stretch;\n",
              "  justify-content: center;\n",
              "  background-color: var(--sklearn-color-background);\n",
              "  position: relative;\n",
              "}\n",
              "\n",
              "#sk-container-id-1 div.sk-parallel-item {\n",
              "  display: flex;\n",
              "  flex-direction: column;\n",
              "}\n",
              "\n",
              "#sk-container-id-1 div.sk-parallel-item:first-child::after {\n",
              "  align-self: flex-end;\n",
              "  width: 50%;\n",
              "}\n",
              "\n",
              "#sk-container-id-1 div.sk-parallel-item:last-child::after {\n",
              "  align-self: flex-start;\n",
              "  width: 50%;\n",
              "}\n",
              "\n",
              "#sk-container-id-1 div.sk-parallel-item:only-child::after {\n",
              "  width: 0;\n",
              "}\n",
              "\n",
              "/* Serial-specific style estimator block */\n",
              "\n",
              "#sk-container-id-1 div.sk-serial {\n",
              "  display: flex;\n",
              "  flex-direction: column;\n",
              "  align-items: center;\n",
              "  background-color: var(--sklearn-color-background);\n",
              "  padding-right: 1em;\n",
              "  padding-left: 1em;\n",
              "}\n",
              "\n",
              "\n",
              "/* Toggleable style: style used for estimator/Pipeline/ColumnTransformer box that is\n",
              "clickable and can be expanded/collapsed.\n",
              "- Pipeline and ColumnTransformer use this feature and define the default style\n",
              "- Estimators will overwrite some part of the style using the `sk-estimator` class\n",
              "*/\n",
              "\n",
              "/* Pipeline and ColumnTransformer style (default) */\n",
              "\n",
              "#sk-container-id-1 div.sk-toggleable {\n",
              "  /* Default theme specific background. It is overwritten whether we have a\n",
              "  specific estimator or a Pipeline/ColumnTransformer */\n",
              "  background-color: var(--sklearn-color-background);\n",
              "}\n",
              "\n",
              "/* Toggleable label */\n",
              "#sk-container-id-1 label.sk-toggleable__label {\n",
              "  cursor: pointer;\n",
              "  display: flex;\n",
              "  width: 100%;\n",
              "  margin-bottom: 0;\n",
              "  padding: 0.5em;\n",
              "  box-sizing: border-box;\n",
              "  text-align: center;\n",
              "  align-items: start;\n",
              "  justify-content: space-between;\n",
              "  gap: 0.5em;\n",
              "}\n",
              "\n",
              "#sk-container-id-1 label.sk-toggleable__label .caption {\n",
              "  font-size: 0.6rem;\n",
              "  font-weight: lighter;\n",
              "  color: var(--sklearn-color-text-muted);\n",
              "}\n",
              "\n",
              "#sk-container-id-1 label.sk-toggleable__label-arrow:before {\n",
              "  /* Arrow on the left of the label */\n",
              "  content: \"▸\";\n",
              "  float: left;\n",
              "  margin-right: 0.25em;\n",
              "  color: var(--sklearn-color-icon);\n",
              "}\n",
              "\n",
              "#sk-container-id-1 label.sk-toggleable__label-arrow:hover:before {\n",
              "  color: var(--sklearn-color-text);\n",
              "}\n",
              "\n",
              "/* Toggleable content - dropdown */\n",
              "\n",
              "#sk-container-id-1 div.sk-toggleable__content {\n",
              "  max-height: 0;\n",
              "  max-width: 0;\n",
              "  overflow: hidden;\n",
              "  text-align: left;\n",
              "  /* unfitted */\n",
              "  background-color: var(--sklearn-color-unfitted-level-0);\n",
              "}\n",
              "\n",
              "#sk-container-id-1 div.sk-toggleable__content.fitted {\n",
              "  /* fitted */\n",
              "  background-color: var(--sklearn-color-fitted-level-0);\n",
              "}\n",
              "\n",
              "#sk-container-id-1 div.sk-toggleable__content pre {\n",
              "  margin: 0.2em;\n",
              "  border-radius: 0.25em;\n",
              "  color: var(--sklearn-color-text);\n",
              "  /* unfitted */\n",
              "  background-color: var(--sklearn-color-unfitted-level-0);\n",
              "}\n",
              "\n",
              "#sk-container-id-1 div.sk-toggleable__content.fitted pre {\n",
              "  /* unfitted */\n",
              "  background-color: var(--sklearn-color-fitted-level-0);\n",
              "}\n",
              "\n",
              "#sk-container-id-1 input.sk-toggleable__control:checked~div.sk-toggleable__content {\n",
              "  /* Expand drop-down */\n",
              "  max-height: 200px;\n",
              "  max-width: 100%;\n",
              "  overflow: auto;\n",
              "}\n",
              "\n",
              "#sk-container-id-1 input.sk-toggleable__control:checked~label.sk-toggleable__label-arrow:before {\n",
              "  content: \"▾\";\n",
              "}\n",
              "\n",
              "/* Pipeline/ColumnTransformer-specific style */\n",
              "\n",
              "#sk-container-id-1 div.sk-label input.sk-toggleable__control:checked~label.sk-toggleable__label {\n",
              "  color: var(--sklearn-color-text);\n",
              "  background-color: var(--sklearn-color-unfitted-level-2);\n",
              "}\n",
              "\n",
              "#sk-container-id-1 div.sk-label.fitted input.sk-toggleable__control:checked~label.sk-toggleable__label {\n",
              "  background-color: var(--sklearn-color-fitted-level-2);\n",
              "}\n",
              "\n",
              "/* Estimator-specific style */\n",
              "\n",
              "/* Colorize estimator box */\n",
              "#sk-container-id-1 div.sk-estimator input.sk-toggleable__control:checked~label.sk-toggleable__label {\n",
              "  /* unfitted */\n",
              "  background-color: var(--sklearn-color-unfitted-level-2);\n",
              "}\n",
              "\n",
              "#sk-container-id-1 div.sk-estimator.fitted input.sk-toggleable__control:checked~label.sk-toggleable__label {\n",
              "  /* fitted */\n",
              "  background-color: var(--sklearn-color-fitted-level-2);\n",
              "}\n",
              "\n",
              "#sk-container-id-1 div.sk-label label.sk-toggleable__label,\n",
              "#sk-container-id-1 div.sk-label label {\n",
              "  /* The background is the default theme color */\n",
              "  color: var(--sklearn-color-text-on-default-background);\n",
              "}\n",
              "\n",
              "/* On hover, darken the color of the background */\n",
              "#sk-container-id-1 div.sk-label:hover label.sk-toggleable__label {\n",
              "  color: var(--sklearn-color-text);\n",
              "  background-color: var(--sklearn-color-unfitted-level-2);\n",
              "}\n",
              "\n",
              "/* Label box, darken color on hover, fitted */\n",
              "#sk-container-id-1 div.sk-label.fitted:hover label.sk-toggleable__label.fitted {\n",
              "  color: var(--sklearn-color-text);\n",
              "  background-color: var(--sklearn-color-fitted-level-2);\n",
              "}\n",
              "\n",
              "/* Estimator label */\n",
              "\n",
              "#sk-container-id-1 div.sk-label label {\n",
              "  font-family: monospace;\n",
              "  font-weight: bold;\n",
              "  display: inline-block;\n",
              "  line-height: 1.2em;\n",
              "}\n",
              "\n",
              "#sk-container-id-1 div.sk-label-container {\n",
              "  text-align: center;\n",
              "}\n",
              "\n",
              "/* Estimator-specific */\n",
              "#sk-container-id-1 div.sk-estimator {\n",
              "  font-family: monospace;\n",
              "  border: 1px dotted var(--sklearn-color-border-box);\n",
              "  border-radius: 0.25em;\n",
              "  box-sizing: border-box;\n",
              "  margin-bottom: 0.5em;\n",
              "  /* unfitted */\n",
              "  background-color: var(--sklearn-color-unfitted-level-0);\n",
              "}\n",
              "\n",
              "#sk-container-id-1 div.sk-estimator.fitted {\n",
              "  /* fitted */\n",
              "  background-color: var(--sklearn-color-fitted-level-0);\n",
              "}\n",
              "\n",
              "/* on hover */\n",
              "#sk-container-id-1 div.sk-estimator:hover {\n",
              "  /* unfitted */\n",
              "  background-color: var(--sklearn-color-unfitted-level-2);\n",
              "}\n",
              "\n",
              "#sk-container-id-1 div.sk-estimator.fitted:hover {\n",
              "  /* fitted */\n",
              "  background-color: var(--sklearn-color-fitted-level-2);\n",
              "}\n",
              "\n",
              "/* Specification for estimator info (e.g. \"i\" and \"?\") */\n",
              "\n",
              "/* Common style for \"i\" and \"?\" */\n",
              "\n",
              ".sk-estimator-doc-link,\n",
              "a:link.sk-estimator-doc-link,\n",
              "a:visited.sk-estimator-doc-link {\n",
              "  float: right;\n",
              "  font-size: smaller;\n",
              "  line-height: 1em;\n",
              "  font-family: monospace;\n",
              "  background-color: var(--sklearn-color-background);\n",
              "  border-radius: 1em;\n",
              "  height: 1em;\n",
              "  width: 1em;\n",
              "  text-decoration: none !important;\n",
              "  margin-left: 0.5em;\n",
              "  text-align: center;\n",
              "  /* unfitted */\n",
              "  border: var(--sklearn-color-unfitted-level-1) 1pt solid;\n",
              "  color: var(--sklearn-color-unfitted-level-1);\n",
              "}\n",
              "\n",
              ".sk-estimator-doc-link.fitted,\n",
              "a:link.sk-estimator-doc-link.fitted,\n",
              "a:visited.sk-estimator-doc-link.fitted {\n",
              "  /* fitted */\n",
              "  border: var(--sklearn-color-fitted-level-1) 1pt solid;\n",
              "  color: var(--sklearn-color-fitted-level-1);\n",
              "}\n",
              "\n",
              "/* On hover */\n",
              "div.sk-estimator:hover .sk-estimator-doc-link:hover,\n",
              ".sk-estimator-doc-link:hover,\n",
              "div.sk-label-container:hover .sk-estimator-doc-link:hover,\n",
              ".sk-estimator-doc-link:hover {\n",
              "  /* unfitted */\n",
              "  background-color: var(--sklearn-color-unfitted-level-3);\n",
              "  color: var(--sklearn-color-background);\n",
              "  text-decoration: none;\n",
              "}\n",
              "\n",
              "div.sk-estimator.fitted:hover .sk-estimator-doc-link.fitted:hover,\n",
              ".sk-estimator-doc-link.fitted:hover,\n",
              "div.sk-label-container:hover .sk-estimator-doc-link.fitted:hover,\n",
              ".sk-estimator-doc-link.fitted:hover {\n",
              "  /* fitted */\n",
              "  background-color: var(--sklearn-color-fitted-level-3);\n",
              "  color: var(--sklearn-color-background);\n",
              "  text-decoration: none;\n",
              "}\n",
              "\n",
              "/* Span, style for the box shown on hovering the info icon */\n",
              ".sk-estimator-doc-link span {\n",
              "  display: none;\n",
              "  z-index: 9999;\n",
              "  position: relative;\n",
              "  font-weight: normal;\n",
              "  right: .2ex;\n",
              "  padding: .5ex;\n",
              "  margin: .5ex;\n",
              "  width: min-content;\n",
              "  min-width: 20ex;\n",
              "  max-width: 50ex;\n",
              "  color: var(--sklearn-color-text);\n",
              "  box-shadow: 2pt 2pt 4pt #999;\n",
              "  /* unfitted */\n",
              "  background: var(--sklearn-color-unfitted-level-0);\n",
              "  border: .5pt solid var(--sklearn-color-unfitted-level-3);\n",
              "}\n",
              "\n",
              ".sk-estimator-doc-link.fitted span {\n",
              "  /* fitted */\n",
              "  background: var(--sklearn-color-fitted-level-0);\n",
              "  border: var(--sklearn-color-fitted-level-3);\n",
              "}\n",
              "\n",
              ".sk-estimator-doc-link:hover span {\n",
              "  display: block;\n",
              "}\n",
              "\n",
              "/* \"?\"-specific style due to the `<a>` HTML tag */\n",
              "\n",
              "#sk-container-id-1 a.estimator_doc_link {\n",
              "  float: right;\n",
              "  font-size: 1rem;\n",
              "  line-height: 1em;\n",
              "  font-family: monospace;\n",
              "  background-color: var(--sklearn-color-background);\n",
              "  border-radius: 1rem;\n",
              "  height: 1rem;\n",
              "  width: 1rem;\n",
              "  text-decoration: none;\n",
              "  /* unfitted */\n",
              "  color: var(--sklearn-color-unfitted-level-1);\n",
              "  border: var(--sklearn-color-unfitted-level-1) 1pt solid;\n",
              "}\n",
              "\n",
              "#sk-container-id-1 a.estimator_doc_link.fitted {\n",
              "  /* fitted */\n",
              "  border: var(--sklearn-color-fitted-level-1) 1pt solid;\n",
              "  color: var(--sklearn-color-fitted-level-1);\n",
              "}\n",
              "\n",
              "/* On hover */\n",
              "#sk-container-id-1 a.estimator_doc_link:hover {\n",
              "  /* unfitted */\n",
              "  background-color: var(--sklearn-color-unfitted-level-3);\n",
              "  color: var(--sklearn-color-background);\n",
              "  text-decoration: none;\n",
              "}\n",
              "\n",
              "#sk-container-id-1 a.estimator_doc_link.fitted:hover {\n",
              "  /* fitted */\n",
              "  background-color: var(--sklearn-color-fitted-level-3);\n",
              "}\n",
              "</style><div id=\"sk-container-id-1\" class=\"sk-top-container\"><div class=\"sk-text-repr-fallback\"><pre>LatentDirichletAllocation(n_components=8, random_state=0)</pre><b>In a Jupyter environment, please rerun this cell to show the HTML representation or trust the notebook. <br />On GitHub, the HTML representation is unable to render, please try loading this page with nbviewer.org.</b></div><div class=\"sk-container\" hidden><div class=\"sk-item\"><div class=\"sk-estimator fitted sk-toggleable\"><input class=\"sk-toggleable__control sk-hidden--visually\" id=\"sk-estimator-id-1\" type=\"checkbox\" checked><label for=\"sk-estimator-id-1\" class=\"sk-toggleable__label fitted sk-toggleable__label-arrow\"><div><div>LatentDirichletAllocation</div></div><div><a class=\"sk-estimator-doc-link fitted\" rel=\"noreferrer\" target=\"_blank\" href=\"https://scikit-learn.org/1.6/modules/generated/sklearn.decomposition.LatentDirichletAllocation.html\">?<span>Documentation for LatentDirichletAllocation</span></a><span class=\"sk-estimator-doc-link fitted\">i<span>Fitted</span></span></div></label><div class=\"sk-toggleable__content fitted\"><pre>LatentDirichletAllocation(n_components=8, random_state=0)</pre></div> </div></div></div></div>"
            ]
          },
          "metadata": {},
          "execution_count": 4
        }
      ]
    },
    {
      "cell_type": "code",
      "source": [
        "# components_는 개별 토픽별로 각 word 피처가 얼마나 그 토픽에 할당됐는지에 대한 수치\n",
        "print(lda.components_.shape)\n",
        "lda.components_"
      ],
      "metadata": {
        "colab": {
          "base_uri": "https://localhost:8080/"
        },
        "id": "x3YnWW_RiR9j",
        "outputId": "b16e657f-1de6-4224-b957-e57c95e4439f"
      },
      "execution_count": 5,
      "outputs": [
        {
          "output_type": "stream",
          "name": "stdout",
          "text": [
            "(8, 1000)\n"
          ]
        },
        {
          "output_type": "execute_result",
          "data": {
            "text/plain": [
              "array([[2.69030238e+02, 1.87798026e+02, 7.09003824e+01, ...,\n",
              "        1.22710343e+01, 1.06329639e+02, 7.25995512e+01],\n",
              "       [1.25091799e-01, 2.46049106e+00, 1.25051902e-01, ...,\n",
              "        2.80071176e+02, 1.25089783e-01, 5.05669662e+01],\n",
              "       [1.33978420e+02, 1.25042012e-01, 9.98277256e+01, ...,\n",
              "        1.25092219e-01, 3.31078261e+01, 1.25028398e-01],\n",
              "       ...,\n",
              "       [2.98813886e+01, 1.88071366e+01, 1.14748730e+01, ...,\n",
              "        1.93022584e+01, 5.29368271e+00, 1.44478198e+01],\n",
              "       [1.25074899e-01, 1.25105300e-01, 1.25004235e-01, ...,\n",
              "        1.03576436e+02, 1.25100535e-01, 7.22276359e+01],\n",
              "       [1.25172284e-01, 1.03967760e+00, 1.25221075e-01, ...,\n",
              "        5.31740996e+01, 1.25025929e-01, 1.25062991e-01]])"
            ]
          },
          "metadata": {},
          "execution_count": 5
        }
      ]
    },
    {
      "cell_type": "code",
      "source": [
        "# display_topic() 함수로 각 토픽별로 연관도가 높은 순으로 Word를 나열\n",
        "\n",
        "def display_topics(model, feature_names, no_top_words):\n",
        "  for topic_index, topic in enumerate(model.components_):\n",
        "    print('Topic #', topic_index)\n",
        "\n",
        "    # components_array에서 가장 값이 큰 순으로 정렬했을 때, 그 값의 array 인덱스를 반환\n",
        "    topic_word_indexes = topic.argsort()[::-1]\n",
        "    top_indexes = topic_word_indexes[:no_top_words]\n",
        "\n",
        "    # top_indexes 대상인 인덱스별로 feature_names에 해당하는 word feature 추출 후 join으로 concat\n",
        "    feature_concat = ' '.join([feature_names[i] for i in top_indexes])\n",
        "    print(feature_concat)\n",
        "\n",
        "# CountVectorizer 객체 내의 전체 word의 명칭을 get_feature_names_out()를 통해 추출\n",
        "feature_names = count_vect.get_feature_names_out()\n",
        "\n",
        "# 토픽별 가장 연관도가 높은 word를 15개만 추출\n",
        "display_topics(lda, feature_names, 15)"
      ],
      "metadata": {
        "colab": {
          "base_uri": "https://localhost:8080/"
        },
        "id": "lDZNCNzbiSAj",
        "outputId": "cf503a8c-4e6e-4c42-ff9f-73557a2827d9"
      },
      "execution_count": 7,
      "outputs": [
        {
          "output_type": "stream",
          "name": "stdout",
          "text": [
            "Topic # 0\n",
            "10 year medical health 1993 20 12 disease cancer team patients research number new 11\n",
            "Topic # 1\n",
            "don just like know think good time ve does way really people want ll right\n",
            "Topic # 2\n",
            "image file jpeg output program gif images format files color entry use bit 03 02\n",
            "Topic # 3\n",
            "armenian armenians turkish people said turkey armenia government genocide turks muslim russian greek azerbaijan killed\n",
            "Topic # 4\n",
            "israel jews dos jewish israeli dos dos arab state people arabs palestinian adl ed anti peace\n",
            "Topic # 5\n",
            "edu com available graphics ftp window use mail data motif software version pub information server\n",
            "Topic # 6\n",
            "god people jesus church believe say christ does christian think christians did know bible man\n",
            "Topic # 7\n",
            "thanks use using does help like display need problem know server screen windows window program\n"
          ]
        }
      ]
    },
    {
      "cell_type": "markdown",
      "source": [
        "## 08-08. 문서 유사도"
      ],
      "metadata": {
        "id": "VA23SRQIbhto"
      }
    },
    {
      "cell_type": "markdown",
      "source": [
        "### 문서 유사도 측정 방법 - 코사인 유사도\n",
        "- 코사인 유사도: 두 벡터 사이의 사잇각을 구해서 얼마나 유사한지 수치로 적용"
      ],
      "metadata": {
        "id": "Kehe9jpAbyFW"
      }
    },
    {
      "cell_type": "markdown",
      "source": [
        "### 두 벡터 사잇각\n",
        "- 유사도 (cos세타)\n",
        "   - 두 벡터의 내적을 총 벡터 크기의 합으로 나눈 것\n",
        "   - 내적 결과를 총 벡터 크기로 정규화(L2 Norm)한 것"
      ],
      "metadata": {
        "id": "03eb-0j6bh5_"
      }
    },
    {
      "cell_type": "markdown",
      "source": [
        "![image.png](data:image/png;base64,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)"
      ],
      "metadata": {
        "id": "oTpXy0tFmiR2"
      }
    },
    {
      "cell_type": "markdown",
      "source": [
        "![image.png](data:image/png;base64,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)"
      ],
      "metadata": {
        "id": "gNSBcfz8_2NK"
      }
    },
    {
      "cell_type": "code",
      "source": [
        "# 두 개의 넘파이 배열에 대한 코사인 유사도를 구하는 cos_similarity() 함수\n",
        "import numpy as np\n",
        "\n",
        "def cos_similarity(v1, v2):\n",
        "  dot_product = np.dot(v1, v2)\n",
        "  l2_norm = (np.sqrt(sum(np.square(v1)))) * np.sqrt(sum(np.square(v2)))\n",
        "  similarity = dot_product / l2_norm\n",
        "\n",
        "  return similarity"
      ],
      "metadata": {
        "id": "rQmb2Ju1bh_X"
      },
      "execution_count": 8,
      "outputs": []
    },
    {
      "cell_type": "code",
      "source": [
        "# doc_list로 정의된 3개의 간단한 문서의 유사도를 비교하기 위해 이 문서를 TF-IDF로 벡터화된 행렬로 변환\n",
        "from sklearn.feature_extraction.text import TfidfVectorizer\n",
        "\n",
        "doc_list = ['if you take the blue pill, the story ends',\n",
        "            'if you take the red pill, you stay in Wonderland',\n",
        "            'if you take the red pill, I show you how deep the rabbit hole goes']\n",
        "\n",
        "tfidf_vect_simple = TfidfVectorizer()\n",
        "feature_vect_simple = tfidf_vect_simple.fit_transform(doc_list)\n",
        "print(feature_vect_simple.shape)"
      ],
      "metadata": {
        "colab": {
          "base_uri": "https://localhost:8080/"
        },
        "id": "XXZ0mCH2m950",
        "outputId": "f9e62d7f-646d-477b-bc83-a9ead245ef40"
      },
      "execution_count": 9,
      "outputs": [
        {
          "output_type": "stream",
          "name": "stdout",
          "text": [
            "(3, 18)\n"
          ]
        }
      ]
    },
    {
      "cell_type": "code",
      "source": [
        "# TfidfVectorizer로 transform()한 결과는 희소 행렬이므로 밀집 행렬로 변환\n",
        "feature_vect_dense = feature_vect_simple.todense()\n",
        "\n",
        "# 첫번째 문장과 두번째 문장의 피처 벡터 추출\n",
        "vect1 = np.array(feature_vect_dense[0]).reshape(-1, )\n",
        "vect2 = np.array(feature_vect_dense[1]).reshape(-1, )\n",
        "\n",
        "# 첫번째 문장과 두번째 문장의 피처 벡터로 두 개 문장의 코사인 유사도 추출\n",
        "similarity_simple = cos_similarity(vect1, vect2)\n",
        "print('문장 1, 문장 2 cosine 유사도:{0:.3f}'.format(similarity_simple))"
      ],
      "metadata": {
        "colab": {
          "base_uri": "https://localhost:8080/"
        },
        "id": "JrlhnHyfm99K",
        "outputId": "914b1fd0-2d1c-41f7-9fde-7ce47760aa8d"
      },
      "execution_count": 10,
      "outputs": [
        {
          "output_type": "stream",
          "name": "stdout",
          "text": [
            "문장 1, 문장 2 cosine 유사도:0.402\n"
          ]
        }
      ]
    },
    {
      "cell_type": "code",
      "source": [
        "# 첫번째 문장과 세번째 문자의 유사도 측정\n",
        "vect1 = np.array(feature_vect_dense[0]).reshape(-1, )\n",
        "vect3 = np.array(feature_vect_dense[2]).reshape(-1, )\n",
        "similarity_simple = cos_similarity(vect1, vect3)\n",
        "print('문장 1과 문장 3 cosine 유사도: {0:.3f}'.format(similarity_simple))\n",
        "\n",
        "# 두번째 문장과 세번째 문자의 유사도 측정\n",
        "vect2 = np.array(feature_vect_dense[1]).reshape(-1, )\n",
        "vect3 = np.array(feature_vect_dense[2]).reshape(-1, )\n",
        "similarity_simple = cos_similarity(vect2, vect3)\n",
        "print('문장 2과 문장 3 cosine 유사도: {0:.3f}'.format(similarity_simple))"
      ],
      "metadata": {
        "colab": {
          "base_uri": "https://localhost:8080/"
        },
        "id": "UbVkME3QoJoq",
        "outputId": "1e23e251-d2bb-4293-ae3e-44a8a9bda069"
      },
      "execution_count": 12,
      "outputs": [
        {
          "output_type": "stream",
          "name": "stdout",
          "text": [
            "문장 1과 문장 3 cosine 유사도: 0.404\n",
            "문장 2과 문장 3 cosine 유사도: 0.456\n"
          ]
        }
      ]
    },
    {
      "cell_type": "code",
      "source": [
        "# sklearn.metrics.pairwise.cosine_similarity API를 사용하여 첫번째 문서와 비교해 첫번째, 두번째, 세번째 문서와의 유사도 측정\n",
        "from sklearn.metrics.pairwise import cosine_similarity\n",
        "\n",
        "similarity_simple_pair = cosine_similarity(feature_vect_simple[0], feature_vect_simple)\n",
        "print(similarity_simple_pair)"
      ],
      "metadata": {
        "colab": {
          "base_uri": "https://localhost:8080/"
        },
        "id": "AYXHbZ-9oJuN",
        "outputId": "7dbbfb45-8ed8-47e8-99c1-57304ff6305d"
      },
      "execution_count": 13,
      "outputs": [
        {
          "output_type": "stream",
          "name": "stdout",
          "text": [
            "[[1.         0.40207758 0.40425045]]\n"
          ]
        }
      ]
    },
    {
      "cell_type": "code",
      "source": [
        "# 비교 대상에서 기준 문서 제외\n",
        "from sklearn.metrics.pairwise import cosine_similarity\n",
        "\n",
        "similarity_simple_pair = cosine_similarity(feature_vect_simple[0], feature_vect_simple[1:])\n",
        "print(similarity_simple_pair)"
      ],
      "metadata": {
        "colab": {
          "base_uri": "https://localhost:8080/"
        },
        "id": "gefg7qcKoJxk",
        "outputId": "33f53639-713a-402f-f08a-6fd4247e40a1"
      },
      "execution_count": 14,
      "outputs": [
        {
          "output_type": "stream",
          "name": "stdout",
          "text": [
            "[[0.40207758 0.40425045]]\n"
          ]
        }
      ]
    },
    {
      "cell_type": "code",
      "source": [
        "# cosine_similarity()는 쌍(pair) 코사인 유사도 값 제공\n",
        "similarity_simple_pair = cosine_similarity(feature_vect_simple, feature_vect_simple)\n",
        "print(similarity_simple_pair)\n",
        "print('shape:', similarity_simple_pair.shape)"
      ],
      "metadata": {
        "colab": {
          "base_uri": "https://localhost:8080/"
        },
        "id": "efy3STzXrROE",
        "outputId": "761a64cb-040d-42e5-8b5c-1211c900c930"
      },
      "execution_count": 15,
      "outputs": [
        {
          "output_type": "stream",
          "name": "stdout",
          "text": [
            "[[1.         0.40207758 0.40425045]\n",
            " [0.40207758 1.         0.45647296]\n",
            " [0.40425045 0.45647296 1.        ]]\n",
            "shape: (3, 3)\n"
          ]
        }
      ]
    },
    {
      "cell_type": "markdown",
      "source": [
        "### Opinion Review 데이터 세트를 이용한 문서 유사도 측정"
      ],
      "metadata": {
        "id": "jhMbqjeObiFm"
      }
    },
    {
      "cell_type": "code",
      "source": [
        "from google.colab import drive\n",
        "drive.mount('/content/drive')"
      ],
      "metadata": {
        "colab": {
          "base_uri": "https://localhost:8080/"
        },
        "id": "mNXPf0f22MD3",
        "outputId": "65187bf9-ab05-4196-fd9d-41f66053e5d9"
      },
      "execution_count": 16,
      "outputs": [
        {
          "output_type": "stream",
          "name": "stdout",
          "text": [
            "Mounted at /content/drive\n"
          ]
        }
      ]
    },
    {
      "cell_type": "code",
      "source": [
        "import pandas as pd\n",
        "import glob, os\n",
        "from sklearn.feature_extraction.text import TfidfVectorizer\n",
        "from sklearn.cluster import KMeans\n",
        "from nltk.tokenize import word_tokenize\n",
        "from nltk.stem import WordNetLemmatizer\n",
        "import nltk\n",
        "nltk.download('punkt')\n",
        "nltk.download('wordnet')"
      ],
      "metadata": {
        "colab": {
          "base_uri": "https://localhost:8080/"
        },
        "id": "4D4AqqPX55eD",
        "outputId": "50eeea59-93a4-41ac-a97b-183b2dea4a8b"
      },
      "execution_count": 24,
      "outputs": [
        {
          "output_type": "stream",
          "name": "stderr",
          "text": [
            "[nltk_data] Downloading package punkt to /root/nltk_data...\n",
            "[nltk_data]   Package punkt is already up-to-date!\n",
            "[nltk_data] Downloading package wordnet to /root/nltk_data...\n",
            "[nltk_data]   Package wordnet is already up-to-date!\n"
          ]
        },
        {
          "output_type": "execute_result",
          "data": {
            "text/plain": [
              "True"
            ]
          },
          "metadata": {},
          "execution_count": 24
        }
      ]
    },
    {
      "cell_type": "code",
      "source": [
        "path = '/content/drive/MyDrive/ESAA_OB/Dataset/topics'\n",
        "all_files = glob.glob(os.path.join(path, \"*.data\"))\n",
        "filename_list = []\n",
        "opinion_text = []\n",
        "\n",
        "for file_ in all_files:\n",
        "    df = pd.read_table(file_, index_col=None, header=0, encoding='latin1')\n",
        "    filename_ = file_.split('/')[-1]\n",
        "    filename = filename_.split('.')[0]\n",
        "    filename_list.append(filename)\n",
        "    opinion_text.append(df.to_string())\n",
        "\n",
        "document_df = pd.DataFrame({'filename': filename_list, 'opinion_text': opinion_text})\n",
        "\n",
        "# 텍스트 정규화 및 토큰화\n",
        "def LemNormalize(text):\n",
        "    wordnet_lemmatizer = WordNetLemmatizer()\n",
        "    words = word_tokenize(text)  # nltk 토큰화 적용\n",
        "    return [wordnet_lemmatizer.lemmatize(word) for word in words]\n",
        "\n",
        "# 빈 문서 제거\n",
        "document_df = document_df.dropna(subset=['opinion_text'])\n",
        "\n",
        "# Ensure the 'opinion_text' column contains strings\n",
        "document_df['opinion_text'] = document_df['opinion_text'].astype(str)\n",
        "\n",
        "document_df = document_df[document_df['opinion_text'].str.len() > 0]\n",
        "\n",
        "# TF-IDF 벡터화 (stop_words 제거, min_df 완화)\n",
        "tfidf_vect = TfidfVectorizer(tokenizer=None, preprocessor=None,\n",
        "                             ngram_range=(1,2), min_df=0.01, max_df=0.95)\n",
        "feature_vect = tfidf_vect.fit_transform(document_df['opinion_text'])\n",
        "\n",
        "\n",
        "# KMeans 클러스터링\n",
        "km_cluster = KMeans(n_clusters=3, max_iter=10000, random_state=0, n_init='auto')\n",
        "km_cluster.fit(feature_vect)\n",
        "\n",
        "# 클러스터 결과 저장\n",
        "document_df['cluster_label'] = km_cluster.labels_\n",
        "\n",
        "# 희소 행렬 변환 후 cluster_centers_ 접근\n",
        "cluster_centers = km_cluster.cluster_centers_"
      ],
      "metadata": {
        "id": "5XgHTXKcbiMU"
      },
      "execution_count": 28,
      "outputs": []
    },
    {
      "cell_type": "code",
      "source": [
        "from sklearn.metrics.pairwise import cosine_similarity\n",
        "\n",
        "# cluster_label=2인 데이터는 호텔로 군집화된 데이터임. DataFrame에서 해당 인덱스를 추출\n",
        "hotel_indexes = document_df[document_df['cluster_label']==2].index\n",
        "print('호텔로 클러스터링된 문서들의 DataFrame Index:', hotel_indexes)\n",
        "\n",
        "# 호텔로 군집화된 데이터 중 첫번째 문서를 추출해 파일명 표시\n",
        "comparison_docname = document_df.iloc[hotel_indexes[0]]['filename']\n",
        "print('#### 비교 기준 문서명', comparison_docname, '와 타 문서 유사도 ####')\n",
        "\n",
        "'''document_df에서 추출한 Index 객체를 feature_vect로 입력해 호텔 군집화된 feature_vect 추출\n",
        "이를 이용해 호텔로 군집화된 문서 중 첫번째 문서와 다른 문서 간의 코사인 유사도 측정.'''\n",
        "similarity_pair = cosine_similarity(feature_vect[hotel_indexes[0]], feature_vect[hotel_indexes])\n",
        "print(similarity_pair)"
      ],
      "metadata": {
        "colab": {
          "base_uri": "https://localhost:8080/"
        },
        "id": "8z4PVOEQm-cY",
        "outputId": "12b40d0d-46d8-4d53-fbd4-e80d68387df9"
      },
      "execution_count": 30,
      "outputs": [
        {
          "output_type": "stream",
          "name": "stdout",
          "text": [
            "호텔로 클러스터링된 문서들의 DataFrame Index: Index([0, 1, 3, 5, 6, 9, 18, 19, 28, 30, 35, 39, 40, 41, 43, 44, 46], dtype='int64')\n",
            "#### 비교 기준 문서명 battery-life_ipod_nano_8gb 와 타 문서 유사도 ####\n",
            "[[1.         0.02497058 0.76505978 0.02823497 0.03096098 0.64242846\n",
            "  0.09660642 0.01829828 0.03557674 0.0325853  0.19236279 0.01518405\n",
            "  0.16542054 0.16440801 0.04177963 0.0270403  0.15344971]]\n"
          ]
        }
      ]
    },
    {
      "cell_type": "code",
      "source": [
        "# 첫번째 문서와 다른 문서 간에 유사도가 높은 순으로 이를 정렬하고 시각화\n",
        "import seaborn as sns\n",
        "import numpy as np\n",
        "import matplotlib.pyplot as plt\n",
        "%matplotlib inline\n",
        "\n",
        "# 첫번째 문서와 타 문서간 유사도가 큰 순으로 정렬한 인덱스를 추출하되 자기 자신은 제외\n",
        "sorted_index = similarity_pair.argsort()[:, ::1]\n",
        "sorted_index = sorted_index[:, 1:]\n",
        "\n",
        "# 유사도가 큰 순으로 hotel_indexes를 추출하여 재정렬\n",
        "hotel_sorted_indexes = hotel_indexes[sorted_index.reshape(-1)]\n",
        "\n",
        "# 유사도가 큰 순으로 유사도 값을 재정렬하되 자기 자신은 제외\n",
        "hotel_1_sim_value = np.sort(similarity_pair.reshape(-1))[::-1]\n",
        "hotel_1_sim_value = hotel_1_sim_value[1:]\n",
        "\n",
        "# 유사도가 큰 순으로 정렬된 인덱스와 유사도 값을 이용해 파일명과 유사도값을 막대 그래프로 시각화\n",
        "hotel_1_sim_df = pd.DataFrame()\n",
        "hotel_1_sim_df['filename'] = document_df.iloc[hotel_sorted_indexes]['filename']\n",
        "hotel_1_sim_df['similarity'] = hotel_1_sim_value\n",
        "print('가장 유사도가 큰 파일명 및 유사도:\\n', hotel_1_sim_df.iloc[0, :])\n",
        "\n",
        "sns.barplot(x='similarity', y='filename', data=hotel_1_sim_df)\n",
        "plt.title(comparison_docname)"
      ],
      "metadata": {
        "colab": {
          "base_uri": "https://localhost:8080/",
          "height": 545
        },
        "id": "QsIBPnk02BPL",
        "outputId": "1f2fba4d-4c2b-4991-dc26-ddd208d0d02e"
      },
      "execution_count": 31,
      "outputs": [
        {
          "output_type": "stream",
          "name": "stdout",
          "text": [
            "가장 유사도가 큰 파일명 및 유사도:\n",
            " filename      fonts_amazon_kindle\n",
            "similarity                0.76506\n",
            "Name: 19, dtype: object\n"
          ]
        },
        {
          "output_type": "execute_result",
          "data": {
            "text/plain": [
              "Text(0.5, 1.0, 'battery-life_ipod_nano_8gb')"
            ]
          },
          "metadata": {},
          "execution_count": 31
        },
        {
          "output_type": "display_data",
          "data": {
            "text/plain": [
              "<Figure size 640x480 with 1 Axes>"
            ],
            "image/png": "[encoded data removed]"
          },
          "metadata": {}
        }
      ]
    },
    {
      "cell_type": "markdown",
      "source": [
        "## 08-09. 한글 텍스트 처리 - 네이버 영화 평점 감정 분석\n"
      ],
      "metadata": {
        "id": "RQ_l_843bie5"
      }
    },
    {
      "cell_type": "markdown",
      "source": [
        "### 한글 NLP 처리의 어려움\n",
        "- 한글 언어 처리는 영어 등의 라틴어 처리보다 어려움.\n",
        "   - 불명확한 띄어쓰기\n",
        "   - 다양한 조사로 인해 까다로운 어근 추출(Stemming/Lemmatization)"
      ],
      "metadata": {
        "id": "FyFwn3Vqbisp"
      }
    },
    {
      "cell_type": "markdown",
      "source": [
        "### KoNLPy 소개\n",
        "[정의]\n",
        "\n",
        "- KoNLPy: 파이썬의 대표적인 한글 형태소 패키지\n",
        "- 형태소: 단어로서 의미를 가지는 최소 단위\n",
        "- 형태소 분석(Morphological analysis): 말뭉치를 이러한 형태소 어근 단위로 쪼개고 각 형태소에 품사 태깅(POS tagging)을 부착하는 작업"
      ],
      "metadata": {
        "id": "rJsi64qZbi5o"
      }
    },
    {
      "cell_type": "code",
      "source": [
        "pip install konlpy"
      ],
      "metadata": {
        "colab": {
          "base_uri": "https://localhost:8080/"
        },
        "id": "NoeEWte0bjA4",
        "outputId": "600e4872-5e35-4034-e29c-d1d6b14bf486"
      },
      "execution_count": 32,
      "outputs": [
        {
          "output_type": "stream",
          "name": "stdout",
          "text": [
            "Collecting konlpy\n",
            "  Downloading konlpy-0.6.0-py2.py3-none-any.whl.metadata (1.9 kB)\n",
            "Collecting JPype1>=0.7.0 (from konlpy)\n",
            "  Downloading jpype1-1.5.2-cp311-cp311-manylinux_2_17_x86_64.manylinux2014_x86_64.whl.metadata (4.9 kB)\n",
            "Requirement already satisfied: lxml>=4.1.0 in /usr/local/lib/python3.11/dist-packages (from konlpy) (5.3.1)\n",
            "Requirement already satisfied: numpy>=1.6 in /usr/local/lib/python3.11/dist-packages (from konlpy) (2.0.2)\n",
            "Requirement already satisfied: packaging in /usr/local/lib/python3.11/dist-packages (from JPype1>=0.7.0->konlpy) (24.2)\n",
            "Downloading konlpy-0.6.0-py2.py3-none-any.whl (19.4 MB)\n",
            "\u001b[2K   \u001b[90m━━━━━━━━━━━━━━━━━━━━━━━━━━━━━━━━━━━━━━━━\u001b[0m \u001b[32m19.4/19.4 MB\u001b[0m \u001b[31m42.5 MB/s\u001b[0m eta \u001b[36m0:00:00\u001b[0m\n",
            "\u001b[?25hDownloading jpype1-1.5.2-cp311-cp311-manylinux_2_17_x86_64.manylinux2014_x86_64.whl (494 kB)\n",
            "\u001b[2K   \u001b[90m━━━━━━━━━━━━━━━━━━━━━━━━━━━━━━━━━━━━━━━━\u001b[0m \u001b[32m494.1/494.1 kB\u001b[0m \u001b[31m29.1 MB/s\u001b[0m eta \u001b[36m0:00:00\u001b[0m\n",
            "\u001b[?25hInstalling collected packages: JPype1, konlpy\n",
            "Successfully installed JPype1-1.5.2 konlpy-0.6.0\n"
          ]
        }
      ]
    },
    {
      "cell_type": "markdown",
      "source": [
        "### 데이터 로딩"
      ],
      "metadata": {
        "id": "KCSv-soXbjHI"
      }
    },
    {
      "cell_type": "code",
      "source": [
        "import pandas as pd\n",
        "\n",
        "train_df = pd.read_csv('/content/drive/MyDrive/ratings_train.txt', sep='\\t')\n",
        "train_df.head(3)"
      ],
      "metadata": {
        "colab": {
          "base_uri": "https://localhost:8080/",
          "height": 143
        },
        "id": "OcV4zgE-bjOU",
        "outputId": "3c1852a4-d67a-4db9-e36a-982fe2323e4b"
      },
      "execution_count": 34,
      "outputs": [
        {
          "output_type": "execute_result",
          "data": {
            "text/plain": [
              "         id                           document  label\n",
              "0   9976970                아 더빙.. 진짜 짜증나네요 목소리      0\n",
              "1   3819312  흠...포스터보고 초딩영화줄....오버연기조차 가볍지 않구나      1\n",
              "2  10265843                  너무재밓었다그래서보는것을추천한다      0"
            ],
            "text/html": [
              "\n",
              "  <div id=\"df-529c6baf-b19c-4afe-9c63-f6fe6041c57d\" class=\"colab-df-container\">\n",
              "    <div>\n",
              "<style scoped>\n",
              "    .dataframe tbody tr th:only-of-type {\n",
              "        vertical-align: middle;\n",
              "    }\n",
              "\n",
              "    .dataframe tbody tr th {\n",
              "        vertical-align: top;\n",
              "    }\n",
              "\n",
              "    .dataframe thead th {\n",
              "        text-align: right;\n",
              "    }\n",
              "</style>\n",
              "<table border=\"1\" class=\"dataframe\">\n",
              "  <thead>\n",
              "    <tr style=\"text-align: right;\">\n",
              "      <th></th>\n",
              "      <th>id</th>\n",
              "      <th>document</th>\n",
              "      <th>label</th>\n",
              "    </tr>\n",
              "  </thead>\n",
              "  <tbody>\n",
              "    <tr>\n",
              "      <th>0</th>\n",
              "      <td>9976970</td>\n",
              "      <td>아 더빙.. 진짜 짜증나네요 목소리</td>\n",
              "      <td>0</td>\n",
              "    </tr>\n",
              "    <tr>\n",
              "      <th>1</th>\n",
              "      <td>3819312</td>\n",
              "      <td>흠...포스터보고 초딩영화줄....오버연기조차 가볍지 않구나</td>\n",
              "      <td>1</td>\n",
              "    </tr>\n",
              "    <tr>\n",
              "      <th>2</th>\n",
              "      <td>10265843</td>\n",
              "      <td>너무재밓었다그래서보는것을추천한다</td>\n",
              "      <td>0</td>\n",
              "    </tr>\n",
              "  </tbody>\n",
              "</table>\n",
              "</div>\n",
              "    <div class=\"colab-df-buttons\">\n",
              "\n",
              "  <div class=\"colab-df-container\">\n",
              "    <button class=\"colab-df-convert\" onclick=\"convertToInteractive('df-529c6baf-b19c-4afe-9c63-f6fe6041c57d')\"\n",
              "            title=\"Convert this dataframe to an interactive table.\"\n",
              "            style=\"display:none;\">\n",
              "\n",
              "  <svg xmlns=\"http://www.w3.org/2000/svg\" height=\"24px\" viewBox=\"0 -960 960 960\">\n",
              "    <path d=\"M120-120v-720h720v720H120Zm60-500h600v-160H180v160Zm220 220h160v-160H400v160Zm0 220h160v-160H400v160ZM180-400h160v-160H180v160Zm440 0h160v-160H620v160ZM180-180h160v-160H180v160Zm440 0h160v-160H620v160Z\"/>\n",
              "  </svg>\n",
              "    </button>\n",
              "\n",
              "  <style>\n",
              "    .colab-df-container {\n",
              "      display:flex;\n",
              "      gap: 12px;\n",
              "    }\n",
              "\n",
              "    .colab-df-convert {\n",
              "      background-color: #E8F0FE;\n",
              "      border: none;\n",
              "      border-radius: 50%;\n",
              "      cursor: pointer;\n",
              "      display: none;\n",
              "      fill: #1967D2;\n",
              "      height: 32px;\n",
              "      padding: 0 0 0 0;\n",
              "      width: 32px;\n",
              "    }\n",
              "\n",
              "    .colab-df-convert:hover {\n",
              "      background-color: #E2EBFA;\n",
              "      box-shadow: 0px 1px 2px rgba(60, 64, 67, 0.3), 0px 1px 3px 1px rgba(60, 64, 67, 0.15);\n",
              "      fill: #174EA6;\n",
              "    }\n",
              "\n",
              "    .colab-df-buttons div {\n",
              "      margin-bottom: 4px;\n",
              "    }\n",
              "\n",
              "    [theme=dark] .colab-df-convert {\n",
              "      background-color: #3B4455;\n",
              "      fill: #D2E3FC;\n",
              "    }\n",
              "\n",
              "    [theme=dark] .colab-df-convert:hover {\n",
              "      background-color: #434B5C;\n",
              "      box-shadow: 0px 1px 3px 1px rgba(0, 0, 0, 0.15);\n",
              "      filter: drop-shadow(0px 1px 2px rgba(0, 0, 0, 0.3));\n",
              "      fill: #FFFFFF;\n",
              "    }\n",
              "  </style>\n",
              "\n",
              "    <script>\n",
              "      const buttonEl =\n",
              "        document.querySelector('#df-529c6baf-b19c-4afe-9c63-f6fe6041c57d button.colab-df-convert');\n",
              "      buttonEl.style.display =\n",
              "        google.colab.kernel.accessAllowed ? 'block' : 'none';\n",
              "\n",
              "      async function convertToInteractive(key) {\n",
              "        const element = document.querySelector('#df-529c6baf-b19c-4afe-9c63-f6fe6041c57d');\n",
              "        const dataTable =\n",
              "          await google.colab.kernel.invokeFunction('convertToInteractive',\n",
              "                                                    [key], {});\n",
              "        if (!dataTable) return;\n",
              "\n",
              "        const docLinkHtml = 'Like what you see? Visit the ' +\n",
              "          '<a target=\"_blank\" href=https://colab.research.google.com/notebooks/data_table.ipynb>data table notebook</a>'\n",
              "          + ' to learn more about interactive tables.';\n",
              "        element.innerHTML = '';\n",
              "        dataTable['output_type'] = 'display_data';\n",
              "        await google.colab.output.renderOutput(dataTable, element);\n",
              "        const docLink = document.createElement('div');\n",
              "        docLink.innerHTML = docLinkHtml;\n",
              "        element.appendChild(docLink);\n",
              "      }\n",
              "    </script>\n",
              "  </div>\n",
              "\n",
              "\n",
              "<div id=\"df-33227563-c726-4b90-8713-ac9ab2d262e6\">\n",
              "  <button class=\"colab-df-quickchart\" onclick=\"quickchart('df-33227563-c726-4b90-8713-ac9ab2d262e6')\"\n",
              "            title=\"Suggest charts\"\n",
              "            style=\"display:none;\">\n",
              "\n",
              "<svg xmlns=\"http://www.w3.org/2000/svg\" height=\"24px\"viewBox=\"0 0 24 24\"\n",
              "     width=\"24px\">\n",
              "    <g>\n",
              "        <path d=\"M19 3H5c-1.1 0-2 .9-2 2v14c0 1.1.9 2 2 2h14c1.1 0 2-.9 2-2V5c0-1.1-.9-2-2-2zM9 17H7v-7h2v7zm4 0h-2V7h2v10zm4 0h-2v-4h2v4z\"/>\n",
              "    </g>\n",
              "</svg>\n",
              "  </button>\n",
              "\n",
              "<style>\n",
              "  .colab-df-quickchart {\n",
              "      --bg-color: #E8F0FE;\n",
              "      --fill-color: #1967D2;\n",
              "      --hover-bg-color: #E2EBFA;\n",
              "      --hover-fill-color: #174EA6;\n",
              "      --disabled-fill-color: #AAA;\n",
              "      --disabled-bg-color: #DDD;\n",
              "  }\n",
              "\n",
              "  [theme=dark] .colab-df-quickchart {\n",
              "      --bg-color: #3B4455;\n",
              "      --fill-color: #D2E3FC;\n",
              "      --hover-bg-color: #434B5C;\n",
              "      --hover-fill-color: #FFFFFF;\n",
              "      --disabled-bg-color: #3B4455;\n",
              "      --disabled-fill-color: #666;\n",
              "  }\n",
              "\n",
              "  .colab-df-quickchart {\n",
              "    background-color: var(--bg-color);\n",
              "    border: none;\n",
              "    border-radius: 50%;\n",
              "    cursor: pointer;\n",
              "    display: none;\n",
              "    fill: var(--fill-color);\n",
              "    height: 32px;\n",
              "    padding: 0;\n",
              "    width: 32px;\n",
              "  }\n",
              "\n",
              "  .colab-df-quickchart:hover {\n",
              "    background-color: var(--hover-bg-color);\n",
              "    box-shadow: 0 1px 2px rgba(60, 64, 67, 0.3), 0 1px 3px 1px rgba(60, 64, 67, 0.15);\n",
              "    fill: var(--button-hover-fill-color);\n",
              "  }\n",
              "\n",
              "  .colab-df-quickchart-complete:disabled,\n",
              "  .colab-df-quickchart-complete:disabled:hover {\n",
              "    background-color: var(--disabled-bg-color);\n",
              "    fill: var(--disabled-fill-color);\n",
              "    box-shadow: none;\n",
              "  }\n",
              "\n",
              "  .colab-df-spinner {\n",
              "    border: 2px solid var(--fill-color);\n",
              "    border-color: transparent;\n",
              "    border-bottom-color: var(--fill-color);\n",
              "    animation:\n",
              "      spin 1s steps(1) infinite;\n",
              "  }\n",
              "\n",
              "  @keyframes spin {\n",
              "    0% {\n",
              "      border-color: transparent;\n",
              "      border-bottom-color: var(--fill-color);\n",
              "      border-left-color: var(--fill-color);\n",
              "    }\n",
              "    20% {\n",
              "      border-color: transparent;\n",
              "      border-left-color: var(--fill-color);\n",
              "      border-top-color: var(--fill-color);\n",
              "    }\n",
              "    30% {\n",
              "      border-color: transparent;\n",
              "      border-left-color: var(--fill-color);\n",
              "      border-top-color: var(--fill-color);\n",
              "      border-right-color: var(--fill-color);\n",
              "    }\n",
              "    40% {\n",
              "      border-color: transparent;\n",
              "      border-right-color: var(--fill-color);\n",
              "      border-top-color: var(--fill-color);\n",
              "    }\n",
              "    60% {\n",
              "      border-color: transparent;\n",
              "      border-right-color: var(--fill-color);\n",
              "    }\n",
              "    80% {\n",
              "      border-color: transparent;\n",
              "      border-right-color: var(--fill-color);\n",
              "      border-bottom-color: var(--fill-color);\n",
              "    }\n",
              "    90% {\n",
              "      border-color: transparent;\n",
              "      border-bottom-color: var(--fill-color);\n",
              "    }\n",
              "  }\n",
              "</style>\n",
              "\n",
              "  <script>\n",
              "    async function quickchart(key) {\n",
              "      const quickchartButtonEl =\n",
              "        document.querySelector('#' + key + ' button');\n",
              "      quickchartButtonEl.disabled = true;  // To prevent multiple clicks.\n",
              "      quickchartButtonEl.classList.add('colab-df-spinner');\n",
              "      try {\n",
              "        const charts = await google.colab.kernel.invokeFunction(\n",
              "            'suggestCharts', [key], {});\n",
              "      } catch (error) {\n",
              "        console.error('Error during call to suggestCharts:', error);\n",
              "      }\n",
              "      quickchartButtonEl.classList.remove('colab-df-spinner');\n",
              "      quickchartButtonEl.classList.add('colab-df-quickchart-complete');\n",
              "    }\n",
              "    (() => {\n",
              "      let quickchartButtonEl =\n",
              "        document.querySelector('#df-33227563-c726-4b90-8713-ac9ab2d262e6 button');\n",
              "      quickchartButtonEl.style.display =\n",
              "        google.colab.kernel.accessAllowed ? 'block' : 'none';\n",
              "    })();\n",
              "  </script>\n",
              "</div>\n",
              "\n",
              "    </div>\n",
              "  </div>\n"
            ],
            "application/vnd.google.colaboratory.intrinsic+json": {
              "type": "dataframe",
              "variable_name": "train_df"
            }
          },
          "metadata": {},
          "execution_count": 34
        }
      ]
    },
    {
      "cell_type": "code",
      "source": [
        "# 학습 데이터 세트의 0과 1의 Label 값 비율\n",
        "train_df['label'].value_counts()"
      ],
      "metadata": {
        "colab": {
          "base_uri": "https://localhost:8080/",
          "height": 178
        },
        "id": "UohQTMnTnB3t",
        "outputId": "c8987431-304c-4330-b1c4-a567957f2b32"
      },
      "execution_count": 35,
      "outputs": [
        {
          "output_type": "execute_result",
          "data": {
            "text/plain": [
              "label\n",
              "0    75173\n",
              "1    74827\n",
              "Name: count, dtype: int64"
            ],
            "text/html": [
              "<div>\n",
              "<style scoped>\n",
              "    .dataframe tbody tr th:only-of-type {\n",
              "        vertical-align: middle;\n",
              "    }\n",
              "\n",
              "    .dataframe tbody tr th {\n",
              "        vertical-align: top;\n",
              "    }\n",
              "\n",
              "    .dataframe thead th {\n",
              "        text-align: right;\n",
              "    }\n",
              "</style>\n",
              "<table border=\"1\" class=\"dataframe\">\n",
              "  <thead>\n",
              "    <tr style=\"text-align: right;\">\n",
              "      <th></th>\n",
              "      <th>count</th>\n",
              "    </tr>\n",
              "    <tr>\n",
              "      <th>label</th>\n",
              "      <th></th>\n",
              "    </tr>\n",
              "  </thead>\n",
              "  <tbody>\n",
              "    <tr>\n",
              "      <th>0</th>\n",
              "      <td>75173</td>\n",
              "    </tr>\n",
              "    <tr>\n",
              "      <th>1</th>\n",
              "      <td>74827</td>\n",
              "    </tr>\n",
              "  </tbody>\n",
              "</table>\n",
              "</div><br><label><b>dtype:</b> int64</label>"
            ]
          },
          "metadata": {},
          "execution_count": 35
        }
      ]
    },
    {
      "cell_type": "code",
      "source": [
        "import re\n",
        "\n",
        "train_df = train_df.fillna('')\n",
        "# 정규 표현식을 이용해 숫자를 공백으로 변경(정규 표현식으로 \\d는 숫자를 의미함.)\n",
        "train_df['document'] = train_df['document'].apply(lambda x : re.sub(r\"\\d+\", \" \", x))\n",
        "\n",
        "# 테스트 데이터 세트를 로딩하고 동일하게 Null 및 숫자를 공백으로 변환\n",
        "test_df = pd.read_csv('/content/drive/MyDrive/ratings_test.txt', sep='\\t')\n",
        "test_df = test_df.fillna(' ')\n",
        "test_df['document'] = test_df['document'].apply(lambda x : re.sub(r'\\d+', ' ', x))\n",
        "\n",
        "# id 칼럼 삭제 수행\n",
        "train_df.drop('id', axis=1, inplace=True)\n",
        "test_df.drop('id', axis=1, inplace=True)"
      ],
      "metadata": {
        "id": "G-xvqm4hnB8V"
      },
      "execution_count": 36,
      "outputs": []
    },
    {
      "cell_type": "code",
      "source": [
        "# Twitter 객체의 morphs( ) 메서드를 이용하여 형태소 단어로 토큰화\n",
        "from konlpy.tag import Twitter\n",
        "\n",
        "twitter = Twitter()\n",
        "\n",
        "def tw_tokenizer(text):\n",
        "  # 입력 인자로 들어온 텍스트를 형태소 단어로 토큰화 해 리스트 형태로 반환\n",
        "  tokens_ko = twitter.morphs(text)\n",
        "  return tokens_ko"
      ],
      "metadata": {
        "id": "t7VkQ6xZDtNh"
      },
      "execution_count": 39,
      "outputs": []
    },
    {
      "cell_type": "code",
      "source": [
        "# 사이킷런의 TfidfVectorizer을 이용해 TF-IDF 피처 모델을 생성\n",
        "from sklearn.feature_extraction.text import TfidfVectorizer\n",
        "from sklearn.linear_model import LogisticRegression\n",
        "from sklearn.model_selection import GridSearchCV\n",
        "\n",
        "# Twitter 객체의 morph() 객체를 이용한 tokenizer을 이용. ngram_range는 (1, 2)\n",
        "tfidf_vect = TfidfVectorizer(tokenizer=tw_tokenizer, ngram_range=(1,2), min_df=3, max_df=0.9)\n",
        "tfidf_vect.fit(train_df['document'])\n",
        "tfidf_matrix_train = tfidf_vect.transform(train_df['document'])"
      ],
      "metadata": {
        "colab": {
          "base_uri": "https://localhost:8080/"
        },
        "id": "1qs1l1vVDtQD",
        "outputId": "ed918b3d-db2c-4658-e4ac-d01c36dc062f"
      },
      "execution_count": null,
      "outputs": [
        {
          "output_type": "stream",
          "name": "stderr",
          "text": [
            "/usr/local/lib/python3.11/dist-packages/sklearn/feature_extraction/text.py:517: UserWarning: The parameter 'token_pattern' will not be used since 'tokenizer' is not None'\n",
            "  warnings.warn(\n"
          ]
        }
      ]
    },
    {
      "cell_type": "code",
      "source": [
        "# 로지스틱 회귀를 이용해 감성 분석 분류 수행\n",
        "lg_clf = LogisticRegression(random_state=0, solver='liblinear')\n",
        "\n",
        "# 파라미터 C 최적화를 위해 GridSearchCV를 이용\n",
        "params = {'C': [1, 3.5, 4.5, 5.5, 10]}\n",
        "grid_cv = GridSearchCV(lg_clf, param_grid=params, cv=3, scoring='accuracy', verbose=1)\n",
        "grid_cv.fit(tfidf_matrix_train, train_df['label'])\n",
        "print(grid_cv.best_params_, round(grid_cv.best_score_, 4))"
      ],
      "metadata": {
        "id": "CIIPRaPkDtS1"
      },
      "execution_count": null,
      "outputs": []
    },
    {
      "cell_type": "code",
      "source": [
        "# 최종 감성 분석 예측 수행\n",
        "from sklearn.metrics import accuracy_score\n",
        "\n",
        "# 학습 데이터를 적용한 TfidfVectorizer를 이용해 테스트 데이터를 TF-IDF 값으로 피처 변환함.\n",
        "tfidf_matrix_test = tfidf_vect.transform(test_df['document'])\n",
        "\n",
        "# classifier는 GridSearchCV에서 최적 파라미터로 학습된 classifier를 그대로 이용\n",
        "best_estimator = grid_cv.best_estimator\n",
        "preds = best_estimator.predict(tfidf_matrix_test)\n",
        "\n",
        "print('Logistic Regression 정확도:', accuracy_score(test_df['label'], preds))"
      ],
      "metadata": {
        "id": "9RgLqkXPDtWF"
      },
      "execution_count": null,
      "outputs": []
    }
  ]
}