{
  "nbformat": 4,
  "nbformat_minor": 0,
  "metadata": {
    "colab": {
      "provenance": []
    },
    "kernelspec": {
      "name": "python3",
      "display_name": "Python 3"
    },
    "language_info": {
      "name": "python"
    }
  },
  "cells": [
    {
      "cell_type": "markdown",
      "source": [
        "<파이썬 머신러닝 완벽 가이드 개정 2판> 8장 p.566 - 583\n",
        "\n",
        "# CHAPTER 08. 텍스트 분류\n",
        "---\n",
        "## 08-10. 텍스트 분석 실습 - 캐글 Mercai Price Suggestion Challenge\n",
        "#### 1. 데이터 전처리\n",
        "#### 2. 피처 인코딩과 피처 벡터화\n",
        "#### 3. 릿지 회귀 모델 구축 및 평가\n",
        "#### 4. LightGBM 회귀 모델 구축과 앙상블을 이용한 최종 예측 평가\n",
        "\n",
        "---"
      ],
      "metadata": {
        "id": "NOzKQlQrZMuO"
      }
    },
    {
      "cell_type": "code",
      "source": [
        "from google.colab import drive\n",
        "drive.mount('/content/drive')"
      ],
      "metadata": {
        "id": "j5iJhCAin8yI",
        "colab": {
          "base_uri": "https://localhost:8080/"
        },
        "outputId": "61a968f2-2aec-4cd9-b91f-db29bb875398"
      },
      "execution_count": null,
      "outputs": [
        {
          "output_type": "stream",
          "name": "stdout",
          "text": [
            "Drive already mounted at /content/drive; to attempt to forcibly remount, call drive.mount(\"/content/drive\", force_remount=True).\n"
          ]
        }
      ]
    },
    {
      "cell_type": "markdown",
      "source": [
        "### 1. 데이터 전처리\n"
      ],
      "metadata": {
        "id": "3cTfRkt4dBGp"
      }
    },
    {
      "cell_type": "code",
      "source": [
        "from sklearn.linear_model import Ridge, LogisticRegression\n",
        "from sklearn.model_selection import train_test_split, cross_val_score\n",
        "from sklearn.feature_extraction.text import CountVectorizer, TfidfVectorizer\n",
        "import pandas as pd\n",
        "\n",
        "mercari_df = pd.read_csv('/content/drive/MyDrive/ESAA_OB/Dataset/train.tsv', sep='\\t')\n",
        "print(mercari_df.shape)\n",
        "mercari_df.head(3)"
      ],
      "metadata": {
        "colab": {
          "base_uri": "https://localhost:8080/",
          "height": 213
        },
        "id": "QxglTUvEdSeh",
        "outputId": "4a5620c9-42dc-4347-c743-e37550aeb3b6"
      },
      "execution_count": null,
      "outputs": [
        {
          "output_type": "stream",
          "name": "stdout",
          "text": [
            "(1482535, 8)\n"
          ]
        },
        {
          "output_type": "execute_result",
          "data": {
            "text/plain": [
              "   train_id                                 name  item_condition_id  \\\n",
              "0         0  MLB Cincinnati Reds T Shirt Size XL                  3   \n",
              "1         1     Razer BlackWidow Chroma Keyboard                  3   \n",
              "2         2                       AVA-VIV Blouse                  1   \n",
              "\n",
              "                                       category_name brand_name  price  \\\n",
              "0                                  Men/Tops/T-shirts        NaN   10.0   \n",
              "1  Electronics/Computers & Tablets/Components & P...      Razer   52.0   \n",
              "2                        Women/Tops & Blouses/Blouse     Target   10.0   \n",
              "\n",
              "   shipping                                   item_description  \n",
              "0         1                                 No description yet  \n",
              "1         0  This keyboard is in great condition and works ...  \n",
              "2         1  Adorable top with a hint of lace and a key hol...  "
            ],
            "text/html": [
              "\n",
              "  <div id=\"df-18f35cc3-d121-4ac5-88e6-4c7dba7319ce\" class=\"colab-df-container\">\n",
              "    <div>\n",
              "<style scoped>\n",
              "    .dataframe tbody tr th:only-of-type {\n",
              "        vertical-align: middle;\n",
              "    }\n",
              "\n",
              "    .dataframe tbody tr th {\n",
              "        vertical-align: top;\n",
              "    }\n",
              "\n",
              "    .dataframe thead th {\n",
              "        text-align: right;\n",
              "    }\n",
              "</style>\n",
              "<table border=\"1\" class=\"dataframe\">\n",
              "  <thead>\n",
              "    <tr style=\"text-align: right;\">\n",
              "      <th></th>\n",
              "      <th>train_id</th>\n",
              "      <th>name</th>\n",
              "      <th>item_condition_id</th>\n",
              "      <th>category_name</th>\n",
              "      <th>brand_name</th>\n",
              "      <th>price</th>\n",
              "      <th>shipping</th>\n",
              "      <th>item_description</th>\n",
              "    </tr>\n",
              "  </thead>\n",
              "  <tbody>\n",
              "    <tr>\n",
              "      <th>0</th>\n",
              "      <td>0</td>\n",
              "      <td>MLB Cincinnati Reds T Shirt Size XL</td>\n",
              "      <td>3</td>\n",
              "      <td>Men/Tops/T-shirts</td>\n",
              "      <td>NaN</td>\n",
              "      <td>10.0</td>\n",
              "      <td>1</td>\n",
              "      <td>No description yet</td>\n",
              "    </tr>\n",
              "    <tr>\n",
              "      <th>1</th>\n",
              "      <td>1</td>\n",
              "      <td>Razer BlackWidow Chroma Keyboard</td>\n",
              "      <td>3</td>\n",
              "      <td>Electronics/Computers &amp; Tablets/Components &amp; P...</td>\n",
              "      <td>Razer</td>\n",
              "      <td>52.0</td>\n",
              "      <td>0</td>\n",
              "      <td>This keyboard is in great condition and works ...</td>\n",
              "    </tr>\n",
              "    <tr>\n",
              "      <th>2</th>\n",
              "      <td>2</td>\n",
              "      <td>AVA-VIV Blouse</td>\n",
              "      <td>1</td>\n",
              "      <td>Women/Tops &amp; Blouses/Blouse</td>\n",
              "      <td>Target</td>\n",
              "      <td>10.0</td>\n",
              "      <td>1</td>\n",
              "      <td>Adorable top with a hint of lace and a key hol...</td>\n",
              "    </tr>\n",
              "  </tbody>\n",
              "</table>\n",
              "</div>\n",
              "    <div class=\"colab-df-buttons\">\n",
              "\n",
              "  <div class=\"colab-df-container\">\n",
              "    <button class=\"colab-df-convert\" onclick=\"convertToInteractive('df-18f35cc3-d121-4ac5-88e6-4c7dba7319ce')\"\n",
              "            title=\"Convert this dataframe to an interactive table.\"\n",
              "            style=\"display:none;\">\n",
              "\n",
              "  <svg xmlns=\"http://www.w3.org/2000/svg\" height=\"24px\" viewBox=\"0 -960 960 960\">\n",
              "    <path d=\"M120-120v-720h720v720H120Zm60-500h600v-160H180v160Zm220 220h160v-160H400v160Zm0 220h160v-160H400v160ZM180-400h160v-160H180v160Zm440 0h160v-160H620v160ZM180-180h160v-160H180v160Zm440 0h160v-160H620v160Z\"/>\n",
              "  </svg>\n",
              "    </button>\n",
              "\n",
              "  <style>\n",
              "    .colab-df-container {\n",
              "      display:flex;\n",
              "      gap: 12px;\n",
              "    }\n",
              "\n",
              "    .colab-df-convert {\n",
              "      background-color: #E8F0FE;\n",
              "      border: none;\n",
              "      border-radius: 50%;\n",
              "      cursor: pointer;\n",
              "      display: none;\n",
              "      fill: #1967D2;\n",
              "      height: 32px;\n",
              "      padding: 0 0 0 0;\n",
              "      width: 32px;\n",
              "    }\n",
              "\n",
              "    .colab-df-convert:hover {\n",
              "      background-color: #E2EBFA;\n",
              "      box-shadow: 0px 1px 2px rgba(60, 64, 67, 0.3), 0px 1px 3px 1px rgba(60, 64, 67, 0.15);\n",
              "      fill: #174EA6;\n",
              "    }\n",
              "\n",
              "    .colab-df-buttons div {\n",
              "      margin-bottom: 4px;\n",
              "    }\n",
              "\n",
              "    [theme=dark] .colab-df-convert {\n",
              "      background-color: #3B4455;\n",
              "      fill: #D2E3FC;\n",
              "    }\n",
              "\n",
              "    [theme=dark] .colab-df-convert:hover {\n",
              "      background-color: #434B5C;\n",
              "      box-shadow: 0px 1px 3px 1px rgba(0, 0, 0, 0.15);\n",
              "      filter: drop-shadow(0px 1px 2px rgba(0, 0, 0, 0.3));\n",
              "      fill: #FFFFFF;\n",
              "    }\n",
              "  </style>\n",
              "\n",
              "    <script>\n",
              "      const buttonEl =\n",
              "        document.querySelector('#df-18f35cc3-d121-4ac5-88e6-4c7dba7319ce button.colab-df-convert');\n",
              "      buttonEl.style.display =\n",
              "        google.colab.kernel.accessAllowed ? 'block' : 'none';\n",
              "\n",
              "      async function convertToInteractive(key) {\n",
              "        const element = document.querySelector('#df-18f35cc3-d121-4ac5-88e6-4c7dba7319ce');\n",
              "        const dataTable =\n",
              "          await google.colab.kernel.invokeFunction('convertToInteractive',\n",
              "                                                    [key], {});\n",
              "        if (!dataTable) return;\n",
              "\n",
              "        const docLinkHtml = 'Like what you see? Visit the ' +\n",
              "          '<a target=\"_blank\" href=https://colab.research.google.com/notebooks/data_table.ipynb>data table notebook</a>'\n",
              "          + ' to learn more about interactive tables.';\n",
              "        element.innerHTML = '';\n",
              "        dataTable['output_type'] = 'display_data';\n",
              "        await google.colab.output.renderOutput(dataTable, element);\n",
              "        const docLink = document.createElement('div');\n",
              "        docLink.innerHTML = docLinkHtml;\n",
              "        element.appendChild(docLink);\n",
              "      }\n",
              "    </script>\n",
              "  </div>\n",
              "\n",
              "\n",
              "<div id=\"df-17f475a4-076f-4988-bdf6-625eb5954df8\">\n",
              "  <button class=\"colab-df-quickchart\" onclick=\"quickchart('df-17f475a4-076f-4988-bdf6-625eb5954df8')\"\n",
              "            title=\"Suggest charts\"\n",
              "            style=\"display:none;\">\n",
              "\n",
              "<svg xmlns=\"http://www.w3.org/2000/svg\" height=\"24px\"viewBox=\"0 0 24 24\"\n",
              "     width=\"24px\">\n",
              "    <g>\n",
              "        <path d=\"M19 3H5c-1.1 0-2 .9-2 2v14c0 1.1.9 2 2 2h14c1.1 0 2-.9 2-2V5c0-1.1-.9-2-2-2zM9 17H7v-7h2v7zm4 0h-2V7h2v10zm4 0h-2v-4h2v4z\"/>\n",
              "    </g>\n",
              "</svg>\n",
              "  </button>\n",
              "\n",
              "<style>\n",
              "  .colab-df-quickchart {\n",
              "      --bg-color: #E8F0FE;\n",
              "      --fill-color: #1967D2;\n",
              "      --hover-bg-color: #E2EBFA;\n",
              "      --hover-fill-color: #174EA6;\n",
              "      --disabled-fill-color: #AAA;\n",
              "      --disabled-bg-color: #DDD;\n",
              "  }\n",
              "\n",
              "  [theme=dark] .colab-df-quickchart {\n",
              "      --bg-color: #3B4455;\n",
              "      --fill-color: #D2E3FC;\n",
              "      --hover-bg-color: #434B5C;\n",
              "      --hover-fill-color: #FFFFFF;\n",
              "      --disabled-bg-color: #3B4455;\n",
              "      --disabled-fill-color: #666;\n",
              "  }\n",
              "\n",
              "  .colab-df-quickchart {\n",
              "    background-color: var(--bg-color);\n",
              "    border: none;\n",
              "    border-radius: 50%;\n",
              "    cursor: pointer;\n",
              "    display: none;\n",
              "    fill: var(--fill-color);\n",
              "    height: 32px;\n",
              "    padding: 0;\n",
              "    width: 32px;\n",
              "  }\n",
              "\n",
              "  .colab-df-quickchart:hover {\n",
              "    background-color: var(--hover-bg-color);\n",
              "    box-shadow: 0 1px 2px rgba(60, 64, 67, 0.3), 0 1px 3px 1px rgba(60, 64, 67, 0.15);\n",
              "    fill: var(--button-hover-fill-color);\n",
              "  }\n",
              "\n",
              "  .colab-df-quickchart-complete:disabled,\n",
              "  .colab-df-quickchart-complete:disabled:hover {\n",
              "    background-color: var(--disabled-bg-color);\n",
              "    fill: var(--disabled-fill-color);\n",
              "    box-shadow: none;\n",
              "  }\n",
              "\n",
              "  .colab-df-spinner {\n",
              "    border: 2px solid var(--fill-color);\n",
              "    border-color: transparent;\n",
              "    border-bottom-color: var(--fill-color);\n",
              "    animation:\n",
              "      spin 1s steps(1) infinite;\n",
              "  }\n",
              "\n",
              "  @keyframes spin {\n",
              "    0% {\n",
              "      border-color: transparent;\n",
              "      border-bottom-color: var(--fill-color);\n",
              "      border-left-color: var(--fill-color);\n",
              "    }\n",
              "    20% {\n",
              "      border-color: transparent;\n",
              "      border-left-color: var(--fill-color);\n",
              "      border-top-color: var(--fill-color);\n",
              "    }\n",
              "    30% {\n",
              "      border-color: transparent;\n",
              "      border-left-color: var(--fill-color);\n",
              "      border-top-color: var(--fill-color);\n",
              "      border-right-color: var(--fill-color);\n",
              "    }\n",
              "    40% {\n",
              "      border-color: transparent;\n",
              "      border-right-color: var(--fill-color);\n",
              "      border-top-color: var(--fill-color);\n",
              "    }\n",
              "    60% {\n",
              "      border-color: transparent;\n",
              "      border-right-color: var(--fill-color);\n",
              "    }\n",
              "    80% {\n",
              "      border-color: transparent;\n",
              "      border-right-color: var(--fill-color);\n",
              "      border-bottom-color: var(--fill-color);\n",
              "    }\n",
              "    90% {\n",
              "      border-color: transparent;\n",
              "      border-bottom-color: var(--fill-color);\n",
              "    }\n",
              "  }\n",
              "</style>\n",
              "\n",
              "  <script>\n",
              "    async function quickchart(key) {\n",
              "      const quickchartButtonEl =\n",
              "        document.querySelector('#' + key + ' button');\n",
              "      quickchartButtonEl.disabled = true;  // To prevent multiple clicks.\n",
              "      quickchartButtonEl.classList.add('colab-df-spinner');\n",
              "      try {\n",
              "        const charts = await google.colab.kernel.invokeFunction(\n",
              "            'suggestCharts', [key], {});\n",
              "      } catch (error) {\n",
              "        console.error('Error during call to suggestCharts:', error);\n",
              "      }\n",
              "      quickchartButtonEl.classList.remove('colab-df-spinner');\n",
              "      quickchartButtonEl.classList.add('colab-df-quickchart-complete');\n",
              "    }\n",
              "    (() => {\n",
              "      let quickchartButtonEl =\n",
              "        document.querySelector('#df-17f475a4-076f-4988-bdf6-625eb5954df8 button');\n",
              "      quickchartButtonEl.style.display =\n",
              "        google.colab.kernel.accessAllowed ? 'block' : 'none';\n",
              "    })();\n",
              "  </script>\n",
              "</div>\n",
              "\n",
              "    </div>\n",
              "  </div>\n"
            ],
            "application/vnd.google.colaboratory.intrinsic+json": {
              "type": "dataframe",
              "variable_name": "mercari_df"
            }
          },
          "metadata": {},
          "execution_count": 3
        }
      ]
    },
    {
      "cell_type": "code",
      "source": [
        "print(mercari_df.info())"
      ],
      "metadata": {
        "colab": {
          "base_uri": "https://localhost:8080/"
        },
        "id": "lPOyYvKPdSgq",
        "outputId": "46160039-3d79-4892-e428-185911548557"
      },
      "execution_count": null,
      "outputs": [
        {
          "output_type": "stream",
          "name": "stdout",
          "text": [
            "<class 'pandas.core.frame.DataFrame'>\n",
            "RangeIndex: 1482535 entries, 0 to 1482534\n",
            "Data columns (total 8 columns):\n",
            " #   Column             Non-Null Count    Dtype  \n",
            "---  ------             --------------    -----  \n",
            " 0   train_id           1482535 non-null  int64  \n",
            " 1   name               1482535 non-null  object \n",
            " 2   item_condition_id  1482535 non-null  int64  \n",
            " 3   category_name      1476208 non-null  object \n",
            " 4   brand_name         849853 non-null   object \n",
            " 5   price              1482535 non-null  float64\n",
            " 6   shipping           1482535 non-null  int64  \n",
            " 7   item_description   1482529 non-null  object \n",
            "dtypes: float64(1), int64(3), object(4)\n",
            "memory usage: 90.5+ MB\n",
            "None\n"
          ]
        }
      ]
    },
    {
      "cell_type": "markdown",
      "source": [
        "![image.png](data:image/png;base64,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)"
      ],
      "metadata": {
        "id": "m2YG0Fyxe60W"
      }
    },
    {
      "cell_type": "markdown",
      "source": [
        "#####**price**"
      ],
      "metadata": {
        "id": "ODUCD8hx1YPM"
      }
    },
    {
      "cell_type": "code",
      "source": [
        "# 타깃 값인 price 칼럼의 데이터 값 분포도 확인\n",
        "import matplotlib.pyplot as plt\n",
        "import seaborn as sns\n",
        "\n",
        "y_train_df = mercari_df['price']\n",
        "plt.figure(figsize=(6, 4))\n",
        "sns.histplot(y_train_df, bins=100)\n",
        "plt.show()"
      ],
      "metadata": {
        "colab": {
          "base_uri": "https://localhost:8080/",
          "height": 388
        },
        "id": "T8vsjId8dSi4",
        "outputId": "5888f3ba-34f0-4c10-cfb8-85cbe09bb08f"
      },
      "execution_count": null,
      "outputs": [
        {
          "output_type": "display_data",
          "data": {
            "text/plain": [
              "<Figure size 600x400 with 1 Axes>"
            ],
            "image/png": "[encoded data removed]"
          },
          "metadata": {}
        }
      ]
    },
    {
      "cell_type": "code",
      "source": [
        "# price 값이 비교적 적은 가격을 가진 데이터 값에 왜곡되어 분포해 있으므로 로그값으로 변환한 뒤 그 분포도를 살펴보기\n",
        "import numpy as np\n",
        "\n",
        "y_train_df = np.log1p(y_train_df)\n",
        "plt.figure(figsize=(6, 4))\n",
        "sns.histplot(y_train_df, bins=100)\n",
        "plt.show()"
      ],
      "metadata": {
        "colab": {
          "base_uri": "https://localhost:8080/",
          "height": 388
        },
        "id": "eiaEkuCedSmf",
        "outputId": "e12afb09-463c-4268-f83c-c2640f5a0565"
      },
      "execution_count": null,
      "outputs": [
        {
          "output_type": "display_data",
          "data": {
            "text/plain": [
              "<Figure size 600x400 with 1 Axes>"
            ],
            "image/png": "[encoded data removed]"
          },
          "metadata": {}
        }
      ]
    },
    {
      "cell_type": "code",
      "source": [
        "# 데이터 세트의 price 칼럼을 원래 값에서 로그로 변환된 값으로 변경\n",
        "mercari_df['price'] = np.log1p(mercari_df['price'])\n",
        "mercari_df['price'].head(3)"
      ],
      "metadata": {
        "colab": {
          "base_uri": "https://localhost:8080/",
          "height": 178
        },
        "id": "YzDEmDpHdTHm",
        "outputId": "1cad532e-f6dc-47ce-a01f-a5aa7055a8de"
      },
      "execution_count": null,
      "outputs": [
        {
          "output_type": "execute_result",
          "data": {
            "text/plain": [
              "0    2.397895\n",
              "1    3.970292\n",
              "2    2.397895\n",
              "Name: price, dtype: float64"
            ],
            "text/html": [
              "<div>\n",
              "<style scoped>\n",
              "    .dataframe tbody tr th:only-of-type {\n",
              "        vertical-align: middle;\n",
              "    }\n",
              "\n",
              "    .dataframe tbody tr th {\n",
              "        vertical-align: top;\n",
              "    }\n",
              "\n",
              "    .dataframe thead th {\n",
              "        text-align: right;\n",
              "    }\n",
              "</style>\n",
              "<table border=\"1\" class=\"dataframe\">\n",
              "  <thead>\n",
              "    <tr style=\"text-align: right;\">\n",
              "      <th></th>\n",
              "      <th>price</th>\n",
              "    </tr>\n",
              "  </thead>\n",
              "  <tbody>\n",
              "    <tr>\n",
              "      <th>0</th>\n",
              "      <td>2.397895</td>\n",
              "    </tr>\n",
              "    <tr>\n",
              "      <th>1</th>\n",
              "      <td>3.970292</td>\n",
              "    </tr>\n",
              "    <tr>\n",
              "      <th>2</th>\n",
              "      <td>2.397895</td>\n",
              "    </tr>\n",
              "  </tbody>\n",
              "</table>\n",
              "</div><br><label><b>dtype:</b> float64</label>"
            ]
          },
          "metadata": {},
          "execution_count": 7
        }
      ]
    },
    {
      "cell_type": "markdown",
      "source": [
        "#####**item_condition_id**"
      ],
      "metadata": {
        "id": "4gaPUmjh1bTi"
      }
    },
    {
      "cell_type": "code",
      "source": [
        "# 범주형 피처인 shipping, iterm_condition_id 칼럼들의 유형 살피기\n",
        "print('Shipping 값 유형:\\n', mercari_df['shipping'].value_counts())\n",
        "print('iterm_condition_id 값 유형: \\n', mercari_df['item_condition_id'].value_counts())"
      ],
      "metadata": {
        "colab": {
          "base_uri": "https://localhost:8080/"
        },
        "id": "fxVabQnsdTJk",
        "outputId": "121c40da-96b8-41c3-f0f4-e30e9132b30b"
      },
      "execution_count": null,
      "outputs": [
        {
          "output_type": "stream",
          "name": "stdout",
          "text": [
            "Shipping 값 유형:\n",
            " shipping\n",
            "0    819435\n",
            "1    663100\n",
            "Name: count, dtype: int64\n",
            "iterm_condition_id 값 유형: \n",
            " item_condition_id\n",
            "1    640549\n",
            "3    432161\n",
            "2    375479\n",
            "4     31962\n",
            "5      2384\n",
            "Name: count, dtype: int64\n"
          ]
        }
      ]
    },
    {
      "cell_type": "code",
      "source": [
        "# item_description 칼럼에서 'No description yet'값이 얼마나 있는지 확인\n",
        "boolean_condition = mercari_df['item_description'] == 'No description yet'\n",
        "print(mercari_df[boolean_condition]['item_description'].count())"
      ],
      "metadata": {
        "colab": {
          "base_uri": "https://localhost:8080/"
        },
        "id": "FqR9qKAniEqe",
        "outputId": "22c23b31-ae4d-4241-8cf5-759e2118e42f"
      },
      "execution_count": null,
      "outputs": [
        {
          "output_type": "stream",
          "name": "stdout",
          "text": [
            "82489\n"
          ]
        }
      ]
    },
    {
      "cell_type": "markdown",
      "source": [
        "#####**category_name**"
      ],
      "metadata": {
        "id": "H-XBbH7J1yYv"
      }
    },
    {
      "cell_type": "code",
      "source": [
        "# category_name이 Null이 아닌 경우에 split('/')를 이용해 대, 중, 소 분류를 분리하는 함수 생성\n",
        "\n",
        "# apply lambda에서 호출되는 대, 중, 소 분할 함수 생성. 대, 중, 소 값을 리스트로 반환\n",
        "def split_cat(category_name):\n",
        "  try:\n",
        "    return category_name.split('/')\n",
        "  except:\n",
        "    return ['Other_Null', 'Other_Null', 'Other_Null']\n",
        "\n",
        "# 위의 split_cat()을 apply lambda에서 호출해 대, 중, 소 칼럼을 mercari_df에 생성\n",
        "mercari_df['cat_dae'], mercari_df['cat_jung'], mercari_df['cat_so'] = \\\n",
        "zip(*mercari_df['category_name'].apply(lambda x : split_cat(x)))"
      ],
      "metadata": {
        "id": "byMvJVTeiEse"
      },
      "execution_count": null,
      "outputs": []
    },
    {
      "cell_type": "code",
      "source": [
        "# 대분류만 값의 유형과 건수를 살펴보고, 중분류, 소분류는 값의 유형이 많으므로 분류 개수만 추출\n",
        "print('대분류 유형: \\n', mercari_df['cat_dae'].value_counts())\n",
        "print('중분류 유형: \\n', mercari_df['cat_jung'].nunique())\n",
        "print('소분류 유형: \\n', mercari_df['cat_so'].nunique())"
      ],
      "metadata": {
        "colab": {
          "base_uri": "https://localhost:8080/"
        },
        "id": "raVexfCfiEup",
        "outputId": "99c34e04-39b5-497b-fce0-668f6d9a1d0b"
      },
      "execution_count": null,
      "outputs": [
        {
          "output_type": "stream",
          "name": "stdout",
          "text": [
            "대분류 유형: \n",
            " cat_dae\n",
            "Women                     664385\n",
            "Beauty                    207828\n",
            "Kids                      171689\n",
            "Electronics               122690\n",
            "Men                        93680\n",
            "Home                       67871\n",
            "Vintage & Collectibles     46530\n",
            "Other                      45351\n",
            "Handmade                   30842\n",
            "Sports & Outdoors          25342\n",
            "Other_Null                  6327\n",
            "Name: count, dtype: int64\n",
            "중분류 유형: \n",
            " 114\n",
            "소분류 유형: \n",
            " 871\n"
          ]
        }
      ]
    },
    {
      "cell_type": "code",
      "source": [
        "# brand_name, category_name, item_description 칼럼의 Null 값을 일괄적으로 'Other_Null'로 동일하게 변경\n",
        "mercari_df['brand_name']= mercari_df['brand_name'].fillna(value='Other_Null')\n",
        "mercari_df['category_name'] = mercari_df['category_name'].fillna(value='Other_Null')\n",
        "mercari_df['item_description'] = mercari_df['item_description'].fillna(value='Other_Null')"
      ],
      "metadata": {
        "id": "Hw64YEjIiEw3"
      },
      "execution_count": null,
      "outputs": []
    },
    {
      "cell_type": "code",
      "source": [
        "# 각 칼럼별로 Null 값의 건수 확인\n",
        "mercari_df.isnull().sum()"
      ],
      "metadata": {
        "colab": {
          "base_uri": "https://localhost:8080/",
          "height": 429
        },
        "id": "xxnJ6oRCiE0O",
        "outputId": "913f15c1-f4b1-4355-aa84-419ea0b93783"
      },
      "execution_count": null,
      "outputs": [
        {
          "output_type": "execute_result",
          "data": {
            "text/plain": [
              "train_id             0\n",
              "name                 0\n",
              "item_condition_id    0\n",
              "category_name        0\n",
              "brand_name           0\n",
              "price                0\n",
              "shipping             0\n",
              "item_description     0\n",
              "cat_dae              0\n",
              "cat_jung             0\n",
              "cat_so               0\n",
              "dtype: int64"
            ],
            "text/html": [
              "<div>\n",
              "<style scoped>\n",
              "    .dataframe tbody tr th:only-of-type {\n",
              "        vertical-align: middle;\n",
              "    }\n",
              "\n",
              "    .dataframe tbody tr th {\n",
              "        vertical-align: top;\n",
              "    }\n",
              "\n",
              "    .dataframe thead th {\n",
              "        text-align: right;\n",
              "    }\n",
              "</style>\n",
              "<table border=\"1\" class=\"dataframe\">\n",
              "  <thead>\n",
              "    <tr style=\"text-align: right;\">\n",
              "      <th></th>\n",
              "      <th>0</th>\n",
              "    </tr>\n",
              "  </thead>\n",
              "  <tbody>\n",
              "    <tr>\n",
              "      <th>train_id</th>\n",
              "      <td>0</td>\n",
              "    </tr>\n",
              "    <tr>\n",
              "      <th>name</th>\n",
              "      <td>0</td>\n",
              "    </tr>\n",
              "    <tr>\n",
              "      <th>item_condition_id</th>\n",
              "      <td>0</td>\n",
              "    </tr>\n",
              "    <tr>\n",
              "      <th>category_name</th>\n",
              "      <td>0</td>\n",
              "    </tr>\n",
              "    <tr>\n",
              "      <th>brand_name</th>\n",
              "      <td>0</td>\n",
              "    </tr>\n",
              "    <tr>\n",
              "      <th>price</th>\n",
              "      <td>0</td>\n",
              "    </tr>\n",
              "    <tr>\n",
              "      <th>shipping</th>\n",
              "      <td>0</td>\n",
              "    </tr>\n",
              "    <tr>\n",
              "      <th>item_description</th>\n",
              "      <td>0</td>\n",
              "    </tr>\n",
              "    <tr>\n",
              "      <th>cat_dae</th>\n",
              "      <td>0</td>\n",
              "    </tr>\n",
              "    <tr>\n",
              "      <th>cat_jung</th>\n",
              "      <td>0</td>\n",
              "    </tr>\n",
              "    <tr>\n",
              "      <th>cat_so</th>\n",
              "      <td>0</td>\n",
              "    </tr>\n",
              "  </tbody>\n",
              "</table>\n",
              "</div><br><label><b>dtype:</b> int64</label>"
            ]
          },
          "metadata": {},
          "execution_count": 13
        }
      ]
    },
    {
      "cell_type": "markdown",
      "source": [
        "### 2. 피처 인코딩과 피처 벡터화\n",
        "1.  피처 인코딩\n",
        "   - 범주형 칼럼(brand_name, item_condition_id, shipping, cat_dae, cat_jung, cat_so)\n",
        "   - LabelBinarizer을 이용\n",
        "   - 원-핫 인코딩\n",
        "2. 피처 벡터화\n",
        "   - 짧은 텍스트의 칼럼(name)\n",
        "      - Count 기반의 벡터화\n",
        "      - CountVectorizer 적용\n",
        "   - 긴 텍스트 칼럼(item_description)\n",
        "      - TD-IDF 기반 벡터화\n",
        "      - TdidfVectorizer 적용\n",
        "3. scipy.sparse의 hstack을 이용해 모든 희소행렬을 결합\n",
        "4. 추후 모델링: 선형 회귀, 회귀 트리 모델 모두 적용\n"
      ],
      "metadata": {
        "id": "HcEElI3BdLpc"
      }
    },
    {
      "cell_type": "code",
      "source": [
        "# brand_name이 어떤 유형으로 되어있는지 유형 건수와 대표적인 브랜드명 5개 확인\n",
        "print('brand name의 유형 건수 :', mercari_df['brand_name'].nunique())\n",
        "print('brand name sample 5건:\\n', mercari_df['brand_name'].value_counts()[:5])"
      ],
      "metadata": {
        "id": "sXlahMbTdTzD",
        "colab": {
          "base_uri": "https://localhost:8080/"
        },
        "outputId": "b6b5addd-6ec9-4f78-a259-1f28e0fdb66b"
      },
      "execution_count": null,
      "outputs": [
        {
          "output_type": "stream",
          "name": "stdout",
          "text": [
            "brand name의 유형 건수 : 4810\n",
            "brand name sample 5건:\n",
            " brand_name\n",
            "Other_Null           632682\n",
            "PINK                  54088\n",
            "Nike                  54043\n",
            "Victoria's Secret     48036\n",
            "LuLaRoe               31024\n",
            "Name: count, dtype: int64\n"
          ]
        }
      ]
    },
    {
      "cell_type": "code",
      "source": [
        "# name이 어떤 유형으로 되어있는지 유형건수와 대표적인 이름 7개 확인\n",
        "print('name의 유형 건수:', mercari_df['name'].nunique())\n",
        "print('name의 sample 5건: \\n', mercari_df['name'].value_counts()[:7])"
      ],
      "metadata": {
        "id": "nTYUqk14dT1V",
        "colab": {
          "base_uri": "https://localhost:8080/"
        },
        "outputId": "962e2e1e-48c9-4957-ed7c-7b6822337e77"
      },
      "execution_count": null,
      "outputs": [
        {
          "output_type": "stream",
          "name": "stdout",
          "text": [
            "name의 유형 건수: 1225273\n",
            "name의 sample 5건: \n",
            " name\n",
            "Bundle                 2232\n",
            "Reserved                453\n",
            "Converse                445\n",
            "BUNDLE                  418\n",
            "Dress                   410\n",
            "Coach purse             404\n",
            "Lularoe TC leggings     396\n",
            "Name: count, dtype: int64\n"
          ]
        }
      ]
    },
    {
      "cell_type": "code",
      "source": [
        "# item_description의 평균 문자열 크기와 2개 정도의 텍스트 추출\n",
        "pd.set_option('max_colwidth', 200)\n",
        "\n",
        "# item_description의 평균 문자열 크기\n",
        "print('item_description 평균 문자열의 크기:', mercari_df['item_description'].str.len().mean())  # len()의 대상은 str(문자열) 타입이어야 함.\n",
        "\n",
        "mercari_df['item_description'][:2]"
      ],
      "metadata": {
        "id": "tDGQImtMdT3V",
        "colab": {
          "base_uri": "https://localhost:8080/",
          "height": 164
        },
        "outputId": "8eb96731-80af-416d-a2c7-202f45b2ac10"
      },
      "execution_count": null,
      "outputs": [
        {
          "output_type": "stream",
          "name": "stdout",
          "text": [
            "item_description 평균 문자열의 크기: 145.71139703278507\n"
          ]
        },
        {
          "output_type": "execute_result",
          "data": {
            "text/plain": [
              "0                                                                                                                                                                              No description yet\n",
              "1    This keyboard is in great condition and works like it came out of the box. All of the ports are tested and work perfectly. The lights are customizable via the Razer Synapse app on your PC.\n",
              "Name: item_description, dtype: object"
            ],
            "text/html": [
              "<div>\n",
              "<style scoped>\n",
              "    .dataframe tbody tr th:only-of-type {\n",
              "        vertical-align: middle;\n",
              "    }\n",
              "\n",
              "    .dataframe tbody tr th {\n",
              "        vertical-align: top;\n",
              "    }\n",
              "\n",
              "    .dataframe thead th {\n",
              "        text-align: right;\n",
              "    }\n",
              "</style>\n",
              "<table border=\"1\" class=\"dataframe\">\n",
              "  <thead>\n",
              "    <tr style=\"text-align: right;\">\n",
              "      <th></th>\n",
              "      <th>item_description</th>\n",
              "    </tr>\n",
              "  </thead>\n",
              "  <tbody>\n",
              "    <tr>\n",
              "      <th>0</th>\n",
              "      <td>No description yet</td>\n",
              "    </tr>\n",
              "    <tr>\n",
              "      <th>1</th>\n",
              "      <td>This keyboard is in great condition and works like it came out of the box. All of the ports are tested and work perfectly. The lights are customizable via the Razer Synapse app on your PC.</td>\n",
              "    </tr>\n",
              "  </tbody>\n",
              "</table>\n",
              "</div><br><label><b>dtype:</b> object</label>"
            ]
          },
          "metadata": {},
          "execution_count": 16
        }
      ]
    },
    {
      "cell_type": "markdown",
      "source": [
        "#####**피처 벡터화**"
      ],
      "metadata": {
        "id": "PmHNBUG-9r0n"
      }
    },
    {
      "cell_type": "code",
      "source": [
        "# name 속성에 대한 Count 기반 피처 벡터화 변환\n",
        "cnt_vct = CountVectorizer()\n",
        "X_name = cnt_vct.fit_transform(mercari_df['name'])\n",
        "\n",
        "# item_description 속성에 대한 TF-IDF 기반 피처 벡터화 변환\n",
        "tfidf_vct = TfidfVectorizer(max_features=50000, ngram_range=(1,3), stop_words='english')\n",
        "X_descp = tfidf_vct.fit_transform(mercari_df['item_description'])"
      ],
      "metadata": {
        "id": "kDKUfCIVdT5V"
      },
      "execution_count": null,
      "outputs": []
    },
    {
      "cell_type": "code",
      "source": [
        "print('name vectorization shape:', X_name.shape)\n",
        "print('item description shape:', X_descp.shape)"
      ],
      "metadata": {
        "id": "GPf9QJUKdT7R",
        "colab": {
          "base_uri": "https://localhost:8080/"
        },
        "outputId": "5ac12c36-1e11-4864-9b11-afcf1e5e9e6c"
      },
      "execution_count": null,
      "outputs": [
        {
          "output_type": "stream",
          "name": "stdout",
          "text": [
            "name vectorization shape: (1482535, 105757)\n",
            "item description shape: (1482535, 50000)\n"
          ]
        }
      ]
    },
    {
      "cell_type": "markdown",
      "source": [
        "- 인코딩 변환된 데이터 세트들의 타입: CSR 형태의 csr_matrix 타입\n",
        "- brand_name 칼럼 값의 유형이 4810개 --> 원핫 인코딩 된 X_brand의 인코딩 칼럼이 4810개\n"
      ],
      "metadata": {
        "id": "orcrW8IQBg4q"
      }
    },
    {
      "cell_type": "markdown",
      "source": [
        "#####**피처 인코딩**"
      ],
      "metadata": {
        "id": "nvQlSnWX9vyz"
      }
    },
    {
      "cell_type": "code",
      "source": [
        "from sklearn.preprocessing import LabelBinarizer\n",
        "\n",
        "# brand_name, item_condition_id, shipping 각 피처들을 희소 행렬 원-핫 인코딩 변환\n",
        "lb_brand_name = LabelBinarizer(sparse_output=True)\n",
        "X_brand = lb_brand_name.fit_transform(mercari_df['brand_name'])\n",
        "lb_item_cond_id = LabelBinarizer(sparse_output=True)\n",
        "X_item_cond_id = lb_item_cond_id.fit_transform(mercari_df['item_condition_id'])\n",
        "lb_shipping = LabelBinarizer(sparse_output=True)\n",
        "X_shipping = lb_shipping.fit_transform(mercari_df['shipping'])\n",
        "\n",
        "# cat_dae, cat_jung, cat_so 각 피처들을 희소 행렬 원-핫 인코딩 변환\n",
        "lb_cat_dae = LabelBinarizer(sparse_output=True)\n",
        "X_cat_dae = lb_cat_dae.fit_transform(mercari_df['cat_dae'])\n",
        "lb_cat_jung = LabelBinarizer(sparse_output=True)\n",
        "X_cat_jung = lb_cat_jung.fit_transform(mercari_df['cat_jung'])\n",
        "lb_cat_so = LabelBinarizer(sparse_output=True)\n",
        "X_cat_so = lb_cat_so.fit_transform(mercari_df['cat_so'])"
      ],
      "metadata": {
        "id": "STXZHqP2dT9I"
      },
      "execution_count": null,
      "outputs": []
    },
    {
      "cell_type": "code",
      "source": [
        "print(type(X_brand), type(X_item_cond_id), type(X_shipping))\n",
        "print('X_brand shape:{0}, X_item_cond_id shape:{1}'.format(X_brand.shape, X_item_cond_id.shape))\n",
        "print('X_shipping shape:{0}, X_cat_dae shape:{1}'.format(X_shipping.shape, X_cat_dae.shape))\n",
        "print('X_cat_jung shape:{0}, X_cat_so shape:{1}'.format(X_cat_jung.shape, X_cat_so.shape))"
      ],
      "metadata": {
        "colab": {
          "base_uri": "https://localhost:8080/"
        },
        "id": "aveVgbSBAdMa",
        "outputId": "7b82cc21-17aa-4a07-b912-6775ebdf3987"
      },
      "execution_count": null,
      "outputs": [
        {
          "output_type": "stream",
          "name": "stdout",
          "text": [
            "<class 'scipy.sparse._csr.csr_matrix'> <class 'scipy.sparse._csr.csr_matrix'> <class 'scipy.sparse._csr.csr_matrix'>\n",
            "X_brand shape:(1482535, 4810), X_item_cond_id shape:(1482535, 5)\n",
            "X_shipping shape:(1482535, 1), X_cat_dae shape:(1482535, 11)\n",
            "X_cat_jung shape:(1482535, 114), X_cat_so shape:(1482535, 871)\n"
          ]
        }
      ]
    },
    {
      "cell_type": "markdown",
      "source": [
        "#####**데이터 세트 결합**"
      ],
      "metadata": {
        "id": "hbmrFlJsDnSc"
      }
    },
    {
      "cell_type": "code",
      "source": [
        "# 피처 벡터화 변환한 데이터 세트와 희소 인코딩 변환된 데이터 세트를 모두 결합\n",
        "from scipy.sparse import hstack\n",
        "import gc\n",
        "\n",
        "sparse_matrix_list = (X_name, X_descp, X_brand, X_item_cond_id, \\\n",
        "                      X_shipping, X_cat_dae, X_cat_jung, X_cat_so)\n",
        "\n",
        "# hstack 함수를 이용해 인코딩과 벡터화를 수행한 데이터 세트를 모두 결합\n",
        "X_features_sparse = hstack(sparse_matrix_list).tocsr()\n",
        "print(type(X_features_sparse), X_features_sparse.shape)\n",
        "\n",
        "# 데이터 세트가 메모리를 많이 차지하므로 사용 목적이 끝났으면 바로 메모리에서 삭제\n",
        "del X_features_sparse\n",
        "gc.collect()"
      ],
      "metadata": {
        "colab": {
          "base_uri": "https://localhost:8080/"
        },
        "id": "Fzm0IFSBAdXG",
        "outputId": "5b73a89f-a850-4113-db64-2d5efbe679d4"
      },
      "execution_count": null,
      "outputs": [
        {
          "output_type": "stream",
          "name": "stdout",
          "text": [
            "<class 'scipy.sparse._csr.csr_matrix'> (1482535, 161569)\n"
          ]
        },
        {
          "output_type": "execute_result",
          "data": {
            "text/plain": [
              "0"
            ]
          },
          "metadata": {},
          "execution_count": 21
        }
      ]
    },
    {
      "cell_type": "markdown",
      "source": [
        "- 결합된 데이터 세트 역시 csr_matrix 타입\n",
        "- 총 161569개의 피처를 가짐."
      ],
      "metadata": {
        "id": "rB8ePVz3DZJy"
      }
    },
    {
      "cell_type": "markdown",
      "source": [
        "### 3. 릿지 회귀 모델 구축 및 평가\n",
        "- 평가 기준: RMSLE (Root Mean Square Logarithmic Error)\n"
      ],
      "metadata": {
        "id": "NBm99xFpdPZU"
      }
    },
    {
      "cell_type": "markdown",
      "source": [
        "![image.png](data:image/png;base64,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)"
      ],
      "metadata": {
        "id": "EP6HS2_6P32u"
      }
    },
    {
      "cell_type": "markdown",
      "source": [
        "- 시도 모델: Ridge, LGBM, 앙상블"
      ],
      "metadata": {
        "id": "98SHLLiuP4RH"
      }
    },
    {
      "cell_type": "code",
      "source": [
        "# rmsle 계산 함수\n",
        "def rmsle(y, y_pred):\n",
        "  # underflow, overflow를 막기 위해 log가 아닌 lop1p로 rmsle 계산\n",
        "  return np.sqrt(np.mean(np.power(np.log1p(y) - np.log1p(y_pred), 2)))"
      ],
      "metadata": {
        "id": "uN_j2gkRdUmW"
      },
      "execution_count": null,
      "outputs": []
    },
    {
      "cell_type": "code",
      "source": [
        "# 역변환된 데이터를 기반으로 RMSLE를 적용할 수 있도록 평가 함수\n",
        "def evaluate_org_price(y_test, preds):\n",
        "  # 원본 데이터는 log1p로 변환되었으므로 expm1로 원복 필요\n",
        "  preds_exmpm = np.expm1(preds)\n",
        "  y_test_exmpm = np.expm1(y_test)\n",
        "\n",
        "  # rmsle로 RMSLE값 추출\n",
        "  rmsle_result = rmsle(y_test_exmpm, preds_exmpm)\n",
        "  return rmsle_result"
      ],
      "metadata": {
        "id": "b-1zPCSYS0sc"
      },
      "execution_count": null,
      "outputs": []
    },
    {
      "cell_type": "code",
      "source": [
        "# model 인자로 사이킷런의 회귀 estimator 객체를, matrix_list 인자로\n",
        "# 최종 데이터 세트로 결합한 희소 행렬 리스트를 가지는 모델 학습/예측 함수\n",
        "import gc\n",
        "from scipy.sparse import hstack\n",
        "\n",
        "def model_train_predict(model, matrix_list):\n",
        "  # scipy.sparse 모듈의 hstack를 이용해 희소 행렬 결합\n",
        "  X = hstack(matrix_list).tocsr()\n",
        "\n",
        "  X_train, X_test, y_train, y_test = train_test_split(X, mercari_df['price'],\n",
        "                                                      test_size=0.2, random_state=156)\n",
        "\n",
        "  # 모델 학습 및 예측\n",
        "  model.fit(X_train, y_train)\n",
        "  preds = model.predict(X_test)\n",
        "\n",
        "  del X, X_train, y_train\n",
        "  gc.collect()\n",
        "\n",
        "  return preds, y_test"
      ],
      "metadata": {
        "id": "xXxQm0LrdUoy"
      },
      "execution_count": null,
      "outputs": []
    },
    {
      "cell_type": "code",
      "source": [
        "# 예측 수행 전 Mercari 상품 가격 예측에 item_description과 같은 텍스트 형태의 속성이 얼마나 영향을 미치는지 확인\n",
        "linear_model = Ridge(solver='lsqr', fit_intercept=False)\n",
        "\n",
        "sparse_matrix_list = (X_name, X_brand, X_item_cond_id, \\\n",
        "                      X_shipping, X_cat_dae, X_cat_jung, X_cat_so)\n",
        "linear_preds, y_test = model_train_predict(linear_model, sparse_matrix_list)\n",
        "print('Item Description을 제외한 rmsle 값:', evaluate_org_price(linear_preds, y_test))\n",
        "\n",
        "sparse_matrix_list = (X_name, X_brand, X_item_cond_id, X_descp, \\\n",
        "                      X_shipping, X_cat_dae, X_cat_jung, X_cat_so)\n",
        "linear_preds, y_test = model_train_predict(linear_model, sparse_matrix_list)\n",
        "print('Item Description을 포함한 rmsle 값:', evaluate_org_price(linear_preds, y_test))"
      ],
      "metadata": {
        "id": "GunyNsK7dUqt",
        "colab": {
          "base_uri": "https://localhost:8080/"
        },
        "outputId": "d5b01098-60fd-4b1b-8e6f-8c3d73eeee15"
      },
      "execution_count": null,
      "outputs": [
        {
          "output_type": "stream",
          "name": "stdout",
          "text": [
            "Item Description을 제외한 rmsle 값: 0.4983990938999374\n",
            "Item Description을 포함한 rmsle 값: 0.4680804651494449\n"
          ]
        }
      ]
    },
    {
      "cell_type": "markdown",
      "source": [
        "- item_description 포함 후 rmsle 값이 많이 감소. 영향을 꽤 미침."
      ],
      "metadata": {
        "id": "PyvAfC5fTg42"
      }
    },
    {
      "cell_type": "markdown",
      "source": [
        "### 4. LightGBM 회귀 모델 구축과 앙상블을 이용한 최종 예측 평가"
      ],
      "metadata": {
        "id": "a1ima-updQ_d"
      }
    },
    {
      "cell_type": "code",
      "source": [
        "# LightGBM으로 회귀 수행\n",
        "from lightgbm import LGBMRegressor\n",
        "\n",
        "sparse_matrix_list = (X_descp, X_name, X_brand, X_item_cond_id, \\\n",
        "                      X_shipping, X_cat_dae, X_cat_jung, X_cat_so)\n",
        "lgbm_model = LGBMRegressor(n_estimators=100, learning_rate=0.5, num_leaves=125, random_state=156)\n",
        "lgbm_preds, y_test = model_train_predict(model=lgbm_model, matrix_list=sparse_matrix_list)\n",
        "\n",
        "print('LightGBM rmsle 값:', evaluate_org_price(y_test, lgbm_preds))"
      ],
      "metadata": {
        "id": "0ZZug3UIdVp5",
        "colab": {
          "base_uri": "https://localhost:8080/"
        },
        "outputId": "2d4f2858-36c0-462f-aafd-40bfdb701c42"
      },
      "execution_count": null,
      "outputs": [
        {
          "output_type": "stream",
          "name": "stderr",
          "text": [
            "/usr/local/lib/python3.11/dist-packages/sklearn/utils/deprecation.py:151: FutureWarning: 'force_all_finite' was renamed to 'ensure_all_finite' in 1.6 and will be removed in 1.8.\n",
            "  warnings.warn(\n"
          ]
        },
        {
          "output_type": "stream",
          "name": "stdout",
          "text": [
            "[LightGBM] [Info] Auto-choosing col-wise multi-threading, the overhead of testing was 1276.680556 seconds.\n",
            "You can set `force_col_wise=true` to remove the overhead.\n",
            "[LightGBM] [Info] Total Bins 1068323\n",
            "[LightGBM] [Info] Number of data points in the train set: 1186028, number of used features: 65338\n",
            "[LightGBM] [Info] Start training from score 2.979514\n"
          ]
        },
        {
          "output_type": "stream",
          "name": "stderr",
          "text": [
            "/usr/local/lib/python3.11/dist-packages/sklearn/utils/deprecation.py:151: FutureWarning: 'force_all_finite' was renamed to 'ensure_all_finite' in 1.6 and will be removed in 1.8.\n",
            "  warnings.warn(\n"
          ]
        },
        {
          "output_type": "stream",
          "name": "stdout",
          "text": [
            "LightGBM rmsle 값: 0.4650417323016895\n"
          ]
        }
      ]
    },
    {
      "cell_type": "code",
      "source": [
        "# 릿지 결괏값에 0.45를 곱하고 LGBM 결괏값에 0.55를 곱한 값을 합해 최종 앙상블 예측값 생성\n",
        "preds = lgbm_preds * 0.45 + linear_preds * 0.55\n",
        "print('LightGBM과 Ridge를 ensemble한 rmsle 값:', evaluate_org_price(y_test, preds))"
      ],
      "metadata": {
        "id": "PIi5rIKedVsA",
        "outputId": "d9a8bf3e-7056-41fd-c282-0d4473a1b7f7",
        "colab": {
          "base_uri": "https://localhost:8080/"
        }
      },
      "execution_count": null,
      "outputs": [
        {
          "output_type": "stream",
          "name": "stdout",
          "text": [
            "LightGBM과 Ridge를 ensemble한 rmsle 값: 0.4505980717907366\n"
          ]
        }
      ]
    },
    {
      "cell_type": "code",
      "source": [],
      "metadata": {
        "id": "Z_wRz2TFUt3_"
      },
      "execution_count": null,
      "outputs": []
    }
  ]
}