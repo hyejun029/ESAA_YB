{
  "nbformat": 4,
  "nbformat_minor": 0,
  "metadata": {
    "colab": {
      "provenance": []
    },
    "kernelspec": {
      "name": "python3",
      "display_name": "Python 3"
    },
    "language_info": {
      "name": "python"
    }
  },
  "cells": [
    {
      "cell_type": "markdown",
      "source": [
        "파이썬 머신러닝 완벽가이드  ch4. 3 ~ 6 pg. 210~244\n",
        "\n",
        "---\n",
        "#**04. 분류**\n",
        "04-03. 앙상블 학습\n",
        "- 앙상블 학습 개요\n",
        "- 보팅 유형 - 하드 보팅(Hard Voting)과 소프트 보팅(Soft Voting)\n",
        "- 보팅 분류기(Voting Classifier)\n",
        "\n",
        "04-04. 랜덤 포레스트\n",
        "- 랜덤 포레스트의 개요 및 실습\n",
        "- 랜덤 포레스트 하이퍼 파라미터 및 튜닝\n",
        "- GBM의 개요 및 실습\n",
        "\n",
        "04-05. GBM(Gradient Boosting Machine)\n",
        "- GBM 하이퍼 파라미터 소개\n",
        "- XGBoost 개요\n",
        "\n",
        "04-06. XGBoost(eXtra Gradient Boost)\n",
        "- XGBoost 설치하기\n",
        "- 파이썬 래퍼 XGBoost 하이퍼 파라미터\n",
        "- 파이썬 래퍼 XGBoost 적용 - 위스콘신 유방암 예측\n",
        "- 사이킷런 래퍼 XGBoost의 개요 및 적용\n",
        "---"
      ],
      "metadata": {
        "id": "e1MaD7MOgKcV"
      }
    },
    {
      "cell_type": "code",
      "execution_count": null,
      "metadata": {
        "id": "8f5LyLG6gJYm"
      },
      "outputs": [],
      "source": []
    }
  ]
}