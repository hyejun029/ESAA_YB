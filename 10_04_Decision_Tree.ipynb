{
  "nbformat": 4,
  "nbformat_minor": 0,
  "metadata": {
    "colab": {
      "provenance": []
    },
    "kernelspec": {
      "name": "python3",
      "display_name": "Python 3"
    },
    "language_info": {
      "name": "python"
    }
  },
  "cells": [
    {
      "cell_type": "markdown",
      "source": [
        "파이썬 머신러닝 완벽가이드 ch4. 1~2\n",
        "\n",
        "pg. 181(199)~210(228)\n",
        "\n",
        "#04. 분류\n",
        "\n",
        "04-01. 분류의 개요\n",
        "\n",
        "04-02. 결정트리\n",
        "- 결정 트리 모델의 특징\n",
        "- 결정 트리 파라미터\n",
        "- 결정 트리 모델의 시각화\n",
        "- 결정 트리 과적합(Overfitting)\n",
        "- 결정 트리 실습 - 사용자 행동 인식 데이터 세트"
      ],
      "metadata": {
        "id": "sD6auTJONopv"
      }
    },
    {
      "cell_type": "code",
      "execution_count": null,
      "metadata": {
        "id": "9NPH3HWCL-k4"
      },
      "outputs": [],
      "source": []
    }
  ]
}