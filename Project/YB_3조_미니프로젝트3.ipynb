{
  "nbformat": 4,
  "nbformat_minor": 0,
  "metadata": {
    "colab": {
      "provenance": [],
      "include_colab_link": true
    },
    "kernelspec": {
      "name": "python3",
      "display_name": "Python 3"
    },
    "language_info": {
      "name": "python"
    }
  },
  "cells": [
    {
      "cell_type": "markdown",
      "metadata": {
        "id": "view-in-github",
        "colab_type": "text"
      },
      "source": [
        "<a href=\"https://colab.research.google.com/github/ewst22ParkSY/ESAA11_YB/blob/ESAA11_YB/YB_3%EC%A1%B0_%EB%AF%B8%EB%8B%88%ED%94%84%EB%A1%9C%EC%A0%9D%ED%8A%B83.ipynb\" target=\"_parent\"><img src=\"https://colab.research.google.com/assets/colab-badge.svg\" alt=\"Open In Colab\"/></a>"
      ]
    },
    {
      "cell_type": "code",
      "execution_count": 1,
      "metadata": {
        "id": "eXlwAJKOAQoT"
      },
      "outputs": [],
      "source": [
        "import numpy as np\n",
        "import pandas as pd\n",
        "import matplotlib.pyplot as plt\n",
        "%matplotlib inline\n",
        "import seaborn as sns\n",
        "import warnings\n",
        "warnings.filterwarnings('ignore')"
      ]
    },
    {
      "cell_type": "code",
      "source": [
        "from google.colab import drive\n",
        "drive.mount('/content/drive')"
      ],
      "metadata": {
        "colab": {
          "base_uri": "https://localhost:8080/"
        },
        "id": "aOGmB1w2J5wO",
        "outputId": "1b8d193c-73b0-4e7a-db4e-e6b07c89f45e"
      },
      "execution_count": 2,
      "outputs": [
        {
          "output_type": "stream",
          "name": "stdout",
          "text": [
            "Mounted at /content/drive\n"
          ]
        }
      ]
    },
    {
      "cell_type": "code",
      "source": [
        "# 한글 폰트 다운로드\n",
        "!sudo apt-get install -y fonts-nanum\n",
        "!sudo fc-cache -fv\n",
        "!rm ~/.cache/matplotlib -rf"
      ],
      "metadata": {
        "colab": {
          "base_uri": "https://localhost:8080/"
        },
        "id": "xdALgpeKV_54",
        "outputId": "ba569884-13c5-4c5c-f5e7-ad1e57a544b1"
      },
      "execution_count": 3,
      "outputs": [
        {
          "output_type": "stream",
          "name": "stdout",
          "text": [
            "Reading package lists... Done\n",
            "Building dependency tree... Done\n",
            "Reading state information... Done\n",
            "The following NEW packages will be installed:\n",
            "  fonts-nanum\n",
            "0 upgraded, 1 newly installed, 0 to remove and 49 not upgraded.\n",
            "Need to get 10.3 MB of archives.\n",
            "After this operation, 34.1 MB of additional disk space will be used.\n",
            "Get:1 http://archive.ubuntu.com/ubuntu jammy/universe amd64 fonts-nanum all 20200506-1 [10.3 MB]\n",
            "Fetched 10.3 MB in 1s (10.7 MB/s)\n",
            "debconf: unable to initialize frontend: Dialog\n",
            "debconf: (No usable dialog-like program is installed, so the dialog based frontend cannot be used. at /usr/share/perl5/Debconf/FrontEnd/Dialog.pm line 78, <> line 1.)\n",
            "debconf: falling back to frontend: Readline\n",
            "debconf: unable to initialize frontend: Readline\n",
            "debconf: (This frontend requires a controlling tty.)\n",
            "debconf: falling back to frontend: Teletype\n",
            "dpkg-preconfigure: unable to re-open stdin: \n",
            "Selecting previously unselected package fonts-nanum.\n",
            "(Reading database ... 123630 files and directories currently installed.)\n",
            "Preparing to unpack .../fonts-nanum_20200506-1_all.deb ...\n",
            "Unpacking fonts-nanum (20200506-1) ...\n",
            "Setting up fonts-nanum (20200506-1) ...\n",
            "Processing triggers for fontconfig (2.13.1-4.2ubuntu5) ...\n",
            "/usr/share/fonts: caching, new cache contents: 0 fonts, 1 dirs\n",
            "/usr/share/fonts/truetype: caching, new cache contents: 0 fonts, 3 dirs\n",
            "/usr/share/fonts/truetype/humor-sans: caching, new cache contents: 1 fonts, 0 dirs\n",
            "/usr/share/fonts/truetype/liberation: caching, new cache contents: 16 fonts, 0 dirs\n",
            "/usr/share/fonts/truetype/nanum: caching, new cache contents: 12 fonts, 0 dirs\n",
            "/usr/local/share/fonts: caching, new cache contents: 0 fonts, 0 dirs\n",
            "/root/.local/share/fonts: skipping, no such directory\n",
            "/root/.fonts: skipping, no such directory\n",
            "/usr/share/fonts/truetype: skipping, looped directory detected\n",
            "/usr/share/fonts/truetype/humor-sans: skipping, looped directory detected\n",
            "/usr/share/fonts/truetype/liberation: skipping, looped directory detected\n",
            "/usr/share/fonts/truetype/nanum: skipping, looped directory detected\n",
            "/var/cache/fontconfig: cleaning cache directory\n",
            "/root/.cache/fontconfig: not cleaning non-existent cache directory\n",
            "/root/.fontconfig: not cleaning non-existent cache directory\n",
            "fc-cache: succeeded\n"
          ]
        }
      ]
    },
    {
      "cell_type": "code",
      "source": [
        "# 지수 표기법 대신 float 형식으로 출력\n",
        "pd.set_option('display.float_format', '{:.2f}'.format)"
      ],
      "metadata": {
        "id": "8LoNvUMyJ88n"
      },
      "execution_count": 4,
      "outputs": []
    },
    {
      "cell_type": "markdown",
      "source": [
        "#**1. 데이터 불러오기 및 결측치 처리**"
      ],
      "metadata": {
        "id": "vjPkOALrU-ns"
      }
    },
    {
      "cell_type": "code",
      "source": [
        "movie_train = pd.read_csv('/content/drive/MyDrive/미니 프로젝트 3/movies_train.csv')\n",
        "movie_test = pd.read_csv(\"/content/drive/MyDrive/미니 프로젝트 3/movies_test.csv\")"
      ],
      "metadata": {
        "id": "rSnACXxtJ9Am"
      },
      "execution_count": 5,
      "outputs": []
    },
    {
      "cell_type": "code",
      "source": [
        "# 새로고침을 위해 복사본 생성\n",
        "train_df = movie_train.copy()\n",
        "test_df = movie_test.copy()"
      ],
      "metadata": {
        "id": "_X_iRM1nJ9E-"
      },
      "execution_count": 6,
      "outputs": []
    },
    {
      "cell_type": "code",
      "source": [
        "train_df.info()"
      ],
      "metadata": {
        "colab": {
          "base_uri": "https://localhost:8080/"
        },
        "id": "casKa_ABQ-jg",
        "outputId": "955f5128-111b-4efb-935b-0e7eb594df97"
      },
      "execution_count": 7,
      "outputs": [
        {
          "output_type": "stream",
          "name": "stdout",
          "text": [
            "<class 'pandas.core.frame.DataFrame'>\n",
            "RangeIndex: 600 entries, 0 to 599\n",
            "Data columns (total 12 columns):\n",
            " #   Column          Non-Null Count  Dtype  \n",
            "---  ------          --------------  -----  \n",
            " 0   title           600 non-null    object \n",
            " 1   distributor     600 non-null    object \n",
            " 2   genre           600 non-null    object \n",
            " 3   release_time    600 non-null    object \n",
            " 4   time            600 non-null    int64  \n",
            " 5   screening_rat   600 non-null    object \n",
            " 6   director        600 non-null    object \n",
            " 7   dir_prev_bfnum  270 non-null    float64\n",
            " 8   dir_prev_num    600 non-null    int64  \n",
            " 9   num_staff       600 non-null    int64  \n",
            " 10  num_actor       600 non-null    int64  \n",
            " 11  box_off_num     600 non-null    int64  \n",
            "dtypes: float64(1), int64(5), object(6)\n",
            "memory usage: 56.4+ KB\n"
          ]
        }
      ]
    },
    {
      "cell_type": "code",
      "source": [
        "test_df.info()"
      ],
      "metadata": {
        "colab": {
          "base_uri": "https://localhost:8080/"
        },
        "id": "dLL6Ok8F1NB5",
        "outputId": "ed1e1af0-bbbd-4c07-bd3d-d6d3c7b98c14"
      },
      "execution_count": 8,
      "outputs": [
        {
          "output_type": "stream",
          "name": "stdout",
          "text": [
            "<class 'pandas.core.frame.DataFrame'>\n",
            "RangeIndex: 243 entries, 0 to 242\n",
            "Data columns (total 11 columns):\n",
            " #   Column          Non-Null Count  Dtype  \n",
            "---  ------          --------------  -----  \n",
            " 0   title           243 non-null    object \n",
            " 1   distributor     243 non-null    object \n",
            " 2   genre           243 non-null    object \n",
            " 3   release_time    243 non-null    object \n",
            " 4   time            243 non-null    int64  \n",
            " 5   screening_rat   243 non-null    object \n",
            " 6   director        243 non-null    object \n",
            " 7   dir_prev_bfnum  107 non-null    float64\n",
            " 8   dir_prev_num    243 non-null    int64  \n",
            " 9   num_staff       243 non-null    int64  \n",
            " 10  num_actor       243 non-null    int64  \n",
            "dtypes: float64(1), int64(4), object(6)\n",
            "memory usage: 21.0+ KB\n"
          ]
        }
      ]
    },
    {
      "cell_type": "markdown",
      "source": [
        "# **2. 전처리**"
      ],
      "metadata": {
        "id": "oQ272gdyMDzr"
      }
    },
    {
      "cell_type": "markdown",
      "source": [
        "## 2.1 결측값 처리\n",
        "- 전체 피처 중 dir_prev_bfnum 피처만 총 600개 데이터 중 330개가 결측치임. 0으로 채워줌."
      ],
      "metadata": {
        "id": "9aA1bCfIVcJ4"
      }
    },
    {
      "cell_type": "code",
      "source": [
        "# 결측치 처리\n",
        "if (train_df['dir_prev_bfnum'].isnull().any()) & (train_df['dir_prev_num'].isnull().sum() == 0):\n",
        "  train_df['dir_prev_bfnum'] = train_df['dir_prev_bfnum'].fillna(0)\n",
        "\n",
        "if (test_df['dir_prev_bfnum'].isnull().any()) & (test_df['dir_prev_num'].isnull().sum() == 0):\n",
        "  test_df['dir_prev_bfnum'] = test_df['dir_prev_bfnum'].fillna(0)"
      ],
      "metadata": {
        "id": "kNWNEjmKJ9Ci"
      },
      "execution_count": 9,
      "outputs": []
    },
    {
      "cell_type": "markdown",
      "source": [
        "## 2.2 칼럼별 전처리"
      ],
      "metadata": {
        "id": "kivQqcesWPr4"
      }
    },
    {
      "cell_type": "markdown",
      "source": [
        "### 2.2.0 title: 영화제목"
      ],
      "metadata": {
        "id": "2D4Y02P0T1bW"
      }
    },
    {
      "cell_type": "code",
      "source": [
        "# train_df.drop('title', axis=1, inplace=True)\n",
        "# test_df.drop('title', axis=1, inplace=True)"
      ],
      "metadata": {
        "id": "nwlQtUfNP__5"
      },
      "execution_count": 10,
      "outputs": []
    },
    {
      "cell_type": "markdown",
      "source": [
        "### 2.2.1 distributor : 배급사\n",
        "- distributor 별 box_off_num 평균으로 랭킹 인코딩을 시도했는데, 그냥 원핫인코딩했을 때보다 개선을 보임. 채택."
      ],
      "metadata": {
        "id": "fHdx65vvKviq"
      }
    },
    {
      "cell_type": "code",
      "source": [
        "train_df['distributor'] = train_df['distributor'].str.replace(\"(주)\",\"\")\n",
        "train_df['distributor'] = train_df['distributor'].str.replace(\" \",\"\")\n",
        "\n",
        "test_df['distributor'] = test_df['distributor'].str.replace(\"(주)\",\"\")\n",
        "test_df['distributor'] = test_df['distributor'].str.replace(\" \",\"\")"
      ],
      "metadata": {
        "id": "_IJlP0qyJ9G-"
      },
      "execution_count": 11,
      "outputs": []
    },
    {
      "cell_type": "code",
      "source": [
        "distributor = train_df['distributor'].value_counts()\n",
        "\n",
        "def distributor_func(distributor):\n",
        "  if 'CGV' in distributor:\n",
        "    return 'CGV'\n",
        "  elif 'E&M'in distributor or 'CJ엔터테인먼트' in distributor:\n",
        "    return 'CJ'\n",
        "  elif '마운틴' in distributor:\n",
        "    return '마운틴픽처스'\n",
        "  elif '쇼박스' in distributor:\n",
        "    return '쇼박스'\n",
        "  elif 'NEW' in distributor or '넥스트' in distributor:\n",
        "    return 'NEW(넥스트엔터테인먼트월드)'\n",
        "  else:\n",
        "    return distributor"
      ],
      "metadata": {
        "id": "59MdWIGrJ9I5"
      },
      "execution_count": 12,
      "outputs": []
    },
    {
      "cell_type": "code",
      "source": [
        "# 배급사 distributor 의 box_off_num 평균 기준으로 랭킹 인코딩\n",
        "# 1. 배급사별 평균 관객수 계산\n",
        "distributor_avg = train_df.groupby('distributor')['box_off_num'].mean()\n",
        "\n",
        "# 2. 배급사별 평균 관객수 기준으로 순위 매기기\n",
        "distributor_rank = distributor_avg.sort_values(ascending=False).rank(method='min', ascending=False)\n",
        "\n",
        "# 3. 각 영화의 배급사에 해당하는 순위를 원본 데이터에 매핑\n",
        "train_df['distributor_rank'] = train_df['distributor'].map(distributor_rank)\n",
        "\n",
        "# 4. test_df에 train_df에서 계산한 rank 매핑\n",
        "test_df['distributor_rank'] = test_df['distributor'].map(distributor_rank)\n",
        "\n",
        "# 5. test_df에 없는 배급사 처리 (기본값 설정)\n",
        "# 기본값을 NaN으로 처리하거나 특정 값(예: 0 또는 가장 낮은 순위)으로 대체\n",
        "test_df['distributor_rank'] = test_df['distributor_rank'].fillna(distributor_rank.max() + 1)"
      ],
      "metadata": {
        "id": "lxx_JRrqOV9S"
      },
      "execution_count": 13,
      "outputs": []
    },
    {
      "cell_type": "code",
      "source": [
        "# 원해 배급사 피처 삭제\n",
        "train_df.drop(['distributor'], axis=1, inplace=True)\n",
        "# train_df.drop(['distributor_count'], axis=1, inplace=True)"
      ],
      "metadata": {
        "id": "vcY3CPlXBod8"
      },
      "execution_count": 14,
      "outputs": []
    },
    {
      "cell_type": "markdown",
      "source": [
        "###2.2.2 genre: 장르\n",
        "- 배급사와는 다르게 genre 별 box_off_num 평균으로 랭킹 인코딩을 시도했으나 그냥 원핫인코딩했을 때가 나았음."
      ],
      "metadata": {
        "id": "lPtoQVwNKzYM"
      }
    },
    {
      "cell_type": "code",
      "source": [
        "# 장르 원핫 인코딩\n",
        "from sklearn.preprocessing import OneHotEncoder\n",
        "from sklearn.preprocessing import LabelEncoder\n",
        "\n",
        "le = LabelEncoder()\n",
        "train_df['genre'] = le.fit_transform(train_df['genre'])\n",
        "test_df['genre'] = le.transform(test_df['genre'])\n",
        "\n",
        "onehot = OneHotEncoder(sparse_output=False)\n",
        "genre_oh = onehot.fit_transform(train_df[['genre']])\n",
        "train_encoded_df = pd.DataFrame(genre_oh,\n",
        "                                columns=[f'genre_{int(cat)}' for cat in onehot.categories_[0]])\n",
        "\n",
        "genre_oh2 = onehot.transform(test_df[['genre']])\n",
        "test_encoded_df = pd.DataFrame(genre_oh2,\n",
        "                               columns=[f'genre_{int(cat)}' for cat in onehot.categories_[0]])\n",
        "\n",
        "# 원래 데이터프레임과 합치기\n",
        "train_df = pd.concat([train_df, train_encoded_df], axis=1)\n",
        "test_df = pd.concat([test_df, test_encoded_df], axis=1)"
      ],
      "metadata": {
        "id": "vPhLPPPx_wIn"
      },
      "execution_count": 15,
      "outputs": []
    },
    {
      "cell_type": "markdown",
      "source": [
        "### 2.2.3 release_time: 개봉일\n",
        "- season(계절), year(연도)를 개봉일에서 분리해냄.\n",
        "- 뒤에 새로운 피처 생성할 때 season이 사용되므로 일단은 year만 드랍."
      ],
      "metadata": {
        "id": "Ff1hiKhfK6tU"
      }
    },
    {
      "cell_type": "code",
      "source": [
        "train_df['season'] =0\n",
        "test_df['season'] =0\n",
        "train_df['year'] = train_df['release_time'].apply(lambda x: x.split('-')[0])\n",
        "test_df['year'] = test_df['release_time'].apply(lambda x: x.split('-')[0])\n",
        "train_df['month'] = train_df['release_time'].apply(lambda x: int(x.split('-')[1]))\n",
        "test_df['month'] = test_df['release_time'].apply(lambda x: int(x.split('-')[1]))\n",
        "\n",
        "def season_func(month):\n",
        "  if month in [3,4,5]:\n",
        "    return '봄'\n",
        "  elif month in [6,7,8]:\n",
        "    return '여름'\n",
        "  elif month in [9,10,11]:\n",
        "    return '가을'\n",
        "  else:\n",
        "    return '겨울'\n",
        "\n",
        "train_df['season'] = train_df['month'].apply(season_func)\n",
        "test_df['season'] = test_df['month'].apply(season_func)"
      ],
      "metadata": {
        "id": "Uu46FbrxKsUd"
      },
      "execution_count": 16,
      "outputs": []
    },
    {
      "cell_type": "code",
      "source": [
        "# 계절 원핫인코딩\n",
        "from sklearn.preprocessing import OneHotEncoder\n",
        "from sklearn.preprocessing import LabelEncoder\n",
        "\n",
        "le = LabelEncoder()\n",
        "train_df['season'] = le.fit_transform(train_df['season'])\n",
        "test_df['season'] = le.transform(test_df['season'])\n",
        "\n",
        "onehot = OneHotEncoder(sparse_output=False)\n",
        "season_n = onehot.fit_transform(train_df[['season']])\n",
        "train_encoded_df = pd.DataFrame(season_n,\n",
        "                                columns=[f'season_{int(cat)}' for cat in onehot.categories_[0]])\n",
        "\n",
        "season_n2 = onehot.transform(test_df[['season']])\n",
        "test_encoded_df = pd.DataFrame(season_n2,\n",
        "                               columns=[f'season_{int(cat)}' for cat in onehot.categories_[0]])\n",
        "\n",
        "# 원래 데이터프레임과 합치기\n",
        "train_df = pd.concat([train_df, train_encoded_df], axis=1)\n",
        "test_df = pd.concat([test_df, test_encoded_df], axis=1)"
      ],
      "metadata": {
        "id": "60tFW12ULGsj"
      },
      "execution_count": 17,
      "outputs": []
    },
    {
      "cell_type": "code",
      "source": [
        "# year도 범주형이므로 원핫 인코딩\n",
        "from sklearn.preprocessing import OneHotEncoder\n",
        "from sklearn.preprocessing import LabelEncoder\n",
        "\n",
        "le = LabelEncoder()\n",
        "train_df['year'] = le.fit_transform(train_df['year'])\n",
        "test_df['year'] = le.transform(test_df['year'])\n",
        "\n",
        "onehot = OneHotEncoder(sparse_output=False)\n",
        "year_n = onehot.fit_transform(train_df[['year']])\n",
        "train_encoded_df = pd.DataFrame(year_n,\n",
        "                                columns=[f'year_{int(cat)}' for cat in onehot.categories_[0]])\n",
        "\n",
        "year_n2 = onehot.transform(test_df[['year']])\n",
        "test_encoded_df = pd.DataFrame(year_n2,\n",
        "                               columns=[f'year_{int(cat)}' for cat in onehot.categories_[0]])\n",
        "\n",
        "# 원래 데이터와 합치기\n",
        "train_df = pd.concat([train_df, train_encoded_df], axis=1)\n",
        "test_df = pd.concat([test_df, test_encoded_df], axis=1)\n"
      ],
      "metadata": {
        "id": "-TKeu4WaLImh"
      },
      "execution_count": 19,
      "outputs": []
    },
    {
      "cell_type": "code",
      "source": [
        "# year은 드롭\n",
        "train_df.drop('year', axis=1, inplace=True)\n",
        "test_df.drop('year', axis=1, inplace=True)"
      ],
      "metadata": {
        "id": "-vLfCYQoLMHl"
      },
      "execution_count": 20,
      "outputs": []
    },
    {
      "cell_type": "markdown",
      "source": [
        "### 2.2.4 time: 상영시간(분)\n",
        "- skewness가 0.75 이하이므로 로그변환 안 함."
      ],
      "metadata": {
        "id": "x2TkINxILLIn"
      }
    },
    {
      "cell_type": "code",
      "source": [
        "from scipy.stats import skew\n",
        "\n",
        "skew(train_df['time'])"
      ],
      "metadata": {
        "colab": {
          "base_uri": "https://localhost:8080/"
        },
        "id": "RFRkyt3uLPuM",
        "outputId": "74d5399a-9765-4dfd-9852-b6d539d4e637"
      },
      "execution_count": 21,
      "outputs": [
        {
          "output_type": "execute_result",
          "data": {
            "text/plain": [
              "0.3447840297735809"
            ]
          },
          "metadata": {},
          "execution_count": 21
        }
      ]
    },
    {
      "cell_type": "markdown",
      "source": [
        "### 2.2.5 screening_rat: 상영등급\n",
        "- 단순 원핫 인코딩"
      ],
      "metadata": {
        "id": "LKgmFnksLRnE"
      }
    },
    {
      "cell_type": "code",
      "source": [
        "from sklearn.preprocessing import OneHotEncoder\n",
        "from sklearn.preprocessing import LabelEncoder\n",
        "\n",
        "le = LabelEncoder()\n",
        "train_df['screening_rat'] = le.fit_transform(train_df['screening_rat'])\n",
        "test_df['screening_rat'] = le.transform(test_df['screening_rat'])\n",
        "\n",
        "onehot = OneHotEncoder(sparse_output=False)\n",
        "screening_rat_oh = onehot.fit_transform(train_df[['screening_rat']])\n",
        "train_encoded_df = pd.DataFrame(screening_rat_oh,\n",
        "                                columns=[f'screening_rat_{int(cat)}' for cat in onehot.categories_[0]])\n",
        "\n",
        "screening_rat_oh2 = onehot.transform(test_df[['screening_rat']])\n",
        "test_encoded_df = pd.DataFrame(screening_rat_oh2,\n",
        "                               columns=[f'screening_rat_{int(cat)}' for cat in onehot.categories_[0]])\n",
        "\n",
        "# 원래 데이터와 합치기\n",
        "train_df = pd.concat([train_df, train_encoded_df], axis=1)\n",
        "test_df = pd.concat([test_df, test_encoded_df], axis=1)"
      ],
      "metadata": {
        "id": "8IoyPY-cLTKW"
      },
      "execution_count": 22,
      "outputs": []
    },
    {
      "cell_type": "markdown",
      "source": [
        "### *새로운 피처 시도\n",
        "- 배경정보: 보통 장르, 상영등급, 예산, 배급사가 제일 중요한 역할을 함. 뒤에 회귀 계수 시각화해봤을 때도 장르, 상영등급이 높은 계수를 가짐을 알 수 있음.\n",
        "- 장르 + 상영등급, box_off_num 평균으로 랭킹 인코딩 (별로)\n",
        "- 겨울엔 드라마/로맨스, 여름엔 호러가 인기가 많지 않을까? (그래프도 그려보면 좋을 듯)\n",
        "\n",
        "   --> 장르 + 계절, box_off_num 평균으로 랭킹 인코딩 (채택)"
      ],
      "metadata": {
        "id": "jS1oiiGz_3Ug"
      }
    },
    {
      "cell_type": "code",
      "source": [
        "# 장르와 계절을 결합하여 box_off_num 평균 기준으로 랭킹 인코딩\n",
        "\n",
        "train_df['genre_season'] = train_df['genre'].astype(str) + \"_\" + train_df['season'].astype(str)\n",
        "test_df['genre_season'] = test_df['genre'].astype(str) + \"_\" + test_df['season'].astype(str)\n",
        "\n",
        "# 장르+계절별 평균 관객수 계산\n",
        "genre_season_avg = train_df.groupby('genre_season')['box_off_num'].mean()\n",
        "\n",
        "# 장르+계절별 평균 관객수 기준으로 순위 매기기\n",
        "genre_season_rank = genre_season_avg.sort_values(ascending=False).rank(method='min', ascending=False)\n",
        "\n",
        "# 각 영화의 장르+계절 조합에 해당하는 순위를 원본 데이터에 매핑\n",
        "train_df['genre_season_rank'] = train_df['genre_season'].map(genre_season_rank)\n",
        "test_df['genre_season_rank'] = test_df['genre_season'].map(genre_season_rank)\n",
        "\n",
        "# test_df에 없는 genre_season 처리 (기본값 설정)\n",
        "# 기본값: 가장 낮은 순위 + 1\n",
        "test_df['genre_season_rank'] = test_df['genre_season_rank'].fillna(genre_season_rank.max() + 1)\n",
        "\n",
        "train_df.drop(['genre_season'], axis=1, inplace=True)\n",
        "test_df.drop(['genre_season'], axis=1, inplace=True)"
      ],
      "metadata": {
        "id": "ypiYgGdoIOtI"
      },
      "execution_count": 23,
      "outputs": []
    },
    {
      "cell_type": "markdown",
      "source": [
        "### 2.2.6 director: 감독이름"
      ],
      "metadata": {
        "id": "KMfI-CKaLXyM"
      }
    },
    {
      "cell_type": "code",
      "source": [
        "train_df['director'].value_counts()"
      ],
      "metadata": {
        "colab": {
          "base_uri": "https://localhost:8080/",
          "height": 489
        },
        "id": "WSOhIXKumKf2",
        "outputId": "db1beb17-20a4-48ad-8340-1db85c162570"
      },
      "execution_count": 24,
      "outputs": [
        {
          "output_type": "execute_result",
          "data": {
            "text/plain": [
              "director\n",
              "홍상수           7\n",
              "장률            4\n",
              "신재호           4\n",
              "우민호           4\n",
              "노진수           4\n",
              "             ..\n",
              "권오광           1\n",
              "한윤선           1\n",
              "박찬경           1\n",
              "New Pistol    1\n",
              "백운학           1\n",
              "Name: count, Length: 472, dtype: int64"
            ],
            "text/html": [
              "<div>\n",
              "<style scoped>\n",
              "    .dataframe tbody tr th:only-of-type {\n",
              "        vertical-align: middle;\n",
              "    }\n",
              "\n",
              "    .dataframe tbody tr th {\n",
              "        vertical-align: top;\n",
              "    }\n",
              "\n",
              "    .dataframe thead th {\n",
              "        text-align: right;\n",
              "    }\n",
              "</style>\n",
              "<table border=\"1\" class=\"dataframe\">\n",
              "  <thead>\n",
              "    <tr style=\"text-align: right;\">\n",
              "      <th></th>\n",
              "      <th>count</th>\n",
              "    </tr>\n",
              "    <tr>\n",
              "      <th>director</th>\n",
              "      <th></th>\n",
              "    </tr>\n",
              "  </thead>\n",
              "  <tbody>\n",
              "    <tr>\n",
              "      <th>홍상수</th>\n",
              "      <td>7</td>\n",
              "    </tr>\n",
              "    <tr>\n",
              "      <th>장률</th>\n",
              "      <td>4</td>\n",
              "    </tr>\n",
              "    <tr>\n",
              "      <th>신재호</th>\n",
              "      <td>4</td>\n",
              "    </tr>\n",
              "    <tr>\n",
              "      <th>우민호</th>\n",
              "      <td>4</td>\n",
              "    </tr>\n",
              "    <tr>\n",
              "      <th>노진수</th>\n",
              "      <td>4</td>\n",
              "    </tr>\n",
              "    <tr>\n",
              "      <th>...</th>\n",
              "      <td>...</td>\n",
              "    </tr>\n",
              "    <tr>\n",
              "      <th>권오광</th>\n",
              "      <td>1</td>\n",
              "    </tr>\n",
              "    <tr>\n",
              "      <th>한윤선</th>\n",
              "      <td>1</td>\n",
              "    </tr>\n",
              "    <tr>\n",
              "      <th>박찬경</th>\n",
              "      <td>1</td>\n",
              "    </tr>\n",
              "    <tr>\n",
              "      <th>New Pistol</th>\n",
              "      <td>1</td>\n",
              "    </tr>\n",
              "    <tr>\n",
              "      <th>백운학</th>\n",
              "      <td>1</td>\n",
              "    </tr>\n",
              "  </tbody>\n",
              "</table>\n",
              "<p>472 rows × 1 columns</p>\n",
              "</div><br><label><b>dtype:</b> int64</label>"
            ]
          },
          "metadata": {},
          "execution_count": 24
        }
      ]
    },
    {
      "cell_type": "markdown",
      "source": [
        "### 2.2.7 dir_prev_num: 감독의 이전 영화 참여 개수\n",
        "- 0값이 절반 이상인 330개를 차지. 감독의 이전 영화 참여 개수를 알 수 없는 데이터가 330개라는 뜻.\n",
        "- 3개 이상 영화 낸 감독들에 관해서만 오류 확인해봄(3개 이상부터는 이전 작품의 관객수 중요)\n",
        "   - 오류: 홍상수, 장률, 신재호(하나씩 밀림), 노진수, 전규환, 전수일, 신연식,박철수, 오멸, 김기덕, 장진, 권칠인, 조성규, 김현석, 김조광수, 김봉은, 윤여창, 정성복, 조조 히데오\n",
        "   - 잘된 사람: 우민호, 김현석\n",
        "\n",
        "- 영화 1-2개만 기입되어 있으나 관객수 합계는 상위권인 감독 (30.00 이상)\n",
        "   - 최동훈, 이석훈, 강형철, 김지훈: 다 dir_prev_bfnum 잘 기입되어 있음! 희소식\n",
        "   - 오류발견: 추창민, 류승완\n",
        "- 주어진 데이터에서 영화 개수가 7개일 경우 개봉일 순서대로 차례대로 0, 1, 2...6값을 갖도록 수정. 안타깝게도 0인 것만 수정하면 이미 존재하는 숫자와 겹치므로 전체 데이터를 수정."
      ],
      "metadata": {
        "id": "bdGUOp21Ld-L"
      }
    },
    {
      "cell_type": "code",
      "source": [
        "train_df[train_df['dir_prev_num']==0]"
      ],
      "metadata": {
        "colab": {
          "base_uri": "https://localhost:8080/",
          "height": 669
        },
        "id": "MyNqQQu4sjia",
        "outputId": "172fac82-75d6-429d-b646-d7697ee4a67e"
      },
      "execution_count": 25,
      "outputs": [
        {
          "output_type": "execute_result",
          "data": {
            "text/plain": [
              "               title  genre release_time  time  screening_rat director  \\\n",
              "0             개들의 전쟁     10   2012-11-22    96              3      조병옥   \n",
              "6               길위에서      3   2013-05-23   104              2      이창재   \n",
              "8    1789, 바스티유의 연인들      6   2014-09-18   129              2      정성복   \n",
              "9              청춘그루브      4   2012-03-15    94              1      변성현   \n",
              "10            AV 아이돌      5   2015-07-27    89              3   조조 히데오   \n",
              "..               ...    ...          ...   ...            ...      ...   \n",
              "593       낭만파 남편의 편지      7   2013-09-12    97              3      최위안   \n",
              "594         오빠가 돌아왔다     11   2014-03-20    94              3      노진수   \n",
              "597            살인의 강      1   2010-09-30    99              3      김대현   \n",
              "598           악의 연대기      2   2015-05-14   102              1      백운학   \n",
              "599              베를린     10   2013-01-30   120              1      류승완   \n",
              "\n",
              "     dir_prev_bfnum  dir_prev_num  num_staff  num_actor  ...  year_1  year_2  \\\n",
              "0              0.00             0         91          2  ...    0.00    1.00   \n",
              "6              0.00             0         32          5  ...    0.00    0.00   \n",
              "8              0.00             0          3          5  ...    0.00    0.00   \n",
              "9              0.00             0        138          3  ...    0.00    1.00   \n",
              "10             0.00             0          0          4  ...    0.00    0.00   \n",
              "..              ...           ...        ...        ...  ...     ...     ...   \n",
              "593            0.00             0          5          3  ...    0.00    0.00   \n",
              "594            0.00             0         37          5  ...    0.00    0.00   \n",
              "597            0.00             0        123          4  ...    0.00    0.00   \n",
              "598            0.00             0        431          4  ...    0.00    0.00   \n",
              "599            0.00             0        363          5  ...    0.00    0.00   \n",
              "\n",
              "     year_3  year_4  year_5  screening_rat_0  screening_rat_1  \\\n",
              "0      0.00    0.00    0.00             0.00             0.00   \n",
              "6      1.00    0.00    0.00             0.00             0.00   \n",
              "8      0.00    1.00    0.00             0.00             0.00   \n",
              "9      0.00    0.00    0.00             0.00             1.00   \n",
              "10     0.00    0.00    1.00             0.00             0.00   \n",
              "..      ...     ...     ...              ...              ...   \n",
              "593    1.00    0.00    0.00             0.00             0.00   \n",
              "594    0.00    1.00    0.00             0.00             0.00   \n",
              "597    0.00    0.00    0.00             0.00             0.00   \n",
              "598    0.00    0.00    1.00             0.00             1.00   \n",
              "599    1.00    0.00    0.00             0.00             1.00   \n",
              "\n",
              "     screening_rat_2  screening_rat_3  genre_season_rank  \n",
              "0               0.00             1.00              13.00  \n",
              "6               1.00             0.00              38.00  \n",
              "8               1.00             0.00              39.00  \n",
              "9               0.00             0.00              27.00  \n",
              "10              0.00             1.00              29.00  \n",
              "..               ...              ...                ...  \n",
              "593             0.00             1.00              14.00  \n",
              "594             0.00             1.00              10.00  \n",
              "597             0.00             1.00              18.00  \n",
              "598             0.00             0.00              12.00  \n",
              "599             0.00             0.00               3.00  \n",
              "\n",
              "[330 rows x 41 columns]"
            ],
            "text/html": [
              "\n",
              "  <div id=\"df-a8817cdf-b8bc-4b8b-9878-83a9d03d34f3\" class=\"colab-df-container\">\n",
              "    <div>\n",
              "<style scoped>\n",
              "    .dataframe tbody tr th:only-of-type {\n",
              "        vertical-align: middle;\n",
              "    }\n",
              "\n",
              "    .dataframe tbody tr th {\n",
              "        vertical-align: top;\n",
              "    }\n",
              "\n",
              "    .dataframe thead th {\n",
              "        text-align: right;\n",
              "    }\n",
              "</style>\n",
              "<table border=\"1\" class=\"dataframe\">\n",
              "  <thead>\n",
              "    <tr style=\"text-align: right;\">\n",
              "      <th></th>\n",
              "      <th>title</th>\n",
              "      <th>genre</th>\n",
              "      <th>release_time</th>\n",
              "      <th>time</th>\n",
              "      <th>screening_rat</th>\n",
              "      <th>director</th>\n",
              "      <th>dir_prev_bfnum</th>\n",
              "      <th>dir_prev_num</th>\n",
              "      <th>num_staff</th>\n",
              "      <th>num_actor</th>\n",
              "      <th>...</th>\n",
              "      <th>year_1</th>\n",
              "      <th>year_2</th>\n",
              "      <th>year_3</th>\n",
              "      <th>year_4</th>\n",
              "      <th>year_5</th>\n",
              "      <th>screening_rat_0</th>\n",
              "      <th>screening_rat_1</th>\n",
              "      <th>screening_rat_2</th>\n",
              "      <th>screening_rat_3</th>\n",
              "      <th>genre_season_rank</th>\n",
              "    </tr>\n",
              "  </thead>\n",
              "  <tbody>\n",
              "    <tr>\n",
              "      <th>0</th>\n",
              "      <td>개들의 전쟁</td>\n",
              "      <td>10</td>\n",
              "      <td>2012-11-22</td>\n",
              "      <td>96</td>\n",
              "      <td>3</td>\n",
              "      <td>조병옥</td>\n",
              "      <td>0.00</td>\n",
              "      <td>0</td>\n",
              "      <td>91</td>\n",
              "      <td>2</td>\n",
              "      <td>...</td>\n",
              "      <td>0.00</td>\n",
              "      <td>1.00</td>\n",
              "      <td>0.00</td>\n",
              "      <td>0.00</td>\n",
              "      <td>0.00</td>\n",
              "      <td>0.00</td>\n",
              "      <td>0.00</td>\n",
              "      <td>0.00</td>\n",
              "      <td>1.00</td>\n",
              "      <td>13.00</td>\n",
              "    </tr>\n",
              "    <tr>\n",
              "      <th>6</th>\n",
              "      <td>길위에서</td>\n",
              "      <td>3</td>\n",
              "      <td>2013-05-23</td>\n",
              "      <td>104</td>\n",
              "      <td>2</td>\n",
              "      <td>이창재</td>\n",
              "      <td>0.00</td>\n",
              "      <td>0</td>\n",
              "      <td>32</td>\n",
              "      <td>5</td>\n",
              "      <td>...</td>\n",
              "      <td>0.00</td>\n",
              "      <td>0.00</td>\n",
              "      <td>1.00</td>\n",
              "      <td>0.00</td>\n",
              "      <td>0.00</td>\n",
              "      <td>0.00</td>\n",
              "      <td>0.00</td>\n",
              "      <td>1.00</td>\n",
              "      <td>0.00</td>\n",
              "      <td>38.00</td>\n",
              "    </tr>\n",
              "    <tr>\n",
              "      <th>8</th>\n",
              "      <td>1789, 바스티유의 연인들</td>\n",
              "      <td>6</td>\n",
              "      <td>2014-09-18</td>\n",
              "      <td>129</td>\n",
              "      <td>2</td>\n",
              "      <td>정성복</td>\n",
              "      <td>0.00</td>\n",
              "      <td>0</td>\n",
              "      <td>3</td>\n",
              "      <td>5</td>\n",
              "      <td>...</td>\n",
              "      <td>0.00</td>\n",
              "      <td>0.00</td>\n",
              "      <td>0.00</td>\n",
              "      <td>1.00</td>\n",
              "      <td>0.00</td>\n",
              "      <td>0.00</td>\n",
              "      <td>0.00</td>\n",
              "      <td>1.00</td>\n",
              "      <td>0.00</td>\n",
              "      <td>39.00</td>\n",
              "    </tr>\n",
              "    <tr>\n",
              "      <th>9</th>\n",
              "      <td>청춘그루브</td>\n",
              "      <td>4</td>\n",
              "      <td>2012-03-15</td>\n",
              "      <td>94</td>\n",
              "      <td>1</td>\n",
              "      <td>변성현</td>\n",
              "      <td>0.00</td>\n",
              "      <td>0</td>\n",
              "      <td>138</td>\n",
              "      <td>3</td>\n",
              "      <td>...</td>\n",
              "      <td>0.00</td>\n",
              "      <td>1.00</td>\n",
              "      <td>0.00</td>\n",
              "      <td>0.00</td>\n",
              "      <td>0.00</td>\n",
              "      <td>0.00</td>\n",
              "      <td>1.00</td>\n",
              "      <td>0.00</td>\n",
              "      <td>0.00</td>\n",
              "      <td>27.00</td>\n",
              "    </tr>\n",
              "    <tr>\n",
              "      <th>10</th>\n",
              "      <td>AV 아이돌</td>\n",
              "      <td>5</td>\n",
              "      <td>2015-07-27</td>\n",
              "      <td>89</td>\n",
              "      <td>3</td>\n",
              "      <td>조조 히데오</td>\n",
              "      <td>0.00</td>\n",
              "      <td>0</td>\n",
              "      <td>0</td>\n",
              "      <td>4</td>\n",
              "      <td>...</td>\n",
              "      <td>0.00</td>\n",
              "      <td>0.00</td>\n",
              "      <td>0.00</td>\n",
              "      <td>0.00</td>\n",
              "      <td>1.00</td>\n",
              "      <td>0.00</td>\n",
              "      <td>0.00</td>\n",
              "      <td>0.00</td>\n",
              "      <td>1.00</td>\n",
              "      <td>29.00</td>\n",
              "    </tr>\n",
              "    <tr>\n",
              "      <th>...</th>\n",
              "      <td>...</td>\n",
              "      <td>...</td>\n",
              "      <td>...</td>\n",
              "      <td>...</td>\n",
              "      <td>...</td>\n",
              "      <td>...</td>\n",
              "      <td>...</td>\n",
              "      <td>...</td>\n",
              "      <td>...</td>\n",
              "      <td>...</td>\n",
              "      <td>...</td>\n",
              "      <td>...</td>\n",
              "      <td>...</td>\n",
              "      <td>...</td>\n",
              "      <td>...</td>\n",
              "      <td>...</td>\n",
              "      <td>...</td>\n",
              "      <td>...</td>\n",
              "      <td>...</td>\n",
              "      <td>...</td>\n",
              "      <td>...</td>\n",
              "    </tr>\n",
              "    <tr>\n",
              "      <th>593</th>\n",
              "      <td>낭만파 남편의 편지</td>\n",
              "      <td>7</td>\n",
              "      <td>2013-09-12</td>\n",
              "      <td>97</td>\n",
              "      <td>3</td>\n",
              "      <td>최위안</td>\n",
              "      <td>0.00</td>\n",
              "      <td>0</td>\n",
              "      <td>5</td>\n",
              "      <td>3</td>\n",
              "      <td>...</td>\n",
              "      <td>0.00</td>\n",
              "      <td>0.00</td>\n",
              "      <td>1.00</td>\n",
              "      <td>0.00</td>\n",
              "      <td>0.00</td>\n",
              "      <td>0.00</td>\n",
              "      <td>0.00</td>\n",
              "      <td>0.00</td>\n",
              "      <td>1.00</td>\n",
              "      <td>14.00</td>\n",
              "    </tr>\n",
              "    <tr>\n",
              "      <th>594</th>\n",
              "      <td>오빠가 돌아왔다</td>\n",
              "      <td>11</td>\n",
              "      <td>2014-03-20</td>\n",
              "      <td>94</td>\n",
              "      <td>3</td>\n",
              "      <td>노진수</td>\n",
              "      <td>0.00</td>\n",
              "      <td>0</td>\n",
              "      <td>37</td>\n",
              "      <td>5</td>\n",
              "      <td>...</td>\n",
              "      <td>0.00</td>\n",
              "      <td>0.00</td>\n",
              "      <td>0.00</td>\n",
              "      <td>1.00</td>\n",
              "      <td>0.00</td>\n",
              "      <td>0.00</td>\n",
              "      <td>0.00</td>\n",
              "      <td>0.00</td>\n",
              "      <td>1.00</td>\n",
              "      <td>10.00</td>\n",
              "    </tr>\n",
              "    <tr>\n",
              "      <th>597</th>\n",
              "      <td>살인의 강</td>\n",
              "      <td>1</td>\n",
              "      <td>2010-09-30</td>\n",
              "      <td>99</td>\n",
              "      <td>3</td>\n",
              "      <td>김대현</td>\n",
              "      <td>0.00</td>\n",
              "      <td>0</td>\n",
              "      <td>123</td>\n",
              "      <td>4</td>\n",
              "      <td>...</td>\n",
              "      <td>0.00</td>\n",
              "      <td>0.00</td>\n",
              "      <td>0.00</td>\n",
              "      <td>0.00</td>\n",
              "      <td>0.00</td>\n",
              "      <td>0.00</td>\n",
              "      <td>0.00</td>\n",
              "      <td>0.00</td>\n",
              "      <td>1.00</td>\n",
              "      <td>18.00</td>\n",
              "    </tr>\n",
              "    <tr>\n",
              "      <th>598</th>\n",
              "      <td>악의 연대기</td>\n",
              "      <td>2</td>\n",
              "      <td>2015-05-14</td>\n",
              "      <td>102</td>\n",
              "      <td>1</td>\n",
              "      <td>백운학</td>\n",
              "      <td>0.00</td>\n",
              "      <td>0</td>\n",
              "      <td>431</td>\n",
              "      <td>4</td>\n",
              "      <td>...</td>\n",
              "      <td>0.00</td>\n",
              "      <td>0.00</td>\n",
              "      <td>0.00</td>\n",
              "      <td>0.00</td>\n",
              "      <td>1.00</td>\n",
              "      <td>0.00</td>\n",
              "      <td>1.00</td>\n",
              "      <td>0.00</td>\n",
              "      <td>0.00</td>\n",
              "      <td>12.00</td>\n",
              "    </tr>\n",
              "    <tr>\n",
              "      <th>599</th>\n",
              "      <td>베를린</td>\n",
              "      <td>10</td>\n",
              "      <td>2013-01-30</td>\n",
              "      <td>120</td>\n",
              "      <td>1</td>\n",
              "      <td>류승완</td>\n",
              "      <td>0.00</td>\n",
              "      <td>0</td>\n",
              "      <td>363</td>\n",
              "      <td>5</td>\n",
              "      <td>...</td>\n",
              "      <td>0.00</td>\n",
              "      <td>0.00</td>\n",
              "      <td>1.00</td>\n",
              "      <td>0.00</td>\n",
              "      <td>0.00</td>\n",
              "      <td>0.00</td>\n",
              "      <td>1.00</td>\n",
              "      <td>0.00</td>\n",
              "      <td>0.00</td>\n",
              "      <td>3.00</td>\n",
              "    </tr>\n",
              "  </tbody>\n",
              "</table>\n",
              "<p>330 rows × 41 columns</p>\n",
              "</div>\n",
              "    <div class=\"colab-df-buttons\">\n",
              "\n",
              "  <div class=\"colab-df-container\">\n",
              "    <button class=\"colab-df-convert\" onclick=\"convertToInteractive('df-a8817cdf-b8bc-4b8b-9878-83a9d03d34f3')\"\n",
              "            title=\"Convert this dataframe to an interactive table.\"\n",
              "            style=\"display:none;\">\n",
              "\n",
              "  <svg xmlns=\"http://www.w3.org/2000/svg\" height=\"24px\" viewBox=\"0 -960 960 960\">\n",
              "    <path d=\"M120-120v-720h720v720H120Zm60-500h600v-160H180v160Zm220 220h160v-160H400v160Zm0 220h160v-160H400v160ZM180-400h160v-160H180v160Zm440 0h160v-160H620v160ZM180-180h160v-160H180v160Zm440 0h160v-160H620v160Z\"/>\n",
              "  </svg>\n",
              "    </button>\n",
              "\n",
              "  <style>\n",
              "    .colab-df-container {\n",
              "      display:flex;\n",
              "      gap: 12px;\n",
              "    }\n",
              "\n",
              "    .colab-df-convert {\n",
              "      background-color: #E8F0FE;\n",
              "      border: none;\n",
              "      border-radius: 50%;\n",
              "      cursor: pointer;\n",
              "      display: none;\n",
              "      fill: #1967D2;\n",
              "      height: 32px;\n",
              "      padding: 0 0 0 0;\n",
              "      width: 32px;\n",
              "    }\n",
              "\n",
              "    .colab-df-convert:hover {\n",
              "      background-color: #E2EBFA;\n",
              "      box-shadow: 0px 1px 2px rgba(60, 64, 67, 0.3), 0px 1px 3px 1px rgba(60, 64, 67, 0.15);\n",
              "      fill: #174EA6;\n",
              "    }\n",
              "\n",
              "    .colab-df-buttons div {\n",
              "      margin-bottom: 4px;\n",
              "    }\n",
              "\n",
              "    [theme=dark] .colab-df-convert {\n",
              "      background-color: #3B4455;\n",
              "      fill: #D2E3FC;\n",
              "    }\n",
              "\n",
              "    [theme=dark] .colab-df-convert:hover {\n",
              "      background-color: #434B5C;\n",
              "      box-shadow: 0px 1px 3px 1px rgba(0, 0, 0, 0.15);\n",
              "      filter: drop-shadow(0px 1px 2px rgba(0, 0, 0, 0.3));\n",
              "      fill: #FFFFFF;\n",
              "    }\n",
              "  </style>\n",
              "\n",
              "    <script>\n",
              "      const buttonEl =\n",
              "        document.querySelector('#df-a8817cdf-b8bc-4b8b-9878-83a9d03d34f3 button.colab-df-convert');\n",
              "      buttonEl.style.display =\n",
              "        google.colab.kernel.accessAllowed ? 'block' : 'none';\n",
              "\n",
              "      async function convertToInteractive(key) {\n",
              "        const element = document.querySelector('#df-a8817cdf-b8bc-4b8b-9878-83a9d03d34f3');\n",
              "        const dataTable =\n",
              "          await google.colab.kernel.invokeFunction('convertToInteractive',\n",
              "                                                    [key], {});\n",
              "        if (!dataTable) return;\n",
              "\n",
              "        const docLinkHtml = 'Like what you see? Visit the ' +\n",
              "          '<a target=\"_blank\" href=https://colab.research.google.com/notebooks/data_table.ipynb>data table notebook</a>'\n",
              "          + ' to learn more about interactive tables.';\n",
              "        element.innerHTML = '';\n",
              "        dataTable['output_type'] = 'display_data';\n",
              "        await google.colab.output.renderOutput(dataTable, element);\n",
              "        const docLink = document.createElement('div');\n",
              "        docLink.innerHTML = docLinkHtml;\n",
              "        element.appendChild(docLink);\n",
              "      }\n",
              "    </script>\n",
              "  </div>\n",
              "\n",
              "\n",
              "<div id=\"df-3b957bd1-14a4-4d44-a08b-231b57b64102\">\n",
              "  <button class=\"colab-df-quickchart\" onclick=\"quickchart('df-3b957bd1-14a4-4d44-a08b-231b57b64102')\"\n",
              "            title=\"Suggest charts\"\n",
              "            style=\"display:none;\">\n",
              "\n",
              "<svg xmlns=\"http://www.w3.org/2000/svg\" height=\"24px\"viewBox=\"0 0 24 24\"\n",
              "     width=\"24px\">\n",
              "    <g>\n",
              "        <path d=\"M19 3H5c-1.1 0-2 .9-2 2v14c0 1.1.9 2 2 2h14c1.1 0 2-.9 2-2V5c0-1.1-.9-2-2-2zM9 17H7v-7h2v7zm4 0h-2V7h2v10zm4 0h-2v-4h2v4z\"/>\n",
              "    </g>\n",
              "</svg>\n",
              "  </button>\n",
              "\n",
              "<style>\n",
              "  .colab-df-quickchart {\n",
              "      --bg-color: #E8F0FE;\n",
              "      --fill-color: #1967D2;\n",
              "      --hover-bg-color: #E2EBFA;\n",
              "      --hover-fill-color: #174EA6;\n",
              "      --disabled-fill-color: #AAA;\n",
              "      --disabled-bg-color: #DDD;\n",
              "  }\n",
              "\n",
              "  [theme=dark] .colab-df-quickchart {\n",
              "      --bg-color: #3B4455;\n",
              "      --fill-color: #D2E3FC;\n",
              "      --hover-bg-color: #434B5C;\n",
              "      --hover-fill-color: #FFFFFF;\n",
              "      --disabled-bg-color: #3B4455;\n",
              "      --disabled-fill-color: #666;\n",
              "  }\n",
              "\n",
              "  .colab-df-quickchart {\n",
              "    background-color: var(--bg-color);\n",
              "    border: none;\n",
              "    border-radius: 50%;\n",
              "    cursor: pointer;\n",
              "    display: none;\n",
              "    fill: var(--fill-color);\n",
              "    height: 32px;\n",
              "    padding: 0;\n",
              "    width: 32px;\n",
              "  }\n",
              "\n",
              "  .colab-df-quickchart:hover {\n",
              "    background-color: var(--hover-bg-color);\n",
              "    box-shadow: 0 1px 2px rgba(60, 64, 67, 0.3), 0 1px 3px 1px rgba(60, 64, 67, 0.15);\n",
              "    fill: var(--button-hover-fill-color);\n",
              "  }\n",
              "\n",
              "  .colab-df-quickchart-complete:disabled,\n",
              "  .colab-df-quickchart-complete:disabled:hover {\n",
              "    background-color: var(--disabled-bg-color);\n",
              "    fill: var(--disabled-fill-color);\n",
              "    box-shadow: none;\n",
              "  }\n",
              "\n",
              "  .colab-df-spinner {\n",
              "    border: 2px solid var(--fill-color);\n",
              "    border-color: transparent;\n",
              "    border-bottom-color: var(--fill-color);\n",
              "    animation:\n",
              "      spin 1s steps(1) infinite;\n",
              "  }\n",
              "\n",
              "  @keyframes spin {\n",
              "    0% {\n",
              "      border-color: transparent;\n",
              "      border-bottom-color: var(--fill-color);\n",
              "      border-left-color: var(--fill-color);\n",
              "    }\n",
              "    20% {\n",
              "      border-color: transparent;\n",
              "      border-left-color: var(--fill-color);\n",
              "      border-top-color: var(--fill-color);\n",
              "    }\n",
              "    30% {\n",
              "      border-color: transparent;\n",
              "      border-left-color: var(--fill-color);\n",
              "      border-top-color: var(--fill-color);\n",
              "      border-right-color: var(--fill-color);\n",
              "    }\n",
              "    40% {\n",
              "      border-color: transparent;\n",
              "      border-right-color: var(--fill-color);\n",
              "      border-top-color: var(--fill-color);\n",
              "    }\n",
              "    60% {\n",
              "      border-color: transparent;\n",
              "      border-right-color: var(--fill-color);\n",
              "    }\n",
              "    80% {\n",
              "      border-color: transparent;\n",
              "      border-right-color: var(--fill-color);\n",
              "      border-bottom-color: var(--fill-color);\n",
              "    }\n",
              "    90% {\n",
              "      border-color: transparent;\n",
              "      border-bottom-color: var(--fill-color);\n",
              "    }\n",
              "  }\n",
              "</style>\n",
              "\n",
              "  <script>\n",
              "    async function quickchart(key) {\n",
              "      const quickchartButtonEl =\n",
              "        document.querySelector('#' + key + ' button');\n",
              "      quickchartButtonEl.disabled = true;  // To prevent multiple clicks.\n",
              "      quickchartButtonEl.classList.add('colab-df-spinner');\n",
              "      try {\n",
              "        const charts = await google.colab.kernel.invokeFunction(\n",
              "            'suggestCharts', [key], {});\n",
              "      } catch (error) {\n",
              "        console.error('Error during call to suggestCharts:', error);\n",
              "      }\n",
              "      quickchartButtonEl.classList.remove('colab-df-spinner');\n",
              "      quickchartButtonEl.classList.add('colab-df-quickchart-complete');\n",
              "    }\n",
              "    (() => {\n",
              "      let quickchartButtonEl =\n",
              "        document.querySelector('#df-3b957bd1-14a4-4d44-a08b-231b57b64102 button');\n",
              "      quickchartButtonEl.style.display =\n",
              "        google.colab.kernel.accessAllowed ? 'block' : 'none';\n",
              "    })();\n",
              "  </script>\n",
              "</div>\n",
              "\n",
              "    </div>\n",
              "  </div>\n"
            ],
            "application/vnd.google.colaboratory.intrinsic+json": {
              "type": "dataframe"
            }
          },
          "metadata": {},
          "execution_count": 25
        }
      ]
    },
    {
      "cell_type": "code",
      "source": [
        "train_df[train_df['director']=='홍상수']"
      ],
      "metadata": {
        "colab": {
          "base_uri": "https://localhost:8080/",
          "height": 457
        },
        "id": "Wsb8cdE-1yMw",
        "outputId": "3f7dfc49-2203-4477-d83b-1c69fd0f371e"
      },
      "execution_count": 26,
      "outputs": [
        {
          "output_type": "execute_result",
          "data": {
            "text/plain": [
              "           title  genre release_time  time  screening_rat director  \\\n",
              "15        자유의 언덕      4   2014-09-04    67              3      홍상수   \n",
              "19           하하하      4   2010-05-05   115              3      홍상수   \n",
              "115         북촌방향      4   2011-09-08    79              3      홍상수   \n",
              "164  지금은맞고그때는틀리다      4   2015-09-24   121              3      홍상수   \n",
              "331       다른나라에서      4   2012-05-31    89              3      홍상수   \n",
              "506        우리 선희      4   2013-09-12    89              3      홍상수   \n",
              "523       옥희의 영화      4   2010-09-16    80              3      홍상수   \n",
              "\n",
              "     dir_prev_bfnum  dir_prev_num  num_staff  num_actor  ...  year_1  year_2  \\\n",
              "15             0.00             0         52          3  ...    0.00    0.00   \n",
              "19             0.00             0         74          9  ...    0.00    0.00   \n",
              "115            0.00             0         55          5  ...    1.00    0.00   \n",
              "164        39317.00             1         16          2  ...    0.00    0.00   \n",
              "331            0.00             0         70          2  ...    0.00    1.00   \n",
              "506            0.00             0          8          6  ...    0.00    0.00   \n",
              "523            0.00             0         57          3  ...    0.00    0.00   \n",
              "\n",
              "     year_3  year_4  year_5  screening_rat_0  screening_rat_1  \\\n",
              "15     0.00    1.00    0.00             0.00             0.00   \n",
              "19     0.00    0.00    0.00             0.00             0.00   \n",
              "115    0.00    0.00    0.00             0.00             0.00   \n",
              "164    0.00    0.00    1.00             0.00             0.00   \n",
              "331    0.00    0.00    0.00             0.00             0.00   \n",
              "506    1.00    0.00    0.00             0.00             0.00   \n",
              "523    0.00    0.00    0.00             0.00             0.00   \n",
              "\n",
              "     screening_rat_2  screening_rat_3  genre_season_rank  \n",
              "15              0.00             1.00              20.00  \n",
              "19              0.00             1.00              27.00  \n",
              "115             0.00             1.00              20.00  \n",
              "164             0.00             1.00              20.00  \n",
              "331             0.00             1.00              27.00  \n",
              "506             0.00             1.00              20.00  \n",
              "523             0.00             1.00              20.00  \n",
              "\n",
              "[7 rows x 41 columns]"
            ],
            "text/html": [
              "\n",
              "  <div id=\"df-a29e853d-9068-454e-a661-84c7ef4d3a8b\" class=\"colab-df-container\">\n",
              "    <div>\n",
              "<style scoped>\n",
              "    .dataframe tbody tr th:only-of-type {\n",
              "        vertical-align: middle;\n",
              "    }\n",
              "\n",
              "    .dataframe tbody tr th {\n",
              "        vertical-align: top;\n",
              "    }\n",
              "\n",
              "    .dataframe thead th {\n",
              "        text-align: right;\n",
              "    }\n",
              "</style>\n",
              "<table border=\"1\" class=\"dataframe\">\n",
              "  <thead>\n",
              "    <tr style=\"text-align: right;\">\n",
              "      <th></th>\n",
              "      <th>title</th>\n",
              "      <th>genre</th>\n",
              "      <th>release_time</th>\n",
              "      <th>time</th>\n",
              "      <th>screening_rat</th>\n",
              "      <th>director</th>\n",
              "      <th>dir_prev_bfnum</th>\n",
              "      <th>dir_prev_num</th>\n",
              "      <th>num_staff</th>\n",
              "      <th>num_actor</th>\n",
              "      <th>...</th>\n",
              "      <th>year_1</th>\n",
              "      <th>year_2</th>\n",
              "      <th>year_3</th>\n",
              "      <th>year_4</th>\n",
              "      <th>year_5</th>\n",
              "      <th>screening_rat_0</th>\n",
              "      <th>screening_rat_1</th>\n",
              "      <th>screening_rat_2</th>\n",
              "      <th>screening_rat_3</th>\n",
              "      <th>genre_season_rank</th>\n",
              "    </tr>\n",
              "  </thead>\n",
              "  <tbody>\n",
              "    <tr>\n",
              "      <th>15</th>\n",
              "      <td>자유의 언덕</td>\n",
              "      <td>4</td>\n",
              "      <td>2014-09-04</td>\n",
              "      <td>67</td>\n",
              "      <td>3</td>\n",
              "      <td>홍상수</td>\n",
              "      <td>0.00</td>\n",
              "      <td>0</td>\n",
              "      <td>52</td>\n",
              "      <td>3</td>\n",
              "      <td>...</td>\n",
              "      <td>0.00</td>\n",
              "      <td>0.00</td>\n",
              "      <td>0.00</td>\n",
              "      <td>1.00</td>\n",
              "      <td>0.00</td>\n",
              "      <td>0.00</td>\n",
              "      <td>0.00</td>\n",
              "      <td>0.00</td>\n",
              "      <td>1.00</td>\n",
              "      <td>20.00</td>\n",
              "    </tr>\n",
              "    <tr>\n",
              "      <th>19</th>\n",
              "      <td>하하하</td>\n",
              "      <td>4</td>\n",
              "      <td>2010-05-05</td>\n",
              "      <td>115</td>\n",
              "      <td>3</td>\n",
              "      <td>홍상수</td>\n",
              "      <td>0.00</td>\n",
              "      <td>0</td>\n",
              "      <td>74</td>\n",
              "      <td>9</td>\n",
              "      <td>...</td>\n",
              "      <td>0.00</td>\n",
              "      <td>0.00</td>\n",
              "      <td>0.00</td>\n",
              "      <td>0.00</td>\n",
              "      <td>0.00</td>\n",
              "      <td>0.00</td>\n",
              "      <td>0.00</td>\n",
              "      <td>0.00</td>\n",
              "      <td>1.00</td>\n",
              "      <td>27.00</td>\n",
              "    </tr>\n",
              "    <tr>\n",
              "      <th>115</th>\n",
              "      <td>북촌방향</td>\n",
              "      <td>4</td>\n",
              "      <td>2011-09-08</td>\n",
              "      <td>79</td>\n",
              "      <td>3</td>\n",
              "      <td>홍상수</td>\n",
              "      <td>0.00</td>\n",
              "      <td>0</td>\n",
              "      <td>55</td>\n",
              "      <td>5</td>\n",
              "      <td>...</td>\n",
              "      <td>1.00</td>\n",
              "      <td>0.00</td>\n",
              "      <td>0.00</td>\n",
              "      <td>0.00</td>\n",
              "      <td>0.00</td>\n",
              "      <td>0.00</td>\n",
              "      <td>0.00</td>\n",
              "      <td>0.00</td>\n",
              "      <td>1.00</td>\n",
              "      <td>20.00</td>\n",
              "    </tr>\n",
              "    <tr>\n",
              "      <th>164</th>\n",
              "      <td>지금은맞고그때는틀리다</td>\n",
              "      <td>4</td>\n",
              "      <td>2015-09-24</td>\n",
              "      <td>121</td>\n",
              "      <td>3</td>\n",
              "      <td>홍상수</td>\n",
              "      <td>39317.00</td>\n",
              "      <td>1</td>\n",
              "      <td>16</td>\n",
              "      <td>2</td>\n",
              "      <td>...</td>\n",
              "      <td>0.00</td>\n",
              "      <td>0.00</td>\n",
              "      <td>0.00</td>\n",
              "      <td>0.00</td>\n",
              "      <td>1.00</td>\n",
              "      <td>0.00</td>\n",
              "      <td>0.00</td>\n",
              "      <td>0.00</td>\n",
              "      <td>1.00</td>\n",
              "      <td>20.00</td>\n",
              "    </tr>\n",
              "    <tr>\n",
              "      <th>331</th>\n",
              "      <td>다른나라에서</td>\n",
              "      <td>4</td>\n",
              "      <td>2012-05-31</td>\n",
              "      <td>89</td>\n",
              "      <td>3</td>\n",
              "      <td>홍상수</td>\n",
              "      <td>0.00</td>\n",
              "      <td>0</td>\n",
              "      <td>70</td>\n",
              "      <td>2</td>\n",
              "      <td>...</td>\n",
              "      <td>0.00</td>\n",
              "      <td>1.00</td>\n",
              "      <td>0.00</td>\n",
              "      <td>0.00</td>\n",
              "      <td>0.00</td>\n",
              "      <td>0.00</td>\n",
              "      <td>0.00</td>\n",
              "      <td>0.00</td>\n",
              "      <td>1.00</td>\n",
              "      <td>27.00</td>\n",
              "    </tr>\n",
              "    <tr>\n",
              "      <th>506</th>\n",
              "      <td>우리 선희</td>\n",
              "      <td>4</td>\n",
              "      <td>2013-09-12</td>\n",
              "      <td>89</td>\n",
              "      <td>3</td>\n",
              "      <td>홍상수</td>\n",
              "      <td>0.00</td>\n",
              "      <td>0</td>\n",
              "      <td>8</td>\n",
              "      <td>6</td>\n",
              "      <td>...</td>\n",
              "      <td>0.00</td>\n",
              "      <td>0.00</td>\n",
              "      <td>1.00</td>\n",
              "      <td>0.00</td>\n",
              "      <td>0.00</td>\n",
              "      <td>0.00</td>\n",
              "      <td>0.00</td>\n",
              "      <td>0.00</td>\n",
              "      <td>1.00</td>\n",
              "      <td>20.00</td>\n",
              "    </tr>\n",
              "    <tr>\n",
              "      <th>523</th>\n",
              "      <td>옥희의 영화</td>\n",
              "      <td>4</td>\n",
              "      <td>2010-09-16</td>\n",
              "      <td>80</td>\n",
              "      <td>3</td>\n",
              "      <td>홍상수</td>\n",
              "      <td>0.00</td>\n",
              "      <td>0</td>\n",
              "      <td>57</td>\n",
              "      <td>3</td>\n",
              "      <td>...</td>\n",
              "      <td>0.00</td>\n",
              "      <td>0.00</td>\n",
              "      <td>0.00</td>\n",
              "      <td>0.00</td>\n",
              "      <td>0.00</td>\n",
              "      <td>0.00</td>\n",
              "      <td>0.00</td>\n",
              "      <td>0.00</td>\n",
              "      <td>1.00</td>\n",
              "      <td>20.00</td>\n",
              "    </tr>\n",
              "  </tbody>\n",
              "</table>\n",
              "<p>7 rows × 41 columns</p>\n",
              "</div>\n",
              "    <div class=\"colab-df-buttons\">\n",
              "\n",
              "  <div class=\"colab-df-container\">\n",
              "    <button class=\"colab-df-convert\" onclick=\"convertToInteractive('df-a29e853d-9068-454e-a661-84c7ef4d3a8b')\"\n",
              "            title=\"Convert this dataframe to an interactive table.\"\n",
              "            style=\"display:none;\">\n",
              "\n",
              "  <svg xmlns=\"http://www.w3.org/2000/svg\" height=\"24px\" viewBox=\"0 -960 960 960\">\n",
              "    <path d=\"M120-120v-720h720v720H120Zm60-500h600v-160H180v160Zm220 220h160v-160H400v160Zm0 220h160v-160H400v160ZM180-400h160v-160H180v160Zm440 0h160v-160H620v160ZM180-180h160v-160H180v160Zm440 0h160v-160H620v160Z\"/>\n",
              "  </svg>\n",
              "    </button>\n",
              "\n",
              "  <style>\n",
              "    .colab-df-container {\n",
              "      display:flex;\n",
              "      gap: 12px;\n",
              "    }\n",
              "\n",
              "    .colab-df-convert {\n",
              "      background-color: #E8F0FE;\n",
              "      border: none;\n",
              "      border-radius: 50%;\n",
              "      cursor: pointer;\n",
              "      display: none;\n",
              "      fill: #1967D2;\n",
              "      height: 32px;\n",
              "      padding: 0 0 0 0;\n",
              "      width: 32px;\n",
              "    }\n",
              "\n",
              "    .colab-df-convert:hover {\n",
              "      background-color: #E2EBFA;\n",
              "      box-shadow: 0px 1px 2px rgba(60, 64, 67, 0.3), 0px 1px 3px 1px rgba(60, 64, 67, 0.15);\n",
              "      fill: #174EA6;\n",
              "    }\n",
              "\n",
              "    .colab-df-buttons div {\n",
              "      margin-bottom: 4px;\n",
              "    }\n",
              "\n",
              "    [theme=dark] .colab-df-convert {\n",
              "      background-color: #3B4455;\n",
              "      fill: #D2E3FC;\n",
              "    }\n",
              "\n",
              "    [theme=dark] .colab-df-convert:hover {\n",
              "      background-color: #434B5C;\n",
              "      box-shadow: 0px 1px 3px 1px rgba(0, 0, 0, 0.15);\n",
              "      filter: drop-shadow(0px 1px 2px rgba(0, 0, 0, 0.3));\n",
              "      fill: #FFFFFF;\n",
              "    }\n",
              "  </style>\n",
              "\n",
              "    <script>\n",
              "      const buttonEl =\n",
              "        document.querySelector('#df-a29e853d-9068-454e-a661-84c7ef4d3a8b button.colab-df-convert');\n",
              "      buttonEl.style.display =\n",
              "        google.colab.kernel.accessAllowed ? 'block' : 'none';\n",
              "\n",
              "      async function convertToInteractive(key) {\n",
              "        const element = document.querySelector('#df-a29e853d-9068-454e-a661-84c7ef4d3a8b');\n",
              "        const dataTable =\n",
              "          await google.colab.kernel.invokeFunction('convertToInteractive',\n",
              "                                                    [key], {});\n",
              "        if (!dataTable) return;\n",
              "\n",
              "        const docLinkHtml = 'Like what you see? Visit the ' +\n",
              "          '<a target=\"_blank\" href=https://colab.research.google.com/notebooks/data_table.ipynb>data table notebook</a>'\n",
              "          + ' to learn more about interactive tables.';\n",
              "        element.innerHTML = '';\n",
              "        dataTable['output_type'] = 'display_data';\n",
              "        await google.colab.output.renderOutput(dataTable, element);\n",
              "        const docLink = document.createElement('div');\n",
              "        docLink.innerHTML = docLinkHtml;\n",
              "        element.appendChild(docLink);\n",
              "      }\n",
              "    </script>\n",
              "  </div>\n",
              "\n",
              "\n",
              "<div id=\"df-d8d9a966-f458-4ecc-b924-a6a20b2213ac\">\n",
              "  <button class=\"colab-df-quickchart\" onclick=\"quickchart('df-d8d9a966-f458-4ecc-b924-a6a20b2213ac')\"\n",
              "            title=\"Suggest charts\"\n",
              "            style=\"display:none;\">\n",
              "\n",
              "<svg xmlns=\"http://www.w3.org/2000/svg\" height=\"24px\"viewBox=\"0 0 24 24\"\n",
              "     width=\"24px\">\n",
              "    <g>\n",
              "        <path d=\"M19 3H5c-1.1 0-2 .9-2 2v14c0 1.1.9 2 2 2h14c1.1 0 2-.9 2-2V5c0-1.1-.9-2-2-2zM9 17H7v-7h2v7zm4 0h-2V7h2v10zm4 0h-2v-4h2v4z\"/>\n",
              "    </g>\n",
              "</svg>\n",
              "  </button>\n",
              "\n",
              "<style>\n",
              "  .colab-df-quickchart {\n",
              "      --bg-color: #E8F0FE;\n",
              "      --fill-color: #1967D2;\n",
              "      --hover-bg-color: #E2EBFA;\n",
              "      --hover-fill-color: #174EA6;\n",
              "      --disabled-fill-color: #AAA;\n",
              "      --disabled-bg-color: #DDD;\n",
              "  }\n",
              "\n",
              "  [theme=dark] .colab-df-quickchart {\n",
              "      --bg-color: #3B4455;\n",
              "      --fill-color: #D2E3FC;\n",
              "      --hover-bg-color: #434B5C;\n",
              "      --hover-fill-color: #FFFFFF;\n",
              "      --disabled-bg-color: #3B4455;\n",
              "      --disabled-fill-color: #666;\n",
              "  }\n",
              "\n",
              "  .colab-df-quickchart {\n",
              "    background-color: var(--bg-color);\n",
              "    border: none;\n",
              "    border-radius: 50%;\n",
              "    cursor: pointer;\n",
              "    display: none;\n",
              "    fill: var(--fill-color);\n",
              "    height: 32px;\n",
              "    padding: 0;\n",
              "    width: 32px;\n",
              "  }\n",
              "\n",
              "  .colab-df-quickchart:hover {\n",
              "    background-color: var(--hover-bg-color);\n",
              "    box-shadow: 0 1px 2px rgba(60, 64, 67, 0.3), 0 1px 3px 1px rgba(60, 64, 67, 0.15);\n",
              "    fill: var(--button-hover-fill-color);\n",
              "  }\n",
              "\n",
              "  .colab-df-quickchart-complete:disabled,\n",
              "  .colab-df-quickchart-complete:disabled:hover {\n",
              "    background-color: var(--disabled-bg-color);\n",
              "    fill: var(--disabled-fill-color);\n",
              "    box-shadow: none;\n",
              "  }\n",
              "\n",
              "  .colab-df-spinner {\n",
              "    border: 2px solid var(--fill-color);\n",
              "    border-color: transparent;\n",
              "    border-bottom-color: var(--fill-color);\n",
              "    animation:\n",
              "      spin 1s steps(1) infinite;\n",
              "  }\n",
              "\n",
              "  @keyframes spin {\n",
              "    0% {\n",
              "      border-color: transparent;\n",
              "      border-bottom-color: var(--fill-color);\n",
              "      border-left-color: var(--fill-color);\n",
              "    }\n",
              "    20% {\n",
              "      border-color: transparent;\n",
              "      border-left-color: var(--fill-color);\n",
              "      border-top-color: var(--fill-color);\n",
              "    }\n",
              "    30% {\n",
              "      border-color: transparent;\n",
              "      border-left-color: var(--fill-color);\n",
              "      border-top-color: var(--fill-color);\n",
              "      border-right-color: var(--fill-color);\n",
              "    }\n",
              "    40% {\n",
              "      border-color: transparent;\n",
              "      border-right-color: var(--fill-color);\n",
              "      border-top-color: var(--fill-color);\n",
              "    }\n",
              "    60% {\n",
              "      border-color: transparent;\n",
              "      border-right-color: var(--fill-color);\n",
              "    }\n",
              "    80% {\n",
              "      border-color: transparent;\n",
              "      border-right-color: var(--fill-color);\n",
              "      border-bottom-color: var(--fill-color);\n",
              "    }\n",
              "    90% {\n",
              "      border-color: transparent;\n",
              "      border-bottom-color: var(--fill-color);\n",
              "    }\n",
              "  }\n",
              "</style>\n",
              "\n",
              "  <script>\n",
              "    async function quickchart(key) {\n",
              "      const quickchartButtonEl =\n",
              "        document.querySelector('#' + key + ' button');\n",
              "      quickchartButtonEl.disabled = true;  // To prevent multiple clicks.\n",
              "      quickchartButtonEl.classList.add('colab-df-spinner');\n",
              "      try {\n",
              "        const charts = await google.colab.kernel.invokeFunction(\n",
              "            'suggestCharts', [key], {});\n",
              "      } catch (error) {\n",
              "        console.error('Error during call to suggestCharts:', error);\n",
              "      }\n",
              "      quickchartButtonEl.classList.remove('colab-df-spinner');\n",
              "      quickchartButtonEl.classList.add('colab-df-quickchart-complete');\n",
              "    }\n",
              "    (() => {\n",
              "      let quickchartButtonEl =\n",
              "        document.querySelector('#df-d8d9a966-f458-4ecc-b924-a6a20b2213ac button');\n",
              "      quickchartButtonEl.style.display =\n",
              "        google.colab.kernel.accessAllowed ? 'block' : 'none';\n",
              "    })();\n",
              "  </script>\n",
              "</div>\n",
              "\n",
              "    </div>\n",
              "  </div>\n"
            ],
            "application/vnd.google.colaboratory.intrinsic+json": {
              "type": "dataframe"
            }
          },
          "metadata": {},
          "execution_count": 26
        }
      ]
    },
    {
      "cell_type": "code",
      "source": [
        "# <전체 정렬>\n",
        "# 개봉일을 datetime 형식으로 변환\n",
        "train_df['release_time'] = pd.to_datetime(train_df['release_time'])\n",
        "\n",
        "# 개봉일 기준으로 정렬\n",
        "train_df = train_df.sort_values('release_time').reset_index(drop=True)\n",
        "\n",
        "# 감독별 이전 영화 개수 계산\n",
        "train_df['dir_prev_num'] = train_df.groupby('director').cumcount()"
      ],
      "metadata": {
        "id": "l5O1aBn_32hG"
      },
      "execution_count": 27,
      "outputs": []
    },
    {
      "cell_type": "code",
      "source": [
        "train_df[train_df['director']=='홍상수']"
      ],
      "metadata": {
        "colab": {
          "base_uri": "https://localhost:8080/",
          "height": 457
        },
        "id": "6-dG3M5lsp3e",
        "outputId": "8aef0877-3f56-4662-fe25-96717b9504bb"
      },
      "execution_count": 28,
      "outputs": [
        {
          "output_type": "execute_result",
          "data": {
            "text/plain": [
              "           title  genre release_time  time  screening_rat director  \\\n",
              "25           하하하      4   2010-05-05   115              3      홍상수   \n",
              "59        옥희의 영화      4   2010-09-16    80              3      홍상수   \n",
              "145         북촌방향      4   2011-09-08    79              3      홍상수   \n",
              "206       다른나라에서      4   2012-05-31    89              3      홍상수   \n",
              "318        우리 선희      4   2013-09-12    89              3      홍상수   \n",
              "432       자유의 언덕      4   2014-09-04    67              3      홍상수   \n",
              "556  지금은맞고그때는틀리다      4   2015-09-24   121              3      홍상수   \n",
              "\n",
              "     dir_prev_bfnum  dir_prev_num  num_staff  num_actor  ...  year_1  year_2  \\\n",
              "25             0.00             0         74          9  ...    0.00    0.00   \n",
              "59             0.00             1         57          3  ...    0.00    0.00   \n",
              "145            0.00             2         55          5  ...    1.00    0.00   \n",
              "206            0.00             3         70          2  ...    0.00    1.00   \n",
              "318            0.00             4          8          6  ...    0.00    0.00   \n",
              "432            0.00             5         52          3  ...    0.00    0.00   \n",
              "556        39317.00             6         16          2  ...    0.00    0.00   \n",
              "\n",
              "     year_3  year_4  year_5  screening_rat_0  screening_rat_1  \\\n",
              "25     0.00    0.00    0.00             0.00             0.00   \n",
              "59     0.00    0.00    0.00             0.00             0.00   \n",
              "145    0.00    0.00    0.00             0.00             0.00   \n",
              "206    0.00    0.00    0.00             0.00             0.00   \n",
              "318    1.00    0.00    0.00             0.00             0.00   \n",
              "432    0.00    1.00    0.00             0.00             0.00   \n",
              "556    0.00    0.00    1.00             0.00             0.00   \n",
              "\n",
              "     screening_rat_2  screening_rat_3  genre_season_rank  \n",
              "25              0.00             1.00              27.00  \n",
              "59              0.00             1.00              20.00  \n",
              "145             0.00             1.00              20.00  \n",
              "206             0.00             1.00              27.00  \n",
              "318             0.00             1.00              20.00  \n",
              "432             0.00             1.00              20.00  \n",
              "556             0.00             1.00              20.00  \n",
              "\n",
              "[7 rows x 41 columns]"
            ],
            "text/html": [
              "\n",
              "  <div id=\"df-63ad416a-b057-4758-9ded-267e0965d3ec\" class=\"colab-df-container\">\n",
              "    <div>\n",
              "<style scoped>\n",
              "    .dataframe tbody tr th:only-of-type {\n",
              "        vertical-align: middle;\n",
              "    }\n",
              "\n",
              "    .dataframe tbody tr th {\n",
              "        vertical-align: top;\n",
              "    }\n",
              "\n",
              "    .dataframe thead th {\n",
              "        text-align: right;\n",
              "    }\n",
              "</style>\n",
              "<table border=\"1\" class=\"dataframe\">\n",
              "  <thead>\n",
              "    <tr style=\"text-align: right;\">\n",
              "      <th></th>\n",
              "      <th>title</th>\n",
              "      <th>genre</th>\n",
              "      <th>release_time</th>\n",
              "      <th>time</th>\n",
              "      <th>screening_rat</th>\n",
              "      <th>director</th>\n",
              "      <th>dir_prev_bfnum</th>\n",
              "      <th>dir_prev_num</th>\n",
              "      <th>num_staff</th>\n",
              "      <th>num_actor</th>\n",
              "      <th>...</th>\n",
              "      <th>year_1</th>\n",
              "      <th>year_2</th>\n",
              "      <th>year_3</th>\n",
              "      <th>year_4</th>\n",
              "      <th>year_5</th>\n",
              "      <th>screening_rat_0</th>\n",
              "      <th>screening_rat_1</th>\n",
              "      <th>screening_rat_2</th>\n",
              "      <th>screening_rat_3</th>\n",
              "      <th>genre_season_rank</th>\n",
              "    </tr>\n",
              "  </thead>\n",
              "  <tbody>\n",
              "    <tr>\n",
              "      <th>25</th>\n",
              "      <td>하하하</td>\n",
              "      <td>4</td>\n",
              "      <td>2010-05-05</td>\n",
              "      <td>115</td>\n",
              "      <td>3</td>\n",
              "      <td>홍상수</td>\n",
              "      <td>0.00</td>\n",
              "      <td>0</td>\n",
              "      <td>74</td>\n",
              "      <td>9</td>\n",
              "      <td>...</td>\n",
              "      <td>0.00</td>\n",
              "      <td>0.00</td>\n",
              "      <td>0.00</td>\n",
              "      <td>0.00</td>\n",
              "      <td>0.00</td>\n",
              "      <td>0.00</td>\n",
              "      <td>0.00</td>\n",
              "      <td>0.00</td>\n",
              "      <td>1.00</td>\n",
              "      <td>27.00</td>\n",
              "    </tr>\n",
              "    <tr>\n",
              "      <th>59</th>\n",
              "      <td>옥희의 영화</td>\n",
              "      <td>4</td>\n",
              "      <td>2010-09-16</td>\n",
              "      <td>80</td>\n",
              "      <td>3</td>\n",
              "      <td>홍상수</td>\n",
              "      <td>0.00</td>\n",
              "      <td>1</td>\n",
              "      <td>57</td>\n",
              "      <td>3</td>\n",
              "      <td>...</td>\n",
              "      <td>0.00</td>\n",
              "      <td>0.00</td>\n",
              "      <td>0.00</td>\n",
              "      <td>0.00</td>\n",
              "      <td>0.00</td>\n",
              "      <td>0.00</td>\n",
              "      <td>0.00</td>\n",
              "      <td>0.00</td>\n",
              "      <td>1.00</td>\n",
              "      <td>20.00</td>\n",
              "    </tr>\n",
              "    <tr>\n",
              "      <th>145</th>\n",
              "      <td>북촌방향</td>\n",
              "      <td>4</td>\n",
              "      <td>2011-09-08</td>\n",
              "      <td>79</td>\n",
              "      <td>3</td>\n",
              "      <td>홍상수</td>\n",
              "      <td>0.00</td>\n",
              "      <td>2</td>\n",
              "      <td>55</td>\n",
              "      <td>5</td>\n",
              "      <td>...</td>\n",
              "      <td>1.00</td>\n",
              "      <td>0.00</td>\n",
              "      <td>0.00</td>\n",
              "      <td>0.00</td>\n",
              "      <td>0.00</td>\n",
              "      <td>0.00</td>\n",
              "      <td>0.00</td>\n",
              "      <td>0.00</td>\n",
              "      <td>1.00</td>\n",
              "      <td>20.00</td>\n",
              "    </tr>\n",
              "    <tr>\n",
              "      <th>206</th>\n",
              "      <td>다른나라에서</td>\n",
              "      <td>4</td>\n",
              "      <td>2012-05-31</td>\n",
              "      <td>89</td>\n",
              "      <td>3</td>\n",
              "      <td>홍상수</td>\n",
              "      <td>0.00</td>\n",
              "      <td>3</td>\n",
              "      <td>70</td>\n",
              "      <td>2</td>\n",
              "      <td>...</td>\n",
              "      <td>0.00</td>\n",
              "      <td>1.00</td>\n",
              "      <td>0.00</td>\n",
              "      <td>0.00</td>\n",
              "      <td>0.00</td>\n",
              "      <td>0.00</td>\n",
              "      <td>0.00</td>\n",
              "      <td>0.00</td>\n",
              "      <td>1.00</td>\n",
              "      <td>27.00</td>\n",
              "    </tr>\n",
              "    <tr>\n",
              "      <th>318</th>\n",
              "      <td>우리 선희</td>\n",
              "      <td>4</td>\n",
              "      <td>2013-09-12</td>\n",
              "      <td>89</td>\n",
              "      <td>3</td>\n",
              "      <td>홍상수</td>\n",
              "      <td>0.00</td>\n",
              "      <td>4</td>\n",
              "      <td>8</td>\n",
              "      <td>6</td>\n",
              "      <td>...</td>\n",
              "      <td>0.00</td>\n",
              "      <td>0.00</td>\n",
              "      <td>1.00</td>\n",
              "      <td>0.00</td>\n",
              "      <td>0.00</td>\n",
              "      <td>0.00</td>\n",
              "      <td>0.00</td>\n",
              "      <td>0.00</td>\n",
              "      <td>1.00</td>\n",
              "      <td>20.00</td>\n",
              "    </tr>\n",
              "    <tr>\n",
              "      <th>432</th>\n",
              "      <td>자유의 언덕</td>\n",
              "      <td>4</td>\n",
              "      <td>2014-09-04</td>\n",
              "      <td>67</td>\n",
              "      <td>3</td>\n",
              "      <td>홍상수</td>\n",
              "      <td>0.00</td>\n",
              "      <td>5</td>\n",
              "      <td>52</td>\n",
              "      <td>3</td>\n",
              "      <td>...</td>\n",
              "      <td>0.00</td>\n",
              "      <td>0.00</td>\n",
              "      <td>0.00</td>\n",
              "      <td>1.00</td>\n",
              "      <td>0.00</td>\n",
              "      <td>0.00</td>\n",
              "      <td>0.00</td>\n",
              "      <td>0.00</td>\n",
              "      <td>1.00</td>\n",
              "      <td>20.00</td>\n",
              "    </tr>\n",
              "    <tr>\n",
              "      <th>556</th>\n",
              "      <td>지금은맞고그때는틀리다</td>\n",
              "      <td>4</td>\n",
              "      <td>2015-09-24</td>\n",
              "      <td>121</td>\n",
              "      <td>3</td>\n",
              "      <td>홍상수</td>\n",
              "      <td>39317.00</td>\n",
              "      <td>6</td>\n",
              "      <td>16</td>\n",
              "      <td>2</td>\n",
              "      <td>...</td>\n",
              "      <td>0.00</td>\n",
              "      <td>0.00</td>\n",
              "      <td>0.00</td>\n",
              "      <td>0.00</td>\n",
              "      <td>1.00</td>\n",
              "      <td>0.00</td>\n",
              "      <td>0.00</td>\n",
              "      <td>0.00</td>\n",
              "      <td>1.00</td>\n",
              "      <td>20.00</td>\n",
              "    </tr>\n",
              "  </tbody>\n",
              "</table>\n",
              "<p>7 rows × 41 columns</p>\n",
              "</div>\n",
              "    <div class=\"colab-df-buttons\">\n",
              "\n",
              "  <div class=\"colab-df-container\">\n",
              "    <button class=\"colab-df-convert\" onclick=\"convertToInteractive('df-63ad416a-b057-4758-9ded-267e0965d3ec')\"\n",
              "            title=\"Convert this dataframe to an interactive table.\"\n",
              "            style=\"display:none;\">\n",
              "\n",
              "  <svg xmlns=\"http://www.w3.org/2000/svg\" height=\"24px\" viewBox=\"0 -960 960 960\">\n",
              "    <path d=\"M120-120v-720h720v720H120Zm60-500h600v-160H180v160Zm220 220h160v-160H400v160Zm0 220h160v-160H400v160ZM180-400h160v-160H180v160Zm440 0h160v-160H620v160ZM180-180h160v-160H180v160Zm440 0h160v-160H620v160Z\"/>\n",
              "  </svg>\n",
              "    </button>\n",
              "\n",
              "  <style>\n",
              "    .colab-df-container {\n",
              "      display:flex;\n",
              "      gap: 12px;\n",
              "    }\n",
              "\n",
              "    .colab-df-convert {\n",
              "      background-color: #E8F0FE;\n",
              "      border: none;\n",
              "      border-radius: 50%;\n",
              "      cursor: pointer;\n",
              "      display: none;\n",
              "      fill: #1967D2;\n",
              "      height: 32px;\n",
              "      padding: 0 0 0 0;\n",
              "      width: 32px;\n",
              "    }\n",
              "\n",
              "    .colab-df-convert:hover {\n",
              "      background-color: #E2EBFA;\n",
              "      box-shadow: 0px 1px 2px rgba(60, 64, 67, 0.3), 0px 1px 3px 1px rgba(60, 64, 67, 0.15);\n",
              "      fill: #174EA6;\n",
              "    }\n",
              "\n",
              "    .colab-df-buttons div {\n",
              "      margin-bottom: 4px;\n",
              "    }\n",
              "\n",
              "    [theme=dark] .colab-df-convert {\n",
              "      background-color: #3B4455;\n",
              "      fill: #D2E3FC;\n",
              "    }\n",
              "\n",
              "    [theme=dark] .colab-df-convert:hover {\n",
              "      background-color: #434B5C;\n",
              "      box-shadow: 0px 1px 3px 1px rgba(0, 0, 0, 0.15);\n",
              "      filter: drop-shadow(0px 1px 2px rgba(0, 0, 0, 0.3));\n",
              "      fill: #FFFFFF;\n",
              "    }\n",
              "  </style>\n",
              "\n",
              "    <script>\n",
              "      const buttonEl =\n",
              "        document.querySelector('#df-63ad416a-b057-4758-9ded-267e0965d3ec button.colab-df-convert');\n",
              "      buttonEl.style.display =\n",
              "        google.colab.kernel.accessAllowed ? 'block' : 'none';\n",
              "\n",
              "      async function convertToInteractive(key) {\n",
              "        const element = document.querySelector('#df-63ad416a-b057-4758-9ded-267e0965d3ec');\n",
              "        const dataTable =\n",
              "          await google.colab.kernel.invokeFunction('convertToInteractive',\n",
              "                                                    [key], {});\n",
              "        if (!dataTable) return;\n",
              "\n",
              "        const docLinkHtml = 'Like what you see? Visit the ' +\n",
              "          '<a target=\"_blank\" href=https://colab.research.google.com/notebooks/data_table.ipynb>data table notebook</a>'\n",
              "          + ' to learn more about interactive tables.';\n",
              "        element.innerHTML = '';\n",
              "        dataTable['output_type'] = 'display_data';\n",
              "        await google.colab.output.renderOutput(dataTable, element);\n",
              "        const docLink = document.createElement('div');\n",
              "        docLink.innerHTML = docLinkHtml;\n",
              "        element.appendChild(docLink);\n",
              "      }\n",
              "    </script>\n",
              "  </div>\n",
              "\n",
              "\n",
              "<div id=\"df-ba439789-44b7-42b3-b221-76d9d55eff6c\">\n",
              "  <button class=\"colab-df-quickchart\" onclick=\"quickchart('df-ba439789-44b7-42b3-b221-76d9d55eff6c')\"\n",
              "            title=\"Suggest charts\"\n",
              "            style=\"display:none;\">\n",
              "\n",
              "<svg xmlns=\"http://www.w3.org/2000/svg\" height=\"24px\"viewBox=\"0 0 24 24\"\n",
              "     width=\"24px\">\n",
              "    <g>\n",
              "        <path d=\"M19 3H5c-1.1 0-2 .9-2 2v14c0 1.1.9 2 2 2h14c1.1 0 2-.9 2-2V5c0-1.1-.9-2-2-2zM9 17H7v-7h2v7zm4 0h-2V7h2v10zm4 0h-2v-4h2v4z\"/>\n",
              "    </g>\n",
              "</svg>\n",
              "  </button>\n",
              "\n",
              "<style>\n",
              "  .colab-df-quickchart {\n",
              "      --bg-color: #E8F0FE;\n",
              "      --fill-color: #1967D2;\n",
              "      --hover-bg-color: #E2EBFA;\n",
              "      --hover-fill-color: #174EA6;\n",
              "      --disabled-fill-color: #AAA;\n",
              "      --disabled-bg-color: #DDD;\n",
              "  }\n",
              "\n",
              "  [theme=dark] .colab-df-quickchart {\n",
              "      --bg-color: #3B4455;\n",
              "      --fill-color: #D2E3FC;\n",
              "      --hover-bg-color: #434B5C;\n",
              "      --hover-fill-color: #FFFFFF;\n",
              "      --disabled-bg-color: #3B4455;\n",
              "      --disabled-fill-color: #666;\n",
              "  }\n",
              "\n",
              "  .colab-df-quickchart {\n",
              "    background-color: var(--bg-color);\n",
              "    border: none;\n",
              "    border-radius: 50%;\n",
              "    cursor: pointer;\n",
              "    display: none;\n",
              "    fill: var(--fill-color);\n",
              "    height: 32px;\n",
              "    padding: 0;\n",
              "    width: 32px;\n",
              "  }\n",
              "\n",
              "  .colab-df-quickchart:hover {\n",
              "    background-color: var(--hover-bg-color);\n",
              "    box-shadow: 0 1px 2px rgba(60, 64, 67, 0.3), 0 1px 3px 1px rgba(60, 64, 67, 0.15);\n",
              "    fill: var(--button-hover-fill-color);\n",
              "  }\n",
              "\n",
              "  .colab-df-quickchart-complete:disabled,\n",
              "  .colab-df-quickchart-complete:disabled:hover {\n",
              "    background-color: var(--disabled-bg-color);\n",
              "    fill: var(--disabled-fill-color);\n",
              "    box-shadow: none;\n",
              "  }\n",
              "\n",
              "  .colab-df-spinner {\n",
              "    border: 2px solid var(--fill-color);\n",
              "    border-color: transparent;\n",
              "    border-bottom-color: var(--fill-color);\n",
              "    animation:\n",
              "      spin 1s steps(1) infinite;\n",
              "  }\n",
              "\n",
              "  @keyframes spin {\n",
              "    0% {\n",
              "      border-color: transparent;\n",
              "      border-bottom-color: var(--fill-color);\n",
              "      border-left-color: var(--fill-color);\n",
              "    }\n",
              "    20% {\n",
              "      border-color: transparent;\n",
              "      border-left-color: var(--fill-color);\n",
              "      border-top-color: var(--fill-color);\n",
              "    }\n",
              "    30% {\n",
              "      border-color: transparent;\n",
              "      border-left-color: var(--fill-color);\n",
              "      border-top-color: var(--fill-color);\n",
              "      border-right-color: var(--fill-color);\n",
              "    }\n",
              "    40% {\n",
              "      border-color: transparent;\n",
              "      border-right-color: var(--fill-color);\n",
              "      border-top-color: var(--fill-color);\n",
              "    }\n",
              "    60% {\n",
              "      border-color: transparent;\n",
              "      border-right-color: var(--fill-color);\n",
              "    }\n",
              "    80% {\n",
              "      border-color: transparent;\n",
              "      border-right-color: var(--fill-color);\n",
              "      border-bottom-color: var(--fill-color);\n",
              "    }\n",
              "    90% {\n",
              "      border-color: transparent;\n",
              "      border-bottom-color: var(--fill-color);\n",
              "    }\n",
              "  }\n",
              "</style>\n",
              "\n",
              "  <script>\n",
              "    async function quickchart(key) {\n",
              "      const quickchartButtonEl =\n",
              "        document.querySelector('#' + key + ' button');\n",
              "      quickchartButtonEl.disabled = true;  // To prevent multiple clicks.\n",
              "      quickchartButtonEl.classList.add('colab-df-spinner');\n",
              "      try {\n",
              "        const charts = await google.colab.kernel.invokeFunction(\n",
              "            'suggestCharts', [key], {});\n",
              "      } catch (error) {\n",
              "        console.error('Error during call to suggestCharts:', error);\n",
              "      }\n",
              "      quickchartButtonEl.classList.remove('colab-df-spinner');\n",
              "      quickchartButtonEl.classList.add('colab-df-quickchart-complete');\n",
              "    }\n",
              "    (() => {\n",
              "      let quickchartButtonEl =\n",
              "        document.querySelector('#df-ba439789-44b7-42b3-b221-76d9d55eff6c button');\n",
              "      quickchartButtonEl.style.display =\n",
              "        google.colab.kernel.accessAllowed ? 'block' : 'none';\n",
              "    })();\n",
              "  </script>\n",
              "</div>\n",
              "\n",
              "    </div>\n",
              "  </div>\n"
            ],
            "application/vnd.google.colaboratory.intrinsic+json": {
              "type": "dataframe"
            }
          },
          "metadata": {},
          "execution_count": 28
        }
      ]
    },
    {
      "cell_type": "markdown",
      "source": [
        "### 2.2.8 dir_prev_bfnum: 감독의 이전 영화 평균 관객수\n",
        "- 이전에 결측치였던 330개의 값들을 0으로 채워줬었음.\n",
        "- 이 0값들을 어떻게 채울것인가? (이렇게 해도 되나)\n",
        "   - sol1) 위의 dir_prev_num를 이용해서 특정 시점 전까지 개봉한 영화들의 box_off_num의 평균을 구하여 차례대로 업데이트하기\n",
        "   - sol2) 감독별로 box_off_num의 평균으로 다 똑같이 채우기\n",
        "- sol2가 더 mse값 작았음. sol2 채택.\n",
        "- 이미 채워져있던 데이터는 냅둠. 0인 것만 수정. (0인 것만 수정했을 때 성능이 더 좋았음.)"
      ],
      "metadata": {
        "id": "D-6dzpejLbmi"
      }
    },
    {
      "cell_type": "code",
      "source": [
        "train_df[train_df['dir_prev_bfnum']==0]"
      ],
      "metadata": {
        "colab": {
          "base_uri": "https://localhost:8080/",
          "height": 790
        },
        "id": "netZhcb6LdEI",
        "outputId": "a452a992-0a28-4d67-cfc5-ed91de6ecef4"
      },
      "execution_count": 29,
      "outputs": [
        {
          "output_type": "execute_result",
          "data": {
            "text/plain": [
              "                  title  genre release_time  time  screening_rat director  \\\n",
              "0                 카페 서울      4   2010-01-02    94              0  타케 마사하루   \n",
              "1       소규모 아카시아 밴드 이야기      3   2010-01-14    90              0      민환기   \n",
              "3                 페어 러브      4   2010-01-14   117              0      신연식   \n",
              "4                    회복      3   2010-01-14    94              0      김종철   \n",
              "6                  사사건건      4   2010-01-21    91              3      이정욱   \n",
              "..                  ...    ...          ...   ...            ...      ...   \n",
              "590  뽀로로 극장판 컴퓨터 왕국 대모험      9   2015-12-10    62              2      박영균   \n",
              "592           실론, 세렌디피티      4   2015-12-14   108              1      권중목   \n",
              "595            인 허 플레이스      4   2015-12-17   115              3    알버트 신   \n",
              "596         굿바이 그리고 헬로우      4   2015-12-24    82              0      한창근   \n",
              "599         친애하는 지도자동지께      4   2015-12-31    99              3      이상우   \n",
              "\n",
              "     dir_prev_bfnum  dir_prev_num  num_staff  num_actor  ...  year_1  year_2  \\\n",
              "0              0.00             0         41          2  ...    0.00    0.00   \n",
              "1              0.00             0         18          7  ...    0.00    0.00   \n",
              "3              0.00             0        106          2  ...    0.00    0.00   \n",
              "4              0.00             0         54          1  ...    0.00    0.00   \n",
              "6              0.00             0        148          8  ...    0.00    0.00   \n",
              "..              ...           ...        ...        ...  ...     ...     ...   \n",
              "590            0.00             0          2          8  ...    0.00    0.00   \n",
              "592            0.00             0         23          2  ...    0.00    0.00   \n",
              "595            0.00             0         28          3  ...    0.00    0.00   \n",
              "596            0.00             0         23          4  ...    0.00    0.00   \n",
              "599            0.00             1         40          3  ...    0.00    0.00   \n",
              "\n",
              "     year_3  year_4  year_5  screening_rat_0  screening_rat_1  \\\n",
              "0      0.00    0.00    0.00             1.00             0.00   \n",
              "1      0.00    0.00    0.00             1.00             0.00   \n",
              "3      0.00    0.00    0.00             1.00             0.00   \n",
              "4      0.00    0.00    0.00             1.00             0.00   \n",
              "6      0.00    0.00    0.00             0.00             0.00   \n",
              "..      ...     ...     ...              ...              ...   \n",
              "590    0.00    0.00    1.00             0.00             0.00   \n",
              "592    0.00    0.00    1.00             0.00             1.00   \n",
              "595    0.00    0.00    1.00             0.00             0.00   \n",
              "596    0.00    0.00    1.00             1.00             0.00   \n",
              "599    0.00    0.00    1.00             0.00             0.00   \n",
              "\n",
              "     screening_rat_2  screening_rat_3  genre_season_rank  \n",
              "0               0.00             0.00               9.00  \n",
              "1               0.00             0.00              36.00  \n",
              "3               0.00             0.00               9.00  \n",
              "4               0.00             0.00              36.00  \n",
              "6               0.00             1.00               9.00  \n",
              "..               ...              ...                ...  \n",
              "590             1.00             0.00              24.00  \n",
              "592             0.00             0.00               9.00  \n",
              "595             0.00             1.00               9.00  \n",
              "596             0.00             0.00               9.00  \n",
              "599             0.00             1.00               9.00  \n",
              "\n",
              "[330 rows x 41 columns]"
            ],
            "text/html": [
              "\n",
              "  <div id=\"df-c9caf664-559e-480e-9c3f-c624c4458680\" class=\"colab-df-container\">\n",
              "    <div>\n",
              "<style scoped>\n",
              "    .dataframe tbody tr th:only-of-type {\n",
              "        vertical-align: middle;\n",
              "    }\n",
              "\n",
              "    .dataframe tbody tr th {\n",
              "        vertical-align: top;\n",
              "    }\n",
              "\n",
              "    .dataframe thead th {\n",
              "        text-align: right;\n",
              "    }\n",
              "</style>\n",
              "<table border=\"1\" class=\"dataframe\">\n",
              "  <thead>\n",
              "    <tr style=\"text-align: right;\">\n",
              "      <th></th>\n",
              "      <th>title</th>\n",
              "      <th>genre</th>\n",
              "      <th>release_time</th>\n",
              "      <th>time</th>\n",
              "      <th>screening_rat</th>\n",
              "      <th>director</th>\n",
              "      <th>dir_prev_bfnum</th>\n",
              "      <th>dir_prev_num</th>\n",
              "      <th>num_staff</th>\n",
              "      <th>num_actor</th>\n",
              "      <th>...</th>\n",
              "      <th>year_1</th>\n",
              "      <th>year_2</th>\n",
              "      <th>year_3</th>\n",
              "      <th>year_4</th>\n",
              "      <th>year_5</th>\n",
              "      <th>screening_rat_0</th>\n",
              "      <th>screening_rat_1</th>\n",
              "      <th>screening_rat_2</th>\n",
              "      <th>screening_rat_3</th>\n",
              "      <th>genre_season_rank</th>\n",
              "    </tr>\n",
              "  </thead>\n",
              "  <tbody>\n",
              "    <tr>\n",
              "      <th>0</th>\n",
              "      <td>카페 서울</td>\n",
              "      <td>4</td>\n",
              "      <td>2010-01-02</td>\n",
              "      <td>94</td>\n",
              "      <td>0</td>\n",
              "      <td>타케 마사하루</td>\n",
              "      <td>0.00</td>\n",
              "      <td>0</td>\n",
              "      <td>41</td>\n",
              "      <td>2</td>\n",
              "      <td>...</td>\n",
              "      <td>0.00</td>\n",
              "      <td>0.00</td>\n",
              "      <td>0.00</td>\n",
              "      <td>0.00</td>\n",
              "      <td>0.00</td>\n",
              "      <td>1.00</td>\n",
              "      <td>0.00</td>\n",
              "      <td>0.00</td>\n",
              "      <td>0.00</td>\n",
              "      <td>9.00</td>\n",
              "    </tr>\n",
              "    <tr>\n",
              "      <th>1</th>\n",
              "      <td>소규모 아카시아 밴드 이야기</td>\n",
              "      <td>3</td>\n",
              "      <td>2010-01-14</td>\n",
              "      <td>90</td>\n",
              "      <td>0</td>\n",
              "      <td>민환기</td>\n",
              "      <td>0.00</td>\n",
              "      <td>0</td>\n",
              "      <td>18</td>\n",
              "      <td>7</td>\n",
              "      <td>...</td>\n",
              "      <td>0.00</td>\n",
              "      <td>0.00</td>\n",
              "      <td>0.00</td>\n",
              "      <td>0.00</td>\n",
              "      <td>0.00</td>\n",
              "      <td>1.00</td>\n",
              "      <td>0.00</td>\n",
              "      <td>0.00</td>\n",
              "      <td>0.00</td>\n",
              "      <td>36.00</td>\n",
              "    </tr>\n",
              "    <tr>\n",
              "      <th>3</th>\n",
              "      <td>페어 러브</td>\n",
              "      <td>4</td>\n",
              "      <td>2010-01-14</td>\n",
              "      <td>117</td>\n",
              "      <td>0</td>\n",
              "      <td>신연식</td>\n",
              "      <td>0.00</td>\n",
              "      <td>0</td>\n",
              "      <td>106</td>\n",
              "      <td>2</td>\n",
              "      <td>...</td>\n",
              "      <td>0.00</td>\n",
              "      <td>0.00</td>\n",
              "      <td>0.00</td>\n",
              "      <td>0.00</td>\n",
              "      <td>0.00</td>\n",
              "      <td>1.00</td>\n",
              "      <td>0.00</td>\n",
              "      <td>0.00</td>\n",
              "      <td>0.00</td>\n",
              "      <td>9.00</td>\n",
              "    </tr>\n",
              "    <tr>\n",
              "      <th>4</th>\n",
              "      <td>회복</td>\n",
              "      <td>3</td>\n",
              "      <td>2010-01-14</td>\n",
              "      <td>94</td>\n",
              "      <td>0</td>\n",
              "      <td>김종철</td>\n",
              "      <td>0.00</td>\n",
              "      <td>0</td>\n",
              "      <td>54</td>\n",
              "      <td>1</td>\n",
              "      <td>...</td>\n",
              "      <td>0.00</td>\n",
              "      <td>0.00</td>\n",
              "      <td>0.00</td>\n",
              "      <td>0.00</td>\n",
              "      <td>0.00</td>\n",
              "      <td>1.00</td>\n",
              "      <td>0.00</td>\n",
              "      <td>0.00</td>\n",
              "      <td>0.00</td>\n",
              "      <td>36.00</td>\n",
              "    </tr>\n",
              "    <tr>\n",
              "      <th>6</th>\n",
              "      <td>사사건건</td>\n",
              "      <td>4</td>\n",
              "      <td>2010-01-21</td>\n",
              "      <td>91</td>\n",
              "      <td>3</td>\n",
              "      <td>이정욱</td>\n",
              "      <td>0.00</td>\n",
              "      <td>0</td>\n",
              "      <td>148</td>\n",
              "      <td>8</td>\n",
              "      <td>...</td>\n",
              "      <td>0.00</td>\n",
              "      <td>0.00</td>\n",
              "      <td>0.00</td>\n",
              "      <td>0.00</td>\n",
              "      <td>0.00</td>\n",
              "      <td>0.00</td>\n",
              "      <td>0.00</td>\n",
              "      <td>0.00</td>\n",
              "      <td>1.00</td>\n",
              "      <td>9.00</td>\n",
              "    </tr>\n",
              "    <tr>\n",
              "      <th>...</th>\n",
              "      <td>...</td>\n",
              "      <td>...</td>\n",
              "      <td>...</td>\n",
              "      <td>...</td>\n",
              "      <td>...</td>\n",
              "      <td>...</td>\n",
              "      <td>...</td>\n",
              "      <td>...</td>\n",
              "      <td>...</td>\n",
              "      <td>...</td>\n",
              "      <td>...</td>\n",
              "      <td>...</td>\n",
              "      <td>...</td>\n",
              "      <td>...</td>\n",
              "      <td>...</td>\n",
              "      <td>...</td>\n",
              "      <td>...</td>\n",
              "      <td>...</td>\n",
              "      <td>...</td>\n",
              "      <td>...</td>\n",
              "      <td>...</td>\n",
              "    </tr>\n",
              "    <tr>\n",
              "      <th>590</th>\n",
              "      <td>뽀로로 극장판 컴퓨터 왕국 대모험</td>\n",
              "      <td>9</td>\n",
              "      <td>2015-12-10</td>\n",
              "      <td>62</td>\n",
              "      <td>2</td>\n",
              "      <td>박영균</td>\n",
              "      <td>0.00</td>\n",
              "      <td>0</td>\n",
              "      <td>2</td>\n",
              "      <td>8</td>\n",
              "      <td>...</td>\n",
              "      <td>0.00</td>\n",
              "      <td>0.00</td>\n",
              "      <td>0.00</td>\n",
              "      <td>0.00</td>\n",
              "      <td>1.00</td>\n",
              "      <td>0.00</td>\n",
              "      <td>0.00</td>\n",
              "      <td>1.00</td>\n",
              "      <td>0.00</td>\n",
              "      <td>24.00</td>\n",
              "    </tr>\n",
              "    <tr>\n",
              "      <th>592</th>\n",
              "      <td>실론, 세렌디피티</td>\n",
              "      <td>4</td>\n",
              "      <td>2015-12-14</td>\n",
              "      <td>108</td>\n",
              "      <td>1</td>\n",
              "      <td>권중목</td>\n",
              "      <td>0.00</td>\n",
              "      <td>0</td>\n",
              "      <td>23</td>\n",
              "      <td>2</td>\n",
              "      <td>...</td>\n",
              "      <td>0.00</td>\n",
              "      <td>0.00</td>\n",
              "      <td>0.00</td>\n",
              "      <td>0.00</td>\n",
              "      <td>1.00</td>\n",
              "      <td>0.00</td>\n",
              "      <td>1.00</td>\n",
              "      <td>0.00</td>\n",
              "      <td>0.00</td>\n",
              "      <td>9.00</td>\n",
              "    </tr>\n",
              "    <tr>\n",
              "      <th>595</th>\n",
              "      <td>인 허 플레이스</td>\n",
              "      <td>4</td>\n",
              "      <td>2015-12-17</td>\n",
              "      <td>115</td>\n",
              "      <td>3</td>\n",
              "      <td>알버트 신</td>\n",
              "      <td>0.00</td>\n",
              "      <td>0</td>\n",
              "      <td>28</td>\n",
              "      <td>3</td>\n",
              "      <td>...</td>\n",
              "      <td>0.00</td>\n",
              "      <td>0.00</td>\n",
              "      <td>0.00</td>\n",
              "      <td>0.00</td>\n",
              "      <td>1.00</td>\n",
              "      <td>0.00</td>\n",
              "      <td>0.00</td>\n",
              "      <td>0.00</td>\n",
              "      <td>1.00</td>\n",
              "      <td>9.00</td>\n",
              "    </tr>\n",
              "    <tr>\n",
              "      <th>596</th>\n",
              "      <td>굿바이 그리고 헬로우</td>\n",
              "      <td>4</td>\n",
              "      <td>2015-12-24</td>\n",
              "      <td>82</td>\n",
              "      <td>0</td>\n",
              "      <td>한창근</td>\n",
              "      <td>0.00</td>\n",
              "      <td>0</td>\n",
              "      <td>23</td>\n",
              "      <td>4</td>\n",
              "      <td>...</td>\n",
              "      <td>0.00</td>\n",
              "      <td>0.00</td>\n",
              "      <td>0.00</td>\n",
              "      <td>0.00</td>\n",
              "      <td>1.00</td>\n",
              "      <td>1.00</td>\n",
              "      <td>0.00</td>\n",
              "      <td>0.00</td>\n",
              "      <td>0.00</td>\n",
              "      <td>9.00</td>\n",
              "    </tr>\n",
              "    <tr>\n",
              "      <th>599</th>\n",
              "      <td>친애하는 지도자동지께</td>\n",
              "      <td>4</td>\n",
              "      <td>2015-12-31</td>\n",
              "      <td>99</td>\n",
              "      <td>3</td>\n",
              "      <td>이상우</td>\n",
              "      <td>0.00</td>\n",
              "      <td>1</td>\n",
              "      <td>40</td>\n",
              "      <td>3</td>\n",
              "      <td>...</td>\n",
              "      <td>0.00</td>\n",
              "      <td>0.00</td>\n",
              "      <td>0.00</td>\n",
              "      <td>0.00</td>\n",
              "      <td>1.00</td>\n",
              "      <td>0.00</td>\n",
              "      <td>0.00</td>\n",
              "      <td>0.00</td>\n",
              "      <td>1.00</td>\n",
              "      <td>9.00</td>\n",
              "    </tr>\n",
              "  </tbody>\n",
              "</table>\n",
              "<p>330 rows × 41 columns</p>\n",
              "</div>\n",
              "    <div class=\"colab-df-buttons\">\n",
              "\n",
              "  <div class=\"colab-df-container\">\n",
              "    <button class=\"colab-df-convert\" onclick=\"convertToInteractive('df-c9caf664-559e-480e-9c3f-c624c4458680')\"\n",
              "            title=\"Convert this dataframe to an interactive table.\"\n",
              "            style=\"display:none;\">\n",
              "\n",
              "  <svg xmlns=\"http://www.w3.org/2000/svg\" height=\"24px\" viewBox=\"0 -960 960 960\">\n",
              "    <path d=\"M120-120v-720h720v720H120Zm60-500h600v-160H180v160Zm220 220h160v-160H400v160Zm0 220h160v-160H400v160ZM180-400h160v-160H180v160Zm440 0h160v-160H620v160ZM180-180h160v-160H180v160Zm440 0h160v-160H620v160Z\"/>\n",
              "  </svg>\n",
              "    </button>\n",
              "\n",
              "  <style>\n",
              "    .colab-df-container {\n",
              "      display:flex;\n",
              "      gap: 12px;\n",
              "    }\n",
              "\n",
              "    .colab-df-convert {\n",
              "      background-color: #E8F0FE;\n",
              "      border: none;\n",
              "      border-radius: 50%;\n",
              "      cursor: pointer;\n",
              "      display: none;\n",
              "      fill: #1967D2;\n",
              "      height: 32px;\n",
              "      padding: 0 0 0 0;\n",
              "      width: 32px;\n",
              "    }\n",
              "\n",
              "    .colab-df-convert:hover {\n",
              "      background-color: #E2EBFA;\n",
              "      box-shadow: 0px 1px 2px rgba(60, 64, 67, 0.3), 0px 1px 3px 1px rgba(60, 64, 67, 0.15);\n",
              "      fill: #174EA6;\n",
              "    }\n",
              "\n",
              "    .colab-df-buttons div {\n",
              "      margin-bottom: 4px;\n",
              "    }\n",
              "\n",
              "    [theme=dark] .colab-df-convert {\n",
              "      background-color: #3B4455;\n",
              "      fill: #D2E3FC;\n",
              "    }\n",
              "\n",
              "    [theme=dark] .colab-df-convert:hover {\n",
              "      background-color: #434B5C;\n",
              "      box-shadow: 0px 1px 3px 1px rgba(0, 0, 0, 0.15);\n",
              "      filter: drop-shadow(0px 1px 2px rgba(0, 0, 0, 0.3));\n",
              "      fill: #FFFFFF;\n",
              "    }\n",
              "  </style>\n",
              "\n",
              "    <script>\n",
              "      const buttonEl =\n",
              "        document.querySelector('#df-c9caf664-559e-480e-9c3f-c624c4458680 button.colab-df-convert');\n",
              "      buttonEl.style.display =\n",
              "        google.colab.kernel.accessAllowed ? 'block' : 'none';\n",
              "\n",
              "      async function convertToInteractive(key) {\n",
              "        const element = document.querySelector('#df-c9caf664-559e-480e-9c3f-c624c4458680');\n",
              "        const dataTable =\n",
              "          await google.colab.kernel.invokeFunction('convertToInteractive',\n",
              "                                                    [key], {});\n",
              "        if (!dataTable) return;\n",
              "\n",
              "        const docLinkHtml = 'Like what you see? Visit the ' +\n",
              "          '<a target=\"_blank\" href=https://colab.research.google.com/notebooks/data_table.ipynb>data table notebook</a>'\n",
              "          + ' to learn more about interactive tables.';\n",
              "        element.innerHTML = '';\n",
              "        dataTable['output_type'] = 'display_data';\n",
              "        await google.colab.output.renderOutput(dataTable, element);\n",
              "        const docLink = document.createElement('div');\n",
              "        docLink.innerHTML = docLinkHtml;\n",
              "        element.appendChild(docLink);\n",
              "      }\n",
              "    </script>\n",
              "  </div>\n",
              "\n",
              "\n",
              "<div id=\"df-c0bdcdbe-ea47-4c2f-bee3-e9bffedc5019\">\n",
              "  <button class=\"colab-df-quickchart\" onclick=\"quickchart('df-c0bdcdbe-ea47-4c2f-bee3-e9bffedc5019')\"\n",
              "            title=\"Suggest charts\"\n",
              "            style=\"display:none;\">\n",
              "\n",
              "<svg xmlns=\"http://www.w3.org/2000/svg\" height=\"24px\"viewBox=\"0 0 24 24\"\n",
              "     width=\"24px\">\n",
              "    <g>\n",
              "        <path d=\"M19 3H5c-1.1 0-2 .9-2 2v14c0 1.1.9 2 2 2h14c1.1 0 2-.9 2-2V5c0-1.1-.9-2-2-2zM9 17H7v-7h2v7zm4 0h-2V7h2v10zm4 0h-2v-4h2v4z\"/>\n",
              "    </g>\n",
              "</svg>\n",
              "  </button>\n",
              "\n",
              "<style>\n",
              "  .colab-df-quickchart {\n",
              "      --bg-color: #E8F0FE;\n",
              "      --fill-color: #1967D2;\n",
              "      --hover-bg-color: #E2EBFA;\n",
              "      --hover-fill-color: #174EA6;\n",
              "      --disabled-fill-color: #AAA;\n",
              "      --disabled-bg-color: #DDD;\n",
              "  }\n",
              "\n",
              "  [theme=dark] .colab-df-quickchart {\n",
              "      --bg-color: #3B4455;\n",
              "      --fill-color: #D2E3FC;\n",
              "      --hover-bg-color: #434B5C;\n",
              "      --hover-fill-color: #FFFFFF;\n",
              "      --disabled-bg-color: #3B4455;\n",
              "      --disabled-fill-color: #666;\n",
              "  }\n",
              "\n",
              "  .colab-df-quickchart {\n",
              "    background-color: var(--bg-color);\n",
              "    border: none;\n",
              "    border-radius: 50%;\n",
              "    cursor: pointer;\n",
              "    display: none;\n",
              "    fill: var(--fill-color);\n",
              "    height: 32px;\n",
              "    padding: 0;\n",
              "    width: 32px;\n",
              "  }\n",
              "\n",
              "  .colab-df-quickchart:hover {\n",
              "    background-color: var(--hover-bg-color);\n",
              "    box-shadow: 0 1px 2px rgba(60, 64, 67, 0.3), 0 1px 3px 1px rgba(60, 64, 67, 0.15);\n",
              "    fill: var(--button-hover-fill-color);\n",
              "  }\n",
              "\n",
              "  .colab-df-quickchart-complete:disabled,\n",
              "  .colab-df-quickchart-complete:disabled:hover {\n",
              "    background-color: var(--disabled-bg-color);\n",
              "    fill: var(--disabled-fill-color);\n",
              "    box-shadow: none;\n",
              "  }\n",
              "\n",
              "  .colab-df-spinner {\n",
              "    border: 2px solid var(--fill-color);\n",
              "    border-color: transparent;\n",
              "    border-bottom-color: var(--fill-color);\n",
              "    animation:\n",
              "      spin 1s steps(1) infinite;\n",
              "  }\n",
              "\n",
              "  @keyframes spin {\n",
              "    0% {\n",
              "      border-color: transparent;\n",
              "      border-bottom-color: var(--fill-color);\n",
              "      border-left-color: var(--fill-color);\n",
              "    }\n",
              "    20% {\n",
              "      border-color: transparent;\n",
              "      border-left-color: var(--fill-color);\n",
              "      border-top-color: var(--fill-color);\n",
              "    }\n",
              "    30% {\n",
              "      border-color: transparent;\n",
              "      border-left-color: var(--fill-color);\n",
              "      border-top-color: var(--fill-color);\n",
              "      border-right-color: var(--fill-color);\n",
              "    }\n",
              "    40% {\n",
              "      border-color: transparent;\n",
              "      border-right-color: var(--fill-color);\n",
              "      border-top-color: var(--fill-color);\n",
              "    }\n",
              "    60% {\n",
              "      border-color: transparent;\n",
              "      border-right-color: var(--fill-color);\n",
              "    }\n",
              "    80% {\n",
              "      border-color: transparent;\n",
              "      border-right-color: var(--fill-color);\n",
              "      border-bottom-color: var(--fill-color);\n",
              "    }\n",
              "    90% {\n",
              "      border-color: transparent;\n",
              "      border-bottom-color: var(--fill-color);\n",
              "    }\n",
              "  }\n",
              "</style>\n",
              "\n",
              "  <script>\n",
              "    async function quickchart(key) {\n",
              "      const quickchartButtonEl =\n",
              "        document.querySelector('#' + key + ' button');\n",
              "      quickchartButtonEl.disabled = true;  // To prevent multiple clicks.\n",
              "      quickchartButtonEl.classList.add('colab-df-spinner');\n",
              "      try {\n",
              "        const charts = await google.colab.kernel.invokeFunction(\n",
              "            'suggestCharts', [key], {});\n",
              "      } catch (error) {\n",
              "        console.error('Error during call to suggestCharts:', error);\n",
              "      }\n",
              "      quickchartButtonEl.classList.remove('colab-df-spinner');\n",
              "      quickchartButtonEl.classList.add('colab-df-quickchart-complete');\n",
              "    }\n",
              "    (() => {\n",
              "      let quickchartButtonEl =\n",
              "        document.querySelector('#df-c0bdcdbe-ea47-4c2f-bee3-e9bffedc5019 button');\n",
              "      quickchartButtonEl.style.display =\n",
              "        google.colab.kernel.accessAllowed ? 'block' : 'none';\n",
              "    })();\n",
              "  </script>\n",
              "</div>\n",
              "\n",
              "    </div>\n",
              "  </div>\n"
            ],
            "application/vnd.google.colaboratory.intrinsic+json": {
              "type": "dataframe"
            }
          },
          "metadata": {},
          "execution_count": 29
        }
      ]
    },
    {
      "cell_type": "code",
      "source": [
        "# # <0인 것만 감독의 이전 영화 참여 개수 피처를 이용해서 전까지 개봉한 영화의 box_off_num의 평균을 구하여 차례대로 업데이트하기>\n",
        "# # 개봉일 기준 정렬\n",
        "# train_df = train_df.sort_values('release_time').reset_index(drop=True)\n",
        "\n",
        "# # `dir_prev_bfnum`이 0인 경우에만 이전 영화 평균 관객수 업데이트\n",
        "# for director in train_df['director'].unique():\n",
        "#     # 감독별 데이터 가져오기\n",
        "#     director_movies = train_df[train_df['director'] == director]\n",
        "\n",
        "#     # 감독의 이전 영화 평균 관객수 계산\n",
        "#     cumulative_avg = []\n",
        "#     for i, row in director_movies.iterrows():\n",
        "#         # dir_prev_bfnum이 0인 경우에만 업데이트\n",
        "#         if row['dir_prev_bfnum'] == 0:\n",
        "#             # 이전 영화의 관객수 평균을 계산\n",
        "#             previous_movies = director_movies[director_movies['release_time'] < row['release_time']]\n",
        "#             avg_box_off = previous_movies['box_off_num'].mean() if not previous_movies.empty else 0\n",
        "#             cumulative_avg.append(avg_box_off)\n",
        "#         else:\n",
        "#             # 이미 값이 채워져 있는 경우 그대로 유지\n",
        "#             cumulative_avg.append(row['dir_prev_bfnum'])\n",
        "\n",
        "#     # 계산된 평균 값으로 업데이트\n",
        "#     train_df.loc[director_movies.index, 'dir_prev_bfnum'] = cumulative_avg"
      ],
      "metadata": {
        "id": "eTZTQ-cP2Lin"
      },
      "execution_count": 30,
      "outputs": []
    },
    {
      "cell_type": "code",
      "source": [
        "# <0인 것만 감독별 box_off_num의 평균으로 채우기>\n",
        "# 감독별 평균 관객수를 데이터프레임에 추가\n",
        "\n",
        "director_stats = train_df.groupby('director').agg(\n",
        "    total_audience=('box_off_num', 'sum'),  # 총 관객수 합\n",
        "    movie_count=('title', 'count')  # 영화 개수\n",
        ")\n",
        "\n",
        "# 감독별 평균 관객수 계산 (총 관객수의 합 / 영화 개수)\n",
        "director_stats['avg_audience'] = director_stats['total_audience'] / director_stats['movie_count']\n",
        "\n",
        "train_df = train_df.merge(director_stats[['avg_audience']], on='director', how='left')\n",
        "\n",
        "# dir_prev_bfnum이 0인 경우, 감독별 평균 관객수로 채움\n",
        "train_df.loc[train_df['dir_prev_bfnum'] == 0, 'dir_prev_bfnum'] = train_df['avg_audience']\n",
        "\n",
        "# 필요 없는 avg_audience 열 제거 (선택사항)\n",
        "train_df = train_df.drop(columns=['avg_audience'])"
      ],
      "metadata": {
        "id": "w9ZRF5zLnCNz"
      },
      "execution_count": 31,
      "outputs": []
    },
    {
      "cell_type": "code",
      "source": [
        "train_df[train_df['director']=='홍상수']"
      ],
      "metadata": {
        "colab": {
          "base_uri": "https://localhost:8080/",
          "height": 457
        },
        "id": "tLEPEZuCnCS9",
        "outputId": "183b983a-6151-4433-b017-045ed08989a3"
      },
      "execution_count": 32,
      "outputs": [
        {
          "output_type": "execute_result",
          "data": {
            "text/plain": [
              "           title  genre release_time  time  screening_rat director  \\\n",
              "25           하하하      4   2010-05-05   115              3      홍상수   \n",
              "59        옥희의 영화      4   2010-09-16    80              3      홍상수   \n",
              "145         북촌방향      4   2011-09-08    79              3      홍상수   \n",
              "206       다른나라에서      4   2012-05-31    89              3      홍상수   \n",
              "318        우리 선희      4   2013-09-12    89              3      홍상수   \n",
              "432       자유의 언덕      4   2014-09-04    67              3      홍상수   \n",
              "556  지금은맞고그때는틀리다      4   2015-09-24   121              3      홍상수   \n",
              "\n",
              "     dir_prev_bfnum  dir_prev_num  num_staff  num_actor  ...  year_1  year_2  \\\n",
              "25         51519.57             0         74          9  ...    0.00    0.00   \n",
              "59         51519.57             1         57          3  ...    0.00    0.00   \n",
              "145        51519.57             2         55          5  ...    1.00    0.00   \n",
              "206        51519.57             3         70          2  ...    0.00    1.00   \n",
              "318        51519.57             4          8          6  ...    0.00    0.00   \n",
              "432        51519.57             5         52          3  ...    0.00    0.00   \n",
              "556        39317.00             6         16          2  ...    0.00    0.00   \n",
              "\n",
              "     year_3  year_4  year_5  screening_rat_0  screening_rat_1  \\\n",
              "25     0.00    0.00    0.00             0.00             0.00   \n",
              "59     0.00    0.00    0.00             0.00             0.00   \n",
              "145    0.00    0.00    0.00             0.00             0.00   \n",
              "206    0.00    0.00    0.00             0.00             0.00   \n",
              "318    1.00    0.00    0.00             0.00             0.00   \n",
              "432    0.00    1.00    0.00             0.00             0.00   \n",
              "556    0.00    0.00    1.00             0.00             0.00   \n",
              "\n",
              "     screening_rat_2  screening_rat_3  genre_season_rank  \n",
              "25              0.00             1.00              27.00  \n",
              "59              0.00             1.00              20.00  \n",
              "145             0.00             1.00              20.00  \n",
              "206             0.00             1.00              27.00  \n",
              "318             0.00             1.00              20.00  \n",
              "432             0.00             1.00              20.00  \n",
              "556             0.00             1.00              20.00  \n",
              "\n",
              "[7 rows x 41 columns]"
            ],
            "text/html": [
              "\n",
              "  <div id=\"df-b264a6dc-0e45-4c53-84e3-d3cb8a1b203a\" class=\"colab-df-container\">\n",
              "    <div>\n",
              "<style scoped>\n",
              "    .dataframe tbody tr th:only-of-type {\n",
              "        vertical-align: middle;\n",
              "    }\n",
              "\n",
              "    .dataframe tbody tr th {\n",
              "        vertical-align: top;\n",
              "    }\n",
              "\n",
              "    .dataframe thead th {\n",
              "        text-align: right;\n",
              "    }\n",
              "</style>\n",
              "<table border=\"1\" class=\"dataframe\">\n",
              "  <thead>\n",
              "    <tr style=\"text-align: right;\">\n",
              "      <th></th>\n",
              "      <th>title</th>\n",
              "      <th>genre</th>\n",
              "      <th>release_time</th>\n",
              "      <th>time</th>\n",
              "      <th>screening_rat</th>\n",
              "      <th>director</th>\n",
              "      <th>dir_prev_bfnum</th>\n",
              "      <th>dir_prev_num</th>\n",
              "      <th>num_staff</th>\n",
              "      <th>num_actor</th>\n",
              "      <th>...</th>\n",
              "      <th>year_1</th>\n",
              "      <th>year_2</th>\n",
              "      <th>year_3</th>\n",
              "      <th>year_4</th>\n",
              "      <th>year_5</th>\n",
              "      <th>screening_rat_0</th>\n",
              "      <th>screening_rat_1</th>\n",
              "      <th>screening_rat_2</th>\n",
              "      <th>screening_rat_3</th>\n",
              "      <th>genre_season_rank</th>\n",
              "    </tr>\n",
              "  </thead>\n",
              "  <tbody>\n",
              "    <tr>\n",
              "      <th>25</th>\n",
              "      <td>하하하</td>\n",
              "      <td>4</td>\n",
              "      <td>2010-05-05</td>\n",
              "      <td>115</td>\n",
              "      <td>3</td>\n",
              "      <td>홍상수</td>\n",
              "      <td>51519.57</td>\n",
              "      <td>0</td>\n",
              "      <td>74</td>\n",
              "      <td>9</td>\n",
              "      <td>...</td>\n",
              "      <td>0.00</td>\n",
              "      <td>0.00</td>\n",
              "      <td>0.00</td>\n",
              "      <td>0.00</td>\n",
              "      <td>0.00</td>\n",
              "      <td>0.00</td>\n",
              "      <td>0.00</td>\n",
              "      <td>0.00</td>\n",
              "      <td>1.00</td>\n",
              "      <td>27.00</td>\n",
              "    </tr>\n",
              "    <tr>\n",
              "      <th>59</th>\n",
              "      <td>옥희의 영화</td>\n",
              "      <td>4</td>\n",
              "      <td>2010-09-16</td>\n",
              "      <td>80</td>\n",
              "      <td>3</td>\n",
              "      <td>홍상수</td>\n",
              "      <td>51519.57</td>\n",
              "      <td>1</td>\n",
              "      <td>57</td>\n",
              "      <td>3</td>\n",
              "      <td>...</td>\n",
              "      <td>0.00</td>\n",
              "      <td>0.00</td>\n",
              "      <td>0.00</td>\n",
              "      <td>0.00</td>\n",
              "      <td>0.00</td>\n",
              "      <td>0.00</td>\n",
              "      <td>0.00</td>\n",
              "      <td>0.00</td>\n",
              "      <td>1.00</td>\n",
              "      <td>20.00</td>\n",
              "    </tr>\n",
              "    <tr>\n",
              "      <th>145</th>\n",
              "      <td>북촌방향</td>\n",
              "      <td>4</td>\n",
              "      <td>2011-09-08</td>\n",
              "      <td>79</td>\n",
              "      <td>3</td>\n",
              "      <td>홍상수</td>\n",
              "      <td>51519.57</td>\n",
              "      <td>2</td>\n",
              "      <td>55</td>\n",
              "      <td>5</td>\n",
              "      <td>...</td>\n",
              "      <td>1.00</td>\n",
              "      <td>0.00</td>\n",
              "      <td>0.00</td>\n",
              "      <td>0.00</td>\n",
              "      <td>0.00</td>\n",
              "      <td>0.00</td>\n",
              "      <td>0.00</td>\n",
              "      <td>0.00</td>\n",
              "      <td>1.00</td>\n",
              "      <td>20.00</td>\n",
              "    </tr>\n",
              "    <tr>\n",
              "      <th>206</th>\n",
              "      <td>다른나라에서</td>\n",
              "      <td>4</td>\n",
              "      <td>2012-05-31</td>\n",
              "      <td>89</td>\n",
              "      <td>3</td>\n",
              "      <td>홍상수</td>\n",
              "      <td>51519.57</td>\n",
              "      <td>3</td>\n",
              "      <td>70</td>\n",
              "      <td>2</td>\n",
              "      <td>...</td>\n",
              "      <td>0.00</td>\n",
              "      <td>1.00</td>\n",
              "      <td>0.00</td>\n",
              "      <td>0.00</td>\n",
              "      <td>0.00</td>\n",
              "      <td>0.00</td>\n",
              "      <td>0.00</td>\n",
              "      <td>0.00</td>\n",
              "      <td>1.00</td>\n",
              "      <td>27.00</td>\n",
              "    </tr>\n",
              "    <tr>\n",
              "      <th>318</th>\n",
              "      <td>우리 선희</td>\n",
              "      <td>4</td>\n",
              "      <td>2013-09-12</td>\n",
              "      <td>89</td>\n",
              "      <td>3</td>\n",
              "      <td>홍상수</td>\n",
              "      <td>51519.57</td>\n",
              "      <td>4</td>\n",
              "      <td>8</td>\n",
              "      <td>6</td>\n",
              "      <td>...</td>\n",
              "      <td>0.00</td>\n",
              "      <td>0.00</td>\n",
              "      <td>1.00</td>\n",
              "      <td>0.00</td>\n",
              "      <td>0.00</td>\n",
              "      <td>0.00</td>\n",
              "      <td>0.00</td>\n",
              "      <td>0.00</td>\n",
              "      <td>1.00</td>\n",
              "      <td>20.00</td>\n",
              "    </tr>\n",
              "    <tr>\n",
              "      <th>432</th>\n",
              "      <td>자유의 언덕</td>\n",
              "      <td>4</td>\n",
              "      <td>2014-09-04</td>\n",
              "      <td>67</td>\n",
              "      <td>3</td>\n",
              "      <td>홍상수</td>\n",
              "      <td>51519.57</td>\n",
              "      <td>5</td>\n",
              "      <td>52</td>\n",
              "      <td>3</td>\n",
              "      <td>...</td>\n",
              "      <td>0.00</td>\n",
              "      <td>0.00</td>\n",
              "      <td>0.00</td>\n",
              "      <td>1.00</td>\n",
              "      <td>0.00</td>\n",
              "      <td>0.00</td>\n",
              "      <td>0.00</td>\n",
              "      <td>0.00</td>\n",
              "      <td>1.00</td>\n",
              "      <td>20.00</td>\n",
              "    </tr>\n",
              "    <tr>\n",
              "      <th>556</th>\n",
              "      <td>지금은맞고그때는틀리다</td>\n",
              "      <td>4</td>\n",
              "      <td>2015-09-24</td>\n",
              "      <td>121</td>\n",
              "      <td>3</td>\n",
              "      <td>홍상수</td>\n",
              "      <td>39317.00</td>\n",
              "      <td>6</td>\n",
              "      <td>16</td>\n",
              "      <td>2</td>\n",
              "      <td>...</td>\n",
              "      <td>0.00</td>\n",
              "      <td>0.00</td>\n",
              "      <td>0.00</td>\n",
              "      <td>0.00</td>\n",
              "      <td>1.00</td>\n",
              "      <td>0.00</td>\n",
              "      <td>0.00</td>\n",
              "      <td>0.00</td>\n",
              "      <td>1.00</td>\n",
              "      <td>20.00</td>\n",
              "    </tr>\n",
              "  </tbody>\n",
              "</table>\n",
              "<p>7 rows × 41 columns</p>\n",
              "</div>\n",
              "    <div class=\"colab-df-buttons\">\n",
              "\n",
              "  <div class=\"colab-df-container\">\n",
              "    <button class=\"colab-df-convert\" onclick=\"convertToInteractive('df-b264a6dc-0e45-4c53-84e3-d3cb8a1b203a')\"\n",
              "            title=\"Convert this dataframe to an interactive table.\"\n",
              "            style=\"display:none;\">\n",
              "\n",
              "  <svg xmlns=\"http://www.w3.org/2000/svg\" height=\"24px\" viewBox=\"0 -960 960 960\">\n",
              "    <path d=\"M120-120v-720h720v720H120Zm60-500h600v-160H180v160Zm220 220h160v-160H400v160Zm0 220h160v-160H400v160ZM180-400h160v-160H180v160Zm440 0h160v-160H620v160ZM180-180h160v-160H180v160Zm440 0h160v-160H620v160Z\"/>\n",
              "  </svg>\n",
              "    </button>\n",
              "\n",
              "  <style>\n",
              "    .colab-df-container {\n",
              "      display:flex;\n",
              "      gap: 12px;\n",
              "    }\n",
              "\n",
              "    .colab-df-convert {\n",
              "      background-color: #E8F0FE;\n",
              "      border: none;\n",
              "      border-radius: 50%;\n",
              "      cursor: pointer;\n",
              "      display: none;\n",
              "      fill: #1967D2;\n",
              "      height: 32px;\n",
              "      padding: 0 0 0 0;\n",
              "      width: 32px;\n",
              "    }\n",
              "\n",
              "    .colab-df-convert:hover {\n",
              "      background-color: #E2EBFA;\n",
              "      box-shadow: 0px 1px 2px rgba(60, 64, 67, 0.3), 0px 1px 3px 1px rgba(60, 64, 67, 0.15);\n",
              "      fill: #174EA6;\n",
              "    }\n",
              "\n",
              "    .colab-df-buttons div {\n",
              "      margin-bottom: 4px;\n",
              "    }\n",
              "\n",
              "    [theme=dark] .colab-df-convert {\n",
              "      background-color: #3B4455;\n",
              "      fill: #D2E3FC;\n",
              "    }\n",
              "\n",
              "    [theme=dark] .colab-df-convert:hover {\n",
              "      background-color: #434B5C;\n",
              "      box-shadow: 0px 1px 3px 1px rgba(0, 0, 0, 0.15);\n",
              "      filter: drop-shadow(0px 1px 2px rgba(0, 0, 0, 0.3));\n",
              "      fill: #FFFFFF;\n",
              "    }\n",
              "  </style>\n",
              "\n",
              "    <script>\n",
              "      const buttonEl =\n",
              "        document.querySelector('#df-b264a6dc-0e45-4c53-84e3-d3cb8a1b203a button.colab-df-convert');\n",
              "      buttonEl.style.display =\n",
              "        google.colab.kernel.accessAllowed ? 'block' : 'none';\n",
              "\n",
              "      async function convertToInteractive(key) {\n",
              "        const element = document.querySelector('#df-b264a6dc-0e45-4c53-84e3-d3cb8a1b203a');\n",
              "        const dataTable =\n",
              "          await google.colab.kernel.invokeFunction('convertToInteractive',\n",
              "                                                    [key], {});\n",
              "        if (!dataTable) return;\n",
              "\n",
              "        const docLinkHtml = 'Like what you see? Visit the ' +\n",
              "          '<a target=\"_blank\" href=https://colab.research.google.com/notebooks/data_table.ipynb>data table notebook</a>'\n",
              "          + ' to learn more about interactive tables.';\n",
              "        element.innerHTML = '';\n",
              "        dataTable['output_type'] = 'display_data';\n",
              "        await google.colab.output.renderOutput(dataTable, element);\n",
              "        const docLink = document.createElement('div');\n",
              "        docLink.innerHTML = docLinkHtml;\n",
              "        element.appendChild(docLink);\n",
              "      }\n",
              "    </script>\n",
              "  </div>\n",
              "\n",
              "\n",
              "<div id=\"df-e42d53dc-974e-4a99-a8e8-f992465ec54c\">\n",
              "  <button class=\"colab-df-quickchart\" onclick=\"quickchart('df-e42d53dc-974e-4a99-a8e8-f992465ec54c')\"\n",
              "            title=\"Suggest charts\"\n",
              "            style=\"display:none;\">\n",
              "\n",
              "<svg xmlns=\"http://www.w3.org/2000/svg\" height=\"24px\"viewBox=\"0 0 24 24\"\n",
              "     width=\"24px\">\n",
              "    <g>\n",
              "        <path d=\"M19 3H5c-1.1 0-2 .9-2 2v14c0 1.1.9 2 2 2h14c1.1 0 2-.9 2-2V5c0-1.1-.9-2-2-2zM9 17H7v-7h2v7zm4 0h-2V7h2v10zm4 0h-2v-4h2v4z\"/>\n",
              "    </g>\n",
              "</svg>\n",
              "  </button>\n",
              "\n",
              "<style>\n",
              "  .colab-df-quickchart {\n",
              "      --bg-color: #E8F0FE;\n",
              "      --fill-color: #1967D2;\n",
              "      --hover-bg-color: #E2EBFA;\n",
              "      --hover-fill-color: #174EA6;\n",
              "      --disabled-fill-color: #AAA;\n",
              "      --disabled-bg-color: #DDD;\n",
              "  }\n",
              "\n",
              "  [theme=dark] .colab-df-quickchart {\n",
              "      --bg-color: #3B4455;\n",
              "      --fill-color: #D2E3FC;\n",
              "      --hover-bg-color: #434B5C;\n",
              "      --hover-fill-color: #FFFFFF;\n",
              "      --disabled-bg-color: #3B4455;\n",
              "      --disabled-fill-color: #666;\n",
              "  }\n",
              "\n",
              "  .colab-df-quickchart {\n",
              "    background-color: var(--bg-color);\n",
              "    border: none;\n",
              "    border-radius: 50%;\n",
              "    cursor: pointer;\n",
              "    display: none;\n",
              "    fill: var(--fill-color);\n",
              "    height: 32px;\n",
              "    padding: 0;\n",
              "    width: 32px;\n",
              "  }\n",
              "\n",
              "  .colab-df-quickchart:hover {\n",
              "    background-color: var(--hover-bg-color);\n",
              "    box-shadow: 0 1px 2px rgba(60, 64, 67, 0.3), 0 1px 3px 1px rgba(60, 64, 67, 0.15);\n",
              "    fill: var(--button-hover-fill-color);\n",
              "  }\n",
              "\n",
              "  .colab-df-quickchart-complete:disabled,\n",
              "  .colab-df-quickchart-complete:disabled:hover {\n",
              "    background-color: var(--disabled-bg-color);\n",
              "    fill: var(--disabled-fill-color);\n",
              "    box-shadow: none;\n",
              "  }\n",
              "\n",
              "  .colab-df-spinner {\n",
              "    border: 2px solid var(--fill-color);\n",
              "    border-color: transparent;\n",
              "    border-bottom-color: var(--fill-color);\n",
              "    animation:\n",
              "      spin 1s steps(1) infinite;\n",
              "  }\n",
              "\n",
              "  @keyframes spin {\n",
              "    0% {\n",
              "      border-color: transparent;\n",
              "      border-bottom-color: var(--fill-color);\n",
              "      border-left-color: var(--fill-color);\n",
              "    }\n",
              "    20% {\n",
              "      border-color: transparent;\n",
              "      border-left-color: var(--fill-color);\n",
              "      border-top-color: var(--fill-color);\n",
              "    }\n",
              "    30% {\n",
              "      border-color: transparent;\n",
              "      border-left-color: var(--fill-color);\n",
              "      border-top-color: var(--fill-color);\n",
              "      border-right-color: var(--fill-color);\n",
              "    }\n",
              "    40% {\n",
              "      border-color: transparent;\n",
              "      border-right-color: var(--fill-color);\n",
              "      border-top-color: var(--fill-color);\n",
              "    }\n",
              "    60% {\n",
              "      border-color: transparent;\n",
              "      border-right-color: var(--fill-color);\n",
              "    }\n",
              "    80% {\n",
              "      border-color: transparent;\n",
              "      border-right-color: var(--fill-color);\n",
              "      border-bottom-color: var(--fill-color);\n",
              "    }\n",
              "    90% {\n",
              "      border-color: transparent;\n",
              "      border-bottom-color: var(--fill-color);\n",
              "    }\n",
              "  }\n",
              "</style>\n",
              "\n",
              "  <script>\n",
              "    async function quickchart(key) {\n",
              "      const quickchartButtonEl =\n",
              "        document.querySelector('#' + key + ' button');\n",
              "      quickchartButtonEl.disabled = true;  // To prevent multiple clicks.\n",
              "      quickchartButtonEl.classList.add('colab-df-spinner');\n",
              "      try {\n",
              "        const charts = await google.colab.kernel.invokeFunction(\n",
              "            'suggestCharts', [key], {});\n",
              "      } catch (error) {\n",
              "        console.error('Error during call to suggestCharts:', error);\n",
              "      }\n",
              "      quickchartButtonEl.classList.remove('colab-df-spinner');\n",
              "      quickchartButtonEl.classList.add('colab-df-quickchart-complete');\n",
              "    }\n",
              "    (() => {\n",
              "      let quickchartButtonEl =\n",
              "        document.querySelector('#df-e42d53dc-974e-4a99-a8e8-f992465ec54c button');\n",
              "      quickchartButtonEl.style.display =\n",
              "        google.colab.kernel.accessAllowed ? 'block' : 'none';\n",
              "    })();\n",
              "  </script>\n",
              "</div>\n",
              "\n",
              "    </div>\n",
              "  </div>\n"
            ],
            "application/vnd.google.colaboratory.intrinsic+json": {
              "type": "dataframe"
            }
          },
          "metadata": {},
          "execution_count": 32
        }
      ]
    },
    {
      "cell_type": "markdown",
      "source": [
        "### 2.2.9 num_staff: 스텝 수\n",
        "- 왜곡도가 0.75 이상이므로 로그변환 해주기"
      ],
      "metadata": {
        "id": "xIkBHeBOLfnr"
      }
    },
    {
      "cell_type": "code",
      "source": [
        "skew(train_df['num_staff'])"
      ],
      "metadata": {
        "colab": {
          "base_uri": "https://localhost:8080/"
        },
        "id": "JFH1LkLdLhYm",
        "outputId": "e90acf59-f5d3-4560-8e0d-0497d0cbfafb"
      },
      "execution_count": 33,
      "outputs": [
        {
          "output_type": "execute_result",
          "data": {
            "text/plain": [
              "1.2303665582484264"
            ]
          },
          "metadata": {},
          "execution_count": 33
        }
      ]
    },
    {
      "cell_type": "code",
      "source": [
        "train_df['num_staff'] = np.log1p(train_df['num_staff'])"
      ],
      "metadata": {
        "id": "f5oJRoEWR647"
      },
      "execution_count": 34,
      "outputs": []
    },
    {
      "cell_type": "code",
      "source": [
        "test_df['num_staff'] = np.log1p(test_df['num_staff'])"
      ],
      "metadata": {
        "id": "7m4cLFGL0nvg"
      },
      "execution_count": 35,
      "outputs": []
    },
    {
      "cell_type": "markdown",
      "source": [
        "### 2.2.10 num_actor: 주연배우 수\n",
        "- 왜곡도가 0.75 이상이므로 로그변환 해주기"
      ],
      "metadata": {
        "id": "FLDvHnbbLv0w"
      }
    },
    {
      "cell_type": "code",
      "source": [
        "skew(train_df['num_actor'])"
      ],
      "metadata": {
        "colab": {
          "base_uri": "https://localhost:8080/"
        },
        "id": "7jUx0_3FLngR",
        "outputId": "7e36ea04-22cc-4a5a-b2da-3c2b5e724d50"
      },
      "execution_count": 36,
      "outputs": [
        {
          "output_type": "execute_result",
          "data": {
            "text/plain": [
              "2.943286008621123"
            ]
          },
          "metadata": {},
          "execution_count": 36
        }
      ]
    },
    {
      "cell_type": "code",
      "source": [
        "train_df['num_actor'] = np.log1p(train_df['num_actor'])"
      ],
      "metadata": {
        "id": "9a8h_eMNR7fQ"
      },
      "execution_count": 37,
      "outputs": []
    },
    {
      "cell_type": "code",
      "source": [
        "test_df['num_actor'] = np.log1p(test_df['num_actor'])"
      ],
      "metadata": {
        "id": "vZRqZ0Rp0prD"
      },
      "execution_count": 38,
      "outputs": []
    },
    {
      "cell_type": "markdown",
      "source": [
        "### 2.2.11 box_off_num: 관객 수 (**타깃값**)\n",
        "- 왜곡도가 0.75 이상이므로 로그변환 해주기. 정규분포 형태를 띄는 것이 중요한 타깃피처."
      ],
      "metadata": {
        "id": "T3SQJYP7LwaC"
      }
    },
    {
      "cell_type": "code",
      "source": [
        "skew(train_df['box_off_num'])"
      ],
      "metadata": {
        "colab": {
          "base_uri": "https://localhost:8080/"
        },
        "id": "SkAZjbGaLneK",
        "outputId": "820de296-489c-4f32-c431-39b978c8fb08"
      },
      "execution_count": 39,
      "outputs": [
        {
          "output_type": "execute_result",
          "data": {
            "text/plain": [
              "4.321279878093952"
            ]
          },
          "metadata": {},
          "execution_count": 39
        }
      ]
    },
    {
      "cell_type": "code",
      "source": [
        "train_df['box_off_num'] = np.log1p(train_df['box_off_num'])"
      ],
      "metadata": {
        "id": "pYCwPeHNSM68"
      },
      "execution_count": 40,
      "outputs": []
    },
    {
      "cell_type": "markdown",
      "source": [
        "## 2.3 불필요한 피처 삭제\n",
        "- 문자형인 director, title 삭제\n",
        "- 원핫 인코딩한 genre, season 삭제\n",
        "- season에 사용된 month 삭제\n",
        "- season, year 등의 필요한 정보 추출했다고 판단한 release_time 삭제\n",
        "- dir_prev_bfnum, dir_prev_num 0이 너무 많아서 아예 삭제하는게 나을까해서 시도해봤는데 그래도 있는게 나았음."
      ],
      "metadata": {
        "id": "85kZhKhSs4Hp"
      }
    },
    {
      "cell_type": "code",
      "source": [
        "train_df.drop(['director', 'title'] , axis=1, inplace=True)"
      ],
      "metadata": {
        "id": "_sn8uwTVnCYQ"
      },
      "execution_count": 41,
      "outputs": []
    },
    {
      "cell_type": "code",
      "source": [
        "train_df = train_df.drop(['month'], axis=1)\n",
        "test_df = test_df.drop(['month'], axis=1)"
      ],
      "metadata": {
        "id": "PvypOqJNsAhi"
      },
      "execution_count": 42,
      "outputs": []
    },
    {
      "cell_type": "code",
      "source": [
        "train_df = train_df.drop(['release_time'], axis=1)\n",
        "test_df = test_df.drop(['release_time'], axis=1)"
      ],
      "metadata": {
        "id": "67CfurJRVSPg"
      },
      "execution_count": 43,
      "outputs": []
    },
    {
      "cell_type": "code",
      "source": [
        "train_df.drop(['genre'], axis=1, inplace=True)\n",
        "test_df.drop(['genre'], axis=1, inplace=True)"
      ],
      "metadata": {
        "id": "Ktqk_KWFpr36"
      },
      "execution_count": 44,
      "outputs": []
    },
    {
      "cell_type": "code",
      "source": [
        "# season 칼럼 드랍\n",
        "train_df.drop('season', axis=1, inplace=True)\n",
        "test_df.drop('season', axis=1, inplace=True)"
      ],
      "metadata": {
        "id": "nmIIZXJfJEAi"
      },
      "execution_count": 45,
      "outputs": []
    },
    {
      "cell_type": "code",
      "source": [
        "test_df.drop(['title', 'director', 'distributor'], axis=1, inplace=True)"
      ],
      "metadata": {
        "id": "UFBJee2ikUkx"
      },
      "execution_count": 46,
      "outputs": []
    },
    {
      "cell_type": "markdown",
      "source": [
        "##2.4 최종 데이터 확인\n",
        "- train_df랑 test_df가 타깃 피처를 제외하고 동일한 피처들을 가져야하는거...맞죠?\n",
        "- 전처리 이전 피처 개수 12개 -> 이후 35개  "
      ],
      "metadata": {
        "id": "Lj1jPG1TSSZ2"
      }
    },
    {
      "cell_type": "code",
      "source": [
        "movie_train_cleaned = train_df.copy()"
      ],
      "metadata": {
        "id": "51_agTQQMQ--"
      },
      "execution_count": 47,
      "outputs": []
    },
    {
      "cell_type": "code",
      "source": [
        "movie_train_cleaned.info()"
      ],
      "metadata": {
        "colab": {
          "base_uri": "https://localhost:8080/"
        },
        "id": "7avu13LBARR4",
        "outputId": "cb7389a4-2922-4d49-b29d-70e7e0472a25"
      },
      "execution_count": 48,
      "outputs": [
        {
          "output_type": "stream",
          "name": "stdout",
          "text": [
            "<class 'pandas.core.frame.DataFrame'>\n",
            "RangeIndex: 600 entries, 0 to 599\n",
            "Data columns (total 35 columns):\n",
            " #   Column             Non-Null Count  Dtype  \n",
            "---  ------             --------------  -----  \n",
            " 0   time               600 non-null    int64  \n",
            " 1   screening_rat      600 non-null    int64  \n",
            " 2   dir_prev_bfnum     600 non-null    float64\n",
            " 3   dir_prev_num       600 non-null    int64  \n",
            " 4   num_staff          600 non-null    float64\n",
            " 5   num_actor          600 non-null    float64\n",
            " 6   box_off_num        600 non-null    float64\n",
            " 7   distributor_rank   600 non-null    float64\n",
            " 8   genre_0            600 non-null    float64\n",
            " 9   genre_1            600 non-null    float64\n",
            " 10  genre_2            600 non-null    float64\n",
            " 11  genre_3            600 non-null    float64\n",
            " 12  genre_4            600 non-null    float64\n",
            " 13  genre_5            600 non-null    float64\n",
            " 14  genre_6            600 non-null    float64\n",
            " 15  genre_7            600 non-null    float64\n",
            " 16  genre_8            600 non-null    float64\n",
            " 17  genre_9            600 non-null    float64\n",
            " 18  genre_10           600 non-null    float64\n",
            " 19  genre_11           600 non-null    float64\n",
            " 20  season_0           600 non-null    float64\n",
            " 21  season_1           600 non-null    float64\n",
            " 22  season_2           600 non-null    float64\n",
            " 23  season_3           600 non-null    float64\n",
            " 24  year_0             600 non-null    float64\n",
            " 25  year_1             600 non-null    float64\n",
            " 26  year_2             600 non-null    float64\n",
            " 27  year_3             600 non-null    float64\n",
            " 28  year_4             600 non-null    float64\n",
            " 29  year_5             600 non-null    float64\n",
            " 30  screening_rat_0    600 non-null    float64\n",
            " 31  screening_rat_1    600 non-null    float64\n",
            " 32  screening_rat_2    600 non-null    float64\n",
            " 33  screening_rat_3    600 non-null    float64\n",
            " 34  genre_season_rank  600 non-null    float64\n",
            "dtypes: float64(32), int64(3)\n",
            "memory usage: 164.2 KB\n"
          ]
        }
      ]
    },
    {
      "cell_type": "code",
      "source": [
        "movie_test_cleaned = test_df.copy()\n",
        "movie_test_cleaned.info()"
      ],
      "metadata": {
        "colab": {
          "base_uri": "https://localhost:8080/"
        },
        "id": "u0j5X3OSrKSz",
        "outputId": "632ae656-0300-4651-e2a0-0ed380e21490"
      },
      "execution_count": 49,
      "outputs": [
        {
          "output_type": "stream",
          "name": "stdout",
          "text": [
            "<class 'pandas.core.frame.DataFrame'>\n",
            "RangeIndex: 243 entries, 0 to 242\n",
            "Data columns (total 34 columns):\n",
            " #   Column             Non-Null Count  Dtype  \n",
            "---  ------             --------------  -----  \n",
            " 0   time               243 non-null    int64  \n",
            " 1   screening_rat      243 non-null    int64  \n",
            " 2   dir_prev_bfnum     243 non-null    float64\n",
            " 3   dir_prev_num       243 non-null    int64  \n",
            " 4   num_staff          243 non-null    float64\n",
            " 5   num_actor          243 non-null    float64\n",
            " 6   distributor_rank   243 non-null    float64\n",
            " 7   genre_0            243 non-null    float64\n",
            " 8   genre_1            243 non-null    float64\n",
            " 9   genre_2            243 non-null    float64\n",
            " 10  genre_3            243 non-null    float64\n",
            " 11  genre_4            243 non-null    float64\n",
            " 12  genre_5            243 non-null    float64\n",
            " 13  genre_6            243 non-null    float64\n",
            " 14  genre_7            243 non-null    float64\n",
            " 15  genre_8            243 non-null    float64\n",
            " 16  genre_9            243 non-null    float64\n",
            " 17  genre_10           243 non-null    float64\n",
            " 18  genre_11           243 non-null    float64\n",
            " 19  season_0           243 non-null    float64\n",
            " 20  season_1           243 non-null    float64\n",
            " 21  season_2           243 non-null    float64\n",
            " 22  season_3           243 non-null    float64\n",
            " 23  year_0             243 non-null    float64\n",
            " 24  year_1             243 non-null    float64\n",
            " 25  year_2             243 non-null    float64\n",
            " 26  year_3             243 non-null    float64\n",
            " 27  year_4             243 non-null    float64\n",
            " 28  year_5             243 non-null    float64\n",
            " 29  screening_rat_0    243 non-null    float64\n",
            " 30  screening_rat_1    243 non-null    float64\n",
            " 31  screening_rat_2    243 non-null    float64\n",
            " 32  screening_rat_3    243 non-null    float64\n",
            " 33  genre_season_rank  243 non-null    float64\n",
            "dtypes: float64(31), int64(3)\n",
            "memory usage: 64.7 KB\n"
          ]
        }
      ]
    },
    {
      "cell_type": "code",
      "source": [
        "print(movie_train.shape, movie_train_cleaned.shape)"
      ],
      "metadata": {
        "colab": {
          "base_uri": "https://localhost:8080/"
        },
        "id": "X2-V98QNp60B",
        "outputId": "8b7e3300-aead-4d06-ba40-8810951aa8ce"
      },
      "execution_count": 50,
      "outputs": [
        {
          "output_type": "stream",
          "name": "stdout",
          "text": [
            "(600, 12) (600, 35)\n"
          ]
        }
      ]
    },
    {
      "cell_type": "markdown",
      "source": [
        "## 2.5 회귀 피팅 후 회귀계수 확인\n",
        "- 일반선형, 릿지에선 genre_8, screen_rat_2, genre_1 등이 중요한 피처였음.\n",
        "- 라쏘에선 time, genre_season_rank, distributor_ranking을 제외한 모든 피처계수값이 0. (?)"
      ],
      "metadata": {
        "id": "TYLrsUmuL8QK"
      }
    },
    {
      "cell_type": "code",
      "source": [
        "from sklearn.model_selection import train_test_split\n",
        "from sklearn.metrics import mean_squared_error\n",
        "from sklearn.model_selection import cross_val_score, KFold\n",
        "\n",
        "# movie_train_cleaned['release_time_timestamp'] = movie_train_cleaned['release_time'].astype(int)\n",
        "# movie_train_cleaned.drop('release_time', axis = 1, inplace = True)\n",
        "\n",
        "X = movie_train_cleaned.drop('box_off_num', axis = 1)\n",
        "y = movie_train_cleaned['box_off_num']\n",
        "\n",
        "X_train, X_test, y_train, y_test = train_test_split(X, y, test_size = 0.3, random_state = 1)"
      ],
      "metadata": {
        "id": "nYOZIyPtL7I3"
      },
      "execution_count": 51,
      "outputs": []
    },
    {
      "cell_type": "code",
      "source": [
        "test_df.info()"
      ],
      "metadata": {
        "colab": {
          "base_uri": "https://localhost:8080/"
        },
        "id": "jIglO55xAvsN",
        "outputId": "3c6bafc1-dc35-492f-f78f-cfc9fe6d3367"
      },
      "execution_count": 52,
      "outputs": [
        {
          "output_type": "stream",
          "name": "stdout",
          "text": [
            "<class 'pandas.core.frame.DataFrame'>\n",
            "RangeIndex: 243 entries, 0 to 242\n",
            "Data columns (total 34 columns):\n",
            " #   Column             Non-Null Count  Dtype  \n",
            "---  ------             --------------  -----  \n",
            " 0   time               243 non-null    int64  \n",
            " 1   screening_rat      243 non-null    int64  \n",
            " 2   dir_prev_bfnum     243 non-null    float64\n",
            " 3   dir_prev_num       243 non-null    int64  \n",
            " 4   num_staff          243 non-null    float64\n",
            " 5   num_actor          243 non-null    float64\n",
            " 6   distributor_rank   243 non-null    float64\n",
            " 7   genre_0            243 non-null    float64\n",
            " 8   genre_1            243 non-null    float64\n",
            " 9   genre_2            243 non-null    float64\n",
            " 10  genre_3            243 non-null    float64\n",
            " 11  genre_4            243 non-null    float64\n",
            " 12  genre_5            243 non-null    float64\n",
            " 13  genre_6            243 non-null    float64\n",
            " 14  genre_7            243 non-null    float64\n",
            " 15  genre_8            243 non-null    float64\n",
            " 16  genre_9            243 non-null    float64\n",
            " 17  genre_10           243 non-null    float64\n",
            " 18  genre_11           243 non-null    float64\n",
            " 19  season_0           243 non-null    float64\n",
            " 20  season_1           243 non-null    float64\n",
            " 21  season_2           243 non-null    float64\n",
            " 22  season_3           243 non-null    float64\n",
            " 23  year_0             243 non-null    float64\n",
            " 24  year_1             243 non-null    float64\n",
            " 25  year_2             243 non-null    float64\n",
            " 26  year_3             243 non-null    float64\n",
            " 27  year_4             243 non-null    float64\n",
            " 28  year_5             243 non-null    float64\n",
            " 29  screening_rat_0    243 non-null    float64\n",
            " 30  screening_rat_1    243 non-null    float64\n",
            " 31  screening_rat_2    243 non-null    float64\n",
            " 32  screening_rat_3    243 non-null    float64\n",
            " 33  genre_season_rank  243 non-null    float64\n",
            "dtypes: float64(31), int64(3)\n",
            "memory usage: 64.7 KB\n"
          ]
        }
      ]
    },
    {
      "cell_type": "code",
      "source": [
        "from sklearn.linear_model import LinearRegression, Ridge, Lasso\n",
        "\n",
        "# 회귀 계수 값의 상위 10개, 하위 10개의 피처명과 그 회귀계수 값을 가지는 Series 객체를 반화하는 함수 생성\n",
        "def get_top_bottom_coef(model, n=10):\n",
        "  # coef_ 속성을 기반으로 Series 객체를 생성. index는 칼럼명.\n",
        "  coef = pd.Series(model.coef_, index=X_train.columns)\n",
        "\n",
        "  # + 상위 10개, - 하위 10개의 회귀계수를 추출해서 반환\n",
        "  coef_high = coef.sort_values(ascending=False).head(n)\n",
        "  coef_low = coef.sort_values(ascending=False).tail(n)\n",
        "  return coef_high, coef_low\n",
        "\n",
        "# 모델 별로 회귀 계수 시각화하기\n",
        "def visualize_coefficient(models):\n",
        "  # 3개의 회귀 모델의 시각화를 위해 3개의 칼럼을 가지는 subplot 생성\n",
        "  fig, axs = plt.subplots(figsize=(24, 10), nrows=1, ncols=3)\n",
        "  fig.tight_layout()\n",
        "  # 입력 인자로 받은 list 객체인 models에 서 차례로 model을 추출해 회귀 계수 시각화\n",
        "  for i_num, model in enumerate(models):\n",
        "    # 상위 10개, 하위 10개 회귀 계수를 구하고, 이를 판다스 concat으로 결합\n",
        "    coef_high, coef_low = get_top_bottom_coef(model)\n",
        "    coef_concat = pd.concat([coef_high, coef_low])\n",
        "    # ax subplot에 barchar로 표현. 한 화면에 표현하기 위해 tick label 위치와 font 크기 조정.\n",
        "    axs[i_num].set_title(model.__class__.__name__+' Coefficients', size=25)\n",
        "    axs[i_num].tick_params(axis='y', direction='in', pad=-120)\n",
        "    for label in (axs[i_num].get_xticklabels() + axs[i_num].get_yticklabels()):\n",
        "      label.set_fontsize(22)\n",
        "    sns.barplot(x=coef_concat.values, y=coef_concat.index, ax=axs[i_num])\n",
        "\n",
        "# # 앞 예제에서 학습한 ridge_reg, lasso_reg 모델의 CV RMSE 값 출력\n",
        "# def get_avg_rmse_cv(models):\n",
        "#   for model in models:\n",
        "#     # 분할하지 않고 전체 데이터로 cross_val_score() 수행. 모델별 CV RMSE 값과 평균 RMSE 출력\n",
        "#     rmse_list = np.sqrt(-cross_val_score(model, X_train, y_train,\n",
        "#                                         scoring='neg_mean_squared_error', cv=5))\n",
        "#     rmse_avg = np.mean(rmse_list)\n",
        "#     print('{0} CV 평균 RMSE 값: {1}'.format(model.__class__.__name__, np.round(rmse_avg, 3)))\n",
        "\n",
        "# cross_val_score이 아닌 단순 RMSE값\n",
        "def rmse(models):\n",
        "    for model in models:\n",
        "        y_pred = model.predict(X_test)\n",
        "        rmse = np.sqrt(mean_squared_error(y_test, y_pred))\n",
        "        print('\\n{0} RMSE 값: {1}'.format(model.__class__.__name__, np.round(rmse, 3)))\n",
        "\n",
        "# kfold, cross_val_score을 이용한 RMSE 값\n",
        "n_folds = 5\n",
        "def rmsle_cv(model):\n",
        "  # get_n_splits() returns the number of folds (n_folds).\n",
        "  kf = KFold(n_folds, shuffle=True, random_state=42)\n",
        "  rmse = np.sqrt(-cross_val_score(model, X_train, y_train,\n",
        "                                  scoring='neg_mean_squared_error', cv=kf))\n",
        "  rmse = rmse.mean()\n",
        "  print(f\"훈련 데이터에서의 평균 RMSE (교차 검증): {rmse:.3f}\")\n",
        "\n",
        "  model.fit(X_train, y_train)\n",
        "  y_pred = model.predict(X_test)\n",
        "  rmse_test = np.sqrt(mean_squared_error(y_test, y_pred))\n",
        "  rmse_test = rmse_test.mean()\n",
        "  print(f\"테스트 데이터에서의 RMSE: {rmse_test:.3f}\")\n"
      ],
      "metadata": {
        "id": "fKI0zyhDMkIq"
      },
      "execution_count": 53,
      "outputs": []
    },
    {
      "cell_type": "code",
      "source": [
        "lr_reg = LinearRegression()\n",
        "lr_reg.fit(X_train, y_train)\n",
        "ridge_reg = Ridge()\n",
        "ridge_reg.fit(X_train, y_train)\n",
        "lasso_reg = Lasso()\n",
        "lasso_reg.fit(X_train, y_train)\n",
        "\n",
        "models = [lr_reg, ridge_reg, lasso_reg]\n",
        "visualize_coefficient(models)\n",
        "print(rmsle_cv(lr_reg))\n",
        "print(rmsle_cv(ridge_reg))\n",
        "print(rmsle_cv(lasso_reg))"
      ],
      "metadata": {
        "colab": {
          "base_uri": "https://localhost:8080/",
          "height": 852
        },
        "id": "c0LrEl_mT9tE",
        "outputId": "2ac400a2-ba05-4fe1-fa1e-8e7ef06e4f63"
      },
      "execution_count": 54,
      "outputs": [
        {
          "output_type": "stream",
          "name": "stdout",
          "text": [
            "훈련 데이터에서의 평균 RMSE (교차 검증): 1.834\n",
            "테스트 데이터에서의 RMSE: 1.577\n",
            "None\n",
            "훈련 데이터에서의 평균 RMSE (교차 검증): 1.828\n",
            "테스트 데이터에서의 RMSE: 1.574\n",
            "None\n",
            "훈련 데이터에서의 평균 RMSE (교차 검증): 1.850\n",
            "테스트 데이터에서의 RMSE: 1.636\n",
            "None\n"
          ]
        },
        {
          "output_type": "display_data",
          "data": {
            "text/plain": [
              "<Figure size 2400x1000 with 3 Axes>"
            ],
            "image/png": "[encoded data removed]"
          },
          "metadata": {}
        }
      ]
    },
    {
      "cell_type": "markdown",
      "source": [
        "## 2.6 숫자형 (회귀계수가 높은) 피처의 이상치 제거\n",
        "- 이상치 처리를 어떻게 하는게 좋을까?\n",
        "   - 미디언으로 대체, 평균으로 대체, 아예 삭제, time은 삭제 num_actor은 평균으로 대체하는 방법들 시도\n",
        "   - 평균으로 대체했을 때가 미디언으로 대체했을 때보다 미묘하게 나았음. 미디언 채택."
      ],
      "metadata": {
        "id": "2WX2SjcdMHI3"
      }
    },
    {
      "cell_type": "code",
      "source": [
        "def calculate_outlier_ratio(df, column):\n",
        "    # 1사분위수 (Q1)과 3사분위수 (Q3) 계산\n",
        "    Q1 = df[column].quantile(0.25)\n",
        "    Q3 = df[column].quantile(0.75)\n",
        "\n",
        "    # IQR 계산\n",
        "    IQR = Q3 - Q1\n",
        "\n",
        "    # 이상치 기준 값 계산\n",
        "    lower_bound = Q1 - 1.5 * IQR\n",
        "    upper_bound = Q3 + 1.5 * IQR\n",
        "\n",
        "    # 이상치 데이터 필터링\n",
        "    outliers = df[(df[column] < lower_bound) | (df[column] > upper_bound)]\n",
        "\n",
        "    # 이상치 비율 계산\n",
        "    outlier_ratio = len(outliers) / len(df)\n",
        "\n",
        "    return outlier_ratio\n",
        "\n",
        "# 'num_staff'와 'time'에 대한 이상치 비율 계산\n",
        "num_staff_outlier_ratio = calculate_outlier_ratio(train_df, 'num_staff')\n",
        "time_outlier_ratio = calculate_outlier_ratio(train_df, 'time')\n",
        "num_actor_outlier_ratio = calculate_outlier_ratio(train_df, 'num_actor')\n",
        "\n",
        "\n",
        "# 결과 출력\n",
        "print(f\"time의 이상치 비율: {time_outlier_ratio:.2%}\")\n",
        "print(f\"num_staff의 이상치 비율: {num_staff_outlier_ratio:.2%}\")\n",
        "print(f\"num_actor의 이상치 비율: {num_actor_outlier_ratio:.2%}\")\n"
      ],
      "metadata": {
        "colab": {
          "base_uri": "https://localhost:8080/"
        },
        "id": "cJYuX7XlMJlZ",
        "outputId": "dcd26986-4457-4a39-fde1-bd9f6e0581df"
      },
      "execution_count": 55,
      "outputs": [
        {
          "output_type": "stream",
          "name": "stdout",
          "text": [
            "time의 이상치 비율: 1.00%\n",
            "num_staff의 이상치 비율: 0.00%\n",
            "num_actor의 이상치 비율: 4.67%\n"
          ]
        }
      ]
    },
    {
      "cell_type": "code",
      "source": [
        "# 이상치를 평균으로 대체\n",
        "def replace_outliers_with_mean(df, columns):\n",
        "    for col in columns:\n",
        "        # Q1, Q3, IQR 계산\n",
        "        Q1 = df[col].quantile(0.25)\n",
        "        Q3 = df[col].quantile(0.75)\n",
        "        IQR = Q3 - Q1\n",
        "\n",
        "        # 이상치 범위 설정 (이 범위를 벗어난 값은 이상치)\n",
        "        lower_bound = Q1 - 1.5 * IQR\n",
        "        upper_bound = Q3 + 1.5 * IQR\n",
        "\n",
        "        # 이상치를 평균값으로 대체\n",
        "        mean_value = df[col].mean()\n",
        "        df[col] = df[col].apply(lambda x: mean_value if x < lower_bound or x > upper_bound else x)\n",
        "\n",
        "    return df\n",
        "\n",
        "\n",
        "train_df = replace_outliers_with_mean(train_df, ['time', 'num_staff', 'num_actor'])\n",
        "movie_train_cleaned = train_df.copy()\n",
        "X = movie_train_cleaned.drop('box_off_num', axis = 1)\n",
        "y = movie_train_cleaned['box_off_num']\n",
        "\n",
        "X_train, X_test, y_train, y_test = train_test_split(X, y, test_size = 0.3, random_state = 1)\n",
        "lr_reg = LinearRegression()\n",
        "lr_reg.fit(X_train, y_train)\n",
        "ridge_reg = Ridge()\n",
        "ridge_reg.fit(X_train, y_train)\n",
        "lasso_reg = Lasso()\n",
        "lasso_reg.fit(X_train, y_train)\n",
        "\n",
        "models = [lr_reg, ridge_reg, lasso_reg]\n",
        "print(rmsle_cv(lr_reg))\n",
        "print(rmsle_cv(ridge_reg))\n",
        "print(rmsle_cv(lasso_reg))"
      ],
      "metadata": {
        "colab": {
          "base_uri": "https://localhost:8080/"
        },
        "id": "KIHYq1hsy3nM",
        "outputId": "fa1f4c29-91ab-46d7-e557-5003104fa08b"
      },
      "execution_count": 56,
      "outputs": [
        {
          "output_type": "stream",
          "name": "stdout",
          "text": [
            "훈련 데이터에서의 평균 RMSE (교차 검증): 1.823\n",
            "테스트 데이터에서의 RMSE: 1.564\n",
            "None\n",
            "훈련 데이터에서의 평균 RMSE (교차 검증): 1.818\n",
            "테스트 데이터에서의 RMSE: 1.561\n",
            "None\n",
            "훈련 데이터에서의 평균 RMSE (교차 검증): 1.845\n",
            "테스트 데이터에서의 RMSE: 1.630\n",
            "None\n"
          ]
        }
      ]
    },
    {
      "cell_type": "markdown",
      "source": [
        "# Modeling"
      ],
      "metadata": {
        "id": "N4Cev6VZVjG7"
      }
    },
    {
      "cell_type": "markdown",
      "source": [
        "movie_train_cleaned.info()"
      ],
      "metadata": {
        "id": "A-CoOsh8V7ts"
      }
    },
    {
      "cell_type": "code",
      "source": [
        "X = movie_train_cleaned.drop('box_off_num', axis = 1)\n",
        "y = movie_train_cleaned['box_off_num']"
      ],
      "metadata": {
        "id": "RSgS8-yxVktz"
      },
      "execution_count": 57,
      "outputs": []
    },
    {
      "cell_type": "code",
      "source": [
        "from sklearn.model_selection import train_test_split\n",
        "\n",
        "X_train, X_test, y_train, y_test = train_test_split(X, y, test_size = 0.3, random_state = 1)"
      ],
      "metadata": {
        "id": "4cFyHpFrV0QZ"
      },
      "execution_count": 58,
      "outputs": []
    },
    {
      "cell_type": "code",
      "source": [
        "from sklearn.metrics import mean_squared_error\n",
        "from sklearn.model_selection import cross_val_score"
      ],
      "metadata": {
        "id": "-_bzjW8aYI9K"
      },
      "execution_count": 59,
      "outputs": []
    },
    {
      "cell_type": "code",
      "source": [
        "plt.scatter(X_test['time'], y_test)\n",
        "plt.show()"
      ],
      "metadata": {
        "colab": {
          "base_uri": "https://localhost:8080/",
          "height": 430
        },
        "id": "T9I8zry7YKpH",
        "outputId": "45fdd5b4-9f08-476a-bb6f-bc28dcd50483"
      },
      "execution_count": 60,
      "outputs": [
        {
          "output_type": "display_data",
          "data": {
            "text/plain": [
              "<Figure size 640x480 with 1 Axes>"
            ],
            "image/png": "[encoded data removed]"
          },
          "metadata": {}
        }
      ]
    },
    {
      "cell_type": "markdown",
      "source": [
        "##Linear Regression"
      ],
      "metadata": {
        "id": "ErrkByBfZYfX"
      }
    },
    {
      "cell_type": "code",
      "source": [
        "from sklearn.linear_model import LinearRegression\n",
        "\n",
        "linear = LinearRegression()\n",
        "linear.fit(X_train, y_train)\n",
        "\n",
        "linear_pred = linear.predict(X_test)\n",
        "\n",
        "linear_MSE = mean_squared_error(y_test, linear_pred)\n",
        "print(np.round(np.sqrt(linear_MSE), 3))"
      ],
      "metadata": {
        "colab": {
          "base_uri": "https://localhost:8080/"
        },
        "id": "u7bh_i2BYLrz",
        "outputId": "0b91635a-9648-4808-94a8-2c369f7a7ddc"
      },
      "execution_count": 61,
      "outputs": [
        {
          "output_type": "stream",
          "name": "stdout",
          "text": [
            "1.564\n"
          ]
        }
      ]
    },
    {
      "cell_type": "code",
      "source": [
        "plt.scatter(y_test, linear_pred)\n",
        "plt.plot([0, 15], [0, 15], color='red', linewidth=2)\n",
        "plt.show()"
      ],
      "metadata": {
        "colab": {
          "base_uri": "https://localhost:8080/",
          "height": 430
        },
        "id": "oyg__mOMYZBy",
        "outputId": "5ff3bb10-6438-46f1-aa59-d2e2bddc268b"
      },
      "execution_count": 62,
      "outputs": [
        {
          "output_type": "display_data",
          "data": {
            "text/plain": [
              "<Figure size 640x480 with 1 Axes>"
            ],
            "image/png": "[encoded data removed]"
          },
          "metadata": {}
        }
      ]
    },
    {
      "cell_type": "markdown",
      "source": [
        "###Polynomial Regression"
      ],
      "metadata": {
        "id": "1ZovS_y4ZcHv"
      }
    },
    {
      "cell_type": "code",
      "source": [
        "from sklearn.preprocessing import PolynomialFeatures\n",
        "\n",
        "degrees = [2, 3, 4]\n",
        "for degree in degrees:\n",
        "  poly = PolynomialFeatures(degree = degree)\n",
        "  poly.fit(X)\n",
        "  X_poly = poly.transform(X)\n",
        "\n",
        "  X_train_poly, X_test_poly, y_train_poly, y_test_poly = train_test_split(X_poly, y, test_size = 0.2, random_state = 1)\n",
        "\n",
        "  polylinear = LinearRegression()\n",
        "  polylinear.fit(X_train_poly, y_train_poly)\n",
        "\n",
        "  poly_pred = polylinear.predict(X_test_poly)\n",
        "\n",
        "  poly_MSE = mean_squared_error(y_test_poly, poly_pred)\n",
        "  print('degree: {0}, RMSE: {1}'.format(degree, np.round(np.sqrt(poly_MSE), 3)))"
      ],
      "metadata": {
        "id": "QzDPVghAfeyR",
        "colab": {
          "base_uri": "https://localhost:8080/"
        },
        "outputId": "e553a10d-4f38-46ee-f5a6-25c80eb90fab"
      },
      "execution_count": 63,
      "outputs": [
        {
          "output_type": "stream",
          "name": "stdout",
          "text": [
            "degree: 2, RMSE: 3.975\n",
            "degree: 3, RMSE: 184.056\n",
            "degree: 4, RMSE: 295.9\n"
          ]
        }
      ]
    },
    {
      "cell_type": "code",
      "source": [
        "#best model\n",
        "\n",
        "poly = PolynomialFeatures(degree = 2)\n",
        "poly.fit(X)\n",
        "X_poly = poly.transform(X)\n",
        "\n",
        "X_train_poly, X_test_poly, y_train_poly, y_test_poly = train_test_split(X_poly, y, test_size = 0.2, random_state = 1)\n",
        "\n",
        "polylinear = LinearRegression()\n",
        "polylinear.fit(X_train_poly, y_train_poly)\n",
        "\n",
        "poly_pred = polylinear.predict(X_test_poly)\n",
        "\n",
        "poly_MSE = mean_squared_error(y_test_poly, poly_pred)\n",
        "print(np.round(np.sqrt(poly_MSE), 3))"
      ],
      "metadata": {
        "colab": {
          "base_uri": "https://localhost:8080/"
        },
        "id": "IjiMUkFtYb9R",
        "outputId": "9eba1918-ed61-45e0-ab68-a10248fb6fff"
      },
      "execution_count": 64,
      "outputs": [
        {
          "output_type": "stream",
          "name": "stdout",
          "text": [
            "3.975\n"
          ]
        }
      ]
    },
    {
      "cell_type": "code",
      "source": [
        "plt.scatter(y_test_poly, poly_pred)\n",
        "plt.plot([0, 20], [0, 20], color='red', linewidth=2)\n",
        "\n",
        "plt.show()"
      ],
      "metadata": {
        "colab": {
          "base_uri": "https://localhost:8080/",
          "height": 430
        },
        "id": "m37CXLiSY7T5",
        "outputId": "97f0bdb4-052e-4deb-b02b-ccd2c8739ba7"
      },
      "execution_count": 65,
      "outputs": [
        {
          "output_type": "display_data",
          "data": {
            "text/plain": [
              "<Figure size 640x480 with 1 Axes>"
            ],
            "image/png": "[encoded data removed]"
          },
          "metadata": {}
        }
      ]
    },
    {
      "cell_type": "markdown",
      "source": [
        "### Regularization Regression"
      ],
      "metadata": {
        "id": "8PhRqd3QZOtl"
      }
    },
    {
      "cell_type": "markdown",
      "source": [
        "####L2:Ridge"
      ],
      "metadata": {
        "id": "J9cw2QGCZkJm"
      }
    },
    {
      "cell_type": "code",
      "source": [
        "from sklearn.linear_model import Ridge"
      ],
      "metadata": {
        "id": "dO8kcN7PZBse"
      },
      "execution_count": 66,
      "outputs": []
    },
    {
      "cell_type": "code",
      "source": [
        "alphas = [0, 0.1, 0.5, 1, 3, 5, 7, 9, 10, 11, 15, 20, 30, 40]\n",
        "\n",
        "for alpha in alphas:\n",
        "  ridge = Ridge(alpha = alpha)\n",
        "  neg_MSEs = cross_val_score(ridge, X_train, y_train, scoring = 'neg_mean_squared_error', cv = 5)\n",
        "  avg_RMSE = np.mean(np.sqrt(-1 * neg_MSEs))\n",
        "\n",
        "  print('alpha: {0}, avg_RMSE: {1}'.format(alpha, np.round(avg_RMSE, 3)))"
      ],
      "metadata": {
        "colab": {
          "base_uri": "https://localhost:8080/"
        },
        "id": "hWNtATQMZlyj",
        "outputId": "da00b906-5516-46ec-ecd5-f851dfcb3a05"
      },
      "execution_count": 67,
      "outputs": [
        {
          "output_type": "stream",
          "name": "stdout",
          "text": [
            "alpha: 0, avg_RMSE: 20180815.939\n",
            "alpha: 0.1, avg_RMSE: 1.791\n",
            "alpha: 0.5, avg_RMSE: 1.79\n",
            "alpha: 1, avg_RMSE: 1.789\n",
            "alpha: 3, avg_RMSE: 1.785\n",
            "alpha: 5, avg_RMSE: 1.783\n",
            "alpha: 7, avg_RMSE: 1.781\n",
            "alpha: 9, avg_RMSE: 1.78\n",
            "alpha: 10, avg_RMSE: 1.78\n",
            "alpha: 11, avg_RMSE: 1.779\n",
            "alpha: 15, avg_RMSE: 1.778\n",
            "alpha: 20, avg_RMSE: 1.777\n",
            "alpha: 30, avg_RMSE: 1.777\n",
            "alpha: 40, avg_RMSE: 1.779\n"
          ]
        }
      ]
    },
    {
      "cell_type": "code",
      "source": [
        "#best model\n",
        "\n",
        "ridge = Ridge(alpha = 30)\n",
        "ridge.fit(X_train, y_train)\n",
        "ridge_pred = ridge.predict(X_test)\n",
        "\n",
        "ridge_MSE = mean_squared_error(y_test, ridge_pred)\n",
        "print(np.round(np.sqrt(ridge_MSE), 3))"
      ],
      "metadata": {
        "colab": {
          "base_uri": "https://localhost:8080/"
        },
        "id": "pifDmBOiiAac",
        "outputId": "8f8d4cc8-8594-45b2-c1da-3e5bfc119e1e"
      },
      "execution_count": 68,
      "outputs": [
        {
          "output_type": "stream",
          "name": "stdout",
          "text": [
            "1.549\n"
          ]
        }
      ]
    },
    {
      "cell_type": "markdown",
      "source": [
        "####L1:Lasso"
      ],
      "metadata": {
        "id": "LQbhTUUriNeG"
      }
    },
    {
      "cell_type": "code",
      "source": [
        "from sklearn.linear_model import Lasso\n",
        "\n",
        "alphas = [0, 0.00001, 0.0001, 0.001, 0.1, 0.5, 1, 3, 5]\n",
        "\n",
        "for alpha in alphas:\n",
        "  lasso = Lasso(alpha = alpha)\n",
        "  neg_MSEs = cross_val_score(lasso, X_train, y_train, scoring = 'neg_mean_squared_error', cv = 5)\n",
        "  avg_RMSE = np.mean(np.sqrt(-1 * neg_MSEs))\n",
        "\n",
        "  print('alpha: {0}, avg_RMSE: {1}'.format(alpha, np.round(avg_RMSE, 3)))"
      ],
      "metadata": {
        "colab": {
          "base_uri": "https://localhost:8080/"
        },
        "id": "melPFKrfiTWX",
        "outputId": "c659f15f-95d2-43bc-a3ad-0d2d91e6290f"
      },
      "execution_count": 69,
      "outputs": [
        {
          "output_type": "stream",
          "name": "stdout",
          "text": [
            "alpha: 0, avg_RMSE: 1.792\n",
            "alpha: 1e-05, avg_RMSE: 1.792\n",
            "alpha: 0.0001, avg_RMSE: 1.791\n",
            "alpha: 0.001, avg_RMSE: 1.79\n",
            "alpha: 0.1, avg_RMSE: 1.813\n",
            "alpha: 0.5, avg_RMSE: 1.841\n",
            "alpha: 1, avg_RMSE: 1.845\n",
            "alpha: 3, avg_RMSE: 1.866\n",
            "alpha: 5, avg_RMSE: 1.888\n"
          ]
        }
      ]
    },
    {
      "cell_type": "code",
      "source": [
        "#best model\n",
        "\n",
        "lasso = Lasso(alpha = 0.0001)\n",
        "lasso.fit(X_train, y_train)\n",
        "lasso_pred = lasso.predict(X_test)\n",
        "\n",
        "lasso_MSE = mean_squared_error(y_test, lasso_pred)\n",
        "print(np.round(np.sqrt(lasso_MSE), 3))"
      ],
      "metadata": {
        "colab": {
          "base_uri": "https://localhost:8080/"
        },
        "id": "n2sEuf4aZngG",
        "outputId": "0a519176-5dbe-4bb8-b871-e59720c8897d"
      },
      "execution_count": 70,
      "outputs": [
        {
          "output_type": "stream",
          "name": "stdout",
          "text": [
            "1.563\n"
          ]
        }
      ]
    },
    {
      "cell_type": "markdown",
      "source": [
        "####L1+L2:Elastic Net"
      ],
      "metadata": {
        "id": "NX63fv5ParFK"
      }
    },
    {
      "cell_type": "code",
      "source": [
        "from sklearn.linear_model import ElasticNet\n",
        "\n",
        "alphas = [0, 0.001, 0.005, 0.1, 0.5, 1]\n",
        "l1_ratios = [0.05, 0.1, 0.3, 0.5, 0.7, 0.9]\n",
        "\n",
        "for alpha in alphas:\n",
        "    for l1_ratio in l1_ratios:\n",
        "        elastic_net = ElasticNet(alpha=alpha, l1_ratio=l1_ratio)\n",
        "        neg_MSEs = cross_val_score(elastic_net, X_train, y_train, scoring='neg_mean_squared_error', cv=5)\n",
        "        avg_RMSE = np.mean(np.sqrt(-neg_MSEs))\n",
        "        print(f'alpha: {alpha}, l1_ratio: {l1_ratio}, avg_RMSE: {avg_RMSE}')"
      ],
      "metadata": {
        "colab": {
          "base_uri": "https://localhost:8080/"
        },
        "id": "-UDQVUJIaneL",
        "outputId": "3261dac1-74c9-4725-9edf-ea34f65a1c42"
      },
      "execution_count": 71,
      "outputs": [
        {
          "output_type": "stream",
          "name": "stdout",
          "text": [
            "alpha: 0, l1_ratio: 0.05, avg_RMSE: 1.7921039240379364\n",
            "alpha: 0, l1_ratio: 0.1, avg_RMSE: 1.7921039240379364\n",
            "alpha: 0, l1_ratio: 0.3, avg_RMSE: 1.7921039240379364\n",
            "alpha: 0, l1_ratio: 0.5, avg_RMSE: 1.7921039240379364\n",
            "alpha: 0, l1_ratio: 0.7, avg_RMSE: 1.7921039240379364\n",
            "alpha: 0, l1_ratio: 0.9, avg_RMSE: 1.7921039240379364\n",
            "alpha: 0.001, l1_ratio: 0.05, avg_RMSE: 1.7902527996410875\n",
            "alpha: 0.001, l1_ratio: 0.1, avg_RMSE: 1.7902218815610689\n",
            "alpha: 0.001, l1_ratio: 0.3, avg_RMSE: 1.7901182584677666\n",
            "alpha: 0.001, l1_ratio: 0.5, avg_RMSE: 1.7900766493303641\n",
            "alpha: 0.001, l1_ratio: 0.7, avg_RMSE: 1.7900600737758552\n",
            "alpha: 0.001, l1_ratio: 0.9, avg_RMSE: 1.790051450339377\n",
            "alpha: 0.005, l1_ratio: 0.05, avg_RMSE: 1.787236659272477\n",
            "alpha: 0.005, l1_ratio: 0.1, avg_RMSE: 1.786994827710048\n",
            "alpha: 0.005, l1_ratio: 0.3, avg_RMSE: 1.786372996498963\n",
            "alpha: 0.005, l1_ratio: 0.5, avg_RMSE: 1.7860621208214744\n",
            "alpha: 0.005, l1_ratio: 0.7, avg_RMSE: 1.7858425412893701\n",
            "alpha: 0.005, l1_ratio: 0.9, avg_RMSE: 1.7853776414498672\n",
            "alpha: 0.1, l1_ratio: 0.05, avg_RMSE: 1.7772275647601383\n",
            "alpha: 0.1, l1_ratio: 0.1, avg_RMSE: 1.776677300443755\n",
            "alpha: 0.1, l1_ratio: 0.3, avg_RMSE: 1.7795891184060544\n",
            "alpha: 0.1, l1_ratio: 0.5, avg_RMSE: 1.7863111165280359\n",
            "alpha: 0.1, l1_ratio: 0.7, avg_RMSE: 1.7960641581107422\n",
            "alpha: 0.1, l1_ratio: 0.9, avg_RMSE: 1.8077169568296447\n",
            "alpha: 0.5, l1_ratio: 0.05, avg_RMSE: 1.8010496435132588\n",
            "alpha: 0.5, l1_ratio: 0.1, avg_RMSE: 1.809376638314598\n",
            "alpha: 0.5, l1_ratio: 0.3, avg_RMSE: 1.8370634532695447\n",
            "alpha: 0.5, l1_ratio: 0.5, avg_RMSE: 1.8399267290054346\n",
            "alpha: 0.5, l1_ratio: 0.7, avg_RMSE: 1.8404012728612251\n",
            "alpha: 0.5, l1_ratio: 0.9, avg_RMSE: 1.8409649778602983\n",
            "alpha: 1, l1_ratio: 0.05, avg_RMSE: 1.8187313393988838\n",
            "alpha: 1, l1_ratio: 0.1, avg_RMSE: 1.8299482709167627\n",
            "alpha: 1, l1_ratio: 0.3, avg_RMSE: 1.8401687631507042\n",
            "alpha: 1, l1_ratio: 0.5, avg_RMSE: 1.841307747496483\n",
            "alpha: 1, l1_ratio: 0.7, avg_RMSE: 1.842721535868824\n",
            "alpha: 1, l1_ratio: 0.9, avg_RMSE: 1.8444118369135327\n"
          ]
        }
      ]
    },
    {
      "cell_type": "code",
      "source": [
        "#best model\n",
        "\n",
        "elastic_net = ElasticNet(alpha = 0.1, l1_ratio = 0.1)\n",
        "elastic_net.fit(X_train, y_train)\n",
        "elastic_pred = elastic_net.predict(X_test)\n",
        "\n",
        "elastic_MSE = mean_squared_error(y_test, elastic_pred)\n",
        "print(np.round(np.sqrt(elastic_MSE), 3))"
      ],
      "metadata": {
        "colab": {
          "base_uri": "https://localhost:8080/"
        },
        "id": "waVhwkyQaulJ",
        "outputId": "74f3402b-4bc4-4a1a-9982-ed989416e7a4"
      },
      "execution_count": 72,
      "outputs": [
        {
          "output_type": "stream",
          "name": "stdout",
          "text": [
            "1.553\n"
          ]
        }
      ]
    },
    {
      "cell_type": "markdown",
      "source": [
        "##Tree-based model"
      ],
      "metadata": {
        "id": "sGnW6NrNbP_b"
      }
    },
    {
      "cell_type": "markdown",
      "source": [
        "###Bagging: Random Forest\n"
      ],
      "metadata": {
        "id": "B7Q5NchqbR0s"
      }
    },
    {
      "cell_type": "code",
      "source": [
        "from sklearn.ensemble import RandomForestRegressor\n",
        "\n",
        "n_estimators_range = range(1, 100)\n",
        "oob_errors = []\n",
        "test_errors = []\n",
        "\n",
        "for n_estimators in n_estimators_range:\n",
        "  rf = RandomForestRegressor(n_estimators = n_estimators, oob_score = True, random_state = 1)\n",
        "  rf.fit(X_train, y_train)\n",
        "\n",
        "  oob_error = np.sqrt(mean_squared_error(y_train, rf.oob_prediction_))\n",
        "  oob_errors.append(oob_error)\n",
        "\n",
        "  y_pred = rf.predict(X_test)\n",
        "  test_error = np.sqrt(mean_squared_error(y_test, y_pred))\n",
        "  test_errors.append(test_error)\n",
        "\n",
        "error_df = pd.DataFrame({\n",
        "    'n_estimators': n_estimators_range,\n",
        "    'OOB Error': oob_errors,\n",
        "    'Test Error': test_errors\n",
        "})\n",
        "\n",
        "plt.figure(figsize=(10, 6))\n",
        "plt.plot(error_df['n_estimators'], error_df['OOB Error'], label='OOB Error', color='blue')\n",
        "plt.plot(error_df['n_estimators'], error_df['Test Error'], label='Test Error', color='red')\n",
        "plt.xlabel('Number of Trees')\n",
        "plt.ylabel('RMSE')\n",
        "plt.title('OOB Error vs Test Error per Number of Trees')\n",
        "plt.legend()\n",
        "plt.grid(True)\n",
        "plt.show()"
      ],
      "metadata": {
        "colab": {
          "base_uri": "https://localhost:8080/",
          "height": 564
        },
        "id": "PEcz6akRbMCC",
        "outputId": "243570e0-928d-45a2-c8a6-5b7b99af1ace"
      },
      "execution_count": 73,
      "outputs": [
        {
          "output_type": "display_data",
          "data": {
            "text/plain": [
              "<Figure size 1000x600 with 1 Axes>"
            ],
            "image/png": "[encoded data removed]"
          },
          "metadata": {}
        }
      ]
    },
    {
      "cell_type": "code",
      "source": [
        "rf = RandomForestRegressor(oob_score = True, n_estimators = 80)\n",
        "rf.fit(X_train, y_train)\n",
        "rf_pred = rf.predict(X_test)\n",
        "rf_MSE = mean_squared_error(y_test, rf_pred)\n",
        "print(np.round(np.sqrt(rf_MSE), 3))"
      ],
      "metadata": {
        "colab": {
          "base_uri": "https://localhost:8080/"
        },
        "id": "9zSXoJdGbUOx",
        "outputId": "4349705f-3656-4312-ff5a-6a4397f4cb87"
      },
      "execution_count": 74,
      "outputs": [
        {
          "output_type": "stream",
          "name": "stdout",
          "text": [
            "1.329\n"
          ]
        }
      ]
    },
    {
      "cell_type": "code",
      "source": [
        "plt.scatter(y_test, rf_pred)\n",
        "plt.plot([0, 15], [0, 15], color='red', linewidth=2)\n",
        "\n",
        "plt.show()"
      ],
      "metadata": {
        "colab": {
          "base_uri": "https://localhost:8080/",
          "height": 430
        },
        "id": "iCDJg94Ucilv",
        "outputId": "f8881ffc-288e-410d-905a-ad40b1d1092e"
      },
      "execution_count": 75,
      "outputs": [
        {
          "output_type": "display_data",
          "data": {
            "text/plain": [
              "<Figure size 640x480 with 1 Axes>"
            ],
            "image/png": "[encoded data removed]"
          },
          "metadata": {}
        }
      ]
    },
    {
      "cell_type": "markdown",
      "source": [
        "###Boosting: XGBoost"
      ],
      "metadata": {
        "id": "nD4Gu-iCc24i"
      }
    },
    {
      "cell_type": "code",
      "source": [
        "import xgboost as xgb\n",
        "from sklearn.model_selection import GridSearchCV\n",
        "from xgboost import XGBRegressor, plot_importance\n",
        "\n",
        "param_grid = {\n",
        "    'max_depth': [1, 2, 3, 4, 5],\n",
        "    'learning_rate': [0.001, 0.005, 0.01, 0.05, 0.1, 0.5, 1],\n",
        "    'n_estimators': [100, 200, 300, 400, 500]\n",
        "}\n",
        "\n",
        "xgb_reg = xgb.XGBRegressor(objective='reg:squarederror')\n",
        "\n",
        "grid_search = GridSearchCV(estimator=xgb_reg, param_grid=param_grid, cv=5, scoring='neg_mean_squared_error')\n",
        "grid_search.fit(X_train, y_train)\n",
        "\n",
        "xgb_reg = grid_search.best_estimator_\n",
        "xgb_pred = xgb_reg.predict(X_test)\n",
        "xgb_RMSE = np.sqrt(mean_squared_error(y_test, xgb_pred))\n",
        "\n",
        "print('Best parameters:', grid_search.best_params_)\n",
        "print('Best RMSE:', np.round(xgb_RMSE, 3))"
      ],
      "metadata": {
        "colab": {
          "base_uri": "https://localhost:8080/"
        },
        "id": "_B1FM867c09u",
        "outputId": "2afe1e25-c79a-4ca3-de5e-8c835768a311"
      },
      "execution_count": 76,
      "outputs": [
        {
          "output_type": "stream",
          "name": "stdout",
          "text": [
            "Best parameters: {'learning_rate': 0.05, 'max_depth': 3, 'n_estimators': 500}\n",
            "Best RMSE: 1.325\n"
          ]
        }
      ]
    },
    {
      "cell_type": "code",
      "source": [
        "xgb_reg = xgb.XGBRegressor(objective = 'reg:squarederror', eval_metric = 'rmse', learning_rate = 0.05, max_depth = 3, n_estimators = 500)\n",
        "xgb_reg.fit(X_train, y_train)\n",
        "xgb_pred = xgb_reg.predict(X_test)\n",
        "xgb_RMSE = np.sqrt(mean_squared_error(y_test, xgb_pred))\n",
        "print(np.round(xgb_RMSE, 3))"
      ],
      "metadata": {
        "colab": {
          "base_uri": "https://localhost:8080/"
        },
        "id": "pi-ZW_o1c-aT",
        "outputId": "5d88226b-9a23-4123-a22d-34ea350f393a"
      },
      "execution_count": 77,
      "outputs": [
        {
          "output_type": "stream",
          "name": "stdout",
          "text": [
            "1.325\n"
          ]
        }
      ]
    },
    {
      "cell_type": "markdown",
      "source": [
        "##Stacking"
      ],
      "metadata": {
        "id": "Zgi0pzpGdjTn"
      }
    },
    {
      "cell_type": "code",
      "source": [
        "from sklearn.model_selection import KFold\n",
        "\n",
        "final_ridge = Ridge()\n",
        "\n",
        "kf = KFold(n_splits = 5, shuffle = True, random_state = 1)\n",
        "\n",
        "oof_pred_linear = np.zeros(X_train.shape[0])\n",
        "oof_pred_ridge = np.zeros(X_train.shape[0])\n",
        "oof_pred_lasso = np.zeros(X_train.shape[0])\n",
        "oof_pred_elastic = np.zeros(X_train.shape[0])\n",
        "oof_pred_rf = np.zeros(X_train.shape[0])\n",
        "oof_pred_xgb = np.zeros(X_train.shape[0])\n",
        "\n",
        "for train_index, val_index in kf.split(X_train):\n",
        "    X_train_fold, X_val_fold = X_train.iloc[train_index], X_train.iloc[val_index]\n",
        "    y_train_fold, y_val_fold = y_train.iloc[train_index], y_train.iloc[val_index]\n",
        "\n",
        "    linear.fit(X_train_fold, y_train_fold)\n",
        "    ridge.fit(X_train_fold, y_train_fold)\n",
        "    lasso.fit(X_train_fold, y_train_fold)\n",
        "    elastic_net.fit(X_train_fold, y_train_fold)\n",
        "    rf.fit(X_train_fold, y_train_fold)\n",
        "    xgb_reg.fit(X_train_fold, y_train_fold)\n",
        "\n",
        "    oof_pred_linear[val_index] = linear.predict(X_val_fold)\n",
        "    oof_pred_ridge[val_index] = linear.predict(X_val_fold)\n",
        "    oof_pred_lasso[val_index] = linear.predict(X_val_fold)\n",
        "    oof_pred_elastic[val_index] = linear.predict(X_val_fold)\n",
        "    oof_pred_rf[val_index] = linear.predict(X_val_fold)\n",
        "    oof_pred_xgb[val_index] = linear.predict(X_val_fold)\n",
        "\n",
        "X_train_final = np.column_stack((oof_pred_linear, oof_pred_ridge, oof_pred_lasso, oof_pred_elastic, oof_pred_rf, oof_pred_xgb))\n",
        "final_ridge.fit(X_train_final, y_train)\n",
        "\n",
        "X_test_pred_linear = linear.predict(X_test)\n",
        "X_test_pred_ridge = ridge.predict(X_test)\n",
        "X_test_pred_lasso = lasso.predict(X_test)\n",
        "X_test_pred_elastic = elastic_net.predict(X_test)\n",
        "X_test_pred_rf = rf.predict(X_test)\n",
        "X_test_pred_xgb = xgb_reg.predict(X_test)\n",
        "\n",
        "X_test_final = np.column_stack((X_test_pred_linear, X_test_pred_ridge, X_test_pred_lasso, X_test_pred_elastic, X_test_pred_rf, X_test_pred_xgb))\n",
        "final_pred = final_ridge.predict(X_test_final)\n",
        "\n",
        "final_RMSE = np.sqrt(mean_squared_error(y_test, final_pred))\n",
        "print(np.round(final_RMSE, 3))"
      ],
      "metadata": {
        "colab": {
          "base_uri": "https://localhost:8080/"
        },
        "id": "1tU9vFHsdgha",
        "outputId": "c5cc2aae-af58-4bb1-88d5-65dcaddbdf56"
      },
      "execution_count": 78,
      "outputs": [
        {
          "output_type": "stream",
          "name": "stdout",
          "text": [
            "1.325\n"
          ]
        }
      ]
    },
    {
      "cell_type": "code",
      "source": [
        "plt.scatter(y_test, final_pred)\n",
        "plt.plot([0, 20], [0, 20], color = 'red')\n",
        "\n",
        "plt.show()"
      ],
      "metadata": {
        "colab": {
          "base_uri": "https://localhost:8080/",
          "height": 430
        },
        "id": "aMER4TdgdmN0",
        "outputId": "9fb4b41a-5d8c-4880-e448-187eef8e29b4"
      },
      "execution_count": 79,
      "outputs": [
        {
          "output_type": "display_data",
          "data": {
            "text/plain": [
              "<Figure size 640x480 with 1 Axes>"
            ],
            "image/png": "[encoded data removed]"
          },
          "metadata": {}
        }
      ]
    },
    {
      "cell_type": "code",
      "source": [
        "MSEs = pd.DataFrame({'model': ['Linear', 'Polynomial', 'Lasso', 'ElasticNet', 'RandomForest', 'XGBoost', 'Stacking_ridge'],\n",
        "                     'MSE': [linear_MSE, poly_MSE, lasso_MSE, elastic_MSE, rf_MSE, xgb_RMSE **2, final_RMSE ** 2]})\n",
        "\n",
        "sns.barplot(x = 'model', y = 'MSE', data = MSEs)\n",
        "plt.xticks(rotation = 45)\n",
        "plt.show()"
      ],
      "metadata": {
        "colab": {
          "base_uri": "https://localhost:8080/",
          "height": 518
        },
        "id": "kjxK_FRcdsI_",
        "outputId": "dad5a342-3153-4e80-84fd-050343ea7206"
      },
      "execution_count": 80,
      "outputs": [
        {
          "output_type": "display_data",
          "data": {
            "text/plain": [
              "<Figure size 640x480 with 1 Axes>"
            ],
            "image/png": "[encoded data removed]"
          },
          "metadata": {}
        }
      ]
    },
    {
      "cell_type": "code",
      "source": [
        "MSEs = pd.DataFrame({'model': ['Linear', 'Lasso', 'ElasticNet', 'RandomForest', 'XGBoost', 'Stacking_ridge'],\n",
        "                     'MSE': [linear_MSE, lasso_MSE, elastic_MSE, rf_MSE, xgb_RMSE **2, final_RMSE ** 2]})\n",
        "\n",
        "sns.barplot(x = 'model', y = 'MSE', data = MSEs)\n",
        "plt.xticks(rotation = 45)\n",
        "plt.show()"
      ],
      "metadata": {
        "colab": {
          "base_uri": "https://localhost:8080/",
          "height": 518
        },
        "id": "G_dg3KwPfT-X",
        "outputId": "6501edc8-b038-4633-823d-4207ab816ea9"
      },
      "execution_count": 81,
      "outputs": [
        {
          "output_type": "display_data",
          "data": {
            "text/plain": [
              "<Figure size 640x480 with 1 Axes>"
            ],
            "image/png": "[encoded data removed]"
          },
          "metadata": {}
        }
      ]
    },
    {
      "cell_type": "markdown",
      "source": [
        "## Voting"
      ],
      "metadata": {
        "id": "DqxBc7KGg9Vf"
      }
    },
    {
      "cell_type": "code",
      "source": [
        "import numpy as np\n",
        "from sklearn.ensemble import VotingRegressor\n",
        "from sklearn.metrics import accuracy_score"
      ],
      "metadata": {
        "id": "Izc6nsFzgFnU"
      },
      "execution_count": 82,
      "outputs": []
    },
    {
      "cell_type": "code",
      "source": [
        "model_preds = np.array([rf_pred, xgb_pred, final_pred])\n",
        "\n",
        "weights = np.array([0.4, 0.3, 0.3])\n",
        "\n",
        "voting_pred = np.average(model_preds, axis=0, weights=weights)\n",
        "\n",
        "voting_MSE = mean_squared_error(y_test, voting_pred)\n",
        "voting_MSE"
      ],
      "metadata": {
        "colab": {
          "base_uri": "https://localhost:8080/"
        },
        "id": "-wkbg0keiwmX",
        "outputId": "455c90f5-1f0d-4a9f-cb10-35ca4e6d08c2"
      },
      "execution_count": 83,
      "outputs": [
        {
          "output_type": "execute_result",
          "data": {
            "text/plain": [
              "1.4934834085303998"
            ]
          },
          "metadata": {},
          "execution_count": 83
        }
      ]
    },
    {
      "cell_type": "code",
      "source": [
        "import statsmodels.api as sm\n",
        "import pandas as pd\n",
        "import numpy as np\n",
        "from sklearn.linear_model import Lasso, Ridge, LinearRegression\n",
        "from sklearn.model_selection import train_test_split\n",
        "from sklearn.metrics import mean_squared_error"
      ],
      "metadata": {
        "id": "l8xzEsR35BP3"
      },
      "execution_count": 84,
      "outputs": []
    },
    {
      "cell_type": "code",
      "source": [
        "def stepwise_selection(X, y, direction='both', significance_level=0.05):\n",
        "    initial_features = X.columns.tolist()\n",
        "    best_features = initial_features.copy()\n",
        "    while True:\n",
        "        changed = False\n",
        "        if direction in ['both', 'backward']:\n",
        "            model = sm.OLS(y, sm.add_constant(X[best_features])).fit()\n",
        "            p_values = model.pvalues.iloc[1:]  # const 제외\n",
        "            max_p_value = p_values.max()\n",
        "            if max_p_value > significance_level:\n",
        "                changed = True\n",
        "                feature_to_remove = p_values.idxmax()\n",
        "                best_features.remove(feature_to_remove)\n",
        "                print(f\"Removed {feature_to_remove} with p-value {max_p_value:.4f}\")\n",
        "\n",
        "        if direction in ['both', 'forward']:\n",
        "            remaining_features = list(set(initial_features) - set(best_features))\n",
        "            for feature in remaining_features:\n",
        "                model = sm.OLS(y, sm.add_constant(X[best_features + [feature]])).fit()\n",
        "                p_value = model.pvalues[feature]\n",
        "                if p_value < significance_level:\n",
        "                    changed = True\n",
        "                    best_features.append(feature)\n",
        "                    print(f\"Added {feature} with p-value {p_value:.4f}\")\n",
        "                    break  # Add only one feature at a time\n",
        "\n",
        "        if not changed:\n",
        "            break\n",
        "\n",
        "    return best_features\n",
        "\n",
        "# Stepwise Selection 적용\n",
        "selected_features = stepwise_selection(X_train, y_train, direction='both')\n",
        "\n",
        "# 선택된 특성으로 모델 학습\n",
        "X_train_selected = X_train[selected_features]\n",
        "model = LinearRegression()\n",
        "model.fit(X_train_selected, y_train)\n",
        "\n",
        "# 예측\n",
        "y_pred = model.predict(X_test[selected_features])\n",
        "\n",
        "# 성능 평가\n",
        "print(f'Mean Squared Error: {mean_squared_error(y_test, y_pred):.4f}')"
      ],
      "metadata": {
        "colab": {
          "base_uri": "https://localhost:8080/"
        },
        "id": "1nzGnJkyjsdQ",
        "outputId": "026034b1-a320-4d2b-a94d-d1b07b305388"
      },
      "execution_count": 85,
      "outputs": [
        {
          "output_type": "stream",
          "name": "stdout",
          "text": [
            "Removed genre_10 with p-value 0.9041\n",
            "Removed genre_11 with p-value 0.9273\n",
            "Removed genre_6 with p-value 0.8452\n",
            "Removed genre_5 with p-value 0.6510\n",
            "Removed genre_2 with p-value 0.6402\n",
            "Removed genre_9 with p-value 0.4880\n",
            "Removed genre_8 with p-value 0.4926\n",
            "Removed genre_0 with p-value 0.4121\n",
            "Removed genre_3 with p-value 0.2993\n",
            "Removed dir_prev_num with p-value 0.2003\n",
            "Removed genre_1 with p-value 0.2041\n",
            "Removed num_actor with p-value 0.1412\n",
            "Removed genre_7 with p-value 0.1276\n",
            "Mean Squared Error: 2.4967\n"
          ]
        }
      ]
    },
    {
      "cell_type": "code",
      "source": [
        "import xgboost as xgb\n",
        "import matplotlib.pyplot as plt\n",
        "\n",
        "# XGBoost 모델 학습\n",
        "xgb_reg = xgb.XGBRegressor(objective='reg:squarederror', eval_metric='rmse', n_estimators=100)\n",
        "xgb_reg.fit(X_train, y_train)\n",
        "\n",
        "# XGBoost Feature Importance 시각화\n",
        "xgb.plot_importance(xgb_reg, importance_type='weight', title='XGBoost Feature Importance', height=0.5)\n",
        "plt.show()\n",
        "\n",
        "# 상위 n개 특성 선택 (예: 상위 5개 특성)\n",
        "top_n = 5\n",
        "feature_importance = xgb_reg.feature_importances_\n",
        "top_features = X_train.columns[np.argsort(feature_importance)[-top_n:]]  # 상위 n개 특성\n",
        "\n",
        "# 상위 n개 특성으로 모델 학습\n",
        "X_train_top = X_train[top_features]\n",
        "X_test_top = X_test[top_features]\n",
        "\n",
        "xgb_top = xgb.XGBRegressor(objective='reg:squarederror', eval_metric='rmse', n_estimators=100)\n",
        "xgb_top.fit(X_train_top, y_train)\n",
        "\n",
        "# 예측\n",
        "y_pred_top = xgb_top.predict(X_test_top)\n",
        "\n",
        "# 성능 평가\n",
        "print(f'Mean Squared Error (Top {top_n} Features): {mean_squared_error(y_test, y_pred_top):.4f}')\n"
      ],
      "metadata": {
        "colab": {
          "base_uri": "https://localhost:8080/",
          "height": 490
        },
        "id": "9d-lJsmc4-0c",
        "outputId": "d76dbf6c-aac3-4ede-867d-10393084514d"
      },
      "execution_count": 86,
      "outputs": [
        {
          "output_type": "display_data",
          "data": {
            "text/plain": [
              "<Figure size 640x480 with 1 Axes>"
            ],
            "image/png": "[encoded data removed]"
          },
          "metadata": {}
        },
        {
          "output_type": "stream",
          "name": "stdout",
          "text": [
            "Mean Squared Error (Top 5 Features): 1.9816\n"
          ]
        }
      ]
    },
    {
      "cell_type": "markdown",
      "source": [
        "#Submission"
      ],
      "metadata": {
        "id": "_eE6GVeHlGuE"
      }
    },
    {
      "cell_type": "code",
      "source": [
        "# 파일을 읽고 'index' 열을 데이터프레임의 인덱스로 설정\n",
        "submission = pd.read_csv(\"/content/drive/MyDrive/미니 프로젝트 3/submission.csv\", sep=',')"
      ],
      "metadata": {
        "id": "vlXMsqg55RFP"
      },
      "execution_count": 87,
      "outputs": []
    },
    {
      "cell_type": "markdown",
      "source": [
        "voting"
      ],
      "metadata": {
        "id": "z89OWWmLFM4h"
      }
    },
    {
      "cell_type": "code",
      "source": [
        "rf = RandomForestRegressor(oob_score = True, n_estimators = 80)\n",
        "xgb = XGBRegressor(objective = 'reg:squarederror', eval_metric = 'rmse', learning_rate = 0.05, max_depth = 3, n_estimators = 500)\n",
        "\n",
        "rf.fit(X, y)\n",
        "xgb.fit(X, y)\n",
        "\n",
        "rf_pred = rf.predict(test_df)\n",
        "xgb_pred = xgb.predict(test_df)"
      ],
      "metadata": {
        "id": "yqw0GHSNlUaY"
      },
      "execution_count": 88,
      "outputs": []
    },
    {
      "cell_type": "code",
      "source": [
        "from sklearn.model_selection import KFold\n",
        "\n",
        "final_ridge = Ridge()\n",
        "\n",
        "kf = KFold(n_splits = 5, shuffle = True, random_state = 1)\n",
        "\n",
        "oof_pred_linear = np.zeros(X.shape[0])\n",
        "oof_pred_ridge = np.zeros(X.shape[0])\n",
        "oof_pred_lasso = np.zeros(X.shape[0])\n",
        "oof_pred_elastic = np.zeros(X.shape[0])\n",
        "oof_pred_rf = np.zeros(X.shape[0])\n",
        "oof_pred_xgb = np.zeros(X.shape[0])\n",
        "\n",
        "for train_index, val_index in kf.split(X):\n",
        "    X_train_fold, X_val_fold = X.iloc[train_index], X.iloc[val_index]\n",
        "    y_train_fold, y_val_fold = y.iloc[train_index], y.iloc[val_index]\n",
        "\n",
        "    linear.fit(X_train_fold, y_train_fold)\n",
        "    ridge.fit(X_train_fold, y_train_fold)\n",
        "    lasso.fit(X_train_fold, y_train_fold)\n",
        "    elastic_net.fit(X_train_fold, y_train_fold)\n",
        "    rf.fit(X_train_fold, y_train_fold)\n",
        "    xgb_reg.fit(X_train_fold, y_train_fold)\n",
        "\n",
        "    oof_pred_linear[val_index] = linear.predict(X_val_fold)\n",
        "    oof_pred_ridge[val_index] = linear.predict(X_val_fold)\n",
        "    oof_pred_lasso[val_index] = linear.predict(X_val_fold)\n",
        "    oof_pred_elastic[val_index] = linear.predict(X_val_fold)\n",
        "    oof_pred_rf[val_index] = linear.predict(X_val_fold)\n",
        "    oof_pred_xgb[val_index] = linear.predict(X_val_fold)\n",
        "\n",
        "X_train_final = np.column_stack((oof_pred_linear, oof_pred_ridge, oof_pred_lasso, oof_pred_elastic, oof_pred_rf, oof_pred_xgb))\n",
        "final_ridge.fit(X_train_final, y)\n",
        "\n",
        "X_test_pred_linear = linear.predict(test_df)\n",
        "X_test_pred_ridge = ridge.predict(test_df)\n",
        "X_test_pred_lasso = lasso.predict(test_df)\n",
        "X_test_pred_elastic = elastic_net.predict(test_df)\n",
        "X_test_pred_rf = rf.predict(test_df)\n",
        "X_test_pred_xgb = xgb_reg.predict(test_df)\n",
        "\n",
        "X_test_final = np.column_stack((X_test_pred_linear, X_test_pred_ridge, X_test_pred_lasso, X_test_pred_elastic, X_test_pred_rf, X_test_pred_xgb))\n",
        "final_pred = final_ridge.predict(X_test_final)"
      ],
      "metadata": {
        "id": "x93CWveTlutw"
      },
      "execution_count": 89,
      "outputs": []
    },
    {
      "cell_type": "code",
      "source": [
        "print(rf_pred.shape)\n",
        "print(xgb_pred.shape)\n",
        "print(final_pred.shape)\n"
      ],
      "metadata": {
        "colab": {
          "base_uri": "https://localhost:8080/"
        },
        "id": "rsUPE2Cnm7-M",
        "outputId": "2d7d5742-b7d8-4baf-f19d-2983a0c63f69"
      },
      "execution_count": 90,
      "outputs": [
        {
          "output_type": "stream",
          "name": "stdout",
          "text": [
            "(243,)\n",
            "(243,)\n",
            "(243,)\n"
          ]
        }
      ]
    },
    {
      "cell_type": "code",
      "source": [
        "model_preds = np.array([rf_pred, xgb_pred, final_pred])\n",
        "\n",
        "weights = np.array([0.4, 0.3, 0.3])\n",
        "\n",
        "voting_pred = np.average(model_preds, axis=0, weights=weights)\n",
        "\n",
        "submission_voting = submission.copy()\n",
        "submission_voting['box_off_num'] = np.exp(voting_pred)\n",
        "submission_voting.to_csv('submission_voting.csv', index=False)\n",
        "\n",
        "submission_rf = submission.copy()\n",
        "submission_rf['box_off_num'] = np.exp(rf_pred)\n",
        "submission_rf.to_csv('submissioin_rf.csv', index = False)\n",
        "\n",
        "submission_xgb = submission.copy()\n",
        "submission_xgb['box_off_num'] = np.exp(xgb_pred)\n",
        "submission_xgb.to_csv('submission_xgb.csv', index = False)\n",
        "\n",
        "submission_stacking = submission.copy()\n",
        "submission_stacking['box_off_num'] = np.exp(final_pred)\n",
        "submission_stacking.to_csv('submission_stacking.csv', index = False)"
      ],
      "metadata": {
        "id": "c-htWWLdlN3Q"
      },
      "execution_count": 91,
      "outputs": []
    }
  ]
}