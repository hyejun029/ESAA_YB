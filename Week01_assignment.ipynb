{
  "nbformat": 4,
  "nbformat_minor": 5,
  "metadata": {
    "colab": {
      "provenance": [],
      "collapsed_sections": [
        "51898680"
      ]
    },
    "language_info": {
      "name": "python"
    },
    "kernelspec": {
      "name": "python3",
      "display_name": "Python 3"
    }
  },
  "cells": [
    {
      "cell_type": "markdown",
      "metadata": {
        "id": "bf79c78b"
      },
      "source": [
        "# Numpy exercises\n",
        "\n",
        "This is a collection of exercises that have been collected in the numpy mailing list, on stack overflow\n",
        "and in the numpy documentation. The goal of this collection is to offer a quick reference for both old\n",
        "and new users but also to provide a set of exercises for those who teach.\n",
        "\n",
        "\n",
        "If you find an error or think you've a better way to solve some of them, feel\n",
        "free to open an issue at <https://github.com/rougier/numpy-100>."
      ],
      "id": "bf79c78b"
    },
    {
      "cell_type": "markdown",
      "metadata": {
        "id": "8536e059"
      },
      "source": [
        "File automatically generated. See the documentation to update questions/answers/hints programmatically."
      ],
      "id": "8536e059"
    },
    {
      "cell_type": "markdown",
      "metadata": {
        "id": "017db353"
      },
      "source": [
        "#### 1. Import the numpy package under the name `np` (★☆☆)"
      ],
      "id": "017db353"
    },
    {
      "cell_type": "code",
      "metadata": {
        "id": "68182a76"
      },
      "source": [
        "import numpy as np"
      ],
      "id": "68182a76",
      "execution_count": 14,
      "outputs": []
    },
    {
      "cell_type": "markdown",
      "metadata": {
        "id": "46950f4f"
      },
      "source": [
        "#### 2. Print the numpy version and the configuration (★☆☆)"
      ],
      "id": "46950f4f"
    },
    {
      "cell_type": "code",
      "source": [
        "np.__version__\n",
        "np.show_config()"
      ],
      "metadata": {
        "colab": {
          "base_uri": "https://localhost:8080/"
        },
        "id": "LJJuTNz-tgC0",
        "outputId": "e0072800-77c7-4e8a-87dc-7678111bf770"
      },
      "id": "LJJuTNz-tgC0",
      "execution_count": 6,
      "outputs": [
        {
          "output_type": "stream",
          "name": "stdout",
          "text": [
            "Build Dependencies:\n",
            "  blas:\n",
            "    detection method: pkgconfig\n",
            "    found: true\n",
            "    include directory: /usr/local/include\n",
            "    lib directory: /usr/local/lib\n",
            "    name: openblas64\n",
            "    openblas configuration: USE_64BITINT=1 DYNAMIC_ARCH=1 DYNAMIC_OLDER= NO_CBLAS=\n",
            "      NO_LAPACK= NO_LAPACKE= NO_AFFINITY=1 USE_OPENMP= HASWELL MAX_THREADS=2\n",
            "    pc file directory: /usr/local/lib/pkgconfig\n",
            "    version: 0.3.23.dev\n",
            "  lapack:\n",
            "    detection method: internal\n",
            "    found: true\n",
            "    include directory: unknown\n",
            "    lib directory: unknown\n",
            "    name: dep139863411681952\n",
            "    openblas configuration: unknown\n",
            "    pc file directory: unknown\n",
            "    version: 1.26.4\n",
            "Compilers:\n",
            "  c:\n",
            "    args: -fno-strict-aliasing\n",
            "    commands: cc\n",
            "    linker: ld.bfd\n",
            "    linker args: -Wl,--strip-debug, -fno-strict-aliasing\n",
            "    name: gcc\n",
            "    version: 10.2.1\n",
            "  c++:\n",
            "    commands: c++\n",
            "    linker: ld.bfd\n",
            "    linker args: -Wl,--strip-debug\n",
            "    name: gcc\n",
            "    version: 10.2.1\n",
            "  cython:\n",
            "    commands: cython\n",
            "    linker: cython\n",
            "    name: cython\n",
            "    version: 3.0.8\n",
            "Machine Information:\n",
            "  build:\n",
            "    cpu: x86_64\n",
            "    endian: little\n",
            "    family: x86_64\n",
            "    system: linux\n",
            "  host:\n",
            "    cpu: x86_64\n",
            "    endian: little\n",
            "    family: x86_64\n",
            "    system: linux\n",
            "Python Information:\n",
            "  path: /opt/python/cp310-cp310/bin/python\n",
            "  version: '3.10'\n",
            "SIMD Extensions:\n",
            "  baseline:\n",
            "  - SSE\n",
            "  - SSE2\n",
            "  - SSE3\n",
            "  found:\n",
            "  - SSSE3\n",
            "  - SSE41\n",
            "  - POPCNT\n",
            "  - SSE42\n",
            "  - AVX\n",
            "  - F16C\n",
            "  - FMA3\n",
            "  - AVX2\n",
            "  not found:\n",
            "  - AVX512F\n",
            "  - AVX512CD\n",
            "  - AVX512_KNL\n",
            "  - AVX512_KNM\n",
            "  - AVX512_SKX\n",
            "  - AVX512_CLX\n",
            "  - AVX512_CNL\n",
            "  - AVX512_ICL\n",
            "\n"
          ]
        }
      ]
    },
    {
      "cell_type": "markdown",
      "metadata": {
        "id": "e3c20b3d"
      },
      "source": [
        "#### 3. Create a null vector of size 10 (★☆☆)"
      ],
      "id": "e3c20b3d"
    },
    {
      "cell_type": "code",
      "source": [
        "vector = np.zeros(10)\n",
        "print(vector)"
      ],
      "metadata": {
        "colab": {
          "base_uri": "https://localhost:8080/"
        },
        "id": "-8jJF-NYtg1n",
        "outputId": "dfadc2fa-f7b6-4b26-82ed-10b29f4f6530"
      },
      "id": "-8jJF-NYtg1n",
      "execution_count": 3,
      "outputs": [
        {
          "output_type": "stream",
          "name": "stdout",
          "text": [
            "[0. 0. 0. 0. 0. 0. 0. 0. 0. 0.]\n"
          ]
        }
      ]
    },
    {
      "cell_type": "markdown",
      "metadata": {
        "id": "b15a879f"
      },
      "source": [
        "#### 4. How to find the memory size of any array (★☆☆)"
      ],
      "id": "b15a879f"
    },
    {
      "cell_type": "code",
      "source": [
        "print(vector.nbytes)"
      ],
      "metadata": {
        "colab": {
          "base_uri": "https://localhost:8080/"
        },
        "id": "0SygLndythJj",
        "outputId": "3e06658c-4443-4948-b407-da2c12821772"
      },
      "id": "0SygLndythJj",
      "execution_count": 8,
      "outputs": [
        {
          "output_type": "execute_result",
          "data": {
            "text/plain": [
              "80"
            ]
          },
          "metadata": {},
          "execution_count": 8
        }
      ]
    },
    {
      "cell_type": "markdown",
      "metadata": {
        "id": "0b16cd77"
      },
      "source": [
        "#### 5. Create a null vector of size 10 but the fifth value which is 1 (★☆☆)"
      ],
      "id": "0b16cd77"
    },
    {
      "cell_type": "code",
      "source": [
        "vector = np.zeros(10)\n",
        "vector[4]=1\n",
        "print(vector)"
      ],
      "metadata": {
        "colab": {
          "base_uri": "https://localhost:8080/"
        },
        "id": "2LCHjCmSthYi",
        "outputId": "08a97fae-6100-4db1-d491-84ea53e85e62"
      },
      "id": "2LCHjCmSthYi",
      "execution_count": 4,
      "outputs": [
        {
          "output_type": "stream",
          "name": "stdout",
          "text": [
            "[0. 0. 0. 0. 1. 0. 0. 0. 0. 0.]\n"
          ]
        }
      ]
    },
    {
      "cell_type": "markdown",
      "metadata": {
        "id": "782d4c77"
      },
      "source": [
        "#### 6. Create a vector with values ranging from 10 to 49 (★☆☆)"
      ],
      "id": "782d4c77"
    },
    {
      "cell_type": "code",
      "source": [
        "vector2=np.arange(start=10, stop=50)\n",
        "print(vector2)"
      ],
      "metadata": {
        "colab": {
          "base_uri": "https://localhost:8080/"
        },
        "id": "PUJQegglthmY",
        "outputId": "f4c67481-9170-4956-e5d0-436a8eb6e3bc"
      },
      "id": "PUJQegglthmY",
      "execution_count": 9,
      "outputs": [
        {
          "output_type": "stream",
          "name": "stdout",
          "text": [
            "[10 11 12 13 14 15 16 17 18 19 20 21 22 23 24 25 26 27 28 29 30 31 32 33\n",
            " 34 35 36 37 38 39 40 41 42 43 44 45 46 47 48 49]\n"
          ]
        }
      ]
    },
    {
      "cell_type": "markdown",
      "metadata": {
        "id": "48d48f01"
      },
      "source": [
        "#### 7. Reverse a vector (first element becomes last) (★☆☆)"
      ],
      "id": "48d48f01"
    },
    {
      "cell_type": "code",
      "source": [
        "print(np.sort(vector2)[::-1])"
      ],
      "metadata": {
        "colab": {
          "base_uri": "https://localhost:8080/"
        },
        "id": "qibIybSEth2z",
        "outputId": "96b09fec-edb1-4951-a4a8-93957a2ee612"
      },
      "id": "qibIybSEth2z",
      "execution_count": 11,
      "outputs": [
        {
          "output_type": "stream",
          "name": "stdout",
          "text": [
            "[49 48 47 46 45 44 43 42 41 40 39 38 37 36 35 34 33 32 31 30 29 28 27 26\n",
            " 25 24 23 22 21 20 19 18 17 16 15 14 13 12 11 10]\n"
          ]
        }
      ]
    },
    {
      "cell_type": "markdown",
      "metadata": {
        "id": "4fa39382"
      },
      "source": [
        "#### 8. Create a 3x3 matrix with values ranging from 0 to 8 (★☆☆)"
      ],
      "id": "4fa39382"
    },
    {
      "cell_type": "code",
      "source": [
        "matrix=np.arange(start=0,end=9).reshape(3,3)\n",
        "print(matrix)"
      ],
      "metadata": {
        "colab": {
          "base_uri": "https://localhost:8080/"
        },
        "id": "LIv1J5iqtiOv",
        "outputId": "1efcc8c1-3e81-45ef-c75f-850274142efd"
      },
      "id": "LIv1J5iqtiOv",
      "execution_count": 17,
      "outputs": [
        {
          "output_type": "stream",
          "name": "stdout",
          "text": [
            "[[0 1 2]\n",
            " [3 4 5]\n",
            " [6 7 8]]\n"
          ]
        }
      ]
    },
    {
      "cell_type": "markdown",
      "metadata": {
        "id": "da64551a"
      },
      "source": [
        "#### 9. Find indices of non-zero elements from [1,2,0,0,4,0] (★☆☆)"
      ],
      "id": "da64551a"
    },
    {
      "cell_type": "code",
      "source": [
        "vector3=np.array([1,2,0,0,4,0])\n",
        "indices=vector3[vector3!=0]\n",
        "print(indices)"
      ],
      "metadata": {
        "colab": {
          "base_uri": "https://localhost:8080/"
        },
        "id": "Re-_bREGtigY",
        "outputId": "514422ee-03bb-403a-8b0b-ac1d12908ca5"
      },
      "id": "Re-_bREGtigY",
      "execution_count": 22,
      "outputs": [
        {
          "output_type": "stream",
          "name": "stdout",
          "text": [
            "[1 2 4]\n"
          ]
        }
      ]
    },
    {
      "cell_type": "markdown",
      "metadata": {
        "id": "f89d9c9e"
      },
      "source": [
        "#### 10. Create a 3x3 identity matrix (★☆☆)\n",
        "Hint : identity & eye, try to use 'help' to learn how to use two functions of numpy"
      ],
      "id": "f89d9c9e"
    },
    {
      "cell_type": "code",
      "source": [
        "np.identity(3)"
      ],
      "metadata": {
        "colab": {
          "base_uri": "https://localhost:8080/"
        },
        "id": "M5-dkAZItjG9",
        "outputId": "db856aab-7012-4814-d846-848f925fdb27"
      },
      "id": "M5-dkAZItjG9",
      "execution_count": 19,
      "outputs": [
        {
          "output_type": "execute_result",
          "data": {
            "text/plain": [
              "array([[1., 0., 0.],\n",
              "       [0., 1., 0.],\n",
              "       [0., 0., 1.]])"
            ]
          },
          "metadata": {},
          "execution_count": 19
        }
      ]
    },
    {
      "cell_type": "markdown",
      "metadata": {
        "id": "7e44c6fa"
      },
      "source": [
        "#### 11. Create a 3x3x3 array with random values (★☆☆)\n",
        "Hint : numpy.random.random"
      ],
      "id": "7e44c6fa"
    },
    {
      "cell_type": "code",
      "source": [
        "np.random.random((3,3,3))"
      ],
      "metadata": {
        "colab": {
          "base_uri": "https://localhost:8080/"
        },
        "id": "Xkne24zo8biJ",
        "outputId": "06ee5a8b-fa6a-44f8-a224-d81f3f9bdb87"
      },
      "id": "Xkne24zo8biJ",
      "execution_count": 24,
      "outputs": [
        {
          "output_type": "execute_result",
          "data": {
            "text/plain": [
              "array([[[0.42525602, 0.99663597, 0.37047884],\n",
              "        [0.25912935, 0.64497656, 0.12179742],\n",
              "        [0.97523243, 0.66062371, 0.31501358]],\n",
              "\n",
              "       [[0.22643626, 0.17264324, 0.52018369],\n",
              "        [0.2225542 , 0.43653675, 0.45082724],\n",
              "        [0.00145328, 0.27315709, 0.86958518]],\n",
              "\n",
              "       [[0.45721636, 0.70197714, 0.59120951],\n",
              "        [0.86745522, 0.92846035, 0.02929204],\n",
              "        [0.87581763, 0.86198851, 0.99721603]]])"
            ]
          },
          "metadata": {},
          "execution_count": 24
        }
      ]
    },
    {
      "cell_type": "markdown",
      "metadata": {
        "id": "13c5928c"
      },
      "source": [
        "#### 12. Create a 10x10 array with random values and find the **min**imum and **max**imum values (★☆☆)"
      ],
      "id": "13c5928c"
    },
    {
      "cell_type": "code",
      "source": [
        "array=np.random.random((10,10))\n",
        "print(np.min(array), np.max(array))"
      ],
      "metadata": {
        "colab": {
          "base_uri": "https://localhost:8080/"
        },
        "id": "-9cw3fwrtjtm",
        "outputId": "12aac065-1777-47c4-960d-dcfbf7c6962c"
      },
      "id": "-9cw3fwrtjtm",
      "execution_count": 28,
      "outputs": [
        {
          "output_type": "stream",
          "name": "stdout",
          "text": [
            "0.014030978414778406 0.9989017514416872\n"
          ]
        }
      ]
    },
    {
      "cell_type": "markdown",
      "metadata": {
        "id": "3fa2e461"
      },
      "source": [
        "#### 13. Create a random vector of size 30 and find the **mean** value (★☆☆)"
      ],
      "id": "3fa2e461"
    },
    {
      "cell_type": "code",
      "source": [
        "random_vector=np.random.random(30)\n",
        "print(np.mean(random_vector))"
      ],
      "metadata": {
        "colab": {
          "base_uri": "https://localhost:8080/"
        },
        "id": "G7HA7UHGtj87",
        "outputId": "1e62aaf9-e162-4ec6-bd38-c6c30f303803"
      },
      "id": "G7HA7UHGtj87",
      "execution_count": 29,
      "outputs": [
        {
          "output_type": "stream",
          "name": "stdout",
          "text": [
            "0.6511712010276749\n"
          ]
        }
      ]
    },
    {
      "cell_type": "markdown",
      "metadata": {
        "id": "73f7a549"
      },
      "source": [
        "#### 14. Create a 2d array with 1 on the border and 0 inside (★☆☆)"
      ],
      "id": "73f7a549"
    },
    {
      "cell_type": "code",
      "source": [
        "array2=np.zeros((6,6))\n",
        "array2[0,:]=1\n",
        "array2[:,0]=1\n",
        "array2[-1,:]=1\n",
        "array2[:,-1]=1\n",
        "print(array2)\n"
      ],
      "metadata": {
        "colab": {
          "base_uri": "https://localhost:8080/"
        },
        "id": "2qI5hvKwtkMk",
        "outputId": "d22845d2-a22b-4730-f526-135b5a54528d"
      },
      "id": "2qI5hvKwtkMk",
      "execution_count": 31,
      "outputs": [
        {
          "output_type": "stream",
          "name": "stdout",
          "text": [
            "[[1. 1. 1. 1. 1. 1.]\n",
            " [1. 0. 0. 0. 0. 1.]\n",
            " [1. 0. 0. 0. 0. 1.]\n",
            " [1. 0. 0. 0. 0. 1.]\n",
            " [1. 0. 0. 0. 0. 1.]\n",
            " [1. 1. 1. 1. 1. 1.]]\n"
          ]
        }
      ]
    },
    {
      "cell_type": "markdown",
      "source": [
        "#### 15. What is the result of the following expression? (★☆☆)\n",
        "```python\n",
        "0 * np.nan\n",
        "np.nan == np.nan\n",
        "np.inf > np.nan\n",
        "np.nan - np.nan\n",
        "np.nan in set([np.nan])\n",
        "0.3 == 3 * 0.1\n",
        "```"
      ],
      "metadata": {
        "id": "21j6C96sEbrB"
      },
      "id": "21j6C96sEbrB"
    },
    {
      "cell_type": "markdown",
      "source": [
        "nan\n",
        "\n",
        "False\n",
        "\n",
        "False\n",
        "\n",
        "nan\n",
        "\n",
        "False\n",
        "\n",
        "False"
      ],
      "metadata": {
        "id": "HJMvW7B4FDFT"
      },
      "id": "HJMvW7B4FDFT"
    },
    {
      "cell_type": "markdown",
      "metadata": {
        "id": "e3a7ba7f"
      },
      "source": [
        "#### 16. Create a 5x5 matrix with values 1,2,3,4 just below the **diag**onal (★☆☆)"
      ],
      "id": "e3a7ba7f"
    },
    {
      "cell_type": "code",
      "source": [
        "matrix2=np.zeros((5,5))\n",
        "matrix2[1,0]=1\n",
        "matrix2[2,1]=2\n",
        "matrix2[3,2]=3\n",
        "matrix2[4,3]=4\n",
        "print(matrix2)"
      ],
      "metadata": {
        "colab": {
          "base_uri": "https://localhost:8080/"
        },
        "id": "sQwGpDzZtlwx",
        "outputId": "f31a22d0-58c1-43c4-f5e0-0767448d3712"
      },
      "id": "sQwGpDzZtlwx",
      "execution_count": 34,
      "outputs": [
        {
          "output_type": "stream",
          "name": "stdout",
          "text": [
            "[[0. 0. 0. 0. 0.]\n",
            " [1. 0. 0. 0. 0.]\n",
            " [0. 2. 0. 0. 0.]\n",
            " [0. 0. 3. 0. 0.]\n",
            " [0. 0. 0. 4. 0.]]\n"
          ]
        }
      ]
    },
    {
      "cell_type": "markdown",
      "metadata": {
        "id": "6d17ab5d"
      },
      "source": [
        "#### 17. Create a 8x8 matrix and fill it with a checkerboard pattern (★☆☆)"
      ],
      "id": "6d17ab5d"
    },
    {
      "cell_type": "code",
      "source": [
        "matrix3=np.zeros((8,8))\n",
        "matrix3[1::2,::2]=1\n",
        "matrix3[::2,1::2]=1\n",
        "print(matrix3)"
      ],
      "metadata": {
        "colab": {
          "base_uri": "https://localhost:8080/"
        },
        "id": "g1hzIk92tmB9",
        "outputId": "836f6035-e400-485d-8e2a-3643e9a0d768"
      },
      "id": "g1hzIk92tmB9",
      "execution_count": 37,
      "outputs": [
        {
          "output_type": "stream",
          "name": "stdout",
          "text": [
            "[[0. 1. 0. 1. 0. 1. 0. 1.]\n",
            " [1. 0. 1. 0. 1. 0. 1. 0.]\n",
            " [0. 1. 0. 1. 0. 1. 0. 1.]\n",
            " [1. 0. 1. 0. 1. 0. 1. 0.]\n",
            " [0. 1. 0. 1. 0. 1. 0. 1.]\n",
            " [1. 0. 1. 0. 1. 0. 1. 0.]\n",
            " [0. 1. 0. 1. 0. 1. 0. 1.]\n",
            " [1. 0. 1. 0. 1. 0. 1. 0.]]\n"
          ]
        }
      ]
    },
    {
      "cell_type": "markdown",
      "metadata": {
        "id": "8837119b"
      },
      "source": [
        "#### 18. Consider a (6,7,8) shape array, what is the index (x,y,z) of the 100th element? (★☆☆)\n",
        "Hint : use 'numpy.unravel_index(value, (x, y, z))"
      ],
      "id": "8837119b"
    },
    {
      "cell_type": "code",
      "source": [
        "np.unravel_index(100,(6,7,8))"
      ],
      "metadata": {
        "colab": {
          "base_uri": "https://localhost:8080/"
        },
        "id": "E6f6xrnStmW_",
        "outputId": "dcdb097f-5b7c-46ae-ce31-2bfcaf796617"
      },
      "id": "E6f6xrnStmW_",
      "execution_count": 38,
      "outputs": [
        {
          "output_type": "execute_result",
          "data": {
            "text/plain": [
              "(1, 5, 4)"
            ]
          },
          "metadata": {},
          "execution_count": 38
        }
      ]
    },
    {
      "cell_type": "markdown",
      "metadata": {
        "id": "391791e0"
      },
      "source": [
        "#### 19. Normalize a 5x5 random matrix (★☆☆)\n",
        "Hint : $Z = \\frac{X - \\overline{X}}{S}$"
      ],
      "id": "391791e0"
    },
    {
      "cell_type": "code",
      "source": [
        "matrix4=np.random.random((5,5))\n",
        "matrix4_mean=np.mean(matrix4)\n",
        "matrix4_std=np.std(matrix4)\n",
        "matrix4_n=(matrix4-matrix4_mean)/matrix4_std\n",
        "print(matrix4_n)"
      ],
      "metadata": {
        "colab": {
          "base_uri": "https://localhost:8080/"
        },
        "id": "NODcs1jZtmrs",
        "outputId": "13de1649-6ba5-4407-97be-38d05ff97d15"
      },
      "id": "NODcs1jZtmrs",
      "execution_count": 40,
      "outputs": [
        {
          "output_type": "stream",
          "name": "stdout",
          "text": [
            "[[-0.78357821 -0.90812534  1.22628861 -0.65526264  0.0197987 ]\n",
            " [-1.29012966 -1.32245772  1.53201451  1.85932593  1.3659894 ]\n",
            " [-0.96586253  0.75448783 -0.84941735  0.98178202  0.97873393]\n",
            " [ 0.82293292  1.06073861 -0.12820731 -0.47278665 -0.56841526]\n",
            " [-0.40502509 -1.42178699  0.31994087 -1.31141604  0.16043744]]\n"
          ]
        }
      ]
    },
    {
      "cell_type": "markdown",
      "metadata": {
        "id": "1e74d39e"
      },
      "source": [
        "#### 20. Create a custom dtype that describes a color as four unsigned bytes (RGBA) (★☆☆)\n",
        "Hint : modify the code below\n",
        "```python\n",
        "numpy.dtype([(value, numpy.ubyte), … , (value, numpy.ubyte)])\n",
        "```"
      ],
      "id": "1e74d39e"
    },
    {
      "cell_type": "code",
      "source": [
        "dtype_RGBA=np.dtype([('R',np.ubyte),('G',np.ubyte),('B',np.ubyte),('A',np.ubyte)])\n",
        "print(dtype_RGBA)"
      ],
      "metadata": {
        "colab": {
          "base_uri": "https://localhost:8080/"
        },
        "id": "oVrdtyO7tnAT",
        "outputId": "9baacc44-369e-43e8-8b23-724c47d66264"
      },
      "id": "oVrdtyO7tnAT",
      "execution_count": 41,
      "outputs": [
        {
          "output_type": "stream",
          "name": "stdout",
          "text": [
            "[('R', 'u1'), ('G', 'u1'), ('B', 'u1'), ('A', 'u1')]\n"
          ]
        }
      ]
    }
  ]
}