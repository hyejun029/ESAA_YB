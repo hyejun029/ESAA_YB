{
  "nbformat": 4,
  "nbformat_minor": 5,
  "metadata": {
    "colab": {
      "provenance": [],
      "collapsed_sections": [
        "51898680"
      ]
    },
    "language_info": {
      "name": "python"
    },
    "kernelspec": {
      "name": "python3",
      "display_name": "Python 3"
    }
  },
  "cells": [
    {
      "cell_type": "markdown",
      "metadata": {
        "id": "78250c14"
      },
      "source": [
        "\n",
        "\n",
        "\n",
        "\n",
        "\n",
        "#### 21. Multiply a 5x3 matrix by a 3x2 matrix (real matrix product) (★☆☆)\n",
        "\n",
        "\n",
        "\n"
      ],
      "id": "78250c14"
    },
    {
      "cell_type": "code",
      "metadata": {
        "id": "9fe729cb",
        "colab": {
          "base_uri": "https://localhost:8080/"
        },
        "outputId": "d48a779d-426e-4d3a-f52d-922055e0ee9a"
      },
      "source": [
        "import numpy as np\n",
        "matrix53=np.random.random((5,3))\n",
        "matrix32=np.random.random((3,2))\n",
        "print(matrix53.dot(matrix32))"
      ],
      "id": "9fe729cb",
      "execution_count": 53,
      "outputs": [
        {
          "output_type": "stream",
          "name": "stdout",
          "text": [
            "[[0.70196466 0.57336969]\n",
            " [0.63651159 0.55167915]\n",
            " [0.33493065 0.28831484]\n",
            " [0.92379395 0.72750352]\n",
            " [0.7052975  0.63215243]]\n"
          ]
        }
      ]
    },
    {
      "cell_type": "markdown",
      "metadata": {
        "id": "51898680"
      },
      "source": [
        "#### 22. Given a 1D array, negate all elements which are between 3 and 8, in place. (★☆☆)"
      ],
      "id": "51898680"
    },
    {
      "cell_type": "code",
      "metadata": {
        "id": "51c90f2d",
        "colab": {
          "base_uri": "https://localhost:8080/"
        },
        "outputId": "4563d5c5-ff4c-4b06-8899-e98ef4969f06"
      },
      "source": [
        "matrix1d=np.arange(11)\n",
        "matrix1d[(3<matrix1d)&(matrix1d<8)] *= -1\n",
        "print(matrix1d)\n"
      ],
      "id": "51c90f2d",
      "execution_count": 54,
      "outputs": [
        {
          "output_type": "stream",
          "name": "stdout",
          "text": [
            "[ 0  1  2  3 -4 -5 -6 -7  8  9 10]\n"
          ]
        }
      ]
    },
    {
      "cell_type": "markdown",
      "metadata": {
        "id": "89e78048"
      },
      "source": [
        "#### 23. What is the output of the following script? (★☆☆)\n",
        "```python\n",
        "# Author: Jake VanderPlas\n",
        "\n",
        "print(sum(range(5),-1))\n",
        "from numpy import *\n",
        "print(sum(range(5),-1))\n",
        "```"
      ],
      "id": "89e78048"
    },
    {
      "cell_type": "markdown",
      "source": [
        "9     # -1+0+1+2+3+4\n",
        "\n",
        "10    # 0+1+2+3+4"
      ],
      "metadata": {
        "id": "utoOslFVusP2"
      },
      "id": "utoOslFVusP2"
    },
    {
      "cell_type": "markdown",
      "metadata": {
        "id": "ebd10810"
      },
      "source": [
        "\n",
        "\n",
        "#### 24. Consider an integer vector Z, which of these expressions are legal? (★☆☆)\n",
        "```python\n",
        "Z**Z (O)\n",
        "2 << Z >> 2 (O)\n",
        "Z <- Z  (X)\n",
        "1j*Z (O)\n",
        "Z/1/1 (O)\n",
        "Z<Z>Z (X)\n",
        "```"
      ],
      "id": "ebd10810"
    },
    {
      "cell_type": "markdown",
      "metadata": {
        "id": "c0e940f8"
      },
      "source": [
        "#### 25. What are the result of the following expressions? (★☆☆)\n",
        "```python\n",
        "np.array(0) / np.array(0)\n",
        "np.array(0) // np.array(0)\n",
        "np.array([np.nan]).astype(int).astype(float)\n",
        "```"
      ],
      "id": "c0e940f8"
    },
    {
      "cell_type": "markdown",
      "source": [
        "nan\n",
        "\n",
        "0\n",
        "\n",
        "array[0]"
      ],
      "metadata": {
        "id": "G2ALPVP5IcPa"
      },
      "id": "G2ALPVP5IcPa"
    },
    {
      "cell_type": "markdown",
      "metadata": {
        "id": "f1ae2c2d"
      },
      "source": [
        "#### 26. How to find common values between two arrays? (★☆☆)\n",
        "```python\n",
        "Z1 = np.random.randint(0,10,10)\n",
        "Z2 = np.random.randint(0,10,10)\n",
        "```\n",
        "Hint : use `numpy.random.randint(start, end, size)`"
      ],
      "id": "f1ae2c2d"
    },
    {
      "cell_type": "code",
      "metadata": {
        "id": "6801c73d",
        "colab": {
          "base_uri": "https://localhost:8080/"
        },
        "outputId": "5fc3aeb8-2377-4242-da0d-4a856f3847fd"
      },
      "source": [
        "Z1 = np.random.randint(0,10,10)\n",
        "Z2 = np.random.randint(0,10,10)\n",
        "print(Z1, Z2)\n",
        "print(np.intersect1d(Z1, Z2))"
      ],
      "id": "6801c73d",
      "execution_count": 55,
      "outputs": [
        {
          "output_type": "stream",
          "name": "stdout",
          "text": [
            "[8 9 7 4 6 8 4 2 4 1] [2 7 0 3 5 1 0 1 6 9]\n",
            "[1 2 6 7 9]\n"
          ]
        }
      ]
    },
    {
      "cell_type": "markdown",
      "metadata": {
        "id": "37bc0973"
      },
      "source": [
        "#### 27. Is the following expressions true? (★☆☆)\n",
        "```python\n",
        "np.sqrt(-1) == np.emath.sqrt(-1)\n",
        "```"
      ],
      "id": "37bc0973"
    },
    {
      "cell_type": "code",
      "source": [
        "np.sqrt(-1)==np.emath.sqrt(-1)\n",
        "#False, np.sqrt(-1)은 nan이 나오고, np.emath.sqrt(-1)는 1j로 표현됨."
      ],
      "metadata": {
        "colab": {
          "base_uri": "https://localhost:8080/"
        },
        "id": "9RU_jferw8d2",
        "outputId": "8687936f-efc8-43cb-f477-c089cc645c91"
      },
      "id": "9RU_jferw8d2",
      "execution_count": 56,
      "outputs": [
        {
          "output_type": "stream",
          "name": "stderr",
          "text": [
            "<ipython-input-56-3629818e0828>:1: RuntimeWarning: invalid value encountered in sqrt\n",
            "  np.sqrt(-1)==np.emath.sqrt(-1)\n"
          ]
        },
        {
          "output_type": "execute_result",
          "data": {
            "text/plain": [
              "False"
            ]
          },
          "metadata": {},
          "execution_count": 56
        }
      ]
    },
    {
      "cell_type": "markdown",
      "metadata": {
        "id": "42f8b2f9"
      },
      "source": [
        "#### 28. How to get all the dates corresponding to the month of July 2016? (★★☆)\n",
        "Hint : modify the code below\n",
        "```python\n",
        "Z = np.arange('start', 'end', dtype='datetime64[D]')\n",
        "```"
      ],
      "id": "42f8b2f9"
    },
    {
      "cell_type": "code",
      "source": [
        "Z=np.arange('2016-07', '2016-08', dtype='datetime64[D]')\n",
        "print(Z)"
      ],
      "metadata": {
        "id": "3kkl01x3x0NF",
        "colab": {
          "base_uri": "https://localhost:8080/"
        },
        "outputId": "ab4d9ae0-a70e-4e9b-8c46-27018147238f"
      },
      "id": "3kkl01x3x0NF",
      "execution_count": 57,
      "outputs": [
        {
          "output_type": "stream",
          "name": "stdout",
          "text": [
            "['2016-07-01' '2016-07-02' '2016-07-03' '2016-07-04' '2016-07-05'\n",
            " '2016-07-06' '2016-07-07' '2016-07-08' '2016-07-09' '2016-07-10'\n",
            " '2016-07-11' '2016-07-12' '2016-07-13' '2016-07-14' '2016-07-15'\n",
            " '2016-07-16' '2016-07-17' '2016-07-18' '2016-07-19' '2016-07-20'\n",
            " '2016-07-21' '2016-07-22' '2016-07-23' '2016-07-24' '2016-07-25'\n",
            " '2016-07-26' '2016-07-27' '2016-07-28' '2016-07-29' '2016-07-30'\n",
            " '2016-07-31']\n"
          ]
        }
      ]
    },
    {
      "cell_type": "markdown",
      "metadata": {
        "id": "252c43e2"
      },
      "source": [
        "#### 29. How to compute ((A+B)*(-A/2)) in place (without copy)? (★★☆)\n",
        "Hint : use `numpy.add`, `numpy.divide`,`numpy.negative`, `numpy.multiply` and parameter `out` of the funtions"
      ],
      "id": "252c43e2"
    },
    {
      "cell_type": "code",
      "metadata": {
        "id": "f06ff615",
        "colab": {
          "base_uri": "https://localhost:8080/"
        },
        "outputId": "6d82beca-d55b-4176-b312-40d009daf952"
      },
      "source": [
        "A=float(input())\n",
        "B=float(input())\n",
        "\n",
        "sum=np.add(A, B)\n",
        "negA=np.negative(A)\n",
        "div=np.divide(negA, 2)\n",
        "print(np.multiply(sum, div))"
      ],
      "id": "f06ff615",
      "execution_count": 58,
      "outputs": [
        {
          "output_type": "stream",
          "name": "stdout",
          "text": [
            "4\n",
            "5\n",
            "-18.0\n"
          ]
        }
      ]
    },
    {
      "cell_type": "markdown",
      "metadata": {
        "id": "486df8ea"
      },
      "source": [
        "#### 30. Extract the integer part of a random array of positive numbers using 2 different methods (★★☆)\n",
        "Hint : `%`, `//`"
      ],
      "id": "486df8ea"
    },
    {
      "cell_type": "code",
      "metadata": {
        "id": "34b4fa08",
        "colab": {
          "base_uri": "https://localhost:8080/"
        },
        "outputId": "d0b53515-81df-4bca-b16b-0e24a501761d"
      },
      "source": [
        "a=np.random.uniform(0,10,10)\n",
        "print(a)\n",
        "print(a-a%1)\n",
        "print(a//1)"
      ],
      "id": "34b4fa08",
      "execution_count": 59,
      "outputs": [
        {
          "output_type": "stream",
          "name": "stdout",
          "text": [
            "[4.25076849 5.9679259  5.92462623 9.2592125  0.73340854 9.93617005\n",
            " 3.83232169 0.3020354  5.82431503 7.28789582]\n",
            "[4. 5. 5. 9. 0. 9. 3. 0. 5. 7.]\n",
            "[4. 5. 5. 9. 0. 9. 3. 0. 5. 7.]\n"
          ]
        }
      ]
    },
    {
      "cell_type": "markdown",
      "metadata": {
        "id": "649e89f9"
      },
      "source": [
        "#### 31. Create a 5x5 matrix with row values ranging from 0 to 4 (★★☆)"
      ],
      "id": "649e89f9"
    },
    {
      "cell_type": "code",
      "metadata": {
        "id": "663cc611",
        "colab": {
          "base_uri": "https://localhost:8080/"
        },
        "outputId": "853356be-aff1-4fe5-e4f4-2277c5864d4d"
      },
      "source": [
        "matrix55=np.random.uniform(0,4,25).reshape(5,5)\n",
        "print(matrix55)"
      ],
      "id": "663cc611",
      "execution_count": 60,
      "outputs": [
        {
          "output_type": "stream",
          "name": "stdout",
          "text": [
            "[[3.56856637 2.02862749 1.80213987 0.40343643 2.53692438]\n",
            " [3.27016087 1.36460045 3.25541628 2.32123958 0.42005614]\n",
            " [3.90585069 3.16433221 2.54727026 3.26956569 2.1256026 ]\n",
            " [2.29400723 1.9959748  1.61889422 2.75007078 3.76345427]\n",
            " [2.72360298 3.61076112 1.58453766 2.10865355 1.6918757 ]]\n"
          ]
        }
      ]
    },
    {
      "cell_type": "markdown",
      "metadata": {
        "id": "2d07be1c"
      },
      "source": [
        "#### 32. Create a random vector of size 10 and sort it (★★☆)"
      ],
      "id": "2d07be1c"
    },
    {
      "cell_type": "code",
      "metadata": {
        "id": "4f7cb3ad",
        "colab": {
          "base_uri": "https://localhost:8080/"
        },
        "outputId": "d2a99183-dbcc-42fa-ece9-cd38e069c35e"
      },
      "source": [
        "random10=np.random.random(10)\n",
        "print(np.sort(random10))"
      ],
      "id": "4f7cb3ad",
      "execution_count": 61,
      "outputs": [
        {
          "output_type": "stream",
          "name": "stdout",
          "text": [
            "[0.03115923 0.23077635 0.24510535 0.27909763 0.36487034 0.38160032\n",
            " 0.4850352  0.48610476 0.89613651 0.96582106]\n"
          ]
        }
      ]
    },
    {
      "cell_type": "markdown",
      "metadata": {
        "id": "fe043549"
      },
      "source": [
        "#### 33. Consider two random array A and B, check if they are equal (★★☆)\n",
        "```python\n",
        "A = np.random.randint(0,2,5)\n",
        "B = np.random.randint(0,2,5)\n",
        "```\n",
        "Hint : Use `numpy.array_equal()`"
      ],
      "id": "fe043549"
    },
    {
      "cell_type": "code",
      "metadata": {
        "id": "3326a686",
        "colab": {
          "base_uri": "https://localhost:8080/"
        },
        "outputId": "d3152b85-ea0c-4c93-fb08-63c6e872232a"
      },
      "source": [
        "np.array_equal(A, B)"
      ],
      "id": "3326a686",
      "execution_count": 62,
      "outputs": [
        {
          "output_type": "execute_result",
          "data": {
            "text/plain": [
              "False"
            ]
          },
          "metadata": {},
          "execution_count": 62
        }
      ]
    },
    {
      "cell_type": "markdown",
      "metadata": {
        "id": "2002cb03"
      },
      "source": [
        "#### 34. Consider a random 10x2 matrix representing cartesian coordinates, convert them to polar coordinates (★★☆)\n",
        "Hint 1 : Note that cartesian coodinate **(x, y)** can be represented as  polar coordinates **(distance from origin to (x,y), angle from the x-axis)**\n",
        "\n",
        "Hint 2 : Use `numpy.sqrt` and `numpy.arctan2`"
      ],
      "id": "2002cb03"
    },
    {
      "cell_type": "code",
      "metadata": {
        "id": "58be72bc",
        "colab": {
          "base_uri": "https://localhost:8080/"
        },
        "outputId": "ed729100-7fa4-42b8-85dc-cf04661e3420"
      },
      "source": [
        "random102=np.random.random((10,2))\n",
        "x=random102[:,0]\n",
        "y=random102[:,1]\n",
        "distance=np.sqrt(x**2+y**2)\n",
        "angle=np.arctan2(y,x)\n",
        "print(distance)\n",
        "print(angle)"
      ],
      "id": "58be72bc",
      "execution_count": 63,
      "outputs": [
        {
          "output_type": "stream",
          "name": "stdout",
          "text": [
            "[1.17410374 0.86718732 0.22424323 0.85339186 1.1771497  0.99433969\n",
            " 1.01546431 0.79735306 0.72172608 1.28011412]\n",
            "[0.97963211 1.12455435 0.6062994  1.51953538 0.6580631  0.33021319\n",
            " 0.56047972 1.22807426 0.01682196 0.82842658]\n"
          ]
        }
      ]
    },
    {
      "cell_type": "markdown",
      "metadata": {
        "id": "b7109c9f"
      },
      "source": [
        "#### 35. Create random vector Z of size 10 and replace the maximum value by 0 (★★☆)\n",
        "Hint : We can see the index of maximum value using `Z.argmax()`"
      ],
      "id": "b7109c9f"
    },
    {
      "cell_type": "code",
      "metadata": {
        "id": "f79e79a7",
        "colab": {
          "base_uri": "https://localhost:8080/"
        },
        "outputId": "e513f868-15e2-4447-f8b5-a2c1b829480d"
      },
      "source": [
        "z=np.random.random(10)\n",
        "z[z.argmax()]=0\n",
        "print(z)"
      ],
      "id": "f79e79a7",
      "execution_count": 64,
      "outputs": [
        {
          "output_type": "stream",
          "name": "stdout",
          "text": [
            "[0.         0.46850054 0.81840776 0.6887146  0.60168874 0.29832766\n",
            " 0.16016636 0.30313555 0.10387707 0.33327456]\n"
          ]
        }
      ]
    },
    {
      "cell_type": "markdown",
      "metadata": {
        "id": "e6e1ae2f"
      },
      "source": [
        "#### 36. How to find the closest value (to a given scalar v) in a vector Z? (★★☆)\n",
        "```python\n",
        "Z = np.arange(100)\n",
        "v = np.random.uniform(0,100)\n",
        "```\n",
        "Hint : Compute the distances between the each elements of Z and the scalar v. After that, we can see the index of minimum value using `argmin()`.  "
      ],
      "id": "e6e1ae2f"
    },
    {
      "cell_type": "code",
      "source": [
        "Z = np.arange(100)\n",
        "v = np.random.uniform(0,100)\n",
        "dis=np.abs(Z-v)\n",
        "print(Z[np.argmin(dis)])"
      ],
      "metadata": {
        "id": "QkQ2Mii77FrE",
        "colab": {
          "base_uri": "https://localhost:8080/"
        },
        "outputId": "5f23788a-a6d6-446c-f5ca-be4eb09f989f"
      },
      "id": "QkQ2Mii77FrE",
      "execution_count": 65,
      "outputs": [
        {
          "output_type": "stream",
          "name": "stdout",
          "text": [
            "18\n"
          ]
        }
      ]
    },
    {
      "cell_type": "markdown",
      "metadata": {
        "id": "f98713a6"
      },
      "source": [
        "#### 37. What is the equivalent of enumerate for numpy arrays? (★★☆)\n",
        "Hint : Use `numpy.ndenumerate()`or `numpy.ndindex()`\n",
        "\n",
        "Example of the output :\n",
        "```python\n",
        "Z = np.arange(9).reshape(3,3)\n",
        "```\n",
        "```python\n",
        "# output\n",
        "(0, 0) 0\n",
        "(0, 1) 1\n",
        "(0, 2) 2\n",
        "(1, 0) 3\n",
        "(1, 1) 4\n",
        "(1, 2) 5\n",
        "(2, 0) 6\n",
        "(2, 1) 7\n",
        "(2, 2) 8\n",
        "```"
      ],
      "id": "f98713a6"
    },
    {
      "cell_type": "code",
      "metadata": {
        "id": "64795f84",
        "colab": {
          "base_uri": "https://localhost:8080/"
        },
        "outputId": "8012404d-dbe2-48c3-af77-a39033fb1180"
      },
      "source": [
        "Z = np.arange(9).reshape(3,3)\n",
        "\n",
        "for index, value in np.ndenumerate(Z):\n",
        "    print(index, value)"
      ],
      "id": "64795f84",
      "execution_count": 47,
      "outputs": [
        {
          "output_type": "stream",
          "name": "stdout",
          "text": [
            "<numpy.ndenumerate object at 0x7848802b48e0>\n",
            "(0, 0) 0\n",
            "(0, 1) 1\n",
            "(0, 2) 2\n",
            "(1, 0) 3\n",
            "(1, 1) 4\n",
            "(1, 2) 5\n",
            "(2, 0) 6\n",
            "(2, 1) 7\n",
            "(2, 2) 8\n"
          ]
        }
      ]
    },
    {
      "cell_type": "markdown",
      "metadata": {
        "id": "0cf413ee"
      },
      "source": [
        "#### 38. How to randomly place p elements in a 2D array? (★★☆)\n",
        "Hint : modify the code below\n",
        "```python\n",
        "n = 'size of a 2D array'\n",
        "p = 'the number of elements that you want to place'\n",
        "Z = np.zeros((n,n))\n",
        "np.put(Z, np.random.choice(range(n*n), p, replace = False),'value that you want to place')\n",
        "print(Z)\n",
        "```"
      ],
      "id": "0cf413ee"
    },
    {
      "cell_type": "code",
      "metadata": {
        "id": "dfc57e06",
        "colab": {
          "base_uri": "https://localhost:8080/"
        },
        "outputId": "ac3e11ae-30b8-44d3-9347-376105d5bdd6"
      },
      "source": [
        "n = 9\n",
        "p = 8\n",
        "Z = np.zeros((n,n))\n",
        "np.put(Z, np.random.choice(range(n*n), p, replace = False), 3)\n",
        "print(Z)"
      ],
      "id": "dfc57e06",
      "execution_count": 66,
      "outputs": [
        {
          "output_type": "stream",
          "name": "stdout",
          "text": [
            "[[0. 0. 0. 0. 0. 0. 3. 0. 0.]\n",
            " [0. 0. 0. 0. 0. 0. 0. 0. 0.]\n",
            " [0. 0. 0. 0. 0. 0. 0. 0. 0.]\n",
            " [3. 0. 0. 0. 0. 0. 0. 0. 0.]\n",
            " [0. 0. 0. 0. 0. 0. 0. 0. 0.]\n",
            " [0. 0. 0. 0. 0. 3. 0. 3. 0.]\n",
            " [0. 0. 0. 0. 0. 0. 0. 0. 0.]\n",
            " [0. 3. 3. 0. 0. 0. 0. 0. 0.]\n",
            " [3. 0. 0. 0. 0. 0. 0. 3. 0.]]\n"
          ]
        }
      ]
    },
    {
      "cell_type": "markdown",
      "metadata": {
        "id": "c0cf37e0"
      },
      "source": [
        "#### 39. How to sort an array below by the nth column? (★★☆)\n",
        "```python\n",
        "Z = np.random.randint(0,10,(3,3))\n",
        "```"
      ],
      "id": "c0cf37e0"
    },
    {
      "cell_type": "code",
      "source": [
        "Z = np.random.randint(0,10,(3,3))\n",
        "print(Z)\n",
        "print(Z[Z[:,0].argsort()])"
      ],
      "metadata": {
        "colab": {
          "base_uri": "https://localhost:8080/"
        },
        "id": "UjeQKD5FOgFz",
        "outputId": "82944a98-5ed6-48b6-8d64-9b9f4a1bcdf0"
      },
      "id": "UjeQKD5FOgFz",
      "execution_count": 67,
      "outputs": [
        {
          "output_type": "stream",
          "name": "stdout",
          "text": [
            "[[5 5 8]\n",
            " [0 2 2]\n",
            " [4 0 5]]\n",
            "[[0 2 2]\n",
            " [4 0 5]\n",
            " [5 5 8]]\n"
          ]
        }
      ]
    },
    {
      "cell_type": "code",
      "metadata": {
        "id": "9336ca5f"
      },
      "source": [
        "# column 1"
      ],
      "id": "9336ca5f",
      "execution_count": 52,
      "outputs": []
    },
    {
      "cell_type": "code",
      "source": [
        "# column 2"
      ],
      "metadata": {
        "id": "0hZzZ6tn2K6V"
      },
      "id": "0hZzZ6tn2K6V",
      "execution_count": null,
      "outputs": []
    },
    {
      "cell_type": "code",
      "source": [
        "# column 3"
      ],
      "metadata": {
        "id": "z4zqQXvt2NaB"
      },
      "id": "z4zqQXvt2NaB",
      "execution_count": null,
      "outputs": []
    }
  ]
}